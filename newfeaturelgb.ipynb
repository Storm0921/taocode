{
 "cells": [
  {
   "cell_type": "code",
   "execution_count": 52,
   "id": "technical-creature",
   "metadata": {},
   "outputs": [],
   "source": [
    "import pandas as pd\n",
    "import numpy as np\n",
    "import matplotlib.pyplot as plt\n",
    "import datetime\n",
    "from sklearn.metrics import mean_squared_error\n",
    "import optuna\n",
    "import lightgbm as lgb"
   ]
  },
  {
   "cell_type": "code",
   "execution_count": 9,
   "id": "separate-peripheral",
   "metadata": {},
   "outputs": [],
   "source": [
    "data = pd.read_csv('DB_TIME_HISTORY.csv')\n",
    "data0 = data.groupby('INST_NAME').get_group('PORTBDB2')"
   ]
  },
  {
   "cell_type": "code",
   "execution_count": 10,
   "id": "detected-newsletter",
   "metadata": {},
   "outputs": [],
   "source": [
    "#输入某一个实例的数据data，输出处理后的时间与缺失值datanew\n",
    "def time_miss_fix(data):\n",
    "    time = data['SNAP_PERIOD']\n",
    "    time = [i[:15] for i in time]\n",
    "    time = pd.to_datetime(time,format = '%Y-%m-%d-%H%M')\n",
    "    time = list(time)\n",
    "    \n",
    "    #时间取整\n",
    "    for i in range(len(time)):\n",
    "        if time[i].minute>0 and time[i].minute<30:\n",
    "            time[i] = time[i] - datetime.timedelta(minutes=time[i].minute) #向下\n",
    "            if time[i] == time[i-1]:\n",
    "                time[i] = time[i] + datetime.timedelta(minutes=30) #向上\n",
    "        elif time[i].minute>30:\n",
    "            time[i] = time[i] - datetime.timedelta(minutes=(time[i].minute-30))\n",
    "            if time[i] == time[i-1]:\n",
    "                time[i] = time[i] + datetime.timedelta(minutes=30)\n",
    "    \n",
    "    time_new = pd.date_range(min(time),max(time),freq='1800s')\n",
    "    datanew = pd.DataFrame(index=time_new,columns=['DB_TIME'])  #生成完整的时间\n",
    "    datanew.loc[time,'DB_TIME']=list(data['DB_TIME'])                               #根据时间填充取值\n",
    "    datanew.loc[datanew['DB_TIME']<0,'DB_TIME']=np.nan                     #把负值当成缺失值\n",
    "    \n",
    "    #大于每个月（账期可能都比较大，所以不用每天）最大值的75%分位数认为是异常值\n",
    "    a = np.percentile(datanew.resample('M').max(),75)\n",
    "    datanew.loc[datanew['DB_TIME']>a,'DB_TIME']=np.nan\n",
    "\n",
    "    return datanew.DB_TIME"
   ]
  },
  {
   "cell_type": "code",
   "execution_count": 11,
   "id": "antique-addition",
   "metadata": {},
   "outputs": [],
   "source": [
    "series = time_miss_fix(data0)\n",
    "#从object转成float64\n",
    "#series.astype(float)\n",
    "series.fillna(series.median(),inplace=True)"
   ]
  },
  {
   "cell_type": "code",
   "execution_count": 13,
   "id": "familiar-entity",
   "metadata": {},
   "outputs": [],
   "source": [
    "holiday = pd.read_csv('holiday.csv')\n",
    "holiday.index = pd.to_datetime(holiday.time)\n",
    "holiday.index = holiday.index.date"
   ]
  },
  {
   "cell_type": "code",
   "execution_count": 14,
   "id": "french-truck",
   "metadata": {},
   "outputs": [],
   "source": [
    "#提取特征\n",
    "def get_feature(series, n_in=1):\n",
    "    cols = list()\n",
    "    #前48个半小时\n",
    "    for i in range(n_in, 0, -1):\n",
    "        cols.append(series.shift(i))\n",
    "    #转换成数据框格式\n",
    "    X = pd.concat(cols, axis=1)\n",
    "    X.columns = range(n_in)\n",
    "    \n",
    "    #前3,5,7,10,15,24,48的最大值、最小值、均值、方差、中位数\n",
    "    for i in [3,5,7,10,15,24,48]:\n",
    "        X['max'+str(i)] = series.rolling(i).max()\n",
    "        X['min'+str(i)] = series.rolling(i).min()\n",
    "        X['mean'+str(i)] = series.rolling(i).mean()\n",
    "        X['var'+str(i)] = series.rolling(i).var()\n",
    "        X['median'+str(i)] = series.rolling(i).median()\n",
    "    \n",
    "    X['diff1'] = series.diff()  #一阶差分\n",
    "    X['diff2'] = series.diff().diff()  #二阶差分\n",
    "    \n",
    "    #计算每日的均值\n",
    "    df = pd.DataFrame(series)\n",
    "    df['date'] = series.index.date #取出每个时间点的日期\n",
    "    day_mean = df.groupby(['date']).mean().DB_TIME  #每日的均值\n",
    "    df['daymean'] = [day_mean[i] for i in df['date']] #得到每个时间点对应的每日均值\n",
    "    \n",
    "    X['lastweek_day_mean'] = df['daymean'].shift(336)\n",
    "    X['lastweek_X'] = series.shift(336)\n",
    "    \n",
    "    #时间特征\n",
    "    time = series.index\n",
    "    X['year'] = time.year-2018          #连续年\n",
    "    X['quarter'] = time.quarter.astype('category')         #类别季度\n",
    "    X['quarters'] = [holiday.loc[i,'quarters'] for i in time.date]     #连续季度\n",
    "    X['month'] = time.month.astype('category')           #类别月\n",
    "    X['months'] = [holiday.loc[i,'months'] for i in time.date]  #连续月\n",
    "    X['week'] = time.isocalendar().week.astype('category')   #类别周\n",
    "    X['weeks'] = [holiday.loc[i,'week'] for i in time.date]      #连续周\n",
    "    X['how_long_month_end'] = [holiday.loc[i,'how_long_month_end'] for i in time.date]    #连续\n",
    "    X['day_of_week'] = time.weekday.astype('category')  #类别，每周的第几天\n",
    "    X['is_holiday'] = [holiday.loc[i,'is_holiday'] for i in time.date]  #类别，是否是假期\n",
    "    X['is_holiday'] = X['is_holiday'].astype('category')\n",
    "    X['how_long_holiday_one_weekend'] = [holiday.loc[i,'how_long_holiday_one_weekend'] for i in time.date]\n",
    "    X['how_long_next_work_day'] = [holiday.loc[i,'how_long_next_work_day'] for i in time.date]\n",
    "    X['how_long_next_work_holiday'] = [holiday.loc[i,'how_long_next_work_holiday'] for i in time.date]\n",
    "    X['last_holiday_end_days'] = [holiday.loc[i,'last_holiday_end_days'] for i in time.date]\n",
    "    X['day'] = np.where(time.day<=10,0,np.where(time.day<=20,1,2))\n",
    "    X['day'] = X['day'].astype('category')\n",
    "    X['hour'] = np.where(np.all([time.hour>=9,time.hour<=18],axis=0),0,np.where(np.any([time.hour>18,time.hour<=1],axis=0),1,2))\n",
    "    X['hour'] = X['hour'].astype('category')\n",
    "    X['minute'] = time.minute.astype('category')\n",
    "    \n",
    "    return X.drop(columns=range(24,48))"
   ]
  },
  {
   "cell_type": "code",
   "execution_count": 15,
   "id": "stable-terrace",
   "metadata": {},
   "outputs": [],
   "source": [
    "X = get_feature(series,48)\n",
    "#根据缺失值最多的那一列特征删除\n",
    "#X = X.dropna()\n",
    "X = X.loc[X['lastweek_X'].dropna().index,:]\n",
    "y = series[X.index]"
   ]
  },
  {
   "cell_type": "code",
   "execution_count": 21,
   "id": "initial-primary",
   "metadata": {},
   "outputs": [],
   "source": [
    "X_new = pd.read_csv('new_dataX.csv',index_col=0)\n",
    "X_new.index = y.index"
   ]
  },
  {
   "cell_type": "code",
   "execution_count": 38,
   "id": "residential-soundtrack",
   "metadata": {},
   "outputs": [],
   "source": [
    "featurename = X_new.columns #保留变量名"
   ]
  },
  {
   "cell_type": "code",
   "execution_count": 44,
   "id": "apart-louisville",
   "metadata": {},
   "outputs": [],
   "source": [
    "X_new.columns = range(len(X_new.columns))\n",
    "#第22个特征week是类别变量"
   ]
  },
  {
   "cell_type": "code",
   "execution_count": 48,
   "id": "australian-accessory",
   "metadata": {},
   "outputs": [],
   "source": [
    "#测试集6个月\n",
    "X_train = X_new[:-1440*6]\n",
    "X_test = X_new[-1440*6:]\n",
    "y_train = y[:-1440*6]\n",
    "y_test = y[-1440*6:]"
   ]
  },
  {
   "cell_type": "code",
   "execution_count": 53,
   "id": "mighty-giving",
   "metadata": {},
   "outputs": [],
   "source": [
    "def objective(trial):\n",
    "    dtrain = lgb.Dataset(X_train, label=y_train,categorical_feature=[22])\n",
    "    dvalid = lgb.Dataset(X_test, label=y_test,categorical_feature=[22])\n",
    "    \n",
    "    param = {\n",
    "        \"objective\": \"regression\",  #目标函数\n",
    "        \"metric\": \"rmse\",  #评估函数\n",
    "        \"boosting_type\": \"gbdt\",   #提升类型\n",
    "        \"lambda_l1\": trial.suggest_float(\"lambda_l1\", 1e-8, 10.0, log=True),\n",
    "        \"lambda_l2\": trial.suggest_float(\"lambda_l2\", 1e-8, 10.0, log=True),\n",
    "        \"num_leaves\": trial.suggest_int(\"num_leaves\", 2, 256),   #叶子节点数\n",
    "        \"feature_fraction\": trial.suggest_float(\"feature_fraction\", 0.4, 1.0),   #建树的特征选择比例\n",
    "        \"bagging_fraction\": trial.suggest_float(\"bagging_fraction\", 0.4, 1.0),  #建树的样本采样比例\n",
    "        \"bagging_freq\": trial.suggest_int(\"bagging_freq\", 1, 7),   # k意味着每k次迭代执行bagging\n",
    "        \"min_child_samples\": trial.suggest_int(\"min_child_samples\", 5, 100),\n",
    "    }\n",
    "    \n",
    "    pruning_callback = optuna.integration.LightGBMPruningCallback(trial, \"rmse\") #剪枝\n",
    "    gbm = lgb.train(param, dtrain, valid_sets=[dvalid],callbacks=[pruning_callback])\n",
    "    preds = gbm.predict(X_test)\n",
    "    rmse = mean_squared_error(y_test, preds)**0.5\n",
    "    return rmse"
   ]
  },
  {
   "cell_type": "code",
   "execution_count": 54,
   "id": "proper-determination",
   "metadata": {},
   "outputs": [
    {
     "name": "stderr",
     "output_type": "stream",
     "text": [
      "\u001b[32m[I 2021-03-30 16:34:51,038]\u001b[0m A new study created in memory with name: no-name-f15816bc-557f-4367-8b48-62f6712ff998\u001b[0m\n"
     ]
    },
    {
     "name": "stdout",
     "output_type": "stream",
     "text": [
      "[LightGBM] [Warning] Auto-choosing col-wise multi-threading, the overhead of testing was 0.014958 seconds.\n",
      "You can set `force_col_wise=true` to remove the overhead.\n",
      "[LightGBM] [Info] Total Bins 29743\n",
      "[LightGBM] [Info] Number of data points in the train set: 26064, number of used features: 122\n",
      "[LightGBM] [Info] Start training from score 13.130955\n",
      "[1]\tvalid_0's rmse: 8.2645\n",
      "[2]\tvalid_0's rmse: 7.62893\n",
      "[3]\tvalid_0's rmse: 7.06897\n",
      "[4]\tvalid_0's rmse: 6.58157\n",
      "[5]\tvalid_0's rmse: 6.17219\n",
      "[6]\tvalid_0's rmse: 5.81042\n",
      "[7]\tvalid_0's rmse: 5.4751\n",
      "[8]\tvalid_0's rmse: 5.20878\n",
      "[9]\tvalid_0's rmse: 4.97674\n",
      "[10]\tvalid_0's rmse: 4.75582\n",
      "[11]\tvalid_0's rmse: 4.57586\n",
      "[12]\tvalid_0's rmse: 4.43879\n",
      "[13]\tvalid_0's rmse: 4.3118\n",
      "[14]\tvalid_0's rmse: 4.20917\n",
      "[15]\tvalid_0's rmse: 4.12854\n",
      "[16]\tvalid_0's rmse: 4.05301\n",
      "[17]\tvalid_0's rmse: 3.99278\n",
      "[18]\tvalid_0's rmse: 3.94755\n",
      "[19]\tvalid_0's rmse: 3.91847\n",
      "[20]\tvalid_0's rmse: 3.8871\n",
      "[21]\tvalid_0's rmse: 3.86907\n",
      "[22]\tvalid_0's rmse: 3.84986\n",
      "[23]\tvalid_0's rmse: 3.83167\n",
      "[24]\tvalid_0's rmse: 3.82499\n",
      "[25]\tvalid_0's rmse: 3.80219\n",
      "[26]\tvalid_0's rmse: 3.79561\n",
      "[27]\tvalid_0's rmse: 3.77973\n",
      "[28]\tvalid_0's rmse: 3.76834\n",
      "[29]\tvalid_0's rmse: 3.76052\n",
      "[30]\tvalid_0's rmse: 3.75925\n",
      "[31]\tvalid_0's rmse: 3.76741\n",
      "[32]\tvalid_0's rmse: 3.76055\n",
      "[33]\tvalid_0's rmse: 3.75403\n",
      "[34]\tvalid_0's rmse: 3.74939\n",
      "[35]\tvalid_0's rmse: 3.74579\n",
      "[36]\tvalid_0's rmse: 3.75688\n",
      "[37]\tvalid_0's rmse: 3.76106\n",
      "[38]\tvalid_0's rmse: 3.75903\n",
      "[39]\tvalid_0's rmse: 3.75644\n",
      "[40]\tvalid_0's rmse: 3.75066\n",
      "[41]\tvalid_0's rmse: 3.75791\n",
      "[42]\tvalid_0's rmse: 3.75716\n",
      "[43]\tvalid_0's rmse: 3.75284\n",
      "[44]\tvalid_0's rmse: 3.75527\n",
      "[45]\tvalid_0's rmse: 3.75187\n",
      "[46]\tvalid_0's rmse: 3.75112\n",
      "[47]\tvalid_0's rmse: 3.7495\n",
      "[48]\tvalid_0's rmse: 3.75178\n",
      "[49]\tvalid_0's rmse: 3.75585\n",
      "[50]\tvalid_0's rmse: 3.74857\n",
      "[51]\tvalid_0's rmse: 3.74012\n",
      "[52]\tvalid_0's rmse: 3.74317\n",
      "[53]\tvalid_0's rmse: 3.74545\n",
      "[54]\tvalid_0's rmse: 3.74332\n",
      "[55]\tvalid_0's rmse: 3.74509\n",
      "[56]\tvalid_0's rmse: 3.74871\n",
      "[57]\tvalid_0's rmse: 3.74459\n",
      "[58]\tvalid_0's rmse: 3.74505\n",
      "[59]\tvalid_0's rmse: 3.74914\n",
      "[60]\tvalid_0's rmse: 3.74783\n",
      "[61]\tvalid_0's rmse: 3.74504\n",
      "[62]\tvalid_0's rmse: 3.73971\n",
      "[63]\tvalid_0's rmse: 3.74204\n",
      "[64]\tvalid_0's rmse: 3.73864\n",
      "[65]\tvalid_0's rmse: 3.73739\n",
      "[66]\tvalid_0's rmse: 3.73396\n",
      "[67]\tvalid_0's rmse: 3.73089\n",
      "[68]\tvalid_0's rmse: 3.73396\n",
      "[69]\tvalid_0's rmse: 3.73701\n",
      "[70]\tvalid_0's rmse: 3.74442\n",
      "[71]\tvalid_0's rmse: 3.74752\n",
      "[72]\tvalid_0's rmse: 3.75223\n",
      "[73]\tvalid_0's rmse: 3.7568\n",
      "[74]\tvalid_0's rmse: 3.7585\n",
      "[75]\tvalid_0's rmse: 3.75772\n",
      "[76]\tvalid_0's rmse: 3.75634\n",
      "[77]\tvalid_0's rmse: 3.76526\n",
      "[78]\tvalid_0's rmse: 3.76919\n",
      "[79]\tvalid_0's rmse: 3.77118\n",
      "[80]\tvalid_0's rmse: 3.77538\n",
      "[81]\tvalid_0's rmse: 3.77614\n",
      "[82]\tvalid_0's rmse: 3.78036\n",
      "[83]\tvalid_0's rmse: 3.77854\n",
      "[84]\tvalid_0's rmse: 3.781\n",
      "[85]\tvalid_0's rmse: 3.77962\n",
      "[86]\tvalid_0's rmse: 3.78323\n",
      "[87]\tvalid_0's rmse: 3.78334\n",
      "[88]\tvalid_0's rmse: 3.78184\n",
      "[89]\tvalid_0's rmse: 3.78042\n",
      "[90]\tvalid_0's rmse: 3.77873\n",
      "[91]\tvalid_0's rmse: 3.77559\n",
      "[92]\tvalid_0's rmse: 3.77503\n",
      "[93]\tvalid_0's rmse: 3.78107\n",
      "[94]\tvalid_0's rmse: 3.78455\n",
      "[95]\tvalid_0's rmse: 3.78451\n",
      "[96]\tvalid_0's rmse: 3.79001\n",
      "[97]\tvalid_0's rmse: 3.78502\n",
      "[98]\tvalid_0's rmse: 3.78564\n",
      "[99]\tvalid_0's rmse: 3.7879\n",
      "[100]\tvalid_0's rmse: 3.78678\n"
     ]
    },
    {
     "name": "stderr",
     "output_type": "stream",
     "text": [
      "\u001b[32m[I 2021-03-30 16:34:55,674]\u001b[0m Trial 0 finished with value: 3.786779952800013 and parameters: {'lambda_l1': 1.7150671568727566e-05, 'lambda_l2': 6.0457836485952725e-06, 'num_leaves': 243, 'feature_fraction': 0.8181728972101335, 'bagging_fraction': 0.898107346010351, 'bagging_freq': 7, 'min_child_samples': 60}. Best is trial 0 with value: 3.786779952800013.\u001b[0m\n",
      "C:\\Anaconda\\lib\\site-packages\\lightgbm\\basic.py:1702: UserWarning: Using categorical_feature in Dataset.\n",
      "  _log_warning('Using categorical_feature in Dataset.')\n"
     ]
    },
    {
     "name": "stdout",
     "output_type": "stream",
     "text": [
      "[LightGBM] [Warning] Auto-choosing col-wise multi-threading, the overhead of testing was 0.017862 seconds.\n",
      "You can set `force_col_wise=true` to remove the overhead.\n",
      "[LightGBM] [Info] Total Bins 29743\n",
      "[LightGBM] [Info] Number of data points in the train set: 26064, number of used features: 122\n",
      "[LightGBM] [Info] Start training from score 13.130955\n",
      "[1]\tvalid_0's rmse: 8.25086\n",
      "[2]\tvalid_0's rmse: 7.61165\n",
      "[3]\tvalid_0's rmse: 7.07304\n",
      "[4]\tvalid_0's rmse: 6.58612\n",
      "[5]\tvalid_0's rmse: 6.15252\n",
      "[6]\tvalid_0's rmse: 5.77248\n",
      "[7]\tvalid_0's rmse: 5.44405\n"
     ]
    },
    {
     "name": "stderr",
     "output_type": "stream",
     "text": [
      "C:\\Anaconda\\lib\\site-packages\\lightgbm\\basic.py:1433: UserWarning: Overriding the parameters from Reference Dataset.\n",
      "  _log_warning('Overriding the parameters from Reference Dataset.')\n",
      "C:\\Anaconda\\lib\\site-packages\\lightgbm\\basic.py:1245: UserWarning: categorical_column in param dict is overridden.\n",
      "  _log_warning('{} in param dict is overridden.'.format(cat_alias))\n"
     ]
    },
    {
     "name": "stdout",
     "output_type": "stream",
     "text": [
      "[8]\tvalid_0's rmse: 5.17543\n",
      "[9]\tvalid_0's rmse: 4.91287\n",
      "[10]\tvalid_0's rmse: 4.70633\n",
      "[11]\tvalid_0's rmse: 4.53173\n",
      "[12]\tvalid_0's rmse: 4.38958\n",
      "[13]\tvalid_0's rmse: 4.26388\n",
      "[14]\tvalid_0's rmse: 4.1632\n",
      "[15]\tvalid_0's rmse: 4.08506\n",
      "[16]\tvalid_0's rmse: 4.02678\n",
      "[17]\tvalid_0's rmse: 3.95276\n",
      "[18]\tvalid_0's rmse: 3.90299\n",
      "[19]\tvalid_0's rmse: 3.85134\n",
      "[20]\tvalid_0's rmse: 3.81694\n",
      "[21]\tvalid_0's rmse: 3.80792\n",
      "[22]\tvalid_0's rmse: 3.79191\n",
      "[23]\tvalid_0's rmse: 3.78345\n",
      "[24]\tvalid_0's rmse: 3.77575\n",
      "[25]\tvalid_0's rmse: 3.78112\n",
      "[26]\tvalid_0's rmse: 3.77471\n",
      "[27]\tvalid_0's rmse: 3.77624\n",
      "[28]\tvalid_0's rmse: 3.74729\n",
      "[29]\tvalid_0's rmse: 3.74699\n",
      "[30]\tvalid_0's rmse: 3.70053\n",
      "[31]\tvalid_0's rmse: 3.69923\n",
      "[32]\tvalid_0's rmse: 3.6942\n",
      "[33]\tvalid_0's rmse: 3.6802\n",
      "[34]\tvalid_0's rmse: 3.67715\n",
      "[35]\tvalid_0's rmse: 3.68029\n",
      "[36]\tvalid_0's rmse: 3.68243\n",
      "[37]\tvalid_0's rmse: 3.68265\n",
      "[38]\tvalid_0's rmse: 3.68391\n",
      "[39]\tvalid_0's rmse: 3.68662\n",
      "[40]\tvalid_0's rmse: 3.68902\n",
      "[41]\tvalid_0's rmse: 3.68628\n",
      "[42]\tvalid_0's rmse: 3.68381\n",
      "[43]\tvalid_0's rmse: 3.67633\n",
      "[44]\tvalid_0's rmse: 3.67229\n",
      "[45]\tvalid_0's rmse: 3.66998\n",
      "[46]\tvalid_0's rmse: 3.67204\n",
      "[47]\tvalid_0's rmse: 3.66887\n",
      "[48]\tvalid_0's rmse: 3.66483\n",
      "[49]\tvalid_0's rmse: 3.67541\n",
      "[50]\tvalid_0's rmse: 3.67625\n",
      "[51]\tvalid_0's rmse: 3.67071\n",
      "[52]\tvalid_0's rmse: 3.66913\n",
      "[53]\tvalid_0's rmse: 3.66946\n",
      "[54]\tvalid_0's rmse: 3.67409\n",
      "[55]\tvalid_0's rmse: 3.67687\n",
      "[56]\tvalid_0's rmse: 3.67717\n",
      "[57]\tvalid_0's rmse: 3.67245\n",
      "[58]\tvalid_0's rmse: 3.67345\n",
      "[59]\tvalid_0's rmse: 3.66574\n",
      "[60]\tvalid_0's rmse: 3.6655\n",
      "[61]\tvalid_0's rmse: 3.66816\n",
      "[62]\tvalid_0's rmse: 3.66629\n",
      "[63]\tvalid_0's rmse: 3.66357\n",
      "[64]\tvalid_0's rmse: 3.66504\n",
      "[65]\tvalid_0's rmse: 3.66348\n",
      "[66]\tvalid_0's rmse: 3.6609\n",
      "[67]\tvalid_0's rmse: 3.65748\n",
      "[68]\tvalid_0's rmse: 3.66293\n",
      "[69]\tvalid_0's rmse: 3.66441\n",
      "[70]\tvalid_0's rmse: 3.66263\n",
      "[71]\tvalid_0's rmse: 3.65827\n",
      "[72]\tvalid_0's rmse: 3.66052\n",
      "[73]\tvalid_0's rmse: 3.66023\n",
      "[74]\tvalid_0's rmse: 3.66371\n",
      "[75]\tvalid_0's rmse: 3.66516\n",
      "[76]\tvalid_0's rmse: 3.6635\n",
      "[77]\tvalid_0's rmse: 3.6632\n",
      "[78]\tvalid_0's rmse: 3.66291\n",
      "[79]\tvalid_0's rmse: 3.66593\n",
      "[80]\tvalid_0's rmse: 3.66559\n",
      "[81]\tvalid_0's rmse: 3.67132\n",
      "[82]\tvalid_0's rmse: 3.67212\n",
      "[83]\tvalid_0's rmse: 3.67476\n",
      "[84]\tvalid_0's rmse: 3.6736\n",
      "[85]\tvalid_0's rmse: 3.66936\n",
      "[86]\tvalid_0's rmse: 3.67115\n",
      "[87]\tvalid_0's rmse: 3.6696\n",
      "[88]\tvalid_0's rmse: 3.67453\n",
      "[89]\tvalid_0's rmse: 3.67401\n",
      "[90]\tvalid_0's rmse: 3.67415\n",
      "[91]\tvalid_0's rmse: 3.67292\n",
      "[92]\tvalid_0's rmse: 3.67487\n",
      "[93]\tvalid_0's rmse: 3.67502\n",
      "[94]\tvalid_0's rmse: 3.67781\n",
      "[95]\tvalid_0's rmse: 3.6764\n",
      "[96]\tvalid_0's rmse: 3.68138\n",
      "[97]\tvalid_0's rmse: 3.68298\n",
      "[98]\tvalid_0's rmse: 3.68875\n",
      "[99]\tvalid_0's rmse: 3.68834\n"
     ]
    },
    {
     "name": "stderr",
     "output_type": "stream",
     "text": [
      "\u001b[32m[I 2021-03-30 16:34:57,667]\u001b[0m Trial 1 finished with value: 3.6873052290026758 and parameters: {'lambda_l1': 0.007121708083912655, 'lambda_l2': 5.0594801411481675e-06, 'num_leaves': 109, 'feature_fraction': 0.542505381984469, 'bagging_fraction': 0.8236127792385131, 'bagging_freq': 4, 'min_child_samples': 19}. Best is trial 1 with value: 3.6873052290026758.\u001b[0m\n"
     ]
    },
    {
     "name": "stdout",
     "output_type": "stream",
     "text": [
      "[100]\tvalid_0's rmse: 3.68731\n"
     ]
    },
    {
     "name": "stderr",
     "output_type": "stream",
     "text": [
      "C:\\Anaconda\\lib\\site-packages\\lightgbm\\basic.py:1702: UserWarning: Using categorical_feature in Dataset.\n",
      "  _log_warning('Using categorical_feature in Dataset.')\n"
     ]
    },
    {
     "name": "stdout",
     "output_type": "stream",
     "text": [
      "[LightGBM] [Warning] Auto-choosing col-wise multi-threading, the overhead of testing was 0.013577 seconds.\n",
      "You can set `force_col_wise=true` to remove the overhead.\n",
      "[LightGBM] [Info] Total Bins 29743\n",
      "[LightGBM] [Info] Number of data points in the train set: 26064, number of used features: 122\n",
      "[LightGBM] [Info] Start training from score 13.130955\n",
      "[1]\tvalid_0's rmse: 8.25437\n",
      "[2]\tvalid_0's rmse: 7.57286\n",
      "[3]\tvalid_0's rmse: 7.00103\n",
      "[4]\tvalid_0's rmse: 6.5421\n",
      "[5]\tvalid_0's rmse: 6.13515\n",
      "[6]\tvalid_0's rmse: 5.78884\n",
      "[7]\tvalid_0's rmse: 5.47293\n",
      "[8]\tvalid_0's rmse: 5.21973\n",
      "[9]\tvalid_0's rmse: 4.99911\n",
      "[10]\tvalid_0's rmse: 4.8092"
     ]
    },
    {
     "name": "stderr",
     "output_type": "stream",
     "text": [
      "C:\\Anaconda\\lib\\site-packages\\lightgbm\\basic.py:1433: UserWarning: Overriding the parameters from Reference Dataset.\n",
      "  _log_warning('Overriding the parameters from Reference Dataset.')\n",
      "C:\\Anaconda\\lib\\site-packages\\lightgbm\\basic.py:1245: UserWarning: categorical_column in param dict is overridden.\n",
      "  _log_warning('{} in param dict is overridden.'.format(cat_alias))\n"
     ]
    },
    {
     "name": "stdout",
     "output_type": "stream",
     "text": [
      "\n",
      "[11]\tvalid_0's rmse: 4.671\n",
      "[12]\tvalid_0's rmse: 4.53993\n",
      "[13]\tvalid_0's rmse: 4.43701\n",
      "[14]\tvalid_0's rmse: 4.35893\n",
      "[15]\tvalid_0's rmse: 4.30327\n",
      "[16]\tvalid_0's rmse: 4.2636\n",
      "[17]\tvalid_0's rmse: 4.18489\n",
      "[18]\tvalid_0's rmse: 4.12928\n",
      "[19]\tvalid_0's rmse: 4.09213\n",
      "[20]\tvalid_0's rmse: 4.06133\n",
      "[21]\tvalid_0's rmse: 4.04143\n",
      "[22]\tvalid_0's rmse: 4.03046\n",
      "[23]\tvalid_0's rmse: 4.029\n",
      "[24]\tvalid_0's rmse: 4.02585\n",
      "[25]\tvalid_0's rmse: 4.00788\n",
      "[26]\tvalid_0's rmse: 3.9988\n",
      "[27]\tvalid_0's rmse: 3.98474\n",
      "[28]\tvalid_0's rmse: 3.97503\n",
      "[29]\tvalid_0's rmse: 3.96618\n",
      "[30]\tvalid_0's rmse: 3.95844\n",
      "[31]\tvalid_0's rmse: 3.95992\n",
      "[32]\tvalid_0's rmse: 3.95601\n",
      "[33]\tvalid_0's rmse: 3.94999\n",
      "[34]\tvalid_0's rmse: 3.94655\n",
      "[35]\tvalid_0's rmse: 3.94381\n",
      "[36]\tvalid_0's rmse: 3.9413\n",
      "[37]\tvalid_0's rmse: 3.95066\n",
      "[38]\tvalid_0's rmse: 3.96235\n",
      "[39]\tvalid_0's rmse: 3.96606\n",
      "[40]\tvalid_0's rmse: 3.96094\n",
      "[41]\tvalid_0's rmse: 3.96334\n",
      "[42]\tvalid_0's rmse: 3.96629\n",
      "[43]\tvalid_0's rmse: 3.96109\n",
      "[44]\tvalid_0's rmse: 3.9686\n",
      "[45]\tvalid_0's rmse: 3.9658\n",
      "[46]\tvalid_0's rmse: 3.96092\n",
      "[47]\tvalid_0's rmse: 3.94908\n",
      "[48]\tvalid_0's rmse: 3.94978\n",
      "[49]\tvalid_0's rmse: 3.94143\n",
      "[50]\tvalid_0's rmse: 3.9391\n",
      "[51]\tvalid_0's rmse: 3.92491\n",
      "[52]\tvalid_0's rmse: 3.92345\n",
      "[53]\tvalid_0's rmse: 3.9145\n",
      "[54]\tvalid_0's rmse: 3.91292\n",
      "[55]\tvalid_0's rmse: 3.90766\n",
      "[56]\tvalid_0's rmse: 3.91105\n",
      "[57]\tvalid_0's rmse: 3.91481\n",
      "[58]\tvalid_0's rmse: 3.92598\n",
      "[59]\tvalid_0's rmse: 3.92756\n",
      "[60]\tvalid_0's rmse: 3.92388\n",
      "[61]\tvalid_0's rmse: 3.92592\n",
      "[62]\tvalid_0's rmse: 3.92829\n",
      "[63]\tvalid_0's rmse: 3.92954\n",
      "[64]\tvalid_0's rmse: 3.93241\n",
      "[65]\tvalid_0's rmse: 3.93391\n",
      "[66]\tvalid_0's rmse: 3.93248\n",
      "[67]\tvalid_0's rmse: 3.92978\n",
      "[68]\tvalid_0's rmse: 3.93475\n",
      "[69]\tvalid_0's rmse: 3.94772\n",
      "[70]\tvalid_0's rmse: 3.95796\n",
      "[71]\tvalid_0's rmse: 3.96112\n",
      "[72]\tvalid_0's rmse: 3.96698\n",
      "[73]\tvalid_0's rmse: 3.96469\n",
      "[74]\tvalid_0's rmse: 3.96149\n",
      "[75]\tvalid_0's rmse: 3.95455\n",
      "[76]\tvalid_0's rmse: 3.9509\n",
      "[77]\tvalid_0's rmse: 3.94618\n",
      "[78]\tvalid_0's rmse: 3.95107\n",
      "[79]\tvalid_0's rmse: 3.95723\n",
      "[80]\tvalid_0's rmse: 3.96509\n",
      "[81]\tvalid_0's rmse: 3.95231\n",
      "[82]\tvalid_0's rmse: 3.95011\n",
      "[83]\tvalid_0's rmse: 3.94351\n",
      "[84]\tvalid_0's rmse: 3.93634\n",
      "[85]\tvalid_0's rmse: 3.93848\n",
      "[86]\tvalid_0's rmse: 3.93607\n",
      "[87]\tvalid_0's rmse: 3.93662\n",
      "[88]\tvalid_0's rmse: 3.94086\n",
      "[89]\tvalid_0's rmse: 3.93589\n",
      "[90]\tvalid_0's rmse: 3.9329\n",
      "[91]\tvalid_0's rmse: 3.93156\n",
      "[92]\tvalid_0's rmse: 3.92966\n",
      "[93]\tvalid_0's rmse: 3.92807\n",
      "[94]\tvalid_0's rmse: 3.92665\n",
      "[95]\tvalid_0's rmse: 3.92427\n",
      "[96]\tvalid_0's rmse: 3.92418\n"
     ]
    },
    {
     "name": "stderr",
     "output_type": "stream",
     "text": [
      "\u001b[32m[I 2021-03-30 16:34:59,722]\u001b[0m Trial 2 finished with value: 3.9365778574512307 and parameters: {'lambda_l1': 1.0292033161158104e-06, 'lambda_l2': 3.983625257799933e-05, 'num_leaves': 80, 'feature_fraction': 0.8707203189009076, 'bagging_fraction': 0.4495065923891091, 'bagging_freq': 4, 'min_child_samples': 53}. Best is trial 1 with value: 3.6873052290026758.\u001b[0m\n"
     ]
    },
    {
     "name": "stdout",
     "output_type": "stream",
     "text": [
      "[97]\tvalid_0's rmse: 3.92672\n",
      "[98]\tvalid_0's rmse: 3.93196\n",
      "[99]\tvalid_0's rmse: 3.93942\n",
      "[100]\tvalid_0's rmse: 3.93658\n"
     ]
    },
    {
     "name": "stderr",
     "output_type": "stream",
     "text": [
      "C:\\Anaconda\\lib\\site-packages\\lightgbm\\basic.py:1702: UserWarning: Using categorical_feature in Dataset.\n",
      "  _log_warning('Using categorical_feature in Dataset.')\n"
     ]
    },
    {
     "name": "stdout",
     "output_type": "stream",
     "text": [
      "[LightGBM] [Warning] Auto-choosing col-wise multi-threading, the overhead of testing was 0.020147 seconds.\n",
      "You can set `force_col_wise=true` to remove the overhead.\n",
      "[LightGBM] [Info] Total Bins 29743\n",
      "[LightGBM] [Info] Number of data points in the train set: 26064, number of used features: 122\n",
      "[LightGBM] [Info] Start training from score 13.130955\n",
      "[1]\tvalid_0's rmse: 8.27317\n",
      "[2]\tvalid_0's rmse: 7.63385\n",
      "[3]\tvalid_0's rmse: 7.09498\n",
      "[4]\tvalid_0's rmse: 6.62776\n",
      "[5]\tvalid_0's rmse: 6.17736\n"
     ]
    },
    {
     "name": "stderr",
     "output_type": "stream",
     "text": [
      "C:\\Anaconda\\lib\\site-packages\\lightgbm\\basic.py:1433: UserWarning: Overriding the parameters from Reference Dataset.\n",
      "  _log_warning('Overriding the parameters from Reference Dataset.')\n",
      "C:\\Anaconda\\lib\\site-packages\\lightgbm\\basic.py:1245: UserWarning: categorical_column in param dict is overridden.\n",
      "  _log_warning('{} in param dict is overridden.'.format(cat_alias))\n"
     ]
    },
    {
     "name": "stdout",
     "output_type": "stream",
     "text": [
      "[6]\tvalid_0's rmse: 5.78759\n",
      "[7]\tvalid_0's rmse: 5.45759\n",
      "[8]\tvalid_0's rmse: 5.19339\n",
      "[9]\tvalid_0's rmse: 4.9626\n",
      "[10]\tvalid_0's rmse: 4.77232\n",
      "[11]\tvalid_0's rmse: 4.61055\n",
      "[12]\tvalid_0's rmse: 4.47041\n",
      "[13]\tvalid_0's rmse: 4.3581\n",
      "[14]\tvalid_0's rmse: 4.26171\n",
      "[15]\tvalid_0's rmse: 4.17695\n",
      "[16]\tvalid_0's rmse: 4.11149\n",
      "[17]\tvalid_0's rmse: 4.05403\n",
      "[18]\tvalid_0's rmse: 3.9941\n",
      "[19]\tvalid_0's rmse: 3.95863\n",
      "[20]\tvalid_0's rmse: 3.93267\n",
      "[21]\tvalid_0's rmse: 3.89733\n",
      "[22]\tvalid_0's rmse: 3.87815\n",
      "[23]\tvalid_0's rmse: 3.85759\n",
      "[24]\tvalid_0's rmse: 3.83948\n",
      "[25]\tvalid_0's rmse: 3.82628\n",
      "[26]\tvalid_0's rmse: 3.82132\n",
      "[27]\tvalid_0's rmse: 3.79706\n",
      "[28]\tvalid_0's rmse: 3.78501\n",
      "[29]\tvalid_0's rmse: 3.78699\n",
      "[30]\tvalid_0's rmse: 3.79055\n",
      "[31]\tvalid_0's rmse: 3.78581\n",
      "[32]\tvalid_0's rmse: 3.78341\n",
      "[33]\tvalid_0's rmse: 3.77645\n",
      "[34]\tvalid_0's rmse: 3.76662\n",
      "[35]\tvalid_0's rmse: 3.76367\n",
      "[36]\tvalid_0's rmse: 3.76223\n",
      "[37]\tvalid_0's rmse: 3.75937\n",
      "[38]\tvalid_0's rmse: 3.75575\n",
      "[39]\tvalid_0's rmse: 3.75413\n",
      "[40]\tvalid_0's rmse: 3.75375\n",
      "[41]\tvalid_0's rmse: 3.74915\n",
      "[42]\tvalid_0's rmse: 3.74898\n",
      "[43]\tvalid_0's rmse: 3.75159\n",
      "[44]\tvalid_0's rmse: 3.7497\n",
      "[45]\tvalid_0's rmse: 3.74742\n",
      "[46]\tvalid_0's rmse: 3.74194\n",
      "[47]\tvalid_0's rmse: 3.73803\n",
      "[48]\tvalid_0's rmse: 3.73409\n",
      "[49]\tvalid_0's rmse: 3.74009\n",
      "[50]\tvalid_0's rmse: 3.74532\n",
      "[51]\tvalid_0's rmse: 3.7443\n",
      "[52]\tvalid_0's rmse: 3.7461\n",
      "[53]\tvalid_0's rmse: 3.74518\n",
      "[54]\tvalid_0's rmse: 3.74709\n",
      "[55]\tvalid_0's rmse: 3.75161\n",
      "[56]\tvalid_0's rmse: 3.74791\n",
      "[57]\tvalid_0's rmse: 3.74237\n",
      "[58]\tvalid_0's rmse: 3.73625\n",
      "[59]\tvalid_0's rmse: 3.73898\n",
      "[60]\tvalid_0's rmse: 3.73925\n",
      "[61]\tvalid_0's rmse: 3.74345\n",
      "[62]\tvalid_0's rmse: 3.75099\n",
      "[63]\tvalid_0's rmse: 3.74685\n",
      "[64]\tvalid_0's rmse: 3.74649\n",
      "[65]\tvalid_0's rmse: 3.75001\n",
      "[66]\tvalid_0's rmse: 3.75011\n",
      "[67]\tvalid_0's rmse: 3.75244\n",
      "[68]\tvalid_0's rmse: 3.74807\n",
      "[69]\tvalid_0's rmse: 3.75524\n",
      "[70]\tvalid_0's rmse: 3.756\n",
      "[71]\tvalid_0's rmse: 3.75418\n",
      "[72]\tvalid_0's rmse: 3.75051\n",
      "[73]\tvalid_0's rmse: 3.74672\n",
      "[74]\tvalid_0's rmse: 3.73623\n",
      "[75]\tvalid_0's rmse: 3.73307\n",
      "[76]\tvalid_0's rmse: 3.72915\n",
      "[77]\tvalid_0's rmse: 3.73212\n",
      "[78]\tvalid_0's rmse: 3.73813\n",
      "[79]\tvalid_0's rmse: 3.7396\n",
      "[80]\tvalid_0's rmse: 3.73917\n",
      "[81]\tvalid_0's rmse: 3.73917\n",
      "[82]\tvalid_0's rmse: 3.74077\n",
      "[83]\tvalid_0's rmse: 3.73691\n",
      "[84]\tvalid_0's rmse: 3.7411\n",
      "[85]\tvalid_0's rmse: 3.74726\n",
      "[86]\tvalid_0's rmse: 3.74706\n",
      "[87]\tvalid_0's rmse: 3.75084\n",
      "[88]\tvalid_0's rmse: 3.7563\n",
      "[89]\tvalid_0's rmse: 3.75425\n",
      "[90]\tvalid_0's rmse: 3.75372\n",
      "[91]\tvalid_0's rmse: 3.75584\n",
      "[92]\tvalid_0's rmse: 3.75978\n",
      "[93]\tvalid_0's rmse: 3.76418\n",
      "[94]\tvalid_0's rmse: 3.76812\n",
      "[95]\tvalid_0's rmse: 3.76666\n",
      "[96]\tvalid_0's rmse: 3.76976\n",
      "[97]\tvalid_0's rmse: 3.76533\n",
      "[98]\tvalid_0's rmse: 3.77008\n",
      "[99]\tvalid_0's rmse: 3.76662\n",
      "[100]\tvalid_0's rmse: 3.7704\n"
     ]
    },
    {
     "name": "stderr",
     "output_type": "stream",
     "text": [
      "\u001b[32m[I 2021-03-30 16:35:02,377]\u001b[0m Trial 3 finished with value: 3.7704023091257697 and parameters: {'lambda_l1': 2.6253541771959903e-07, 'lambda_l2': 1.2167877344720366e-08, 'num_leaves': 121, 'feature_fraction': 0.8062086327745152, 'bagging_fraction': 0.7662583449685287, 'bagging_freq': 2, 'min_child_samples': 61}. Best is trial 1 with value: 3.6873052290026758.\u001b[0m\n",
      "C:\\Anaconda\\lib\\site-packages\\lightgbm\\basic.py:1702: UserWarning: Using categorical_feature in Dataset.\n",
      "  _log_warning('Using categorical_feature in Dataset.')\n"
     ]
    },
    {
     "name": "stdout",
     "output_type": "stream",
     "text": [
      "[LightGBM] [Warning] Auto-choosing col-wise multi-threading, the overhead of testing was 0.019299 seconds.\n",
      "You can set `force_col_wise=true` to remove the overhead.\n",
      "[LightGBM] [Info] Total Bins 29743\n",
      "[LightGBM] [Info] Number of data points in the train set: 26064, number of used features: 122\n",
      "[LightGBM] [Info] Start training from score 13.130955\n",
      "[1]\tvalid_0's rmse: 8.28332\n",
      "[2]\tvalid_0's rmse: 7.67767\n",
      "[3]\tvalid_0's rmse: 7.15341\n",
      "[4]\tvalid_0's rmse: 6.68619\n",
      "[5]\tvalid_0's rmse: 6.27434\n"
     ]
    },
    {
     "name": "stderr",
     "output_type": "stream",
     "text": [
      "C:\\Anaconda\\lib\\site-packages\\lightgbm\\basic.py:1433: UserWarning: Overriding the parameters from Reference Dataset.\n",
      "  _log_warning('Overriding the parameters from Reference Dataset.')\n",
      "C:\\Anaconda\\lib\\site-packages\\lightgbm\\basic.py:1245: UserWarning: categorical_column in param dict is overridden.\n",
      "  _log_warning('{} in param dict is overridden.'.format(cat_alias))\n"
     ]
    },
    {
     "name": "stdout",
     "output_type": "stream",
     "text": [
      "[6]\tvalid_0's rmse: 5.89622\n",
      "[7]\tvalid_0's rmse: 5.55606\n",
      "[8]\tvalid_0's rmse: 5.29132\n",
      "[9]\tvalid_0's rmse: 5.03302\n",
      "[10]\tvalid_0's rmse: 4.83659\n",
      "[11]\tvalid_0's rmse: 4.66116\n",
      "[12]\tvalid_0's rmse: 4.51216\n",
      "[13]\tvalid_0's rmse: 4.4008\n",
      "[14]\tvalid_0's rmse: 4.28551\n",
      "[15]\tvalid_0's rmse: 4.20453\n",
      "[16]\tvalid_0's rmse: 4.14071\n",
      "[17]\tvalid_0's rmse: 4.07668\n",
      "[18]\tvalid_0's rmse: 4.04044\n",
      "[19]\tvalid_0's rmse: 4.0141\n",
      "[20]\tvalid_0's rmse: 4.00024\n",
      "[21]\tvalid_0's rmse: 3.95284\n",
      "[22]\tvalid_0's rmse: 3.92148\n",
      "[23]\tvalid_0's rmse: 3.90788\n",
      "[24]\tvalid_0's rmse: 3.90174\n",
      "[25]\tvalid_0's rmse: 3.90337\n",
      "[26]\tvalid_0's rmse: 3.90852\n",
      "[27]\tvalid_0's rmse: 3.89951\n",
      "[28]\tvalid_0's rmse: 3.88214\n",
      "[29]\tvalid_0's rmse: 3.87547\n",
      "[30]\tvalid_0's rmse: 3.87406\n",
      "[31]\tvalid_0's rmse: 3.8921\n",
      "[32]\tvalid_0's rmse: 3.87628\n",
      "[33]\tvalid_0's rmse: 3.87474\n",
      "[34]\tvalid_0's rmse: 3.88812\n",
      "[35]\tvalid_0's rmse: 3.87838\n",
      "[36]\tvalid_0's rmse: 3.87835\n",
      "[37]\tvalid_0's rmse: 3.86893\n",
      "[38]\tvalid_0's rmse: 3.8545\n",
      "[39]\tvalid_0's rmse: 3.84447\n",
      "[40]\tvalid_0's rmse: 3.84065\n",
      "[41]\tvalid_0's rmse: 3.82466\n",
      "[42]\tvalid_0's rmse: 3.82147\n",
      "[43]\tvalid_0's rmse: 3.82354\n",
      "[44]\tvalid_0's rmse: 3.8228\n",
      "[45]\tvalid_0's rmse: 3.8228\n",
      "[46]\tvalid_0's rmse: 3.81776\n",
      "[47]\tvalid_0's rmse: 3.8129\n",
      "[48]\tvalid_0's rmse: 3.81097\n",
      "[49]\tvalid_0's rmse: 3.8191\n",
      "[50]\tvalid_0's rmse: 3.81859\n",
      "[51]\tvalid_0's rmse: 3.81347\n",
      "[52]\tvalid_0's rmse: 3.81365\n",
      "[53]\tvalid_0's rmse: 3.81168\n",
      "[54]\tvalid_0's rmse: 3.81106\n",
      "[55]\tvalid_0's rmse: 3.8136\n",
      "[56]\tvalid_0's rmse: 3.81756\n",
      "[57]\tvalid_0's rmse: 3.81837\n",
      "[58]\tvalid_0's rmse: 3.81745\n",
      "[59]\tvalid_0's rmse: 3.81608\n",
      "[60]\tvalid_0's rmse: 3.82007\n",
      "[61]\tvalid_0's rmse: 3.81882\n",
      "[62]\tvalid_0's rmse: 3.82274\n",
      "[63]\tvalid_0's rmse: 3.82437\n",
      "[64]\tvalid_0's rmse: 3.82202\n",
      "[65]\tvalid_0's rmse: 3.82088\n",
      "[66]\tvalid_0's rmse: 3.82041\n",
      "[67]\tvalid_0's rmse: 3.82338\n",
      "[68]\tvalid_0's rmse: 3.82396\n",
      "[69]\tvalid_0's rmse: 3.82354\n",
      "[70]\tvalid_0's rmse: 3.8236\n",
      "[71]\tvalid_0's rmse: 3.82011\n",
      "[72]\tvalid_0's rmse: 3.8237\n",
      "[73]\tvalid_0's rmse: 3.82583\n",
      "[74]\tvalid_0's rmse: 3.8267\n",
      "[75]\tvalid_0's rmse: 3.82514\n",
      "[76]\tvalid_0's rmse: 3.81977\n",
      "[77]\tvalid_0's rmse: 3.82062\n",
      "[78]\tvalid_0's rmse: 3.82045\n",
      "[79]\tvalid_0's rmse: 3.81885\n",
      "[80]\tvalid_0's rmse: 3.81839\n",
      "[81]\tvalid_0's rmse: 3.82047\n",
      "[82]\tvalid_0's rmse: 3.82045\n",
      "[83]\tvalid_0's rmse: 3.81862\n",
      "[84]\tvalid_0's rmse: 3.81887\n",
      "[85]\tvalid_0's rmse: 3.81791\n",
      "[86]\tvalid_0's rmse: 3.82047\n",
      "[87]\tvalid_0's rmse: 3.81943\n",
      "[88]\tvalid_0's rmse: 3.82217\n",
      "[89]\tvalid_0's rmse: 3.82434\n",
      "[90]\tvalid_0's rmse: 3.82522\n",
      "[91]\tvalid_0's rmse: 3.82679\n",
      "[92]\tvalid_0's rmse: 3.82853\n",
      "[93]\tvalid_0's rmse: 3.83109\n",
      "[94]\tvalid_0's rmse: 3.83326\n",
      "[95]\tvalid_0's rmse: 3.83492\n",
      "[96]\tvalid_0's rmse: 3.83669\n",
      "[97]\tvalid_0's rmse: 3.83815\n",
      "[98]\tvalid_0's rmse: 3.83894\n",
      "[99]\tvalid_0's rmse: 3.84084\n",
      "[100]\tvalid_0's rmse: 3.84356\n"
     ]
    },
    {
     "name": "stderr",
     "output_type": "stream",
     "text": [
      "\u001b[32m[I 2021-03-30 16:35:05,847]\u001b[0m Trial 4 finished with value: 3.8435617711815966 and parameters: {'lambda_l1': 2.1264337327226475e-06, 'lambda_l2': 2.570742282923948, 'num_leaves': 194, 'feature_fraction': 0.716800868271417, 'bagging_fraction': 0.8941273525329451, 'bagging_freq': 7, 'min_child_samples': 13}. Best is trial 1 with value: 3.6873052290026758.\u001b[0m\n",
      "C:\\Anaconda\\lib\\site-packages\\lightgbm\\basic.py:1702: UserWarning: Using categorical_feature in Dataset.\n",
      "  _log_warning('Using categorical_feature in Dataset.')\n"
     ]
    },
    {
     "name": "stdout",
     "output_type": "stream",
     "text": [
      "[LightGBM] [Warning] Auto-choosing col-wise multi-threading, the overhead of testing was 0.018352 seconds.\n",
      "You can set `force_col_wise=true` to remove the overhead.\n",
      "[LightGBM] [Info] Total Bins 29743\n",
      "[LightGBM] [Info] Number of data points in the train set: 26064, number of used features: 122\n",
      "[LightGBM] [Info] Start training from score 13.130955\n",
      "[1]\tvalid_0's rmse: 8.27608\n",
      "[2]\tvalid_0's rmse: 7.60134\n",
      "[3]\tvalid_0's rmse: 7.03209\n",
      "[4]\tvalid_0's rmse: 6.52556\n",
      "[5]\tvalid_0's rmse: 6.10254\n",
      "[6]\tvalid_0's rmse: 5.73525\n"
     ]
    },
    {
     "name": "stderr",
     "output_type": "stream",
     "text": [
      "C:\\Anaconda\\lib\\site-packages\\lightgbm\\basic.py:1433: UserWarning: Overriding the parameters from Reference Dataset.\n",
      "  _log_warning('Overriding the parameters from Reference Dataset.')\n",
      "C:\\Anaconda\\lib\\site-packages\\lightgbm\\basic.py:1245: UserWarning: categorical_column in param dict is overridden.\n",
      "  _log_warning('{} in param dict is overridden.'.format(cat_alias))\n"
     ]
    },
    {
     "name": "stdout",
     "output_type": "stream",
     "text": [
      "[7]\tvalid_0's rmse: 5.41449\n",
      "[8]\tvalid_0's rmse: 5.15219\n",
      "[9]\tvalid_0's rmse: 4.92207\n",
      "[10]\tvalid_0's rmse: 4.73049\n",
      "[11]\tvalid_0's rmse: 4.56097\n",
      "[12]\tvalid_0's rmse: 4.41987\n",
      "[13]\tvalid_0's rmse: 4.31012\n",
      "[14]\tvalid_0's rmse: 4.21298\n",
      "[15]\tvalid_0's rmse: 4.13765\n"
     ]
    },
    {
     "name": "stderr",
     "output_type": "stream",
     "text": [
      "\u001b[32m[I 2021-03-30 16:35:06,697]\u001b[0m Trial 5 pruned. Trial was pruned at iteration 22.\u001b[0m\n"
     ]
    },
    {
     "name": "stdout",
     "output_type": "stream",
     "text": [
      "[16]\tvalid_0's rmse: 4.06743\n",
      "[17]\tvalid_0's rmse: 4.02145\n",
      "[18]\tvalid_0's rmse: 3.9702\n",
      "[19]\tvalid_0's rmse: 3.94229\n",
      "[20]\tvalid_0's rmse: 3.91046\n",
      "[21]\tvalid_0's rmse: 3.88583\n",
      "[22]\tvalid_0's rmse: 3.87267\n"
     ]
    },
    {
     "name": "stderr",
     "output_type": "stream",
     "text": [
      "\u001b[32m[I 2021-03-30 16:35:07,121]\u001b[0m Trial 6 pruned. Trial was pruned at iteration 10.\u001b[0m\n"
     ]
    },
    {
     "name": "stdout",
     "output_type": "stream",
     "text": [
      "[LightGBM] [Warning] Auto-choosing col-wise multi-threading, the overhead of testing was 0.014738 seconds.\n",
      "You can set `force_col_wise=true` to remove the overhead.\n",
      "[LightGBM] [Info] Total Bins 29743\n",
      "[LightGBM] [Info] Number of data points in the train set: 26064, number of used features: 122\n",
      "[LightGBM] [Info] Start training from score 13.130955\n",
      "[1]\tvalid_0's rmse: 8.28424\n",
      "[2]\tvalid_0's rmse: 7.6688\n",
      "[3]\tvalid_0's rmse: 7.12944\n",
      "[4]\tvalid_0's rmse: 6.65948\n",
      "[5]\tvalid_0's rmse: 6.25178\n",
      "[6]\tvalid_0's rmse: 5.87234\n",
      "[7]\tvalid_0's rmse: 5.5666\n",
      "[8]\tvalid_0's rmse: 5.31191\n",
      "[9]\tvalid_0's rmse: 5.05788\n",
      "[10]\tvalid_0's rmse: 4.87026\n",
      "[LightGBM] [Warning] Auto-choosing col-wise multi-threading, the overhead of testing was 0.019917 seconds.\n",
      "You can set `force_col_wise=true` to remove the overhead.\n",
      "[LightGBM] [Info] Total Bins 29743\n",
      "[LightGBM] [Info] Number of data points in the train set: 26064, number of used features: 122\n",
      "[LightGBM] [Info] Start training from score 13.130955\n",
      "[LightGBM] [Warning] No further splits with positive gain, best gain: -inf\n",
      "[1]\tvalid_0's rmse: 8.28465\n",
      "[LightGBM] [Warning] No further splits with positive gain, best gain: -inf\n",
      "[2]\tvalid_0's rmse: 7.66117\n",
      "[LightGBM] [Warning] No further splits with positive gain, best gain: -inf\n",
      "[3]\tvalid_0's rmse: 7.10955\n",
      "[LightGBM] [Warning] No further splits with positive gain, best gain: -inf\n",
      "[4]\tvalid_0's rmse: 6.66721\n",
      "[LightGBM] [Warning] No further splits with positive gain, best gain: -inf\n",
      "[5]\tvalid_0's rmse: 6.26335\n",
      "[LightGBM] [Warning] No further splits with positive gain, best gain: -inf\n",
      "[6]\tvalid_0's rmse: 5.90383\n",
      "[LightGBM] [Warning] No further splits with positive gain, best gain: -inf\n",
      "[7]\tvalid_0's rmse: 5.58511\n",
      "[LightGBM] [Warning] No further splits with positive gain, best gain: -inf\n",
      "[8]\tvalid_0's rmse: 5.3329\n",
      "[LightGBM] [Warning] No further splits with positive gain, best gain: -inf\n",
      "[9]\tvalid_0's rmse: 5.10007\n",
      "[LightGBM] [Warning] No further splits with positive gain, best gain: -inf\n",
      "[10]\tvalid_0's rmse: 4.91536\n",
      "[LightGBM] [Warning] No further splits with positive gain, best gain: -inf\n"
     ]
    },
    {
     "name": "stderr",
     "output_type": "stream",
     "text": [
      "\u001b[32m[I 2021-03-30 16:35:07,587]\u001b[0m Trial 7 pruned. Trial was pruned at iteration 10.\u001b[0m\n"
     ]
    },
    {
     "name": "stdout",
     "output_type": "stream",
     "text": [
      "[LightGBM] [Warning] Auto-choosing col-wise multi-threading, the overhead of testing was 0.021348 seconds.\n",
      "You can set `force_col_wise=true` to remove the overhead.\n",
      "[LightGBM] [Info] Total Bins 29743\n",
      "[LightGBM] [Info] Number of data points in the train set: 26064, number of used features: 122\n",
      "[LightGBM] [Info] Start training from score 13.130955\n",
      "[1]\tvalid_0's rmse: 8.25572\n",
      "[2]\tvalid_0's rmse: 7.61594\n",
      "[3]\tvalid_0's rmse: 7.05392\n",
      "[4]\tvalid_0's rmse: 6.5724\n",
      "[5]\tvalid_0's rmse: 6.16925\n",
      "[6]\tvalid_0's rmse: 5.79092\n",
      "[7]\tvalid_0's rmse: 5.46872\n"
     ]
    },
    {
     "name": "stderr",
     "output_type": "stream",
     "text": [
      "\u001b[32m[I 2021-03-30 16:35:08,442]\u001b[0m Trial 8 pruned. Trial was pruned at iteration 10.\u001b[0m\n"
     ]
    },
    {
     "name": "stdout",
     "output_type": "stream",
     "text": [
      "[8]\tvalid_0's rmse: 5.20322\n",
      "[9]\tvalid_0's rmse: 4.96011\n",
      "[10]\tvalid_0's rmse: 4.7674\n"
     ]
    },
    {
     "name": "stderr",
     "output_type": "stream",
     "text": [
      "\u001b[32m[I 2021-03-30 16:35:08,851]\u001b[0m Trial 9 pruned. Trial was pruned at iteration 10.\u001b[0m\n"
     ]
    },
    {
     "name": "stdout",
     "output_type": "stream",
     "text": [
      "[LightGBM] [Warning] Auto-choosing col-wise multi-threading, the overhead of testing was 0.018916 seconds.\n",
      "You can set `force_col_wise=true` to remove the overhead.\n",
      "[LightGBM] [Info] Total Bins 29743\n",
      "[LightGBM] [Info] Number of data points in the train set: 26064, number of used features: 122\n",
      "[LightGBM] [Info] Start training from score 13.130955\n",
      "[1]\tvalid_0's rmse: 8.31596\n",
      "[2]\tvalid_0's rmse: 7.70329\n",
      "[3]\tvalid_0's rmse: 7.21728\n",
      "[4]\tvalid_0's rmse: 6.73713\n",
      "[5]\tvalid_0's rmse: 6.33246\n",
      "[6]\tvalid_0's rmse: 6.00682\n",
      "[7]\tvalid_0's rmse: 5.69972\n",
      "[8]\tvalid_0's rmse: 5.46747\n",
      "[9]\tvalid_0's rmse: 5.241\n",
      "[10]\tvalid_0's rmse: 5.06169\n",
      "[LightGBM] [Warning] Auto-choosing col-wise multi-threading, the overhead of testing was 0.017140 seconds.\n",
      "You can set `force_col_wise=true` to remove the overhead.\n",
      "[LightGBM] [Info] Total Bins 29743\n",
      "[LightGBM] [Info] Number of data points in the train set: 26064, number of used features: 122\n",
      "[LightGBM] [Info] Start training from score 13.130955\n",
      "[1]\tvalid_0's rmse: 8.26201\n",
      "[2]\tvalid_0's rmse: 7.60899\n",
      "[3]\tvalid_0's rmse: 7.05037\n",
      "[4]\tvalid_0's rmse: 6.56217\n",
      "[5]\tvalid_0's rmse: 6.1316\n",
      "[6]\tvalid_0's rmse: 5.76463\n",
      "[7]\tvalid_0's rmse: 5.45816\n",
      "[8]\tvalid_0's rmse: 5.18041\n",
      "[9]\tvalid_0's rmse: 4.94767\n",
      "[10]\tvalid_0's rmse: 4.73947\n",
      "[11]\tvalid_0's rmse: 4.59874\n",
      "[12]\tvalid_0's rmse: 4.45049\n",
      "[13]\tvalid_0's rmse: 4.33234\n",
      "[14]\tvalid_0's rmse: 4.23968\n"
     ]
    },
    {
     "name": "stderr",
     "output_type": "stream",
     "text": [
      "\u001b[32m[I 2021-03-30 16:35:09,620]\u001b[0m Trial 10 pruned. Trial was pruned at iteration 14.\u001b[0m\n"
     ]
    },
    {
     "name": "stdout",
     "output_type": "stream",
     "text": [
      "[LightGBM] [Warning] Auto-choosing col-wise multi-threading, the overhead of testing was 0.018347 seconds.\n",
      "You can set `force_col_wise=true` to remove the overhead.\n",
      "[LightGBM] [Info] Total Bins 29743\n",
      "[LightGBM] [Info] Number of data points in the train set: 26064, number of used features: 122\n",
      "[LightGBM] [Info] Start training from score 13.130955\n",
      "[1]\tvalid_0's rmse: 8.25341\n",
      "[2]\tvalid_0's rmse: 7.63462\n",
      "[3]\tvalid_0's rmse: 7.07223\n",
      "[4]\tvalid_0's rmse: 6.59001\n"
     ]
    },
    {
     "name": "stderr",
     "output_type": "stream",
     "text": [
      "\u001b[32m[I 2021-03-30 16:35:10,297]\u001b[0m Trial 11 pruned. Trial was pruned at iteration 10.\u001b[0m\n"
     ]
    },
    {
     "name": "stdout",
     "output_type": "stream",
     "text": [
      "[5]\tvalid_0's rmse: 6.14542\n",
      "[6]\tvalid_0's rmse: 5.76594\n",
      "[7]\tvalid_0's rmse: 5.46026\n",
      "[8]\tvalid_0's rmse: 5.19098\n",
      "[9]\tvalid_0's rmse: 4.95946\n",
      "[10]\tvalid_0's rmse: 4.7774\n",
      "[LightGBM] [Warning] Auto-choosing col-wise multi-threading, the overhead of testing was 0.018300 seconds.\n",
      "You can set `force_col_wise=true` to remove the overhead.\n",
      "[LightGBM] [Info] Total Bins 29743\n",
      "[LightGBM] [Info] Number of data points in the train set: 26064, number of used features: 122\n",
      "[LightGBM] [Info] Start training from score 13.130955\n",
      "[1]\tvalid_0's rmse: 8.26867\n",
      "[2]\tvalid_0's rmse: 7.62593\n",
      "[3]\tvalid_0's rmse: 7.07028\n",
      "[4]\tvalid_0's rmse: 6.58864\n",
      "[5]\tvalid_0's rmse: 6.15127\n",
      "[6]\tvalid_0's rmse: 5.77731\n",
      "[7]\tvalid_0's rmse: 5.45515\n",
      "[8]\tvalid_0's rmse: 5.17511\n",
      "[9]\tvalid_0's rmse: 4.94556\n",
      "[10]\tvalid_0's rmse: 4.73596\n",
      "[11]\tvalid_0's rmse: 4.57559\n",
      "[12]\tvalid_0's rmse: 4.42797\n",
      "[13]\tvalid_0's rmse: 4.30629\n",
      "[14]\tvalid_0's rmse: 4.21633\n",
      "[15]\tvalid_0's rmse: 4.14812\n",
      "[16]\tvalid_0's rmse: 4.07724\n",
      "[17]\tvalid_0's rmse: 4.01607\n",
      "[18]\tvalid_0's rmse: 3.9641\n",
      "[19]\tvalid_0's rmse: 3.93057\n",
      "[20]\tvalid_0's rmse: 3.89872\n"
     ]
    },
    {
     "name": "stderr",
     "output_type": "stream",
     "text": [
      "\u001b[32m[I 2021-03-30 16:35:11,103]\u001b[0m Trial 12 pruned. Trial was pruned at iteration 24.\u001b[0m\n"
     ]
    },
    {
     "name": "stdout",
     "output_type": "stream",
     "text": [
      "[21]\tvalid_0's rmse: 3.884\n",
      "[22]\tvalid_0's rmse: 3.85086\n",
      "[23]\tvalid_0's rmse: 3.83806\n",
      "[24]\tvalid_0's rmse: 3.83245\n",
      "[LightGBM] [Warning] Auto-choosing col-wise multi-threading, the overhead of testing was 0.012309 seconds.\n",
      "You can set `force_col_wise=true` to remove the overhead.\n",
      "[LightGBM] [Info] Total Bins 29743\n",
      "[LightGBM] [Info] Number of data points in the train set: 26064, number of used features: 122\n",
      "[LightGBM] [Info] Start training from score 13.130955\n",
      "[LightGBM] [Warning] No further splits with positive gain, best gain: -inf\n",
      "[1]\tvalid_0's rmse: 8.27985\n",
      "[LightGBM] [Warning] No further splits with positive gain, best gain: -inf\n",
      "[2]\tvalid_0's rmse: 7.63546\n",
      "[LightGBM] [Warning] No further splits with positive gain, best gain: -inf\n",
      "[3]\tvalid_0's rmse: 7.04639\n",
      "[LightGBM] [Warning] No further splits with positive gain, best gain: -inf\n",
      "[4]\tvalid_0's rmse: 6.57586\n",
      "[LightGBM] [Warning] No further splits with positive gain, best gain: -inf\n",
      "[5]\tvalid_0's rmse: 6.18861\n",
      "[LightGBM] [Warning] No further splits with positive gain, best gain: -inf\n",
      "[6]\tvalid_0's rmse: 5.81732\n",
      "[LightGBM] [Warning] No further splits with positive gain, best gain: -inf\n",
      "[7]\tvalid_0's rmse: 5.5128\n",
      "[LightGBM] [Warning] No further splits with positive gain, best gain: -inf\n",
      "[8]\tvalid_0's rmse: 5.25909\n",
      "[LightGBM] [Warning] No further splits with positive gain, best gain: -inf\n",
      "[9]\tvalid_0's rmse: 5.02495\n",
      "[LightGBM] [Warning] No further splits with positive gain, best gain: -inf\n"
     ]
    },
    {
     "name": "stderr",
     "output_type": "stream",
     "text": [
      "\u001b[32m[I 2021-03-30 16:35:11,602]\u001b[0m Trial 13 pruned. Trial was pruned at iteration 10.\u001b[0m\n"
     ]
    },
    {
     "name": "stdout",
     "output_type": "stream",
     "text": [
      "[10]\tvalid_0's rmse: 4.83387\n",
      "[LightGBM] [Warning] No further splits with positive gain, best gain: -inf\n",
      "[LightGBM] [Warning] Auto-choosing col-wise multi-threading, the overhead of testing was 0.021226 seconds.\n",
      "You can set `force_col_wise=true` to remove the overhead.\n",
      "[LightGBM] [Info] Total Bins 29743\n",
      "[LightGBM] [Info] Number of data points in the train set: 26064, number of used features: 122\n",
      "[LightGBM] [Info] Start training from score 13.130955\n",
      "[1]\tvalid_0's rmse: 8.27532\n",
      "[2]\tvalid_0's rmse: 7.64181\n",
      "[3]\tvalid_0's rmse: 7.06654\n",
      "[4]\tvalid_0's rmse: 6.58698\n",
      "[5]\tvalid_0's rmse: 6.17324\n",
      "[6]\tvalid_0's rmse: 5.80606\n",
      "[7]\tvalid_0's rmse: 5.48352\n",
      "[8]\tvalid_0's rmse: 5.19921\n"
     ]
    },
    {
     "name": "stderr",
     "output_type": "stream",
     "text": [
      "\u001b[32m[I 2021-03-30 16:35:12,217]\u001b[0m Trial 14 pruned. Trial was pruned at iteration 17.\u001b[0m\n"
     ]
    },
    {
     "name": "stdout",
     "output_type": "stream",
     "text": [
      "[9]\tvalid_0's rmse: 4.94913\n",
      "[10]\tvalid_0's rmse: 4.74524\n",
      "[11]\tvalid_0's rmse: 4.57967\n",
      "[12]\tvalid_0's rmse: 4.44048\n",
      "[13]\tvalid_0's rmse: 4.31748\n",
      "[14]\tvalid_0's rmse: 4.22666\n",
      "[15]\tvalid_0's rmse: 4.13948\n",
      "[16]\tvalid_0's rmse: 4.07612\n",
      "[17]\tvalid_0's rmse: 4.03687\n",
      "[LightGBM] [Warning] Auto-choosing col-wise multi-threading, the overhead of testing was 0.016278 seconds.\n",
      "You can set `force_col_wise=true` to remove the overhead.\n",
      "[LightGBM] [Info] Total Bins 29743\n",
      "[LightGBM] [Info] Number of data points in the train set: 26064, number of used features: 122\n",
      "[LightGBM] [Info] Start training from score 13.130955\n",
      "[1]\tvalid_0's rmse: 8.27566\n",
      "[2]\tvalid_0's rmse: 7.63817\n",
      "[3]\tvalid_0's rmse: 7.08421\n",
      "[4]\tvalid_0's rmse: 6.5873\n",
      "[5]\tvalid_0's rmse: 6.17423\n",
      "[6]\tvalid_0's rmse: 5.76317\n",
      "[7]\tvalid_0's rmse: 5.45152\n",
      "[8]\tvalid_0's rmse: 5.18576\n",
      "[9]\tvalid_0's rmse: 4.957\n",
      "[10]\tvalid_0's rmse: 4.76542\n",
      "[11]\tvalid_0's rmse: 4.58558\n",
      "[12]\tvalid_0's rmse: 4.44594\n",
      "[13]\tvalid_0's rmse: 4.3259\n",
      "[14]\tvalid_0's rmse: 4.24767\n",
      "[15]\tvalid_0's rmse: 4.17449\n",
      "[16]\tvalid_0's rmse: 4.09411\n",
      "[17]\tvalid_0's rmse: 4.03518\n",
      "[18]\tvalid_0's rmse: 3.98723\n",
      "[19]\tvalid_0's rmse: 3.95854\n",
      "[20]\tvalid_0's rmse: 3.92322\n"
     ]
    },
    {
     "name": "stderr",
     "output_type": "stream",
     "text": [
      "\u001b[32m[I 2021-03-30 16:35:12,906]\u001b[0m Trial 15 pruned. Trial was pruned at iteration 20.\u001b[0m\n"
     ]
    },
    {
     "name": "stdout",
     "output_type": "stream",
     "text": [
      "[LightGBM] [Warning] Auto-choosing col-wise multi-threading, the overhead of testing was 0.019082 seconds.\n",
      "You can set `force_col_wise=true` to remove the overhead.\n",
      "[LightGBM] [Info] Total Bins 29743\n",
      "[LightGBM] [Info] Number of data points in the train set: 26064, number of used features: 122\n",
      "[LightGBM] [Info] Start training from score 13.130955\n",
      "[1]\tvalid_0's rmse: 8.25698\n",
      "[2]\tvalid_0's rmse: 7.60332\n",
      "[3]\tvalid_0's rmse: 7.03273\n",
      "[4]\tvalid_0's rmse: 6.55748\n",
      "[5]\tvalid_0's rmse: 6.14063\n",
      "[6]\tvalid_0's rmse: 5.75324\n",
      "[7]\tvalid_0's rmse: 5.42682\n",
      "[8]\tvalid_0's rmse: 5.14996\n",
      "[9]\tvalid_0's rmse: 4.90987\n",
      "[10]\tvalid_0's rmse: 4.72212\n"
     ]
    },
    {
     "name": "stderr",
     "output_type": "stream",
     "text": [
      "\u001b[32m[I 2021-03-30 16:35:13,459]\u001b[0m Trial 16 pruned. Trial was pruned at iteration 17.\u001b[0m\n"
     ]
    },
    {
     "name": "stdout",
     "output_type": "stream",
     "text": [
      "[11]\tvalid_0's rmse: 4.56817\n",
      "[12]\tvalid_0's rmse: 4.43801\n",
      "[13]\tvalid_0's rmse: 4.317\n",
      "[14]\tvalid_0's rmse: 4.22548\n",
      "[15]\tvalid_0's rmse: 4.15205\n",
      "[16]\tvalid_0's rmse: 4.10497\n",
      "[17]\tvalid_0's rmse: 4.04979\n",
      "[LightGBM] [Warning] Auto-choosing col-wise multi-threading, the overhead of testing was 0.019935 seconds.\n",
      "You can set `force_col_wise=true` to remove the overhead.\n",
      "[LightGBM] [Info] Total Bins 29743\n",
      "[LightGBM] [Info] Number of data points in the train set: 26064, number of used features: 122\n",
      "[LightGBM] [Info] Start training from score 13.130955\n",
      "[1]\tvalid_0's rmse: 8.26988\n",
      "[2]\tvalid_0's rmse: 7.62755\n",
      "[3]\tvalid_0's rmse: 7.08634\n",
      "[4]\tvalid_0's rmse: 6.62524\n",
      "[5]\tvalid_0's rmse: 6.19431\n"
     ]
    },
    {
     "name": "stderr",
     "output_type": "stream",
     "text": [
      "\u001b[32m[I 2021-03-30 16:35:14,186]\u001b[0m Trial 17 pruned. Trial was pruned at iteration 10.\u001b[0m\n"
     ]
    },
    {
     "name": "stdout",
     "output_type": "stream",
     "text": [
      "[6]\tvalid_0's rmse: 5.82279\n",
      "[7]\tvalid_0's rmse: 5.49957\n",
      "[8]\tvalid_0's rmse: 5.23827\n",
      "[9]\tvalid_0's rmse: 5.00003\n",
      "[10]\tvalid_0's rmse: 4.79199\n",
      "[LightGBM] [Warning] Auto-choosing col-wise multi-threading, the overhead of testing was 0.018170 seconds.\n",
      "You can set `force_col_wise=true` to remove the overhead.\n",
      "[LightGBM] [Info] Total Bins 29743\n",
      "[LightGBM] [Info] Number of data points in the train set: 26064, number of used features: 122\n",
      "[LightGBM] [Info] Start training from score 13.130955\n",
      "[1]\tvalid_0's rmse: 8.25908\n",
      "[2]\tvalid_0's rmse: 7.59495\n",
      "[3]\tvalid_0's rmse: 7.03285\n",
      "[4]\tvalid_0's rmse: 6.52692\n",
      "[5]\tvalid_0's rmse: 6.09766\n",
      "[6]\tvalid_0's rmse: 5.70495\n",
      "[7]\tvalid_0's rmse: 5.37969\n",
      "[8]\tvalid_0's rmse: 5.09332\n",
      "[9]\tvalid_0's rmse: 4.85303\n",
      "[10]\tvalid_0's rmse: 4.66697\n",
      "[11]\tvalid_0's rmse: 4.51767\n",
      "[12]\tvalid_0's rmse: 4.38113\n",
      "[13]\tvalid_0's rmse: 4.25902\n",
      "[14]\tvalid_0's rmse: 4.16815\n",
      "[15]\tvalid_0's rmse: 4.10196\n",
      "[16]\tvalid_0's rmse: 4.0417\n",
      "[17]\tvalid_0's rmse: 4.0024\n",
      "[18]\tvalid_0's rmse: 3.9782\n"
     ]
    },
    {
     "name": "stderr",
     "output_type": "stream",
     "text": [
      "\u001b[32m[I 2021-03-30 16:35:15,103]\u001b[0m Trial 18 pruned. Trial was pruned at iteration 18.\u001b[0m\n"
     ]
    },
    {
     "name": "stdout",
     "output_type": "stream",
     "text": [
      "[LightGBM] [Warning] Auto-choosing col-wise multi-threading, the overhead of testing was 0.020792 seconds.\n",
      "You can set `force_col_wise=true` to remove the overhead.\n",
      "[LightGBM] [Info] Total Bins 29743\n",
      "[LightGBM] [Info] Number of data points in the train set: 26064, number of used features: 122\n",
      "[LightGBM] [Info] Start training from score 13.130955\n",
      "[1]\tvalid_0's rmse: 8.26745\n",
      "[2]\tvalid_0's rmse: 7.60074\n",
      "[3]\tvalid_0's rmse: 7.04487\n",
      "[4]\tvalid_0's rmse: 6.592\n",
      "[5]\tvalid_0's rmse: 6.18313\n",
      "[6]\tvalid_0's rmse: 5.83936\n",
      "[7]\tvalid_0's rmse: 5.503\n",
      "[8]\tvalid_0's rmse: 5.21941\n",
      "[9]\tvalid_0's rmse: 4.97996\n"
     ]
    },
    {
     "name": "stderr",
     "output_type": "stream",
     "text": [
      "\u001b[32m[I 2021-03-30 16:35:15,596]\u001b[0m Trial 19 pruned. Trial was pruned at iteration 10.\u001b[0m\n"
     ]
    },
    {
     "name": "stdout",
     "output_type": "stream",
     "text": [
      "[10]\tvalid_0's rmse: 4.7936\n",
      "[LightGBM] [Warning] Auto-choosing col-wise multi-threading, the overhead of testing was 0.017827 seconds.\n",
      "You can set `force_col_wise=true` to remove the overhead.\n",
      "[LightGBM] [Info] Total Bins 29743\n",
      "[LightGBM] [Info] Number of data points in the train set: 26064, number of used features: 122\n",
      "[LightGBM] [Info] Start training from score 13.130955\n",
      "[1]\tvalid_0's rmse: 8.23737\n",
      "[2]\tvalid_0's rmse: 7.57646\n",
      "[3]\tvalid_0's rmse: 7.00789\n",
      "[4]\tvalid_0's rmse: 6.53971\n",
      "[5]\tvalid_0's rmse: 6.13142\n",
      "[6]\tvalid_0's rmse: 5.76504\n",
      "[7]\tvalid_0's rmse: 5.4399\n",
      "[8]\tvalid_0's rmse: 5.1555\n",
      "[9]\tvalid_0's rmse: 4.92351\n"
     ]
    },
    {
     "name": "stderr",
     "output_type": "stream",
     "text": [
      "\u001b[32m[I 2021-03-30 16:35:16,201]\u001b[0m Trial 20 pruned. Trial was pruned at iteration 18.\u001b[0m\n"
     ]
    },
    {
     "name": "stdout",
     "output_type": "stream",
     "text": [
      "[10]\tvalid_0's rmse: 4.72796\n",
      "[11]\tvalid_0's rmse: 4.5786\n",
      "[12]\tvalid_0's rmse: 4.4416\n",
      "[13]\tvalid_0's rmse: 4.32227\n",
      "[14]\tvalid_0's rmse: 4.22974\n",
      "[15]\tvalid_0's rmse: 4.15716\n",
      "[16]\tvalid_0's rmse: 4.08899\n",
      "[17]\tvalid_0's rmse: 4.04133\n",
      "[18]\tvalid_0's rmse: 3.98887\n",
      "[LightGBM] [Warning] Auto-choosing col-wise multi-threading, the overhead of testing was 0.013811 seconds.\n",
      "You can set `force_col_wise=true` to remove the overhead.\n",
      "[LightGBM] [Info] Total Bins 29743\n",
      "[LightGBM] [Info] Number of data points in the train set: 26064, number of used features: 122\n",
      "[LightGBM] [Info] Start training from score 13.130955\n",
      "[1]\tvalid_0's rmse: 8.26371\n",
      "[2]\tvalid_0's rmse: 7.63005\n",
      "[3]\tvalid_0's rmse: 7.08147\n",
      "[4]\tvalid_0's rmse: 6.60634\n",
      "[5]\tvalid_0's rmse: 6.19408\n",
      "[6]\tvalid_0's rmse: 5.82461\n",
      "[7]\tvalid_0's rmse: 5.49686\n",
      "[8]\tvalid_0's rmse: 5.22494\n",
      "[9]\tvalid_0's rmse: 4.98798\n"
     ]
    },
    {
     "name": "stderr",
     "output_type": "stream",
     "text": [
      "\u001b[32m[I 2021-03-30 16:35:16,924]\u001b[0m Trial 21 pruned. Trial was pruned at iteration 10.\u001b[0m\n"
     ]
    },
    {
     "name": "stdout",
     "output_type": "stream",
     "text": [
      "[10]\tvalid_0's rmse: 4.80367\n",
      "[LightGBM] [Warning] Auto-choosing col-wise multi-threading, the overhead of testing was 0.020489 seconds.\n",
      "You can set `force_col_wise=true` to remove the overhead.\n",
      "[LightGBM] [Info] Total Bins 29743\n",
      "[LightGBM] [Info] Number of data points in the train set: 26064, number of used features: 122\n",
      "[LightGBM] [Info] Start training from score 13.130955\n",
      "[1]\tvalid_0's rmse: 8.27227\n",
      "[2]\tvalid_0's rmse: 7.62974\n",
      "[3]\tvalid_0's rmse: 7.07852\n",
      "[4]\tvalid_0's rmse: 6.59154\n",
      "[5]\tvalid_0's rmse: 6.14366\n",
      "[6]\tvalid_0's rmse: 5.78552\n",
      "[7]\tvalid_0's rmse: 5.45878\n",
      "[8]\tvalid_0's rmse: 5.20352\n",
      "[9]\tvalid_0's rmse: 4.9642\n",
      "[10]\tvalid_0's rmse: 4.77935\n"
     ]
    },
    {
     "name": "stderr",
     "output_type": "stream",
     "text": [
      "\u001b[32m[I 2021-03-30 16:35:17,654]\u001b[0m Trial 22 pruned. Trial was pruned at iteration 10.\u001b[0m\n"
     ]
    },
    {
     "name": "stdout",
     "output_type": "stream",
     "text": [
      "[LightGBM] [Warning] Auto-choosing col-wise multi-threading, the overhead of testing was 0.019477 seconds.\n",
      "You can set `force_col_wise=true` to remove the overhead.\n",
      "[LightGBM] [Info] Total Bins 29743\n",
      "[LightGBM] [Info] Number of data points in the train set: 26064, number of used features: 122\n",
      "[LightGBM] [Info] Start training from score 13.130955\n",
      "[1]\tvalid_0's rmse: 8.28641\n",
      "[2]\tvalid_0's rmse: 7.68411\n",
      "[3]\tvalid_0's rmse: 7.13666\n",
      "[4]\tvalid_0's rmse: 6.63822\n",
      "[5]\tvalid_0's rmse: 6.21181\n",
      "[6]\tvalid_0's rmse: 5.82407\n",
      "[7]\tvalid_0's rmse: 5.50945\n"
     ]
    },
    {
     "name": "stderr",
     "output_type": "stream",
     "text": [
      "\u001b[32m[I 2021-03-30 16:35:18,219]\u001b[0m Trial 23 pruned. Trial was pruned at iteration 10.\u001b[0m\n"
     ]
    },
    {
     "name": "stdout",
     "output_type": "stream",
     "text": [
      "[8]\tvalid_0's rmse: 5.21821\n",
      "[9]\tvalid_0's rmse: 4.97471\n",
      "[10]\tvalid_0's rmse: 4.78572\n",
      "[LightGBM] [Warning] Auto-choosing col-wise multi-threading, the overhead of testing was 0.020115 seconds.\n",
      "You can set `force_col_wise=true` to remove the overhead.\n",
      "[LightGBM] [Info] Total Bins 29743\n",
      "[LightGBM] [Info] Number of data points in the train set: 26064, number of used features: 122\n",
      "[LightGBM] [Info] Start training from score 13.130955\n",
      "[1]\tvalid_0's rmse: 8.26547\n",
      "[2]\tvalid_0's rmse: 7.62206\n",
      "[3]\tvalid_0's rmse: 7.07391\n",
      "[4]\tvalid_0's rmse: 6.59844\n"
     ]
    },
    {
     "name": "stderr",
     "output_type": "stream",
     "text": [
      "\u001b[32m[I 2021-03-30 16:35:18,883]\u001b[0m Trial 24 pruned. Trial was pruned at iteration 10.\u001b[0m\n"
     ]
    },
    {
     "name": "stdout",
     "output_type": "stream",
     "text": [
      "[5]\tvalid_0's rmse: 6.1843\n",
      "[6]\tvalid_0's rmse: 5.80507\n",
      "[7]\tvalid_0's rmse: 5.49149\n",
      "[8]\tvalid_0's rmse: 5.22714\n",
      "[9]\tvalid_0's rmse: 4.9936\n",
      "[10]\tvalid_0's rmse: 4.79515\n",
      "[LightGBM] [Warning] Auto-choosing col-wise multi-threading, the overhead of testing was 0.020284 seconds.\n",
      "You can set `force_col_wise=true` to remove the overhead.\n",
      "[LightGBM] [Info] Total Bins 29743\n",
      "[LightGBM] [Info] Number of data points in the train set: 26064, number of used features: 122\n",
      "[LightGBM] [Info] Start training from score 13.130955\n",
      "[1]\tvalid_0's rmse: 8.26562\n",
      "[2]\tvalid_0's rmse: 7.61966\n",
      "[3]\tvalid_0's rmse: 7.01157\n",
      "[4]\tvalid_0's rmse: 6.5211\n",
      "[5]\tvalid_0's rmse: 6.10734\n",
      "[6]\tvalid_0's rmse: 5.74118\n",
      "[7]\tvalid_0's rmse: 5.42009\n",
      "[8]\tvalid_0's rmse: 5.15735\n",
      "[9]\tvalid_0's rmse: 4.93921\n"
     ]
    },
    {
     "name": "stderr",
     "output_type": "stream",
     "text": [
      "\u001b[32m[I 2021-03-30 16:35:19,484]\u001b[0m Trial 25 pruned. Trial was pruned at iteration 18.\u001b[0m\n"
     ]
    },
    {
     "name": "stdout",
     "output_type": "stream",
     "text": [
      "[10]\tvalid_0's rmse: 4.753\n",
      "[11]\tvalid_0's rmse: 4.59975\n",
      "[12]\tvalid_0's rmse: 4.46342\n",
      "[13]\tvalid_0's rmse: 4.33124\n",
      "[14]\tvalid_0's rmse: 4.24361\n",
      "[15]\tvalid_0's rmse: 4.16211\n",
      "[16]\tvalid_0's rmse: 4.07593\n",
      "[17]\tvalid_0's rmse: 4.03352\n",
      "[18]\tvalid_0's rmse: 3.98669\n",
      "[LightGBM] [Warning] Auto-choosing col-wise multi-threading, the overhead of testing was 0.018324 seconds.\n",
      "You can set `force_col_wise=true` to remove the overhead.\n",
      "[LightGBM] [Info] Total Bins 29743\n",
      "[LightGBM] [Info] Number of data points in the train set: 26064, number of used features: 122\n",
      "[LightGBM] [Info] Start training from score 13.130955\n",
      "[1]\tvalid_0's rmse: 8.27136\n",
      "[2]\tvalid_0's rmse: 7.61086\n",
      "[LightGBM] [Warning] No further splits with positive gain, best gain: -inf\n",
      "[3]\tvalid_0's rmse: 7.04712\n",
      "[LightGBM] [Warning] No further splits with positive gain, best gain: -inf\n",
      "[4]\tvalid_0's rmse: 6.56388\n",
      "[5]\tvalid_0's rmse: 6.1093\n"
     ]
    },
    {
     "name": "stderr",
     "output_type": "stream",
     "text": [
      "\u001b[32m[I 2021-03-30 16:35:20,104]\u001b[0m Trial 26 pruned. Trial was pruned at iteration 10.\u001b[0m\n"
     ]
    },
    {
     "name": "stdout",
     "output_type": "stream",
     "text": [
      "[6]\tvalid_0's rmse: 5.75655\n",
      "[7]\tvalid_0's rmse: 5.45105\n",
      "[8]\tvalid_0's rmse: 5.19455\n",
      "[9]\tvalid_0's rmse: 4.95623\n",
      "[LightGBM] [Warning] No further splits with positive gain, best gain: -inf\n",
      "[10]\tvalid_0's rmse: 4.7778\n",
      "[LightGBM] [Warning] Auto-choosing col-wise multi-threading, the overhead of testing was 0.017867 seconds.\n",
      "You can set `force_col_wise=true` to remove the overhead.\n",
      "[LightGBM] [Info] Total Bins 29743\n",
      "[LightGBM] [Info] Number of data points in the train set: 26064, number of used features: 122\n",
      "[LightGBM] [Info] Start training from score 13.130955\n",
      "[1]\tvalid_0's rmse: 8.27363\n",
      "[2]\tvalid_0's rmse: 7.67598\n",
      "[3]\tvalid_0's rmse: 7.15037\n",
      "[4]\tvalid_0's rmse: 6.69049\n",
      "[5]\tvalid_0's rmse: 6.27623\n"
     ]
    },
    {
     "name": "stderr",
     "output_type": "stream",
     "text": [
      "\u001b[32m[I 2021-03-30 16:35:20,777]\u001b[0m Trial 27 pruned. Trial was pruned at iteration 10.\u001b[0m\n"
     ]
    },
    {
     "name": "stdout",
     "output_type": "stream",
     "text": [
      "[6]\tvalid_0's rmse: 5.89965\n",
      "[7]\tvalid_0's rmse: 5.55774\n",
      "[8]\tvalid_0's rmse: 5.25225\n",
      "[9]\tvalid_0's rmse: 5.01296\n",
      "[10]\tvalid_0's rmse: 4.80708\n",
      "[LightGBM] [Warning] Auto-choosing col-wise multi-threading, the overhead of testing was 0.016838 seconds.\n",
      "You can set `force_col_wise=true` to remove the overhead.\n",
      "[LightGBM] [Info] Total Bins 29743\n",
      "[LightGBM] [Info] Number of data points in the train set: 26064, number of used features: 122\n",
      "[LightGBM] [Info] Start training from score 13.130955\n",
      "[1]\tvalid_0's rmse: 8.26878\n",
      "[2]\tvalid_0's rmse: 7.61104\n",
      "[3]\tvalid_0's rmse: 7.05978\n",
      "[4]\tvalid_0's rmse: 6.58628\n",
      "[5]\tvalid_0's rmse: 6.18252\n",
      "[6]\tvalid_0's rmse: 5.80237\n",
      "[7]\tvalid_0's rmse: 5.49399\n",
      "[8]\tvalid_0's rmse: 5.18597\n",
      "[9]\tvalid_0's rmse: 4.94526\n",
      "[10]\tvalid_0's rmse: 4.74749\n",
      "[11]\tvalid_0's rmse: 4.58592\n",
      "[12]\tvalid_0's rmse: 4.44819\n",
      "[13]\tvalid_0's rmse: 4.32632\n",
      "[14]\tvalid_0's rmse: 4.23187\n",
      "[15]\tvalid_0's rmse: 4.15672\n",
      "[16]\tvalid_0's rmse: 4.09458\n"
     ]
    },
    {
     "name": "stderr",
     "output_type": "stream",
     "text": [
      "\u001b[32m[I 2021-03-30 16:35:21,612]\u001b[0m Trial 28 pruned. Trial was pruned at iteration 17.\u001b[0m\n"
     ]
    },
    {
     "name": "stdout",
     "output_type": "stream",
     "text": [
      "[17]\tvalid_0's rmse: 4.05029\n",
      "[LightGBM] [Warning] Auto-choosing col-wise multi-threading, the overhead of testing was 0.020263 seconds.\n",
      "You can set `force_col_wise=true` to remove the overhead.\n",
      "[LightGBM] [Info] Total Bins 29743\n",
      "[LightGBM] [Info] Number of data points in the train set: 26064, number of used features: 122\n",
      "[LightGBM] [Info] Start training from score 13.130955\n",
      "[1]\tvalid_0's rmse: 8.27438\n",
      "[2]\tvalid_0's rmse: 7.62935\n",
      "[3]\tvalid_0's rmse: 7.04382\n",
      "[4]\tvalid_0's rmse: 6.52913\n",
      "[5]\tvalid_0's rmse: 6.11113\n",
      "[6]\tvalid_0's rmse: 5.75645\n",
      "[7]\tvalid_0's rmse: 5.44393\n",
      "[8]\tvalid_0's rmse: 5.18642\n",
      "[9]\tvalid_0's rmse: 4.9501\n",
      "[10]\tvalid_0's rmse: 4.75006\n",
      "[11]\tvalid_0's rmse: 4.58102\n",
      "[12]\tvalid_0's rmse: 4.42816\n",
      "[13]\tvalid_0's rmse: 4.31399\n",
      "[14]\tvalid_0's rmse: 4.22067\n",
      "[15]\tvalid_0's rmse: 4.14438\n",
      "[16]\tvalid_0's rmse: 4.07653\n",
      "[17]\tvalid_0's rmse: 4.02363\n",
      "[18]\tvalid_0's rmse: 3.97882\n",
      "[19]\tvalid_0's rmse: 3.94489\n"
     ]
    },
    {
     "name": "stderr",
     "output_type": "stream",
     "text": [
      "\u001b[32m[I 2021-03-30 16:35:22,939]\u001b[0m Trial 29 pruned. Trial was pruned at iteration 22.\u001b[0m\n"
     ]
    },
    {
     "name": "stdout",
     "output_type": "stream",
     "text": [
      "[20]\tvalid_0's rmse: 3.92027\n",
      "[21]\tvalid_0's rmse: 3.8885\n",
      "[22]\tvalid_0's rmse: 3.8705\n",
      "[LightGBM] [Warning] Auto-choosing col-wise multi-threading, the overhead of testing was 0.021598 seconds.\n",
      "You can set `force_col_wise=true` to remove the overhead.\n",
      "[LightGBM] [Info] Total Bins 29743\n",
      "[LightGBM] [Info] Number of data points in the train set: 26064, number of used features: 122\n",
      "[LightGBM] [Info] Start training from score 13.130955\n",
      "[1]\tvalid_0's rmse: 8.29416\n",
      "[2]\tvalid_0's rmse: 7.68711\n",
      "[3]\tvalid_0's rmse: 7.14572\n",
      "[4]\tvalid_0's rmse: 6.64789\n",
      "[5]\tvalid_0's rmse: 6.21338\n",
      "[6]\tvalid_0's rmse: 5.85699\n",
      "[7]\tvalid_0's rmse: 5.52249\n",
      "[8]\tvalid_0's rmse: 5.22974\n"
     ]
    },
    {
     "name": "stderr",
     "output_type": "stream",
     "text": [
      "\u001b[32m[I 2021-03-30 16:35:23,434]\u001b[0m Trial 30 pruned. Trial was pruned at iteration 10.\u001b[0m\n"
     ]
    },
    {
     "name": "stdout",
     "output_type": "stream",
     "text": [
      "[9]\tvalid_0's rmse: 5.00665\n",
      "[10]\tvalid_0's rmse: 4.81411\n",
      "[LightGBM] [Warning] Auto-choosing col-wise multi-threading, the overhead of testing was 0.013582 seconds.\n",
      "You can set `force_col_wise=true` to remove the overhead.\n",
      "[LightGBM] [Info] Total Bins 29743\n",
      "[LightGBM] [Info] Number of data points in the train set: 26064, number of used features: 122\n",
      "[LightGBM] [Info] Start training from score 13.130955\n",
      "[LightGBM] [Warning] No further splits with positive gain, best gain: -inf\n",
      "[1]\tvalid_0's rmse: 8.30629\n",
      "[LightGBM] [Warning] No further splits with positive gain, best gain: -inf\n",
      "[2]\tvalid_0's rmse: 7.68991\n",
      "[LightGBM] [Warning] No further splits with positive gain, best gain: -inf\n",
      "[3]\tvalid_0's rmse: 7.15363\n",
      "[LightGBM] [Warning] No further splits with positive gain, best gain: -inf\n",
      "[4]\tvalid_0's rmse: 6.6805\n",
      "[5]\tvalid_0's rmse: 6.28119\n"
     ]
    },
    {
     "name": "stderr",
     "output_type": "stream",
     "text": [
      "\u001b[32m[I 2021-03-30 16:35:24,021]\u001b[0m Trial 31 pruned. Trial was pruned at iteration 10.\u001b[0m\n"
     ]
    },
    {
     "name": "stdout",
     "output_type": "stream",
     "text": [
      "[LightGBM] [Warning] No further splits with positive gain, best gain: -inf\n",
      "[6]\tvalid_0's rmse: 5.91253\n",
      "[7]\tvalid_0's rmse: 5.59522\n",
      "[LightGBM] [Warning] No further splits with positive gain, best gain: -inf\n",
      "[8]\tvalid_0's rmse: 5.31881\n",
      "[9]\tvalid_0's rmse: 5.07566\n",
      "[10]\tvalid_0's rmse: 4.87504\n",
      "[LightGBM] [Warning] Auto-choosing col-wise multi-threading, the overhead of testing was 0.015256 seconds.\n",
      "You can set `force_col_wise=true` to remove the overhead.\n",
      "[LightGBM] [Info] Total Bins 29743\n",
      "[LightGBM] [Info] Number of data points in the train set: 26064, number of used features: 122\n",
      "[LightGBM] [Info] Start training from score 13.130955\n",
      "[1]\tvalid_0's rmse: 8.25284\n",
      "[2]\tvalid_0's rmse: 7.60556\n",
      "[3]\tvalid_0's rmse: 7.03783\n",
      "[4]\tvalid_0's rmse: 6.54294\n",
      "[5]\tvalid_0's rmse: 6.12592\n",
      "[6]\tvalid_0's rmse: 5.76686\n",
      "[7]\tvalid_0's rmse: 5.44041\n",
      "[8]\tvalid_0's rmse: 5.18053\n",
      "[9]\tvalid_0's rmse: 4.94409\n",
      "[10]\tvalid_0's rmse: 4.74128\n",
      "[11]\tvalid_0's rmse: 4.5798\n",
      "[12]\tvalid_0's rmse: 4.43768\n",
      "[13]\tvalid_0's rmse: 4.31293\n",
      "[14]\tvalid_0's rmse: 4.21969\n",
      "[15]\tvalid_0's rmse: 4.14128\n",
      "[16]\tvalid_0's rmse: 4.08149\n",
      "[17]\tvalid_0's rmse: 4.01811\n",
      "[18]\tvalid_0's rmse: 3.98189\n",
      "[19]\tvalid_0's rmse: 3.941\n"
     ]
    },
    {
     "name": "stderr",
     "output_type": "stream",
     "text": [
      "\u001b[32m[I 2021-03-30 16:35:25,019]\u001b[0m Trial 32 pruned. Trial was pruned at iteration 23.\u001b[0m\n"
     ]
    },
    {
     "name": "stdout",
     "output_type": "stream",
     "text": [
      "[20]\tvalid_0's rmse: 3.91206\n",
      "[21]\tvalid_0's rmse: 3.87867\n",
      "[22]\tvalid_0's rmse: 3.85446\n",
      "[23]\tvalid_0's rmse: 3.84684\n",
      "[LightGBM] [Warning] Auto-choosing col-wise multi-threading, the overhead of testing was 0.019224 seconds.\n",
      "You can set `force_col_wise=true` to remove the overhead.\n",
      "[LightGBM] [Info] Total Bins 29743\n",
      "[LightGBM] [Info] Number of data points in the train set: 26064, number of used features: 122\n",
      "[LightGBM] [Info] Start training from score 13.130955\n",
      "[1]\tvalid_0's rmse: 8.26199\n",
      "[2]\tvalid_0's rmse: 7.61814\n",
      "[3]\tvalid_0's rmse: 7.06306\n",
      "[4]\tvalid_0's rmse: 6.56548\n",
      "[5]\tvalid_0's rmse: 6.14236\n",
      "[6]\tvalid_0's rmse: 5.77126\n",
      "[7]\tvalid_0's rmse: 5.46216\n",
      "[8]\tvalid_0's rmse: 5.16133\n",
      "[9]\tvalid_0's rmse: 4.9157\n",
      "[10]\tvalid_0's rmse: 4.71381\n",
      "[11]\tvalid_0's rmse: 4.55715\n",
      "[12]\tvalid_0's rmse: 4.41743\n",
      "[13]\tvalid_0's rmse: 4.29896\n",
      "[14]\tvalid_0's rmse: 4.20162\n",
      "[15]\tvalid_0's rmse: 4.12521\n",
      "[16]\tvalid_0's rmse: 4.06115\n",
      "[17]\tvalid_0's rmse: 4.00943\n",
      "[18]\tvalid_0's rmse: 3.95528\n",
      "[19]\tvalid_0's rmse: 3.92536\n",
      "[20]\tvalid_0's rmse: 3.90012\n",
      "[21]\tvalid_0's rmse: 3.87883\n",
      "[22]\tvalid_0's rmse: 3.87404\n"
     ]
    },
    {
     "name": "stderr",
     "output_type": "stream",
     "text": [
      "\u001b[32m[I 2021-03-30 16:35:26,037]\u001b[0m Trial 33 pruned. Trial was pruned at iteration 23.\u001b[0m\n"
     ]
    },
    {
     "name": "stdout",
     "output_type": "stream",
     "text": [
      "[23]\tvalid_0's rmse: 3.85572\n",
      "[LightGBM] [Warning] Auto-choosing col-wise multi-threading, the overhead of testing was 0.020936 seconds.\n",
      "You can set `force_col_wise=true` to remove the overhead.\n",
      "[LightGBM] [Info] Total Bins 29743\n",
      "[LightGBM] [Info] Number of data points in the train set: 26064, number of used features: 122\n",
      "[LightGBM] [Info] Start training from score 13.130955\n",
      "[1]\tvalid_0's rmse: 8.2284\n",
      "[2]\tvalid_0's rmse: 7.59711\n",
      "[3]\tvalid_0's rmse: 7.06035\n",
      "[4]\tvalid_0's rmse: 6.56396\n",
      "[5]\tvalid_0's rmse: 6.13694\n",
      "[6]\tvalid_0's rmse: 5.76892\n",
      "[7]\tvalid_0's rmse: 5.43883\n",
      "[8]\tvalid_0's rmse: 5.16693\n",
      "[9]\tvalid_0's rmse: 4.92786\n",
      "[10]\tvalid_0's rmse: 4.72899\n",
      "[11]\tvalid_0's rmse: 4.56455\n",
      "[12]\tvalid_0's rmse: 4.43008\n",
      "[13]\tvalid_0's rmse: 4.30444\n",
      "[14]\tvalid_0's rmse: 4.20328\n",
      "[15]\tvalid_0's rmse: 4.1304\n",
      "[16]\tvalid_0's rmse: 4.0673\n",
      "[17]\tvalid_0's rmse: 4.0121\n",
      "[18]\tvalid_0's rmse: 3.95913\n",
      "[19]\tvalid_0's rmse: 3.92516\n"
     ]
    },
    {
     "name": "stderr",
     "output_type": "stream",
     "text": [
      "\u001b[32m[I 2021-03-30 16:35:27,256]\u001b[0m Trial 34 pruned. Trial was pruned at iteration 20.\u001b[0m\n"
     ]
    },
    {
     "name": "stdout",
     "output_type": "stream",
     "text": [
      "[20]\tvalid_0's rmse: 3.92548\n",
      "[LightGBM] [Warning] Auto-choosing col-wise multi-threading, the overhead of testing was 0.019326 seconds.\n",
      "You can set `force_col_wise=true` to remove the overhead.\n",
      "[LightGBM] [Info] Total Bins 29743\n",
      "[LightGBM] [Info] Number of data points in the train set: 26064, number of used features: 122\n",
      "[LightGBM] [Info] Start training from score 13.130955\n",
      "[1]\tvalid_0's rmse: 8.26273\n",
      "[2]\tvalid_0's rmse: 7.61696\n",
      "[3]\tvalid_0's rmse: 7.06479\n",
      "[4]\tvalid_0's rmse: 6.59322\n",
      "[5]\tvalid_0's rmse: 6.16523\n",
      "[6]\tvalid_0's rmse: 5.77303\n",
      "[7]\tvalid_0's rmse: 5.46225\n",
      "[8]\tvalid_0's rmse: 5.20759\n",
      "[9]\tvalid_0's rmse: 4.95858\n",
      "[10]\tvalid_0's rmse: 4.77012\n"
     ]
    },
    {
     "name": "stderr",
     "output_type": "stream",
     "text": [
      "\u001b[32m[I 2021-03-30 16:35:27,987]\u001b[0m Trial 35 pruned. Trial was pruned at iteration 10.\u001b[0m\n"
     ]
    },
    {
     "name": "stdout",
     "output_type": "stream",
     "text": [
      "[LightGBM] [Warning] Auto-choosing col-wise multi-threading, the overhead of testing was 0.019564 seconds.\n",
      "You can set `force_col_wise=true` to remove the overhead.\n",
      "[LightGBM] [Info] Total Bins 29743\n",
      "[LightGBM] [Info] Number of data points in the train set: 26064, number of used features: 122\n",
      "[LightGBM] [Info] Start training from score 13.130955\n",
      "[1]\tvalid_0's rmse: 8.24012\n",
      "[2]\tvalid_0's rmse: 7.58482\n",
      "[3]\tvalid_0's rmse: 7.00696\n",
      "[4]\tvalid_0's rmse: 6.50883\n",
      "[5]\tvalid_0's rmse: 6.08494\n",
      "[6]\tvalid_0's rmse: 5.72913\n",
      "[7]\tvalid_0's rmse: 5.41007\n",
      "[8]\tvalid_0's rmse: 5.14496\n",
      "[9]\tvalid_0's rmse: 4.91555\n",
      "[10]\tvalid_0's rmse: 4.73179\n",
      "[11]\tvalid_0's rmse: 4.57303\n",
      "[12]\tvalid_0's rmse: 4.44989\n",
      "[13]\tvalid_0's rmse: 4.3405\n",
      "[14]\tvalid_0's rmse: 4.24864\n"
     ]
    },
    {
     "name": "stderr",
     "output_type": "stream",
     "text": [
      "\u001b[32m[I 2021-03-30 16:35:29,143]\u001b[0m Trial 36 pruned. Trial was pruned at iteration 14.\u001b[0m\n"
     ]
    },
    {
     "name": "stdout",
     "output_type": "stream",
     "text": [
      "[LightGBM] [Warning] Auto-choosing col-wise multi-threading, the overhead of testing was 0.017997 seconds.\n",
      "You can set `force_col_wise=true` to remove the overhead.\n",
      "[LightGBM] [Info] Total Bins 29743\n",
      "[LightGBM] [Info] Number of data points in the train set: 26064, number of used features: 122\n",
      "[LightGBM] [Info] Start training from score 13.130955\n",
      "[1]\tvalid_0's rmse: 8.24219\n",
      "[2]\tvalid_0's rmse: 7.6002\n",
      "[3]\tvalid_0's rmse: 7.05851\n",
      "[4]\tvalid_0's rmse: 6.56447\n",
      "[5]\tvalid_0's rmse: 6.14023\n",
      "[6]\tvalid_0's rmse: 5.74198\n",
      "[7]\tvalid_0's rmse: 5.40628\n",
      "[8]\tvalid_0's rmse: 5.1228\n",
      "[9]\tvalid_0's rmse: 4.88739\n",
      "[10]\tvalid_0's rmse: 4.68807\n",
      "[11]\tvalid_0's rmse: 4.52776\n",
      "[12]\tvalid_0's rmse: 4.39643\n",
      "[13]\tvalid_0's rmse: 4.27078\n",
      "[14]\tvalid_0's rmse: 4.18244\n",
      "[15]\tvalid_0's rmse: 4.11497\n",
      "[16]\tvalid_0's rmse: 4.05947\n",
      "[17]\tvalid_0's rmse: 3.98285\n",
      "[18]\tvalid_0's rmse: 3.91837\n",
      "[19]\tvalid_0's rmse: 3.86724\n",
      "[20]\tvalid_0's rmse: 3.84198\n",
      "[21]\tvalid_0's rmse: 3.82375\n",
      "[22]\tvalid_0's rmse: 3.80813\n",
      "[23]\tvalid_0's rmse: 3.80169\n",
      "[24]\tvalid_0's rmse: 3.79577\n",
      "[25]\tvalid_0's rmse: 3.78765\n",
      "[26]\tvalid_0's rmse: 3.76541\n",
      "[27]\tvalid_0's rmse: 3.76336\n",
      "[28]\tvalid_0's rmse: 3.75968\n",
      "[29]\tvalid_0's rmse: 3.76999\n",
      "[30]\tvalid_0's rmse: 3.77483\n",
      "[31]\tvalid_0's rmse: 3.77044\n",
      "[32]\tvalid_0's rmse: 3.76335\n",
      "[33]\tvalid_0's rmse: 3.74568\n",
      "[34]\tvalid_0's rmse: 3.75339\n",
      "[35]\tvalid_0's rmse: 3.7504\n",
      "[36]\tvalid_0's rmse: 3.75082\n",
      "[37]\tvalid_0's rmse: 3.74558\n",
      "[38]\tvalid_0's rmse: 3.7509\n",
      "[39]\tvalid_0's rmse: 3.76099\n",
      "[40]\tvalid_0's rmse: 3.76332\n",
      "[41]\tvalid_0's rmse: 3.75281\n",
      "[42]\tvalid_0's rmse: 3.74743\n",
      "[43]\tvalid_0's rmse: 3.74357\n",
      "[44]\tvalid_0's rmse: 3.74691\n",
      "[45]\tvalid_0's rmse: 3.74568\n",
      "[46]\tvalid_0's rmse: 3.73887\n",
      "[47]\tvalid_0's rmse: 3.73151\n",
      "[48]\tvalid_0's rmse: 3.73181\n",
      "[49]\tvalid_0's rmse: 3.72776\n",
      "[50]\tvalid_0's rmse: 3.72833\n",
      "[51]\tvalid_0's rmse: 3.7233\n",
      "[52]\tvalid_0's rmse: 3.72639\n",
      "[53]\tvalid_0's rmse: 3.72561\n",
      "[54]\tvalid_0's rmse: 3.72256\n",
      "[55]\tvalid_0's rmse: 3.72188\n",
      "[56]\tvalid_0's rmse: 3.72388\n",
      "[57]\tvalid_0's rmse: 3.72379\n",
      "[58]\tvalid_0's rmse: 3.72455\n",
      "[59]\tvalid_0's rmse: 3.72624\n",
      "[60]\tvalid_0's rmse: 3.73183\n",
      "[61]\tvalid_0's rmse: 3.73392\n",
      "[62]\tvalid_0's rmse: 3.73101\n",
      "[63]\tvalid_0's rmse: 3.72955\n",
      "[64]\tvalid_0's rmse: 3.73438\n",
      "[65]\tvalid_0's rmse: 3.7411\n",
      "[66]\tvalid_0's rmse: 3.73941\n",
      "[67]\tvalid_0's rmse: 3.73634\n",
      "[68]\tvalid_0's rmse: 3.73624\n",
      "[69]\tvalid_0's rmse: 3.73929\n",
      "[70]\tvalid_0's rmse: 3.73865\n",
      "[71]\tvalid_0's rmse: 3.74647\n",
      "[72]\tvalid_0's rmse: 3.74754\n",
      "[73]\tvalid_0's rmse: 3.74912\n",
      "[74]\tvalid_0's rmse: 3.75199\n",
      "[75]\tvalid_0's rmse: 3.7558\n",
      "[76]\tvalid_0's rmse: 3.75314\n",
      "[77]\tvalid_0's rmse: 3.75187\n",
      "[78]\tvalid_0's rmse: 3.75069\n",
      "[79]\tvalid_0's rmse: 3.74981\n",
      "[80]\tvalid_0's rmse: 3.74697\n",
      "[81]\tvalid_0's rmse: 3.74046\n",
      "[82]\tvalid_0's rmse: 3.7392\n",
      "[83]\tvalid_0's rmse: 3.7362\n",
      "[84]\tvalid_0's rmse: 3.74008\n",
      "[85]\tvalid_0's rmse: 3.74171\n",
      "[86]\tvalid_0's rmse: 3.74461\n",
      "[87]\tvalid_0's rmse: 3.7472\n",
      "[88]\tvalid_0's rmse: 3.75809\n",
      "[89]\tvalid_0's rmse: 3.75758\n",
      "[90]\tvalid_0's rmse: 3.75814\n",
      "[91]\tvalid_0's rmse: 3.75808\n",
      "[92]\tvalid_0's rmse: 3.7581\n",
      "[93]\tvalid_0's rmse: 3.7594\n",
      "[94]\tvalid_0's rmse: 3.76243\n",
      "[95]\tvalid_0's rmse: 3.76433\n",
      "[96]\tvalid_0's rmse: 3.7709\n",
      "[97]\tvalid_0's rmse: 3.77407\n",
      "[98]\tvalid_0's rmse: 3.78243\n",
      "[99]\tvalid_0's rmse: 3.78471\n",
      "[100]\tvalid_0's rmse: 3.78392\n"
     ]
    },
    {
     "name": "stderr",
     "output_type": "stream",
     "text": [
      "\u001b[32m[I 2021-03-30 16:35:31,231]\u001b[0m Trial 37 finished with value: 3.783923769377924 and parameters: {'lambda_l1': 0.00037606666216521176, 'lambda_l2': 3.521374436256223e-05, 'num_leaves': 97, 'feature_fraction': 0.5984259056834507, 'bagging_fraction': 0.6953795437014255, 'bagging_freq': 5, 'min_child_samples': 23}. Best is trial 1 with value: 3.6873052290026758.\u001b[0m\n",
      "C:\\Anaconda\\lib\\site-packages\\lightgbm\\basic.py:1702: UserWarning: Using categorical_feature in Dataset.\n",
      "  _log_warning('Using categorical_feature in Dataset.')\n"
     ]
    },
    {
     "name": "stdout",
     "output_type": "stream",
     "text": [
      "[LightGBM] [Warning] Auto-choosing col-wise multi-threading, the overhead of testing was 0.018797 seconds.\n",
      "You can set `force_col_wise=true` to remove the overhead.\n",
      "[LightGBM] [Info] Total Bins 29743\n",
      "[LightGBM] [Info] Number of data points in the train set: 26064, number of used features: 122\n",
      "[LightGBM] [Info] Start training from score 13.130955\n",
      "[1]\tvalid_0's rmse: 8.2555\n",
      "[2]\tvalid_0's rmse: 7.61122\n",
      "[3]\tvalid_0's rmse: 7.071\n",
      "[4]\tvalid_0's rmse: 6.58274\n",
      "[5]\tvalid_0's rmse: 6.16903\n",
      "[6]\tvalid_0's rmse: 5.76789\n",
      "[7]\tvalid_0's rmse: 5.43185\n",
      "[8]\tvalid_0's rmse: 5.15156\n"
     ]
    },
    {
     "name": "stderr",
     "output_type": "stream",
     "text": [
      "C:\\Anaconda\\lib\\site-packages\\lightgbm\\basic.py:1433: UserWarning: Overriding the parameters from Reference Dataset.\n",
      "  _log_warning('Overriding the parameters from Reference Dataset.')\n",
      "C:\\Anaconda\\lib\\site-packages\\lightgbm\\basic.py:1245: UserWarning: categorical_column in param dict is overridden.\n",
      "  _log_warning('{} in param dict is overridden.'.format(cat_alias))\n",
      "\u001b[32m[I 2021-03-30 16:35:31,898]\u001b[0m Trial 38 pruned. Trial was pruned at iteration 18.\u001b[0m\n"
     ]
    },
    {
     "name": "stdout",
     "output_type": "stream",
     "text": [
      "[9]\tvalid_0's rmse: 4.89333\n",
      "[10]\tvalid_0's rmse: 4.69874\n",
      "[11]\tvalid_0's rmse: 4.5309\n",
      "[12]\tvalid_0's rmse: 4.38845\n",
      "[13]\tvalid_0's rmse: 4.27493\n",
      "[14]\tvalid_0's rmse: 4.18779\n",
      "[15]\tvalid_0's rmse: 4.117\n",
      "[16]\tvalid_0's rmse: 4.0483\n",
      "[17]\tvalid_0's rmse: 3.9961\n",
      "[18]\tvalid_0's rmse: 3.96886\n"
     ]
    },
    {
     "name": "stderr",
     "output_type": "stream",
     "text": [
      "\u001b[32m[I 2021-03-30 16:35:32,306]\u001b[0m Trial 39 pruned. Trial was pruned at iteration 10.\u001b[0m\n"
     ]
    },
    {
     "name": "stdout",
     "output_type": "stream",
     "text": [
      "[LightGBM] [Warning] Auto-choosing col-wise multi-threading, the overhead of testing was 0.018546 seconds.\n",
      "You can set `force_col_wise=true` to remove the overhead.\n",
      "[LightGBM] [Info] Total Bins 29743\n",
      "[LightGBM] [Info] Number of data points in the train set: 26064, number of used features: 122\n",
      "[LightGBM] [Info] Start training from score 13.130955\n",
      "[1]\tvalid_0's rmse: 8.27414\n",
      "[2]\tvalid_0's rmse: 7.64341\n",
      "[3]\tvalid_0's rmse: 7.11747\n",
      "[4]\tvalid_0's rmse: 6.66163\n",
      "[5]\tvalid_0's rmse: 6.27343\n",
      "[6]\tvalid_0's rmse: 5.92642\n",
      "[7]\tvalid_0's rmse: 5.63166\n",
      "[8]\tvalid_0's rmse: 5.35911\n",
      "[9]\tvalid_0's rmse: 5.12217\n",
      "[10]\tvalid_0's rmse: 4.91911\n"
     ]
    },
    {
     "name": "stderr",
     "output_type": "stream",
     "text": [
      "\u001b[32m[I 2021-03-30 16:35:32,708]\u001b[0m Trial 40 pruned. Trial was pruned at iteration 10.\u001b[0m\n"
     ]
    },
    {
     "name": "stdout",
     "output_type": "stream",
     "text": [
      "[LightGBM] [Warning] Auto-choosing col-wise multi-threading, the overhead of testing was 0.016489 seconds.\n",
      "You can set `force_col_wise=true` to remove the overhead.\n",
      "[LightGBM] [Info] Total Bins 29743\n",
      "[LightGBM] [Info] Number of data points in the train set: 26064, number of used features: 122\n",
      "[LightGBM] [Info] Start training from score 13.130955\n",
      "[1]\tvalid_0's rmse: 8.27619\n",
      "[2]\tvalid_0's rmse: 7.65219\n",
      "[3]\tvalid_0's rmse: 7.08798\n",
      "[4]\tvalid_0's rmse: 6.57419\n",
      "[5]\tvalid_0's rmse: 6.18227\n",
      "[6]\tvalid_0's rmse: 5.79181\n",
      "[7]\tvalid_0's rmse: 5.49964\n",
      "[8]\tvalid_0's rmse: 5.24311\n",
      "[9]\tvalid_0's rmse: 5.02168\n",
      "[10]\tvalid_0's rmse: 4.82771\n",
      "[LightGBM] [Warning] Auto-choosing col-wise multi-threading, the overhead of testing was 0.017771 seconds.\n",
      "You can set `force_col_wise=true` to remove the overhead.\n",
      "[LightGBM] [Info] Total Bins 29743\n",
      "[LightGBM] [Info] Number of data points in the train set: 26064, number of used features: 122\n",
      "[LightGBM] [Info] Start training from score 13.130955\n",
      "[1]\tvalid_0's rmse: 8.26637\n",
      "[2]\tvalid_0's rmse: 7.62319\n",
      "[3]\tvalid_0's rmse: 7.0497\n",
      "[4]\tvalid_0's rmse: 6.58224\n",
      "[5]\tvalid_0's rmse: 6.16982\n",
      "[6]\tvalid_0's rmse: 5.78517\n",
      "[7]\tvalid_0's rmse: 5.45376\n",
      "[8]\tvalid_0's rmse: 5.17993\n",
      "[9]\tvalid_0's rmse: 4.91834\n",
      "[10]\tvalid_0's rmse: 4.69979\n",
      "[11]\tvalid_0's rmse: 4.5433\n",
      "[12]\tvalid_0's rmse: 4.41066\n",
      "[13]\tvalid_0's rmse: 4.30374\n",
      "[14]\tvalid_0's rmse: 4.21003\n",
      "[15]\tvalid_0's rmse: 4.13173\n",
      "[16]\tvalid_0's rmse: 4.05255\n",
      "[17]\tvalid_0's rmse: 3.9864\n",
      "[18]\tvalid_0's rmse: 3.95655\n",
      "[19]\tvalid_0's rmse: 3.9329\n",
      "[20]\tvalid_0's rmse: 3.9081\n",
      "[21]\tvalid_0's rmse: 3.8664\n",
      "[22]\tvalid_0's rmse: 3.83025\n",
      "[23]\tvalid_0's rmse: 3.81683\n",
      "[24]\tvalid_0's rmse: 3.79929\n",
      "[25]\tvalid_0's rmse: 3.79611\n",
      "[26]\tvalid_0's rmse: 3.77835\n",
      "[27]\tvalid_0's rmse: 3.77055\n",
      "[28]\tvalid_0's rmse: 3.75106\n",
      "[29]\tvalid_0's rmse: 3.74305\n",
      "[30]\tvalid_0's rmse: 3.73452\n",
      "[31]\tvalid_0's rmse: 3.74236\n",
      "[32]\tvalid_0's rmse: 3.73117\n",
      "[33]\tvalid_0's rmse: 3.73876\n",
      "[34]\tvalid_0's rmse: 3.7458\n",
      "[35]\tvalid_0's rmse: 3.74316\n",
      "[36]\tvalid_0's rmse: 3.72904\n",
      "[37]\tvalid_0's rmse: 3.72201\n",
      "[38]\tvalid_0's rmse: 3.72312\n",
      "[39]\tvalid_0's rmse: 3.71771\n",
      "[40]\tvalid_0's rmse: 3.72407\n",
      "[41]\tvalid_0's rmse: 3.72768\n",
      "[42]\tvalid_0's rmse: 3.73042\n",
      "[43]\tvalid_0's rmse: 3.73276\n",
      "[44]\tvalid_0's rmse: 3.73017\n",
      "[45]\tvalid_0's rmse: 3.73055\n",
      "[46]\tvalid_0's rmse: 3.72765\n",
      "[47]\tvalid_0's rmse: 3.72507\n",
      "[48]\tvalid_0's rmse: 3.7251\n",
      "[49]\tvalid_0's rmse: 3.72584\n",
      "[50]\tvalid_0's rmse: 3.7287\n",
      "[51]\tvalid_0's rmse: 3.73563\n",
      "[52]\tvalid_0's rmse: 3.73448\n",
      "[53]\tvalid_0's rmse: 3.72881\n",
      "[54]\tvalid_0's rmse: 3.72694\n",
      "[55]\tvalid_0's rmse: 3.72874\n",
      "[56]\tvalid_0's rmse: 3.7272\n",
      "[57]\tvalid_0's rmse: 3.72735\n",
      "[58]\tvalid_0's rmse: 3.73102\n",
      "[59]\tvalid_0's rmse: 3.72808\n",
      "[60]\tvalid_0's rmse: 3.7274\n",
      "[61]\tvalid_0's rmse: 3.72833\n",
      "[62]\tvalid_0's rmse: 3.73247\n",
      "[63]\tvalid_0's rmse: 3.73136\n",
      "[64]\tvalid_0's rmse: 3.73303\n",
      "[65]\tvalid_0's rmse: 3.73406\n",
      "[66]\tvalid_0's rmse: 3.73445\n",
      "[67]\tvalid_0's rmse: 3.7342\n",
      "[68]\tvalid_0's rmse: 3.73271\n",
      "[69]\tvalid_0's rmse: 3.73506\n",
      "[70]\tvalid_0's rmse: 3.73733\n",
      "[71]\tvalid_0's rmse: 3.739\n",
      "[72]\tvalid_0's rmse: 3.73959\n",
      "[73]\tvalid_0's rmse: 3.73802\n",
      "[74]\tvalid_0's rmse: 3.73718\n",
      "[75]\tvalid_0's rmse: 3.73738\n",
      "[76]\tvalid_0's rmse: 3.73668\n",
      "[77]\tvalid_0's rmse: 3.73291\n",
      "[78]\tvalid_0's rmse: 3.73421\n",
      "[79]\tvalid_0's rmse: 3.73503\n",
      "[80]\tvalid_0's rmse: 3.73902\n",
      "[81]\tvalid_0's rmse: 3.73896\n",
      "[82]\tvalid_0's rmse: 3.73787\n",
      "[83]\tvalid_0's rmse: 3.73874\n",
      "[84]\tvalid_0's rmse: 3.73905\n",
      "[85]\tvalid_0's rmse: 3.73962\n",
      "[86]\tvalid_0's rmse: 3.74314\n",
      "[87]\tvalid_0's rmse: 3.74829\n",
      "[88]\tvalid_0's rmse: 3.74891\n",
      "[89]\tvalid_0's rmse: 3.74992\n",
      "[90]\tvalid_0's rmse: 3.75051\n",
      "[91]\tvalid_0's rmse: 3.75226\n",
      "[92]\tvalid_0's rmse: 3.75274\n",
      "[93]\tvalid_0's rmse: 3.7537\n",
      "[94]\tvalid_0's rmse: 3.7536\n",
      "[95]\tvalid_0's rmse: 3.75401\n",
      "[96]\tvalid_0's rmse: 3.75731\n",
      "[97]\tvalid_0's rmse: 3.76086\n",
      "[98]\tvalid_0's rmse: 3.76099\n",
      "[99]\tvalid_0's rmse: 3.76194\n",
      "[100]\tvalid_0's rmse: 3.76268\n"
     ]
    },
    {
     "name": "stderr",
     "output_type": "stream",
     "text": [
      "\u001b[32m[I 2021-03-30 16:35:34,800]\u001b[0m Trial 41 finished with value: 3.7626802434445183 and parameters: {'lambda_l1': 0.00011755234718002087, 'lambda_l2': 2.3755253622494377e-05, 'num_leaves': 110, 'feature_fraction': 0.5200492289943057, 'bagging_fraction': 0.8232086162391955, 'bagging_freq': 4, 'min_child_samples': 9}. Best is trial 1 with value: 3.6873052290026758.\u001b[0m\n",
      "C:\\Anaconda\\lib\\site-packages\\lightgbm\\basic.py:1702: UserWarning: Using categorical_feature in Dataset.\n",
      "  _log_warning('Using categorical_feature in Dataset.')\n"
     ]
    },
    {
     "name": "stdout",
     "output_type": "stream",
     "text": [
      "[LightGBM] [Warning] Auto-choosing col-wise multi-threading, the overhead of testing was 0.014750 seconds.\n",
      "You can set `force_col_wise=true` to remove the overhead.\n",
      "[LightGBM] [Info] Total Bins 29743\n",
      "[LightGBM] [Info] Number of data points in the train set: 26064, number of used features: 122\n",
      "[LightGBM] [Info] Start training from score 13.130955\n",
      "[1]\tvalid_0's rmse: 8.25656\n",
      "[2]\tvalid_0's rmse: 7.61266\n",
      "[3]\tvalid_0's rmse: 7.07309\n",
      "[4]\tvalid_0's rmse: 6.60147\n",
      "[5]\tvalid_0's rmse: 6.19226\n",
      "[6]\tvalid_0's rmse: 5.792\n",
      "[7]\tvalid_0's rmse: 5.4599\n"
     ]
    },
    {
     "name": "stderr",
     "output_type": "stream",
     "text": [
      "C:\\Anaconda\\lib\\site-packages\\lightgbm\\basic.py:1433: UserWarning: Overriding the parameters from Reference Dataset.\n",
      "  _log_warning('Overriding the parameters from Reference Dataset.')\n",
      "C:\\Anaconda\\lib\\site-packages\\lightgbm\\basic.py:1245: UserWarning: categorical_column in param dict is overridden.\n",
      "  _log_warning('{} in param dict is overridden.'.format(cat_alias))\n",
      "\u001b[32m[I 2021-03-30 16:35:35,394]\u001b[0m Trial 42 pruned. Trial was pruned at iteration 12.\u001b[0m\n"
     ]
    },
    {
     "name": "stdout",
     "output_type": "stream",
     "text": [
      "[8]\tvalid_0's rmse: 5.18876\n",
      "[9]\tvalid_0's rmse: 4.93349\n",
      "[10]\tvalid_0's rmse: 4.72291\n",
      "[11]\tvalid_0's rmse: 4.55935\n",
      "[12]\tvalid_0's rmse: 4.42752\n",
      "[LightGBM] [Warning] Auto-choosing col-wise multi-threading, the overhead of testing was 0.012372 seconds.\n",
      "You can set `force_col_wise=true` to remove the overhead.\n",
      "[LightGBM] [Info] Total Bins 29743\n",
      "[LightGBM] [Info] Number of data points in the train set: 26064, number of used features: 122\n",
      "[LightGBM] [Info] Start training from score 13.130955\n",
      "[1]\tvalid_0's rmse: 8.25879\n",
      "[2]\tvalid_0's rmse: 7.60206\n",
      "[3]\tvalid_0's rmse: 7.05318\n",
      "[4]\tvalid_0's rmse: 6.58073\n",
      "[5]\tvalid_0's rmse: 6.15918\n",
      "[6]\tvalid_0's rmse: 5.77943\n"
     ]
    },
    {
     "name": "stderr",
     "output_type": "stream",
     "text": [
      "\u001b[32m[I 2021-03-30 16:35:35,947]\u001b[0m Trial 43 pruned. Trial was pruned at iteration 10.\u001b[0m\n"
     ]
    },
    {
     "name": "stdout",
     "output_type": "stream",
     "text": [
      "[7]\tvalid_0's rmse: 5.46695\n",
      "[8]\tvalid_0's rmse: 5.20039\n",
      "[9]\tvalid_0's rmse: 4.96004\n",
      "[10]\tvalid_0's rmse: 4.7603\n",
      "[LightGBM] [Warning] Auto-choosing col-wise multi-threading, the overhead of testing was 0.012807 seconds.\n",
      "You can set `force_col_wise=true` to remove the overhead.\n",
      "[LightGBM] [Info] Total Bins 29743\n",
      "[LightGBM] [Info] Number of data points in the train set: 26064, number of used features: 122\n",
      "[LightGBM] [Info] Start training from score 13.130955\n",
      "[1]\tvalid_0's rmse: 8.25442\n",
      "[2]\tvalid_0's rmse: 7.60552\n",
      "[3]\tvalid_0's rmse: 7.0555\n",
      "[4]\tvalid_0's rmse: 6.56418\n",
      "[5]\tvalid_0's rmse: 6.14454\n",
      "[6]\tvalid_0's rmse: 5.74126\n",
      "[7]\tvalid_0's rmse: 5.43204\n",
      "[8]\tvalid_0's rmse: 5.14682\n",
      "[9]\tvalid_0's rmse: 4.90564\n",
      "[10]\tvalid_0's rmse: 4.7047\n",
      "[11]\tvalid_0's rmse: 4.55281\n",
      "[12]\tvalid_0's rmse: 4.40142\n",
      "[13]\tvalid_0's rmse: 4.29935\n"
     ]
    },
    {
     "name": "stderr",
     "output_type": "stream",
     "text": [
      "\u001b[32m[I 2021-03-30 16:35:36,412]\u001b[0m Trial 44 pruned. Trial was pruned at iteration 14.\u001b[0m\n"
     ]
    },
    {
     "name": "stdout",
     "output_type": "stream",
     "text": [
      "[14]\tvalid_0's rmse: 4.20553\n",
      "[LightGBM] [Warning] Auto-choosing col-wise multi-threading, the overhead of testing was 0.017978 seconds.\n",
      "You can set `force_col_wise=true` to remove the overhead.\n",
      "[LightGBM] [Info] Total Bins 29743\n",
      "[LightGBM] [Info] Number of data points in the train set: 26064, number of used features: 122\n",
      "[LightGBM] [Info] Start training from score 13.130955\n",
      "[1]\tvalid_0's rmse: 8.27039\n",
      "[2]\tvalid_0's rmse: 7.61844\n",
      "[3]\tvalid_0's rmse: 7.07567\n",
      "[4]\tvalid_0's rmse: 6.58652\n",
      "[5]\tvalid_0's rmse: 6.18048\n",
      "[6]\tvalid_0's rmse: 5.79775\n",
      "[7]\tvalid_0's rmse: 5.47595\n",
      "[8]\tvalid_0's rmse: 5.18088\n",
      "[9]\tvalid_0's rmse: 4.94374\n"
     ]
    },
    {
     "name": "stderr",
     "output_type": "stream",
     "text": [
      "\u001b[32m[I 2021-03-30 16:35:36,920]\u001b[0m Trial 45 pruned. Trial was pruned at iteration 10.\u001b[0m\n"
     ]
    },
    {
     "name": "stdout",
     "output_type": "stream",
     "text": [
      "[10]\tvalid_0's rmse: 4.75927\n",
      "[LightGBM] [Warning] Auto-choosing col-wise multi-threading, the overhead of testing was 0.016619 seconds.\n",
      "You can set `force_col_wise=true` to remove the overhead.\n",
      "[LightGBM] [Info] Total Bins 29743\n",
      "[LightGBM] [Info] Number of data points in the train set: 26064, number of used features: 122\n",
      "[LightGBM] [Info] Start training from score 13.130955\n",
      "[1]\tvalid_0's rmse: 8.25983\n",
      "[2]\tvalid_0's rmse: 7.57425\n",
      "[3]\tvalid_0's rmse: 7.04012\n",
      "[4]\tvalid_0's rmse: 6.55194\n",
      "[5]\tvalid_0's rmse: 6.12518\n",
      "[6]\tvalid_0's rmse: 5.76054\n"
     ]
    },
    {
     "name": "stderr",
     "output_type": "stream",
     "text": [
      "\u001b[32m[I 2021-03-30 16:35:37,501]\u001b[0m Trial 46 pruned. Trial was pruned at iteration 10.\u001b[0m\n"
     ]
    },
    {
     "name": "stdout",
     "output_type": "stream",
     "text": [
      "[7]\tvalid_0's rmse: 5.45945\n",
      "[8]\tvalid_0's rmse: 5.19682\n",
      "[9]\tvalid_0's rmse: 4.95238\n",
      "[10]\tvalid_0's rmse: 4.76056\n"
     ]
    },
    {
     "name": "stderr",
     "output_type": "stream",
     "text": [
      "\u001b[32m[I 2021-03-30 16:35:37,944]\u001b[0m Trial 47 pruned. Trial was pruned at iteration 10.\u001b[0m\n"
     ]
    },
    {
     "name": "stdout",
     "output_type": "stream",
     "text": [
      "[LightGBM] [Warning] Auto-choosing col-wise multi-threading, the overhead of testing was 0.020108 seconds.\n",
      "You can set `force_col_wise=true` to remove the overhead.\n",
      "[LightGBM] [Info] Total Bins 29743\n",
      "[LightGBM] [Info] Number of data points in the train set: 26064, number of used features: 122\n",
      "[LightGBM] [Info] Start training from score 13.130955\n",
      "[1]\tvalid_0's rmse: 8.22897\n",
      "[2]\tvalid_0's rmse: 7.59687\n",
      "[3]\tvalid_0's rmse: 7.05356\n",
      "[4]\tvalid_0's rmse: 6.56153\n",
      "[5]\tvalid_0's rmse: 6.1627\n",
      "[6]\tvalid_0's rmse: 5.77303\n",
      "[7]\tvalid_0's rmse: 5.46003\n",
      "[8]\tvalid_0's rmse: 5.18928\n",
      "[9]\tvalid_0's rmse: 4.96132\n",
      "[10]\tvalid_0's rmse: 4.75534\n",
      "[LightGBM] [Warning] Auto-choosing col-wise multi-threading, the overhead of testing was 0.018613 seconds.\n",
      "You can set `force_col_wise=true` to remove the overhead.\n",
      "[LightGBM] [Info] Total Bins 29743\n",
      "[LightGBM] [Info] Number of data points in the train set: 26064, number of used features: 122\n",
      "[LightGBM] [Info] Start training from score 13.130955\n",
      "[1]\tvalid_0's rmse: 8.25547\n",
      "[2]\tvalid_0's rmse: 7.60442\n",
      "[3]\tvalid_0's rmse: 7.04466\n",
      "[4]\tvalid_0's rmse: 6.55102\n",
      "[5]\tvalid_0's rmse: 6.12314\n",
      "[6]\tvalid_0's rmse: 5.73781\n",
      "[7]\tvalid_0's rmse: 5.39802\n",
      "[8]\tvalid_0's rmse: 5.11279\n",
      "[9]\tvalid_0's rmse: 4.85743\n",
      "[10]\tvalid_0's rmse: 4.66278\n",
      "[11]\tvalid_0's rmse: 4.49971\n",
      "[12]\tvalid_0's rmse: 4.35975\n",
      "[13]\tvalid_0's rmse: 4.24062\n",
      "[14]\tvalid_0's rmse: 4.15844\n",
      "[15]\tvalid_0's rmse: 4.08623\n",
      "[16]\tvalid_0's rmse: 4.02037\n",
      "[17]\tvalid_0's rmse: 3.95467\n"
     ]
    },
    {
     "name": "stderr",
     "output_type": "stream",
     "text": [
      "\u001b[32m[I 2021-03-30 16:35:38,821]\u001b[0m Trial 48 pruned. Trial was pruned at iteration 26.\u001b[0m\n"
     ]
    },
    {
     "name": "stdout",
     "output_type": "stream",
     "text": [
      "[18]\tvalid_0's rmse: 3.91376\n",
      "[19]\tvalid_0's rmse: 3.88129\n",
      "[20]\tvalid_0's rmse: 3.84963\n",
      "[21]\tvalid_0's rmse: 3.83431\n",
      "[22]\tvalid_0's rmse: 3.81785\n",
      "[23]\tvalid_0's rmse: 3.78689\n",
      "[24]\tvalid_0's rmse: 3.78372\n",
      "[25]\tvalid_0's rmse: 3.78739\n",
      "[26]\tvalid_0's rmse: 3.78534\n",
      "[LightGBM] [Warning] Auto-choosing col-wise multi-threading, the overhead of testing was 0.017836 seconds.\n",
      "You can set `force_col_wise=true` to remove the overhead.\n",
      "[LightGBM] [Info] Total Bins 29743\n",
      "[LightGBM] [Info] Number of data points in the train set: 26064, number of used features: 122\n",
      "[LightGBM] [Info] Start training from score 13.130955\n",
      "[1]\tvalid_0's rmse: 8.25962\n",
      "[2]\tvalid_0's rmse: 7.60468\n",
      "[3]\tvalid_0's rmse: 7.0453\n",
      "[4]\tvalid_0's rmse: 6.56348\n",
      "[5]\tvalid_0's rmse: 6.15516\n",
      "[6]\tvalid_0's rmse: 5.76295\n",
      "[7]\tvalid_0's rmse: 5.46726\n",
      "[8]\tvalid_0's rmse: 5.19785\n"
     ]
    },
    {
     "name": "stderr",
     "output_type": "stream",
     "text": [
      "\u001b[32m[I 2021-03-30 16:35:39,353]\u001b[0m Trial 49 pruned. Trial was pruned at iteration 10.\u001b[0m\n"
     ]
    },
    {
     "name": "stdout",
     "output_type": "stream",
     "text": [
      "[9]\tvalid_0's rmse: 4.97641\n",
      "[10]\tvalid_0's rmse: 4.77211\n",
      "[LightGBM] [Warning] Auto-choosing col-wise multi-threading, the overhead of testing was 0.022280 seconds.\n",
      "You can set `force_col_wise=true` to remove the overhead.\n",
      "[LightGBM] [Info] Total Bins 29743\n",
      "[LightGBM] [Info] Number of data points in the train set: 26064, number of used features: 122\n",
      "[LightGBM] [Info] Start training from score 13.130955\n",
      "[1]\tvalid_0's rmse: 8.23419\n",
      "[2]\tvalid_0's rmse: 7.57969\n",
      "[3]\tvalid_0's rmse: 7.01619\n",
      "[4]\tvalid_0's rmse: 6.52428\n",
      "[5]\tvalid_0's rmse: 6.10839\n",
      "[6]\tvalid_0's rmse: 5.7286\n",
      "[7]\tvalid_0's rmse: 5.38994\n",
      "[8]\tvalid_0's rmse: 5.10808\n",
      "[9]\tvalid_0's rmse: 4.86285\n",
      "[10]\tvalid_0's rmse: 4.66162\n",
      "[11]\tvalid_0's rmse: 4.49543\n",
      "[12]\tvalid_0's rmse: 4.36091\n",
      "[13]\tvalid_0's rmse: 4.21765\n",
      "[14]\tvalid_0's rmse: 4.11755\n",
      "[15]\tvalid_0's rmse: 4.04023\n",
      "[16]\tvalid_0's rmse: 3.97754\n",
      "[17]\tvalid_0's rmse: 3.92444\n",
      "[18]\tvalid_0's rmse: 3.86458\n",
      "[19]\tvalid_0's rmse: 3.83288\n",
      "[20]\tvalid_0's rmse: 3.80423\n",
      "[21]\tvalid_0's rmse: 3.80236\n",
      "[22]\tvalid_0's rmse: 3.78888\n",
      "[23]\tvalid_0's rmse: 3.76984\n",
      "[24]\tvalid_0's rmse: 3.76294\n",
      "[25]\tvalid_0's rmse: 3.75335\n",
      "[26]\tvalid_0's rmse: 3.74736\n",
      "[27]\tvalid_0's rmse: 3.7386\n",
      "[28]\tvalid_0's rmse: 3.70918\n",
      "[29]\tvalid_0's rmse: 3.70533\n",
      "[30]\tvalid_0's rmse: 3.70712\n",
      "[31]\tvalid_0's rmse: 3.69896\n",
      "[32]\tvalid_0's rmse: 3.70206\n",
      "[33]\tvalid_0's rmse: 3.69284\n",
      "[34]\tvalid_0's rmse: 3.68311\n",
      "[35]\tvalid_0's rmse: 3.69012\n",
      "[36]\tvalid_0's rmse: 3.69034\n",
      "[37]\tvalid_0's rmse: 3.67613\n",
      "[38]\tvalid_0's rmse: 3.67277\n",
      "[39]\tvalid_0's rmse: 3.66994\n",
      "[40]\tvalid_0's rmse: 3.68088\n",
      "[41]\tvalid_0's rmse: 3.68348\n",
      "[42]\tvalid_0's rmse: 3.68339\n",
      "[43]\tvalid_0's rmse: 3.67937\n",
      "[44]\tvalid_0's rmse: 3.68409\n",
      "[45]\tvalid_0's rmse: 3.69226\n",
      "[46]\tvalid_0's rmse: 3.69905\n",
      "[47]\tvalid_0's rmse: 3.69613\n",
      "[48]\tvalid_0's rmse: 3.6937\n",
      "[49]\tvalid_0's rmse: 3.6996\n",
      "[50]\tvalid_0's rmse: 3.69896\n",
      "[51]\tvalid_0's rmse: 3.68115\n",
      "[52]\tvalid_0's rmse: 3.68439\n",
      "[53]\tvalid_0's rmse: 3.68527\n",
      "[54]\tvalid_0's rmse: 3.69203\n",
      "[55]\tvalid_0's rmse: 3.69215\n",
      "[56]\tvalid_0's rmse: 3.68975\n",
      "[57]\tvalid_0's rmse: 3.69528\n",
      "[58]\tvalid_0's rmse: 3.69228\n",
      "[59]\tvalid_0's rmse: 3.69269\n",
      "[60]\tvalid_0's rmse: 3.69139\n",
      "[61]\tvalid_0's rmse: 3.69164\n",
      "[62]\tvalid_0's rmse: 3.69353\n",
      "[63]\tvalid_0's rmse: 3.69632\n",
      "[64]\tvalid_0's rmse: 3.70055\n",
      "[65]\tvalid_0's rmse: 3.70438\n",
      "[66]\tvalid_0's rmse: 3.70006\n",
      "[67]\tvalid_0's rmse: 3.69997\n",
      "[68]\tvalid_0's rmse: 3.69464\n",
      "[69]\tvalid_0's rmse: 3.6945\n",
      "[70]\tvalid_0's rmse: 3.69959\n",
      "[71]\tvalid_0's rmse: 3.6964\n",
      "[72]\tvalid_0's rmse: 3.70311\n",
      "[73]\tvalid_0's rmse: 3.69114\n",
      "[74]\tvalid_0's rmse: 3.69038\n",
      "[75]\tvalid_0's rmse: 3.69118\n",
      "[76]\tvalid_0's rmse: 3.69295\n",
      "[77]\tvalid_0's rmse: 3.70311\n",
      "[78]\tvalid_0's rmse: 3.70795\n",
      "[79]\tvalid_0's rmse: 3.70916\n",
      "[80]\tvalid_0's rmse: 3.70803\n",
      "[81]\tvalid_0's rmse: 3.70343\n",
      "[82]\tvalid_0's rmse: 3.69928\n",
      "[83]\tvalid_0's rmse: 3.70152\n",
      "[84]\tvalid_0's rmse: 3.7002\n",
      "[85]\tvalid_0's rmse: 3.70063\n",
      "[86]\tvalid_0's rmse: 3.70447\n",
      "[87]\tvalid_0's rmse: 3.6998\n",
      "[88]\tvalid_0's rmse: 3.69575\n",
      "[89]\tvalid_0's rmse: 3.69351\n",
      "[90]\tvalid_0's rmse: 3.69494\n",
      "[91]\tvalid_0's rmse: 3.693\n",
      "[92]\tvalid_0's rmse: 3.69212\n",
      "[93]\tvalid_0's rmse: 3.6972\n",
      "[94]\tvalid_0's rmse: 3.7015\n",
      "[95]\tvalid_0's rmse: 3.70486\n",
      "[96]\tvalid_0's rmse: 3.71079\n",
      "[97]\tvalid_0's rmse: 3.71446\n",
      "[98]\tvalid_0's rmse: 3.7176\n",
      "[99]\tvalid_0's rmse: 3.71575\n",
      "[100]\tvalid_0's rmse: 3.71467\n"
     ]
    },
    {
     "name": "stderr",
     "output_type": "stream",
     "text": [
      "\u001b[32m[I 2021-03-30 16:35:41,821]\u001b[0m Trial 50 finished with value: 3.714668114208973 and parameters: {'lambda_l1': 0.0015493567232918682, 'lambda_l2': 1.9278578249442774e-07, 'num_leaves': 120, 'feature_fraction': 0.6519574085951425, 'bagging_fraction': 0.7486076347477006, 'bagging_freq': 2, 'min_child_samples': 25}. Best is trial 1 with value: 3.6873052290026758.\u001b[0m\n",
      "C:\\Anaconda\\lib\\site-packages\\lightgbm\\basic.py:1702: UserWarning: Using categorical_feature in Dataset.\n",
      "  _log_warning('Using categorical_feature in Dataset.')\n"
     ]
    },
    {
     "name": "stdout",
     "output_type": "stream",
     "text": [
      "[LightGBM] [Warning] Auto-choosing col-wise multi-threading, the overhead of testing was 0.020615 seconds.\n",
      "You can set `force_col_wise=true` to remove the overhead.\n",
      "[LightGBM] [Info] Total Bins 29743\n",
      "[LightGBM] [Info] Number of data points in the train set: 26064, number of used features: 122\n",
      "[LightGBM] [Info] Start training from score 13.130955\n",
      "[1]\tvalid_0's rmse: 8.23148\n",
      "[2]\tvalid_0's rmse: 7.58912\n",
      "[3]\tvalid_0's rmse: 7.02361\n",
      "[4]\tvalid_0's rmse: 6.54278\n",
      "[5]\tvalid_0's rmse: 6.12065\n",
      "[6]\tvalid_0's rmse: 5.74295"
     ]
    },
    {
     "name": "stderr",
     "output_type": "stream",
     "text": [
      "C:\\Anaconda\\lib\\site-packages\\lightgbm\\basic.py:1433: UserWarning: Overriding the parameters from Reference Dataset.\n",
      "  _log_warning('Overriding the parameters from Reference Dataset.')\n",
      "C:\\Anaconda\\lib\\site-packages\\lightgbm\\basic.py:1245: UserWarning: categorical_column in param dict is overridden.\n",
      "  _log_warning('{} in param dict is overridden.'.format(cat_alias))\n",
      "\u001b[32m[I 2021-03-30 16:35:42,443]\u001b[0m Trial 51 pruned. Trial was pruned at iteration 11.\u001b[0m\n"
     ]
    },
    {
     "name": "stdout",
     "output_type": "stream",
     "text": [
      "\n",
      "[7]\tvalid_0's rmse: 5.42722\n",
      "[8]\tvalid_0's rmse: 5.16025\n",
      "[9]\tvalid_0's rmse: 4.92564\n",
      "[10]\tvalid_0's rmse: 4.71482\n",
      "[11]\tvalid_0's rmse: 4.55306\n",
      "[LightGBM] [Warning] Auto-choosing col-wise multi-threading, the overhead of testing was 0.021606 seconds.\n",
      "You can set `force_col_wise=true` to remove the overhead.\n",
      "[LightGBM] [Info] Total Bins 29743\n",
      "[LightGBM] [Info] Number of data points in the train set: 26064, number of used features: 122\n",
      "[LightGBM] [Info] Start training from score 13.130955\n",
      "[1]\tvalid_0's rmse: 8.24516\n",
      "[2]\tvalid_0's rmse: 7.60771\n",
      "[3]\tvalid_0's rmse: 7.06654\n",
      "[4]\tvalid_0's rmse: 6.58433\n",
      "[5]\tvalid_0's rmse: 6.16091\n",
      "[6]\tvalid_0's rmse: 5.77596\n"
     ]
    },
    {
     "name": "stderr",
     "output_type": "stream",
     "text": [
      "\u001b[32m[I 2021-03-30 16:35:43,113]\u001b[0m Trial 52 pruned. Trial was pruned at iteration 12.\u001b[0m\n"
     ]
    },
    {
     "name": "stdout",
     "output_type": "stream",
     "text": [
      "[7]\tvalid_0's rmse: 5.44649\n",
      "[8]\tvalid_0's rmse: 5.16839\n",
      "[9]\tvalid_0's rmse: 4.92345\n",
      "[10]\tvalid_0's rmse: 4.70909\n",
      "[11]\tvalid_0's rmse: 4.54993\n",
      "[12]\tvalid_0's rmse: 4.41129\n",
      "[LightGBM] [Warning] Auto-choosing col-wise multi-threading, the overhead of testing was 0.017811 seconds.\n",
      "You can set `force_col_wise=true` to remove the overhead.\n",
      "[LightGBM] [Info] Total Bins 29743\n",
      "[LightGBM] [Info] Number of data points in the train set: 26064, number of used features: 122\n",
      "[LightGBM] [Info] Start training from score 13.130955\n",
      "[1]\tvalid_0's rmse: 8.25642\n",
      "[2]\tvalid_0's rmse: 7.60835\n",
      "[3]\tvalid_0's rmse: 7.05941\n",
      "[4]\tvalid_0's rmse: 6.55209\n",
      "[5]\tvalid_0's rmse: 6.11248\n",
      "[6]\tvalid_0's rmse: 5.7211\n",
      "[7]\tvalid_0's rmse: 5.39802\n",
      "[8]\tvalid_0's rmse: 5.12715\n",
      "[9]\tvalid_0's rmse: 4.88389\n",
      "[10]\tvalid_0's rmse: 4.68579\n",
      "[11]\tvalid_0's rmse: 4.52612\n",
      "[12]\tvalid_0's rmse: 4.39171\n",
      "[13]\tvalid_0's rmse: 4.27594\n",
      "[14]\tvalid_0's rmse: 4.16743\n",
      "[15]\tvalid_0's rmse: 4.10052\n",
      "[16]\tvalid_0's rmse: 4.04127\n",
      "[17]\tvalid_0's rmse: 3.98184\n",
      "[18]\tvalid_0's rmse: 3.93862\n",
      "[19]\tvalid_0's rmse: 3.90706\n",
      "[20]\tvalid_0's rmse: 3.8822\n"
     ]
    },
    {
     "name": "stderr",
     "output_type": "stream",
     "text": [
      "\u001b[32m[I 2021-03-30 16:35:43,810]\u001b[0m Trial 53 pruned. Trial was pruned at iteration 20.\u001b[0m\n"
     ]
    },
    {
     "name": "stdout",
     "output_type": "stream",
     "text": [
      "[LightGBM] [Warning] Auto-choosing col-wise multi-threading, the overhead of testing was 0.021274 seconds.\n",
      "You can set `force_col_wise=true` to remove the overhead.\n",
      "[LightGBM] [Info] Total Bins 29743\n",
      "[LightGBM] [Info] Number of data points in the train set: 26064, number of used features: 122\n",
      "[LightGBM] [Info] Start training from score 13.130955\n",
      "[1]\tvalid_0's rmse: 8.27136\n",
      "[2]\tvalid_0's rmse: 7.59959\n",
      "[3]\tvalid_0's rmse: 7.0271\n",
      "[4]\tvalid_0's rmse: 6.55441\n",
      "[5]\tvalid_0's rmse: 6.15147\n",
      "[6]\tvalid_0's rmse: 5.77747\n"
     ]
    },
    {
     "name": "stderr",
     "output_type": "stream",
     "text": [
      "\u001b[32m[I 2021-03-30 16:35:44,405]\u001b[0m Trial 54 pruned. Trial was pruned at iteration 10.\u001b[0m\n"
     ]
    },
    {
     "name": "stdout",
     "output_type": "stream",
     "text": [
      "[7]\tvalid_0's rmse: 5.43687\n",
      "[8]\tvalid_0's rmse: 5.15741\n",
      "[9]\tvalid_0's rmse: 4.93481\n",
      "[10]\tvalid_0's rmse: 4.7521\n",
      "[LightGBM] [Warning] Auto-choosing col-wise multi-threading, the overhead of testing was 0.018860 seconds.\n",
      "You can set `force_col_wise=true` to remove the overhead.\n",
      "[LightGBM] [Info] Total Bins 29743\n",
      "[LightGBM] [Info] Number of data points in the train set: 26064, number of used features: 122\n",
      "[LightGBM] [Info] Start training from score 13.130955\n",
      "[1]\tvalid_0's rmse: 8.2546\n",
      "[2]\tvalid_0's rmse: 7.61738\n",
      "[3]\tvalid_0's rmse: 7.05834\n",
      "[4]\tvalid_0's rmse: 6.56865\n",
      "[5]\tvalid_0's rmse: 6.13582\n"
     ]
    },
    {
     "name": "stderr",
     "output_type": "stream",
     "text": [
      "\u001b[32m[I 2021-03-30 16:35:45,016]\u001b[0m Trial 55 pruned. Trial was pruned at iteration 10.\u001b[0m\n"
     ]
    },
    {
     "name": "stdout",
     "output_type": "stream",
     "text": [
      "[6]\tvalid_0's rmse: 5.77125\n",
      "[7]\tvalid_0's rmse: 5.44267\n",
      "[8]\tvalid_0's rmse: 5.16222\n",
      "[9]\tvalid_0's rmse: 4.91296\n",
      "[10]\tvalid_0's rmse: 4.72656\n",
      "[LightGBM] [Warning] Auto-choosing col-wise multi-threading, the overhead of testing was 0.019554 seconds.\n",
      "You can set `force_col_wise=true` to remove the overhead.\n",
      "[LightGBM] [Info] Total Bins 29743\n",
      "[LightGBM] [Info] Number of data points in the train set: 26064, number of used features: 122\n",
      "[LightGBM] [Info] Start training from score 13.130955\n",
      "[1]\tvalid_0's rmse: 8.24035\n",
      "[2]\tvalid_0's rmse: 7.57405\n",
      "[3]\tvalid_0's rmse: 7.01018\n",
      "[4]\tvalid_0's rmse: 6.5352\n",
      "[5]\tvalid_0's rmse: 6.09473\n",
      "[6]\tvalid_0's rmse: 5.72286\n",
      "[7]\tvalid_0's rmse: 5.40333\n",
      "[8]\tvalid_0's rmse: 5.14326\n",
      "[9]\tvalid_0's rmse: 4.91363\n",
      "[10]\tvalid_0's rmse: 4.71185\n",
      "[11]\tvalid_0's rmse: 4.54479\n",
      "[12]\tvalid_0's rmse: 4.40683\n",
      "[13]\tvalid_0's rmse: 4.29639\n"
     ]
    },
    {
     "name": "stderr",
     "output_type": "stream",
     "text": [
      "\u001b[32m[I 2021-03-30 16:35:45,738]\u001b[0m Trial 56 pruned. Trial was pruned at iteration 13.\u001b[0m\n"
     ]
    },
    {
     "name": "stdout",
     "output_type": "stream",
     "text": [
      "[LightGBM] [Warning] Auto-choosing col-wise multi-threading, the overhead of testing was 0.018629 seconds.\n",
      "You can set `force_col_wise=true` to remove the overhead.\n",
      "[LightGBM] [Info] Total Bins 29743\n",
      "[LightGBM] [Info] Number of data points in the train set: 26064, number of used features: 122\n",
      "[LightGBM] [Info] Start training from score 13.130955\n",
      "[1]\tvalid_0's rmse: 8.24384\n",
      "[2]\tvalid_0's rmse: 7.59122\n",
      "[3]\tvalid_0's rmse: 7.01887\n",
      "[4]\tvalid_0's rmse: 6.55327\n"
     ]
    },
    {
     "name": "stderr",
     "output_type": "stream",
     "text": [
      "\u001b[32m[I 2021-03-30 16:35:46,341]\u001b[0m Trial 57 pruned. Trial was pruned at iteration 10.\u001b[0m\n"
     ]
    },
    {
     "name": "stdout",
     "output_type": "stream",
     "text": [
      "[5]\tvalid_0's rmse: 6.15591\n",
      "[6]\tvalid_0's rmse: 5.76964\n",
      "[7]\tvalid_0's rmse: 5.44818\n",
      "[8]\tvalid_0's rmse: 5.18052\n",
      "[9]\tvalid_0's rmse: 4.95652\n",
      "[10]\tvalid_0's rmse: 4.77542\n",
      "[LightGBM] [Warning] Auto-choosing col-wise multi-threading, the overhead of testing was 0.020981 seconds.\n",
      "You can set `force_col_wise=true` to remove the overhead.\n",
      "[LightGBM] [Info] Total Bins 29743\n",
      "[LightGBM] [Info] Number of data points in the train set: 26064, number of used features: 122\n",
      "[LightGBM] [Info] Start training from score 13.130955\n",
      "[1]\tvalid_0's rmse: 8.22951\n",
      "[2]\tvalid_0's rmse: 7.54952\n",
      "[3]\tvalid_0's rmse: 6.98397\n",
      "[4]\tvalid_0's rmse: 6.50745\n",
      "[5]\tvalid_0's rmse: 6.11338\n",
      "[6]\tvalid_0's rmse: 5.76928\n",
      "[7]\tvalid_0's rmse: 5.46557\n",
      "[8]\tvalid_0's rmse: 5.21095\n"
     ]
    },
    {
     "name": "stderr",
     "output_type": "stream",
     "text": [
      "\u001b[32m[I 2021-03-30 16:35:46,874]\u001b[0m Trial 58 pruned. Trial was pruned at iteration 10.\u001b[0m\n"
     ]
    },
    {
     "name": "stdout",
     "output_type": "stream",
     "text": [
      "[9]\tvalid_0's rmse: 4.98462\n",
      "[10]\tvalid_0's rmse: 4.78213\n",
      "[LightGBM] [Warning] Auto-choosing col-wise multi-threading, the overhead of testing was 0.020958 seconds.\n",
      "You can set `force_col_wise=true` to remove the overhead.\n",
      "[LightGBM] [Info] Total Bins 29743\n",
      "[LightGBM] [Info] Number of data points in the train set: 26064, number of used features: 122\n",
      "[LightGBM] [Info] Start training from score 13.130955\n",
      "[1]\tvalid_0's rmse: 8.27073\n",
      "[2]\tvalid_0's rmse: 7.63075\n",
      "[3]\tvalid_0's rmse: 7.03233\n",
      "[4]\tvalid_0's rmse: 6.56374\n"
     ]
    },
    {
     "name": "stderr",
     "output_type": "stream",
     "text": [
      "\u001b[32m[I 2021-03-30 16:35:47,510]\u001b[0m Trial 59 pruned. Trial was pruned at iteration 10.\u001b[0m\n"
     ]
    },
    {
     "name": "stdout",
     "output_type": "stream",
     "text": [
      "[5]\tvalid_0's rmse: 6.16367\n",
      "[6]\tvalid_0's rmse: 5.80772\n",
      "[7]\tvalid_0's rmse: 5.4794\n",
      "[8]\tvalid_0's rmse: 5.19666\n",
      "[9]\tvalid_0's rmse: 4.95746\n",
      "[10]\tvalid_0's rmse: 4.76728\n"
     ]
    },
    {
     "name": "stderr",
     "output_type": "stream",
     "text": [
      "\u001b[32m[I 2021-03-30 16:35:47,965]\u001b[0m Trial 60 pruned. Trial was pruned at iteration 10.\u001b[0m\n"
     ]
    },
    {
     "name": "stdout",
     "output_type": "stream",
     "text": [
      "[LightGBM] [Warning] Auto-choosing col-wise multi-threading, the overhead of testing was 0.017594 seconds.\n",
      "You can set `force_col_wise=true` to remove the overhead.\n",
      "[LightGBM] [Info] Total Bins 29743\n",
      "[LightGBM] [Info] Number of data points in the train set: 26064, number of used features: 122\n",
      "[LightGBM] [Info] Start training from score 13.130955\n",
      "[1]\tvalid_0's rmse: 8.27044\n",
      "[2]\tvalid_0's rmse: 7.61593\n",
      "[3]\tvalid_0's rmse: 7.05545\n",
      "[4]\tvalid_0's rmse: 6.55559\n",
      "[5]\tvalid_0's rmse: 6.16539\n",
      "[6]\tvalid_0's rmse: 5.77508\n",
      "[7]\tvalid_0's rmse: 5.47405\n",
      "[8]\tvalid_0's rmse: 5.19974\n",
      "[9]\tvalid_0's rmse: 4.95872\n",
      "[10]\tvalid_0's rmse: 4.75316\n",
      "[LightGBM] [Warning] Auto-choosing col-wise multi-threading, the overhead of testing was 0.020888 seconds.\n",
      "You can set `force_col_wise=true` to remove the overhead.\n",
      "[LightGBM] [Info] Total Bins 29743\n",
      "[LightGBM] [Info] Number of data points in the train set: 26064, number of used features: 122\n",
      "[LightGBM] [Info] Start training from score 13.130955\n",
      "[1]\tvalid_0's rmse: 8.25335\n",
      "[2]\tvalid_0's rmse: 7.60782\n",
      "[3]\tvalid_0's rmse: 7.05432\n",
      "[4]\tvalid_0's rmse: 6.56633\n",
      "[5]\tvalid_0's rmse: 6.14736\n"
     ]
    },
    {
     "name": "stderr",
     "output_type": "stream",
     "text": [
      "\u001b[32m[I 2021-03-30 16:35:48,599]\u001b[0m Trial 61 pruned. Trial was pruned at iteration 10.\u001b[0m\n"
     ]
    },
    {
     "name": "stdout",
     "output_type": "stream",
     "text": [
      "[6]\tvalid_0's rmse: 5.79372\n",
      "[7]\tvalid_0's rmse: 5.48128\n",
      "[8]\tvalid_0's rmse: 5.20587\n",
      "[9]\tvalid_0's rmse: 4.96792\n",
      "[10]\tvalid_0's rmse: 4.78891\n",
      "[LightGBM] [Warning] Auto-choosing col-wise multi-threading, the overhead of testing was 0.016690 seconds.\n",
      "You can set `force_col_wise=true` to remove the overhead.\n",
      "[LightGBM] [Info] Total Bins 29743\n",
      "[LightGBM] [Info] Number of data points in the train set: 26064, number of used features: 122\n",
      "[LightGBM] [Info] Start training from score 13.130955\n",
      "[1]\tvalid_0's rmse: 8.26027\n",
      "[2]\tvalid_0's rmse: 7.60178\n",
      "[3]\tvalid_0's rmse: 7.03196\n",
      "[4]\tvalid_0's rmse: 6.53365\n",
      "[5]\tvalid_0's rmse: 6.13451\n",
      "[6]\tvalid_0's rmse: 5.76601\n"
     ]
    },
    {
     "name": "stderr",
     "output_type": "stream",
     "text": [
      "\u001b[32m[I 2021-03-30 16:35:49,168]\u001b[0m Trial 62 pruned. Trial was pruned at iteration 10.\u001b[0m\n"
     ]
    },
    {
     "name": "stdout",
     "output_type": "stream",
     "text": [
      "[7]\tvalid_0's rmse: 5.4421\n",
      "[8]\tvalid_0's rmse: 5.17008\n",
      "[9]\tvalid_0's rmse: 4.93184\n",
      "[10]\tvalid_0's rmse: 4.74683\n",
      "[LightGBM] [Warning] Auto-choosing col-wise multi-threading, the overhead of testing was 0.020043 seconds.\n",
      "You can set `force_col_wise=true` to remove the overhead.\n",
      "[LightGBM] [Info] Total Bins 29743\n",
      "[LightGBM] [Info] Number of data points in the train set: 26064, number of used features: 122\n",
      "[LightGBM] [Info] Start training from score 13.130955\n",
      "[1]\tvalid_0's rmse: 8.24365\n",
      "[2]\tvalid_0's rmse: 7.59647\n",
      "[3]\tvalid_0's rmse: 7.0421\n",
      "[4]\tvalid_0's rmse: 6.55994\n",
      "[5]\tvalid_0's rmse: 6.14068\n"
     ]
    },
    {
     "name": "stderr",
     "output_type": "stream",
     "text": [
      "\u001b[32m[I 2021-03-30 16:35:49,879]\u001b[0m Trial 63 pruned. Trial was pruned at iteration 10.\u001b[0m\n"
     ]
    },
    {
     "name": "stdout",
     "output_type": "stream",
     "text": [
      "[6]\tvalid_0's rmse: 5.78902\n",
      "[7]\tvalid_0's rmse: 5.46573\n",
      "[8]\tvalid_0's rmse: 5.19875\n",
      "[9]\tvalid_0's rmse: 4.96852\n",
      "[10]\tvalid_0's rmse: 4.78149\n",
      "[LightGBM] [Warning] Auto-choosing col-wise multi-threading, the overhead of testing was 0.019689 seconds.\n",
      "You can set `force_col_wise=true` to remove the overhead.\n",
      "[LightGBM] [Info] Total Bins 29743\n",
      "[LightGBM] [Info] Number of data points in the train set: 26064, number of used features: 122\n",
      "[LightGBM] [Info] Start training from score 13.130955\n",
      "[1]\tvalid_0's rmse: 8.27187\n",
      "[2]\tvalid_0's rmse: 7.6352\n",
      "[3]\tvalid_0's rmse: 7.0801\n",
      "[4]\tvalid_0's rmse: 6.5969\n"
     ]
    },
    {
     "name": "stderr",
     "output_type": "stream",
     "text": [
      "\u001b[32m[I 2021-03-30 16:35:50,536]\u001b[0m Trial 64 pruned. Trial was pruned at iteration 10.\u001b[0m\n"
     ]
    },
    {
     "name": "stdout",
     "output_type": "stream",
     "text": [
      "[5]\tvalid_0's rmse: 6.19935\n",
      "[6]\tvalid_0's rmse: 5.808\n",
      "[7]\tvalid_0's rmse: 5.48173\n",
      "[8]\tvalid_0's rmse: 5.20588\n",
      "[9]\tvalid_0's rmse: 4.96805\n",
      "[10]\tvalid_0's rmse: 4.75712\n",
      "[LightGBM] [Warning] Auto-choosing col-wise multi-threading, the overhead of testing was 0.015167 seconds.\n",
      "You can set `force_col_wise=true` to remove the overhead.\n",
      "[LightGBM] [Info] Total Bins 29743\n",
      "[LightGBM] [Info] Number of data points in the train set: 26064, number of used features: 122\n",
      "[LightGBM] [Info] Start training from score 13.130955\n",
      "[1]\tvalid_0's rmse: 8.2651\n",
      "[2]\tvalid_0's rmse: 7.61097\n",
      "[3]\tvalid_0's rmse: 7.05444\n",
      "[4]\tvalid_0's rmse: 6.56653\n",
      "[5]\tvalid_0's rmse: 6.14456\n",
      "[6]\tvalid_0's rmse: 5.76383\n",
      "[7]\tvalid_0's rmse: 5.44192\n",
      "[8]\tvalid_0's rmse: 5.16523\n"
     ]
    },
    {
     "name": "stderr",
     "output_type": "stream",
     "text": [
      "\u001b[32m[I 2021-03-30 16:35:51,285]\u001b[0m Trial 65 pruned. Trial was pruned at iteration 10.\u001b[0m\n"
     ]
    },
    {
     "name": "stdout",
     "output_type": "stream",
     "text": [
      "[9]\tvalid_0's rmse: 4.92341\n",
      "[10]\tvalid_0's rmse: 4.72818\n",
      "[LightGBM] [Warning] Auto-choosing col-wise multi-threading, the overhead of testing was 0.019400 seconds.\n",
      "You can set `force_col_wise=true` to remove the overhead.\n",
      "[LightGBM] [Info] Total Bins 29743\n",
      "[LightGBM] [Info] Number of data points in the train set: 26064, number of used features: 122\n",
      "[LightGBM] [Info] Start training from score 13.130955\n",
      "[1]\tvalid_0's rmse: 8.26121\n",
      "[2]\tvalid_0's rmse: 7.59248\n",
      "[3]\tvalid_0's rmse: 7.02271\n",
      "[4]\tvalid_0's rmse: 6.54296\n"
     ]
    },
    {
     "name": "stderr",
     "output_type": "stream",
     "text": [
      "\u001b[32m[I 2021-03-30 16:35:51,951]\u001b[0m Trial 66 pruned. Trial was pruned at iteration 10.\u001b[0m\n"
     ]
    },
    {
     "name": "stdout",
     "output_type": "stream",
     "text": [
      "[5]\tvalid_0's rmse: 6.12391\n",
      "[6]\tvalid_0's rmse: 5.75769\n",
      "[7]\tvalid_0's rmse: 5.43087\n",
      "[8]\tvalid_0's rmse: 5.16664\n",
      "[9]\tvalid_0's rmse: 4.9259\n",
      "[10]\tvalid_0's rmse: 4.72655\n",
      "[LightGBM] [Warning] Auto-choosing col-wise multi-threading, the overhead of testing was 0.015824 seconds.\n",
      "You can set `force_col_wise=true` to remove the overhead.\n",
      "[LightGBM] [Info] Total Bins 29743\n",
      "[LightGBM] [Info] Number of data points in the train set: 26064, number of used features: 122\n",
      "[LightGBM] [Info] Start training from score 13.130955\n",
      "[1]\tvalid_0's rmse: 8.25243\n",
      "[2]\tvalid_0's rmse: 7.61269\n",
      "[3]\tvalid_0's rmse: 7.0649\n",
      "[4]\tvalid_0's rmse: 6.58835\n",
      "[5]\tvalid_0's rmse: 6.1622\n"
     ]
    },
    {
     "name": "stderr",
     "output_type": "stream",
     "text": [
      "\u001b[32m[I 2021-03-30 16:35:52,549]\u001b[0m Trial 67 pruned. Trial was pruned at iteration 10.\u001b[0m\n"
     ]
    },
    {
     "name": "stdout",
     "output_type": "stream",
     "text": [
      "[6]\tvalid_0's rmse: 5.78122\n",
      "[7]\tvalid_0's rmse: 5.44319\n",
      "[8]\tvalid_0's rmse: 5.16128\n",
      "[9]\tvalid_0's rmse: 4.92162\n",
      "[10]\tvalid_0's rmse: 4.72701\n",
      "[LightGBM] [Warning] Auto-choosing col-wise multi-threading, the overhead of testing was 0.018683 seconds.\n",
      "You can set `force_col_wise=true` to remove the overhead.\n",
      "[LightGBM] [Info] Total Bins 29743\n",
      "[LightGBM] [Info] Number of data points in the train set: 26064, number of used features: 122\n",
      "[LightGBM] [Info] Start training from score 13.130955\n",
      "[LightGBM] [Warning] No further splits with positive gain, best gain: -inf\n",
      "[1]\tvalid_0's rmse: 8.3056\n",
      "[LightGBM] [Warning] No further splits with positive gain, best gain: -inf\n",
      "[2]\tvalid_0's rmse: 7.71957\n",
      "[LightGBM] [Warning] No further splits with positive gain, best gain: -inf\n",
      "[3]\tvalid_0's rmse: 7.19749\n",
      "[LightGBM] [Warning] No further splits with positive gain, best gain: -inf\n",
      "[4]\tvalid_0's rmse: 6.76196\n",
      "[LightGBM] [Warning] No further splits with positive gain, best gain: -inf\n",
      "[5]\tvalid_0's rmse: 6.35051\n",
      "[LightGBM] [Warning] No further splits with positive gain, best gain: -inf\n",
      "[6]\tvalid_0's rmse: 6.00286\n",
      "[LightGBM] [Warning] No further splits with positive gain, best gain: -inf\n",
      "[7]\tvalid_0's rmse: 5.66277\n",
      "[8]\tvalid_0's rmse: 5.40055\n",
      "[LightGBM] [Warning] No further splits with positive gain, best gain: -inf\n",
      "[9]\tvalid_0's rmse: 5.14752\n",
      "[LightGBM] [Warning] No further splits with positive gain, best gain: -inf"
     ]
    },
    {
     "name": "stderr",
     "output_type": "stream",
     "text": [
      "\u001b[32m[I 2021-03-30 16:35:53,043]\u001b[0m Trial 68 pruned. Trial was pruned at iteration 10.\u001b[0m\n"
     ]
    },
    {
     "name": "stdout",
     "output_type": "stream",
     "text": [
      "\n",
      "[10]\tvalid_0's rmse: 4.93671\n",
      "[LightGBM] [Warning] No further splits with positive gain, best gain: -inf\n",
      "[LightGBM] [Warning] Auto-choosing col-wise multi-threading, the overhead of testing was 0.015861 seconds.\n",
      "You can set `force_col_wise=true` to remove the overhead.\n",
      "[LightGBM] [Info] Total Bins 29743\n",
      "[LightGBM] [Info] Number of data points in the train set: 26064, number of used features: 122\n",
      "[LightGBM] [Info] Start training from score 13.130955\n",
      "[1]\tvalid_0's rmse: 8.20762\n",
      "[2]\tvalid_0's rmse: 7.58082\n",
      "[3]\tvalid_0's rmse: 7.05876\n",
      "[4]\tvalid_0's rmse: 6.56752\n",
      "[5]\tvalid_0's rmse: 6.13668\n"
     ]
    },
    {
     "name": "stderr",
     "output_type": "stream",
     "text": [
      "\u001b[32m[I 2021-03-30 16:35:53,746]\u001b[0m Trial 69 pruned. Trial was pruned at iteration 10.\u001b[0m\n"
     ]
    },
    {
     "name": "stdout",
     "output_type": "stream",
     "text": [
      "[6]\tvalid_0's rmse: 5.72577\n",
      "[7]\tvalid_0's rmse: 5.42119\n",
      "[8]\tvalid_0's rmse: 5.16052\n",
      "[9]\tvalid_0's rmse: 4.92506\n",
      "[10]\tvalid_0's rmse: 4.74316\n"
     ]
    },
    {
     "name": "stderr",
     "output_type": "stream",
     "text": [
      "\u001b[32m[I 2021-03-30 16:35:54,220]\u001b[0m Trial 70 pruned. Trial was pruned at iteration 10.\u001b[0m\n"
     ]
    },
    {
     "name": "stdout",
     "output_type": "stream",
     "text": [
      "[LightGBM] [Warning] Auto-choosing col-wise multi-threading, the overhead of testing was 0.016970 seconds.\n",
      "You can set `force_col_wise=true` to remove the overhead.\n",
      "[LightGBM] [Info] Total Bins 29743\n",
      "[LightGBM] [Info] Number of data points in the train set: 26064, number of used features: 122\n",
      "[LightGBM] [Info] Start training from score 13.130955\n",
      "[1]\tvalid_0's rmse: 8.27256\n",
      "[2]\tvalid_0's rmse: 7.61819\n",
      "[3]\tvalid_0's rmse: 7.07487\n",
      "[4]\tvalid_0's rmse: 6.60759\n",
      "[5]\tvalid_0's rmse: 6.20305\n",
      "[6]\tvalid_0's rmse: 5.82204\n",
      "[7]\tvalid_0's rmse: 5.49043\n",
      "[8]\tvalid_0's rmse: 5.21084\n",
      "[9]\tvalid_0's rmse: 4.96877\n",
      "[10]\tvalid_0's rmse: 4.76764\n",
      "[LightGBM] [Warning] Auto-choosing col-wise multi-threading, the overhead of testing was 0.019749 seconds.\n",
      "You can set `force_col_wise=true` to remove the overhead.\n",
      "[LightGBM] [Info] Total Bins 29743\n",
      "[LightGBM] [Info] Number of data points in the train set: 26064, number of used features: 122\n",
      "[LightGBM] [Info] Start training from score 13.130955\n",
      "[1]\tvalid_0's rmse: 8.25373\n",
      "[2]\tvalid_0's rmse: 7.56627\n",
      "[3]\tvalid_0's rmse: 6.99982\n",
      "[4]\tvalid_0's rmse: 6.54977\n",
      "[5]\tvalid_0's rmse: 6.14082\n",
      "[6]\tvalid_0's rmse: 5.8041\n",
      "[7]\tvalid_0's rmse: 5.47612\n",
      "[8]\tvalid_0's rmse: 5.23311"
     ]
    },
    {
     "name": "stderr",
     "output_type": "stream",
     "text": [
      "\u001b[32m[I 2021-03-30 16:35:54,741]\u001b[0m Trial 71 pruned. Trial was pruned at iteration 10.\u001b[0m\n"
     ]
    },
    {
     "name": "stdout",
     "output_type": "stream",
     "text": [
      "\n",
      "[9]\tvalid_0's rmse: 5.01573\n",
      "[10]\tvalid_0's rmse: 4.82229\n",
      "[LightGBM] [Warning] Auto-choosing col-wise multi-threading, the overhead of testing was 0.021168 seconds.\n",
      "You can set `force_col_wise=true` to remove the overhead.\n",
      "[LightGBM] [Info] Total Bins 29743\n",
      "[LightGBM] [Info] Number of data points in the train set: 26064, number of used features: 122\n",
      "[LightGBM] [Info] Start training from score 13.130955\n",
      "[1]\tvalid_0's rmse: 8.25353\n",
      "[2]\tvalid_0's rmse: 7.60432\n",
      "[3]\tvalid_0's rmse: 7.03501\n",
      "[4]\tvalid_0's rmse: 6.52832\n",
      "[5]\tvalid_0's rmse: 6.11636\n",
      "[6]\tvalid_0's rmse: 5.73953\n",
      "[7]\tvalid_0's rmse: 5.42762\n",
      "[8]\tvalid_0's rmse: 5.15541\n"
     ]
    },
    {
     "name": "stderr",
     "output_type": "stream",
     "text": [
      "\u001b[32m[I 2021-03-30 16:35:55,283]\u001b[0m Trial 72 pruned. Trial was pruned at iteration 10.\u001b[0m\n"
     ]
    },
    {
     "name": "stdout",
     "output_type": "stream",
     "text": [
      "[9]\tvalid_0's rmse: 4.9282\n",
      "[10]\tvalid_0's rmse: 4.73726\n",
      "[LightGBM] [Warning] Auto-choosing col-wise multi-threading, the overhead of testing was 0.018267 seconds.\n",
      "You can set `force_col_wise=true` to remove the overhead.\n",
      "[LightGBM] [Info] Total Bins 29743\n",
      "[LightGBM] [Info] Number of data points in the train set: 26064, number of used features: 122\n",
      "[LightGBM] [Info] Start training from score 13.130955\n",
      "[1]\tvalid_0's rmse: 8.26122\n",
      "[2]\tvalid_0's rmse: 7.60387\n",
      "[3]\tvalid_0's rmse: 7.07064\n",
      "[4]\tvalid_0's rmse: 6.58972\n",
      "[5]\tvalid_0's rmse: 6.19029\n",
      "[6]\tvalid_0's rmse: 5.82137\n",
      "[7]\tvalid_0's rmse: 5.50205\n"
     ]
    },
    {
     "name": "stderr",
     "output_type": "stream",
     "text": [
      "\u001b[32m[I 2021-03-30 16:35:55,815]\u001b[0m Trial 73 pruned. Trial was pruned at iteration 10.\u001b[0m\n"
     ]
    },
    {
     "name": "stdout",
     "output_type": "stream",
     "text": [
      "[8]\tvalid_0's rmse: 5.22274\n",
      "[9]\tvalid_0's rmse: 4.9843\n",
      "[10]\tvalid_0's rmse: 4.76568\n",
      "[LightGBM] [Warning] Auto-choosing col-wise multi-threading, the overhead of testing was 0.018212 seconds.\n",
      "You can set `force_col_wise=true` to remove the overhead.\n",
      "[LightGBM] [Info] Total Bins 29743\n",
      "[LightGBM] [Info] Number of data points in the train set: 26064, number of used features: 122\n",
      "[LightGBM] [Info] Start training from score 13.130955\n",
      "[1]\tvalid_0's rmse: 8.27369\n",
      "[2]\tvalid_0's rmse: 7.59456\n",
      "[3]\tvalid_0's rmse: 7.04225\n",
      "[4]\tvalid_0's rmse: 6.55428\n",
      "[5]\tvalid_0's rmse: 6.1451\n",
      "[6]\tvalid_0's rmse: 5.78917\n",
      "[7]\tvalid_0's rmse: 5.47831\n",
      "[8]\tvalid_0's rmse: 5.22818\n",
      "[9]\tvalid_0's rmse: 4.99597\n"
     ]
    },
    {
     "name": "stderr",
     "output_type": "stream",
     "text": [
      "\u001b[32m[I 2021-03-30 16:35:56,298]\u001b[0m Trial 74 pruned. Trial was pruned at iteration 10.\u001b[0m\n"
     ]
    },
    {
     "name": "stdout",
     "output_type": "stream",
     "text": [
      "[10]\tvalid_0's rmse: 4.80454\n",
      "[LightGBM] [Warning] Auto-choosing col-wise multi-threading, the overhead of testing was 0.017359 seconds.\n",
      "You can set `force_col_wise=true` to remove the overhead.\n",
      "[LightGBM] [Info] Total Bins 29743\n",
      "[LightGBM] [Info] Number of data points in the train set: 26064, number of used features: 122\n",
      "[LightGBM] [Info] Start training from score 13.130955\n",
      "[1]\tvalid_0's rmse: 8.27467\n",
      "[2]\tvalid_0's rmse: 7.60444\n",
      "[3]\tvalid_0's rmse: 7.01962\n",
      "[4]\tvalid_0's rmse: 6.55562\n",
      "[5]\tvalid_0's rmse: 6.13377\n",
      "[6]\tvalid_0's rmse: 5.7802\n",
      "[7]\tvalid_0's rmse: 5.45713\n"
     ]
    },
    {
     "name": "stderr",
     "output_type": "stream",
     "text": [
      "\u001b[32m[I 2021-03-30 16:35:56,877]\u001b[0m Trial 75 pruned. Trial was pruned at iteration 11.\u001b[0m\n"
     ]
    },
    {
     "name": "stdout",
     "output_type": "stream",
     "text": [
      "[8]\tvalid_0's rmse: 5.13669\n",
      "[9]\tvalid_0's rmse: 4.90962\n",
      "[10]\tvalid_0's rmse: 4.71422\n",
      "[11]\tvalid_0's rmse: 4.55642\n",
      "[LightGBM] [Warning] Auto-choosing col-wise multi-threading, the overhead of testing was 0.021940 seconds.\n",
      "You can set `force_col_wise=true` to remove the overhead.\n",
      "[LightGBM] [Info] Total Bins 29743\n",
      "[LightGBM] [Info] Number of data points in the train set: 26064, number of used features: 122\n",
      "[LightGBM] [Info] Start training from score 13.130955\n",
      "[1]\tvalid_0's rmse: 8.25138\n",
      "[2]\tvalid_0's rmse: 7.61954\n",
      "[3]\tvalid_0's rmse: 7.05743\n",
      "[4]\tvalid_0's rmse: 6.57809\n",
      "[5]\tvalid_0's rmse: 6.15849\n"
     ]
    },
    {
     "name": "stderr",
     "output_type": "stream",
     "text": [
      "\u001b[32m[I 2021-03-30 16:35:57,497]\u001b[0m Trial 76 pruned. Trial was pruned at iteration 10.\u001b[0m\n"
     ]
    },
    {
     "name": "stdout",
     "output_type": "stream",
     "text": [
      "[6]\tvalid_0's rmse: 5.79081\n",
      "[7]\tvalid_0's rmse: 5.46427\n",
      "[8]\tvalid_0's rmse: 5.19676\n",
      "[9]\tvalid_0's rmse: 4.97425\n",
      "[10]\tvalid_0's rmse: 4.77132\n",
      "[LightGBM] [Warning] Auto-choosing col-wise multi-threading, the overhead of testing was 0.015469 seconds.\n",
      "You can set `force_col_wise=true` to remove the overhead.\n",
      "[LightGBM] [Info] Total Bins 29743\n",
      "[LightGBM] [Info] Number of data points in the train set: 26064, number of used features: 122\n",
      "[LightGBM] [Info] Start training from score 13.130955\n",
      "[1]\tvalid_0's rmse: 8.26083\n",
      "[2]\tvalid_0's rmse: 7.64449\n",
      "[3]\tvalid_0's rmse: 7.10506\n",
      "[4]\tvalid_0's rmse: 6.62448\n",
      "[5]\tvalid_0's rmse: 6.20648\n",
      "[6]\tvalid_0's rmse: 5.84557\n",
      "[7]\tvalid_0's rmse: 5.53741\n",
      "[8]\tvalid_0's rmse: 5.25722\n"
     ]
    },
    {
     "name": "stderr",
     "output_type": "stream",
     "text": [
      "\u001b[32m[I 2021-03-30 16:35:58,011]\u001b[0m Trial 77 pruned. Trial was pruned at iteration 10.\u001b[0m\n"
     ]
    },
    {
     "name": "stdout",
     "output_type": "stream",
     "text": [
      "[9]\tvalid_0's rmse: 5.03902\n",
      "[10]\tvalid_0's rmse: 4.85989\n",
      "[LightGBM] [Warning] Auto-choosing col-wise multi-threading, the overhead of testing was 0.017936 seconds.\n",
      "You can set `force_col_wise=true` to remove the overhead.\n",
      "[LightGBM] [Info] Total Bins 29743\n",
      "[LightGBM] [Info] Number of data points in the train set: 26064, number of used features: 122\n",
      "[LightGBM] [Info] Start training from score 13.130955\n",
      "[1]\tvalid_0's rmse: 8.26463\n",
      "[2]\tvalid_0's rmse: 7.58796\n",
      "[3]\tvalid_0's rmse: 7.0401\n",
      "[4]\tvalid_0's rmse: 6.55665\n",
      "[5]\tvalid_0's rmse: 6.15506\n",
      "[6]\tvalid_0's rmse: 5.76928\n",
      "[7]\tvalid_0's rmse: 5.4404\n",
      "[8]\tvalid_0's rmse: 5.16841\n"
     ]
    },
    {
     "name": "stderr",
     "output_type": "stream",
     "text": [
      "\u001b[32m[I 2021-03-30 16:35:58,530]\u001b[0m Trial 78 pruned. Trial was pruned at iteration 10.\u001b[0m\n"
     ]
    },
    {
     "name": "stdout",
     "output_type": "stream",
     "text": [
      "[9]\tvalid_0's rmse: 4.93455\n",
      "[10]\tvalid_0's rmse: 4.75716\n",
      "[LightGBM] [Warning] Auto-choosing col-wise multi-threading, the overhead of testing was 0.019085 seconds.\n",
      "You can set `force_col_wise=true` to remove the overhead.\n",
      "[LightGBM] [Info] Total Bins 29743\n",
      "[LightGBM] [Info] Number of data points in the train set: 26064, number of used features: 122\n",
      "[LightGBM] [Info] Start training from score 13.130955\n",
      "[1]\tvalid_0's rmse: 8.24401\n",
      "[2]\tvalid_0's rmse: 7.60574\n",
      "[3]\tvalid_0's rmse: 7.05853\n",
      "[4]\tvalid_0's rmse: 6.57435\n",
      "[5]\tvalid_0's rmse: 6.153\n",
      "[6]\tvalid_0's rmse: 5.79475\n"
     ]
    },
    {
     "name": "stderr",
     "output_type": "stream",
     "text": [
      "\u001b[32m[I 2021-03-30 16:35:59,092]\u001b[0m Trial 79 pruned. Trial was pruned at iteration 10.\u001b[0m\n"
     ]
    },
    {
     "name": "stdout",
     "output_type": "stream",
     "text": [
      "[7]\tvalid_0's rmse: 5.46334\n",
      "[8]\tvalid_0's rmse: 5.18069\n",
      "[9]\tvalid_0's rmse: 4.92176\n",
      "[10]\tvalid_0's rmse: 4.72359\n",
      "[LightGBM] [Warning] Auto-choosing col-wise multi-threading, the overhead of testing was 0.015086 seconds.\n",
      "You can set `force_col_wise=true` to remove the overhead.\n",
      "[LightGBM] [Info] Total Bins 29743\n",
      "[LightGBM] [Info] Number of data points in the train set: 26064, number of used features: 122\n",
      "[LightGBM] [Info] Start training from score 13.130955\n",
      "[1]\tvalid_0's rmse: 8.2761\n",
      "[2]\tvalid_0's rmse: 7.61862\n",
      "[3]\tvalid_0's rmse: 7.01092\n",
      "[4]\tvalid_0's rmse: 6.51363\n",
      "[5]\tvalid_0's rmse: 6.11779\n",
      "[6]\tvalid_0's rmse: 5.75806\n"
     ]
    },
    {
     "name": "stderr",
     "output_type": "stream",
     "text": [
      "\u001b[32m[I 2021-03-30 16:35:59,680]\u001b[0m Trial 80 pruned. Trial was pruned at iteration 10.\u001b[0m\n"
     ]
    },
    {
     "name": "stdout",
     "output_type": "stream",
     "text": [
      "[7]\tvalid_0's rmse: 5.43026\n",
      "[8]\tvalid_0's rmse: 5.17621\n",
      "[9]\tvalid_0's rmse: 4.9386\n",
      "[10]\tvalid_0's rmse: 4.7286\n",
      "[LightGBM] [Warning] Auto-choosing col-wise multi-threading, the overhead of testing was 0.029696 seconds.\n",
      "You can set `force_col_wise=true` to remove the overhead.\n",
      "[LightGBM] [Info] Total Bins 29743\n",
      "[LightGBM] [Info] Number of data points in the train set: 26064, number of used features: 122\n",
      "[LightGBM] [Info] Start training from score 13.130955\n",
      "[1]\tvalid_0's rmse: 8.26034\n",
      "[2]\tvalid_0's rmse: 7.60923\n",
      "[3]\tvalid_0's rmse: 7.05384\n",
      "[4]\tvalid_0's rmse: 6.54944\n",
      "[5]\tvalid_0's rmse: 6.15821\n",
      "[6]\tvalid_0's rmse: 5.76461\n",
      "[7]\tvalid_0's rmse: 5.4347\n"
     ]
    },
    {
     "name": "stderr",
     "output_type": "stream",
     "text": [
      "\u001b[32m[I 2021-03-30 16:36:00,390]\u001b[0m Trial 81 pruned. Trial was pruned at iteration 15.\u001b[0m\n"
     ]
    },
    {
     "name": "stdout",
     "output_type": "stream",
     "text": [
      "[8]\tvalid_0's rmse: 5.15153\n",
      "[9]\tvalid_0's rmse: 4.90304\n",
      "[10]\tvalid_0's rmse: 4.68842\n",
      "[11]\tvalid_0's rmse: 4.53449\n",
      "[12]\tvalid_0's rmse: 4.40293\n",
      "[13]\tvalid_0's rmse: 4.2814\n",
      "[14]\tvalid_0's rmse: 4.19055\n",
      "[15]\tvalid_0's rmse: 4.12728\n",
      "[LightGBM] [Warning] Auto-choosing col-wise multi-threading, the overhead of testing was 0.016432 seconds.\n",
      "You can set `force_col_wise=true` to remove the overhead.\n",
      "[LightGBM] [Info] Total Bins 29743\n",
      "[LightGBM] [Info] Number of data points in the train set: 26064, number of used features: 122\n",
      "[LightGBM] [Info] Start training from score 13.130955\n",
      "[1]\tvalid_0's rmse: 8.23354\n",
      "[2]\tvalid_0's rmse: 7.58\n",
      "[3]\tvalid_0's rmse: 7.03664\n",
      "[4]\tvalid_0's rmse: 6.53041\n",
      "[5]\tvalid_0's rmse: 6.09462\n",
      "[6]\tvalid_0's rmse: 5.71376\n",
      "[7]\tvalid_0's rmse: 5.37597\n",
      "[8]\tvalid_0's rmse: 5.09879\n",
      "[9]\tvalid_0's rmse: 4.85361\n",
      "[10]\tvalid_0's rmse: 4.66084\n",
      "[11]\tvalid_0's rmse: 4.50493\n",
      "[12]\tvalid_0's rmse: 4.36427\n",
      "[13]\tvalid_0's rmse: 4.24539\n",
      "[14]\tvalid_0's rmse: 4.16089\n",
      "[15]\tvalid_0's rmse: 4.09145\n",
      "[16]\tvalid_0's rmse: 4.02715\n",
      "[17]\tvalid_0's rmse: 3.97962\n",
      "[18]\tvalid_0's rmse: 3.92962\n",
      "[19]\tvalid_0's rmse: 3.89217\n",
      "[20]\tvalid_0's rmse: 3.86302\n"
     ]
    },
    {
     "name": "stderr",
     "output_type": "stream",
     "text": [
      "\u001b[32m[I 2021-03-30 16:36:01,107]\u001b[0m Trial 82 pruned. Trial was pruned at iteration 21.\u001b[0m\n"
     ]
    },
    {
     "name": "stdout",
     "output_type": "stream",
     "text": [
      "[21]\tvalid_0's rmse: 3.85794\n",
      "[LightGBM] [Warning] Auto-choosing col-wise multi-threading, the overhead of testing was 0.019520 seconds.\n",
      "You can set `force_col_wise=true` to remove the overhead.\n",
      "[LightGBM] [Info] Total Bins 29743\n",
      "[LightGBM] [Info] Number of data points in the train set: 26064, number of used features: 122\n",
      "[LightGBM] [Info] Start training from score 13.130955\n",
      "[1]\tvalid_0's rmse: 8.23876\n",
      "[2]\tvalid_0's rmse: 7.59672\n",
      "[3]\tvalid_0's rmse: 7.03527\n",
      "[4]\tvalid_0's rmse: 6.54829\n",
      "[5]\tvalid_0's rmse: 6.12804\n",
      "[6]\tvalid_0's rmse: 5.76096\n",
      "[7]\tvalid_0's rmse: 5.42091\n"
     ]
    },
    {
     "name": "stderr",
     "output_type": "stream",
     "text": [
      "\u001b[32m[I 2021-03-30 16:36:01,734]\u001b[0m Trial 83 pruned. Trial was pruned at iteration 14.\u001b[0m\n"
     ]
    },
    {
     "name": "stdout",
     "output_type": "stream",
     "text": [
      "[8]\tvalid_0's rmse: 5.14329\n",
      "[9]\tvalid_0's rmse: 4.90449\n",
      "[10]\tvalid_0's rmse: 4.70422\n",
      "[11]\tvalid_0's rmse: 4.53744\n",
      "[12]\tvalid_0's rmse: 4.4086\n",
      "[13]\tvalid_0's rmse: 4.28063\n",
      "[14]\tvalid_0's rmse: 4.20189\n",
      "[LightGBM] [Warning] Auto-choosing col-wise multi-threading, the overhead of testing was 0.014592 seconds.\n",
      "You can set `force_col_wise=true` to remove the overhead.\n",
      "[LightGBM] [Info] Total Bins 29743\n",
      "[LightGBM] [Info] Number of data points in the train set: 26064, number of used features: 122\n",
      "[LightGBM] [Info] Start training from score 13.130955\n",
      "[1]\tvalid_0's rmse: 8.23624\n",
      "[2]\tvalid_0's rmse: 7.57493\n",
      "[3]\tvalid_0's rmse: 7.0214\n",
      "[4]\tvalid_0's rmse: 6.5302\n",
      "[5]\tvalid_0's rmse: 6.11787\n",
      "[6]\tvalid_0's rmse: 5.72693\n",
      "[7]\tvalid_0's rmse: 5.3967\n",
      "[8]\tvalid_0's rmse: 5.11452\n",
      "[9]\tvalid_0's rmse: 4.87832\n",
      "[10]\tvalid_0's rmse: 4.69917\n",
      "[11]\tvalid_0's rmse: 4.54569\n",
      "[12]\tvalid_0's rmse: 4.40448\n",
      "[13]\tvalid_0's rmse: 4.29056\n",
      "[14]\tvalid_0's rmse: 4.19927\n",
      "[15]\tvalid_0's rmse: 4.12794\n"
     ]
    },
    {
     "name": "stderr",
     "output_type": "stream",
     "text": [
      "\u001b[32m[I 2021-03-30 16:36:02,415]\u001b[0m Trial 84 pruned. Trial was pruned at iteration 15.\u001b[0m\n"
     ]
    },
    {
     "name": "stdout",
     "output_type": "stream",
     "text": [
      "[LightGBM] [Warning] Auto-choosing col-wise multi-threading, the overhead of testing was 0.016936 seconds.\n",
      "You can set `force_col_wise=true` to remove the overhead.\n",
      "[LightGBM] [Info] Total Bins 29743\n",
      "[LightGBM] [Info] Number of data points in the train set: 26064, number of used features: 122\n",
      "[LightGBM] [Info] Start training from score 13.130955\n",
      "[1]\tvalid_0's rmse: 8.25697\n",
      "[2]\tvalid_0's rmse: 7.61782\n",
      "[3]\tvalid_0's rmse: 7.06157\n",
      "[4]\tvalid_0's rmse: 6.5689\n",
      "[5]\tvalid_0's rmse: 6.1661\n",
      "[6]\tvalid_0's rmse: 5.75628\n",
      "[7]\tvalid_0's rmse: 5.44745\n",
      "[8]\tvalid_0's rmse: 5.16676\n",
      "[9]\tvalid_0's rmse: 4.91837\n",
      "[10]\tvalid_0's rmse: 4.72749\n",
      "[11]\tvalid_0's rmse: 4.55867\n"
     ]
    },
    {
     "name": "stderr",
     "output_type": "stream",
     "text": [
      "\u001b[32m[I 2021-03-30 16:36:02,892]\u001b[0m Trial 85 pruned. Trial was pruned at iteration 12.\u001b[0m\n"
     ]
    },
    {
     "name": "stdout",
     "output_type": "stream",
     "text": [
      "[12]\tvalid_0's rmse: 4.42347\n",
      "[LightGBM] [Warning] Auto-choosing col-wise multi-threading, the overhead of testing was 0.017972 seconds.\n",
      "You can set `force_col_wise=true` to remove the overhead.\n",
      "[LightGBM] [Info] Total Bins 29743\n",
      "[LightGBM] [Info] Number of data points in the train set: 26064, number of used features: 122\n",
      "[LightGBM] [Info] Start training from score 13.130955\n",
      "[1]\tvalid_0's rmse: 8.25625\n",
      "[2]\tvalid_0's rmse: 7.62305\n",
      "[3]\tvalid_0's rmse: 7.0685\n",
      "[4]\tvalid_0's rmse: 6.57652\n",
      "[5]\tvalid_0's rmse: 6.15368\n",
      "[6]\tvalid_0's rmse: 5.76387\n",
      "[7]\tvalid_0's rmse: 5.43015\n",
      "[8]\tvalid_0's rmse: 5.15236\n",
      "[9]\tvalid_0's rmse: 4.91604\n",
      "[10]\tvalid_0's rmse: 4.71479\n"
     ]
    },
    {
     "name": "stderr",
     "output_type": "stream",
     "text": [
      "\u001b[32m[I 2021-03-30 16:36:03,382]\u001b[0m Trial 86 pruned. Trial was pruned at iteration 11.\u001b[0m\n"
     ]
    },
    {
     "name": "stdout",
     "output_type": "stream",
     "text": [
      "[11]\tvalid_0's rmse: 4.55206\n",
      "[LightGBM] [Warning] Auto-choosing col-wise multi-threading, the overhead of testing was 0.020071 seconds.\n",
      "You can set `force_col_wise=true` to remove the overhead.\n",
      "[LightGBM] [Info] Total Bins 29743\n",
      "[LightGBM] [Info] Number of data points in the train set: 26064, number of used features: 122\n",
      "[LightGBM] [Info] Start training from score 13.130955\n",
      "[1]\tvalid_0's rmse: 8.24095\n",
      "[2]\tvalid_0's rmse: 7.57368\n",
      "[3]\tvalid_0's rmse: 7.01827\n",
      "[4]\tvalid_0's rmse: 6.50656\n",
      "[5]\tvalid_0's rmse: 6.07467\n",
      "[6]\tvalid_0's rmse: 5.68384\n",
      "[7]\tvalid_0's rmse: 5.36007\n",
      "[8]\tvalid_0's rmse: 5.08853\n"
     ]
    },
    {
     "name": "stderr",
     "output_type": "stream",
     "text": [
      "\u001b[32m[I 2021-03-30 16:36:04,003]\u001b[0m Trial 87 pruned. Trial was pruned at iteration 16.\u001b[0m\n"
     ]
    },
    {
     "name": "stdout",
     "output_type": "stream",
     "text": [
      "[9]\tvalid_0's rmse: 4.84071\n",
      "[10]\tvalid_0's rmse: 4.63935\n",
      "[11]\tvalid_0's rmse: 4.48623\n",
      "[12]\tvalid_0's rmse: 4.36238\n",
      "[13]\tvalid_0's rmse: 4.25041\n",
      "[14]\tvalid_0's rmse: 4.16119\n",
      "[15]\tvalid_0's rmse: 4.09848\n",
      "[16]\tvalid_0's rmse: 4.0476\n",
      "[LightGBM] [Warning] Auto-choosing col-wise multi-threading, the overhead of testing was 0.018800 seconds.\n",
      "You can set `force_col_wise=true` to remove the overhead.\n",
      "[LightGBM] [Info] Total Bins 29743\n",
      "[LightGBM] [Info] Number of data points in the train set: 26064, number of used features: 122\n",
      "[LightGBM] [Info] Start training from score 13.130955\n",
      "[1]\tvalid_0's rmse: 8.25908\n",
      "[2]\tvalid_0's rmse: 7.57829\n",
      "[3]\tvalid_0's rmse: 6.99449\n",
      "[4]\tvalid_0's rmse: 6.51455\n",
      "[5]\tvalid_0's rmse: 6.11344\n"
     ]
    },
    {
     "name": "stderr",
     "output_type": "stream",
     "text": [
      "\u001b[32m[I 2021-03-30 16:36:04,604]\u001b[0m Trial 88 pruned. Trial was pruned at iteration 10.\u001b[0m\n"
     ]
    },
    {
     "name": "stdout",
     "output_type": "stream",
     "text": [
      "[6]\tvalid_0's rmse: 5.75149\n",
      "[7]\tvalid_0's rmse: 5.4469\n",
      "[8]\tvalid_0's rmse: 5.16607\n",
      "[9]\tvalid_0's rmse: 4.92409\n",
      "[10]\tvalid_0's rmse: 4.72796\n",
      "[LightGBM] [Warning] Auto-choosing col-wise multi-threading, the overhead of testing was 0.012799 seconds.\n",
      "You can set `force_col_wise=true` to remove the overhead.\n",
      "[LightGBM] [Info] Total Bins 29743\n",
      "[LightGBM] [Info] Number of data points in the train set: 26064, number of used features: 122\n",
      "[LightGBM] [Info] Start training from score 13.130955\n",
      "[LightGBM] [Warning] No further splits with positive gain, best gain: -inf\n",
      "[1]\tvalid_0's rmse: 8.27324\n",
      "[LightGBM] [Warning] No further splits with positive gain, best gain: -inf\n",
      "[2]\tvalid_0's rmse: 7.62802\n",
      "[LightGBM] [Warning] No further splits with positive gain, best gain: -inf\n",
      "[3]\tvalid_0's rmse: 7.06452\n",
      "[LightGBM] [Warning] No further splits with positive gain, best gain: -inf\n",
      "[4]\tvalid_0's rmse: 6.60304\n",
      "[LightGBM] [Warning] No further splits with positive gain, best gain: -inf\n"
     ]
    },
    {
     "name": "stderr",
     "output_type": "stream",
     "text": [
      "\u001b[32m[I 2021-03-30 16:36:05,195]\u001b[0m Trial 89 pruned. Trial was pruned at iteration 10.\u001b[0m\n"
     ]
    },
    {
     "name": "stdout",
     "output_type": "stream",
     "text": [
      "[5]\tvalid_0's rmse: 6.20131\n",
      "[LightGBM] [Warning] No further splits with positive gain, best gain: -inf\n",
      "[6]\tvalid_0's rmse: 5.83655\n",
      "[LightGBM] [Warning] No further splits with positive gain, best gain: -inf\n",
      "[7]\tvalid_0's rmse: 5.51187\n",
      "[LightGBM] [Warning] No further splits with positive gain, best gain: -inf\n",
      "[8]\tvalid_0's rmse: 5.21761\n",
      "[LightGBM] [Warning] No further splits with positive gain, best gain: -inf\n",
      "[9]\tvalid_0's rmse: 4.99059\n",
      "[LightGBM] [Warning] No further splits with positive gain, best gain: -inf\n",
      "[10]\tvalid_0's rmse: 4.76504\n",
      "[LightGBM] [Warning] No further splits with positive gain, best gain: -inf\n",
      "[LightGBM] [Warning] Auto-choosing col-wise multi-threading, the overhead of testing was 0.016675 seconds.\n",
      "You can set `force_col_wise=true` to remove the overhead.\n",
      "[LightGBM] [Info] Total Bins 29743\n",
      "[LightGBM] [Info] Number of data points in the train set: 26064, number of used features: 122\n",
      "[LightGBM] [Info] Start training from score 13.130955\n",
      "[1]\tvalid_0's rmse: 8.24565\n",
      "[2]\tvalid_0's rmse: 7.60143\n",
      "[3]\tvalid_0's rmse: 7.05837\n",
      "[4]\tvalid_0's rmse: 6.56422\n",
      "[5]\tvalid_0's rmse: 6.13787\n",
      "[6]\tvalid_0's rmse: 5.77404\n"
     ]
    },
    {
     "name": "stderr",
     "output_type": "stream",
     "text": [
      "\u001b[32m[I 2021-03-30 16:36:05,750]\u001b[0m Trial 90 pruned. Trial was pruned at iteration 10.\u001b[0m\n"
     ]
    },
    {
     "name": "stdout",
     "output_type": "stream",
     "text": [
      "[7]\tvalid_0's rmse: 5.4744\n",
      "[8]\tvalid_0's rmse: 5.21206\n",
      "[9]\tvalid_0's rmse: 4.9812\n",
      "[10]\tvalid_0's rmse: 4.77164\n",
      "[LightGBM] [Warning] Auto-choosing col-wise multi-threading, the overhead of testing was 0.017426 seconds.\n",
      "You can set `force_col_wise=true` to remove the overhead.\n",
      "[LightGBM] [Info] Total Bins 29743\n",
      "[LightGBM] [Info] Number of data points in the train set: 26064, number of used features: 122\n",
      "[LightGBM] [Info] Start training from score 13.130955\n",
      "[1]\tvalid_0's rmse: 8.25128\n",
      "[2]\tvalid_0's rmse: 7.55936\n",
      "[3]\tvalid_0's rmse: 6.99567\n",
      "[4]\tvalid_0's rmse: 6.50237\n",
      "[5]\tvalid_0's rmse: 6.08463\n",
      "[6]\tvalid_0's rmse: 5.72028\n",
      "[7]\tvalid_0's rmse: 5.39321\n",
      "[8]\tvalid_0's rmse: 5.12807\n",
      "[9]\tvalid_0's rmse: 4.89144\n",
      "[10]\tvalid_0's rmse: 4.69166\n",
      "[11]\tvalid_0's rmse: 4.53995\n"
     ]
    },
    {
     "name": "stderr",
     "output_type": "stream",
     "text": [
      "\u001b[32m[I 2021-03-30 16:36:06,259]\u001b[0m Trial 91 pruned. Trial was pruned at iteration 14.\u001b[0m\n"
     ]
    },
    {
     "name": "stdout",
     "output_type": "stream",
     "text": [
      "[12]\tvalid_0's rmse: 4.41324\n",
      "[13]\tvalid_0's rmse: 4.3021\n",
      "[14]\tvalid_0's rmse: 4.20804\n"
     ]
    },
    {
     "name": "stderr",
     "output_type": "stream",
     "text": [
      "\u001b[32m[I 2021-03-30 16:36:06,781]\u001b[0m Trial 92 pruned. Trial was pruned at iteration 10.\u001b[0m\n"
     ]
    },
    {
     "name": "stdout",
     "output_type": "stream",
     "text": [
      "[LightGBM] [Warning] Auto-choosing col-wise multi-threading, the overhead of testing was 0.018214 seconds.\n",
      "You can set `force_col_wise=true` to remove the overhead.\n",
      "[LightGBM] [Info] Total Bins 29743\n",
      "[LightGBM] [Info] Number of data points in the train set: 26064, number of used features: 122\n",
      "[LightGBM] [Info] Start training from score 13.130955\n",
      "[1]\tvalid_0's rmse: 8.26363\n",
      "[2]\tvalid_0's rmse: 7.60108\n",
      "[3]\tvalid_0's rmse: 7.04404\n",
      "[4]\tvalid_0's rmse: 6.53546\n",
      "[5]\tvalid_0's rmse: 6.13677\n",
      "[6]\tvalid_0's rmse: 5.77612\n",
      "[7]\tvalid_0's rmse: 5.46246\n",
      "[8]\tvalid_0's rmse: 5.18925\n",
      "[9]\tvalid_0's rmse: 4.9453\n",
      "[10]\tvalid_0's rmse: 4.73339\n",
      "[LightGBM] [Warning] Auto-choosing col-wise multi-threading, the overhead of testing was 0.018215 seconds.\n",
      "You can set `force_col_wise=true` to remove the overhead.\n",
      "[LightGBM] [Info] Total Bins 29743\n",
      "[LightGBM] [Info] Number of data points in the train set: 26064, number of used features: 122\n",
      "[LightGBM] [Info] Start training from score 13.130955\n",
      "[1]\tvalid_0's rmse: 8.23864\n",
      "[2]\tvalid_0's rmse: 7.59538\n",
      "[3]\tvalid_0's rmse: 7.04596\n",
      "[4]\tvalid_0's rmse: 6.56702\n",
      "[5]\tvalid_0's rmse: 6.13297\n",
      "[6]\tvalid_0's rmse: 5.7387\n",
      "[7]\tvalid_0's rmse: 5.44058\n",
      "[8]\tvalid_0's rmse: 5.15698\n"
     ]
    },
    {
     "name": "stderr",
     "output_type": "stream",
     "text": [
      "\u001b[32m[I 2021-03-30 16:36:07,361]\u001b[0m Trial 93 pruned. Trial was pruned at iteration 14.\u001b[0m\n"
     ]
    },
    {
     "name": "stdout",
     "output_type": "stream",
     "text": [
      "[9]\tvalid_0's rmse: 4.92011\n",
      "[10]\tvalid_0's rmse: 4.70888\n",
      "[11]\tvalid_0's rmse: 4.5563\n",
      "[12]\tvalid_0's rmse: 4.4062\n",
      "[13]\tvalid_0's rmse: 4.2966\n",
      "[14]\tvalid_0's rmse: 4.20047\n"
     ]
    },
    {
     "name": "stderr",
     "output_type": "stream",
     "text": [
      "\u001b[32m[I 2021-03-30 16:36:07,791]\u001b[0m Trial 94 pruned. Trial was pruned at iteration 10.\u001b[0m\n"
     ]
    },
    {
     "name": "stdout",
     "output_type": "stream",
     "text": [
      "[LightGBM] [Warning] Auto-choosing col-wise multi-threading, the overhead of testing was 0.020087 seconds.\n",
      "You can set `force_col_wise=true` to remove the overhead.\n",
      "[LightGBM] [Info] Total Bins 29743\n",
      "[LightGBM] [Info] Number of data points in the train set: 26064, number of used features: 122\n",
      "[LightGBM] [Info] Start training from score 13.130955\n",
      "[1]\tvalid_0's rmse: 8.25677\n",
      "[2]\tvalid_0's rmse: 7.61736\n",
      "[3]\tvalid_0's rmse: 7.0673\n",
      "[4]\tvalid_0's rmse: 6.59237\n",
      "[5]\tvalid_0's rmse: 6.16082\n",
      "[6]\tvalid_0's rmse: 5.79036\n",
      "[7]\tvalid_0's rmse: 5.45171\n",
      "[8]\tvalid_0's rmse: 5.16596\n",
      "[9]\tvalid_0's rmse: 4.93674\n",
      "[10]\tvalid_0's rmse: 4.7204\n",
      "[LightGBM] [Warning] Auto-choosing col-wise multi-threading, the overhead of testing was 0.019591 seconds.\n",
      "You can set `force_col_wise=true` to remove the overhead.\n",
      "[LightGBM] [Info] Total Bins 29743\n",
      "[LightGBM] [Info] Number of data points in the train set: 26064, number of used features: 122\n",
      "[LightGBM] [Info] Start training from score 13.130955\n",
      "[1]\tvalid_0's rmse: 8.25401\n",
      "[2]\tvalid_0's rmse: 7.58643\n",
      "[3]\tvalid_0's rmse: 7.05063\n",
      "[4]\tvalid_0's rmse: 6.56682\n",
      "[5]\tvalid_0's rmse: 6.13836\n",
      "[6]\tvalid_0's rmse: 5.76601\n"
     ]
    },
    {
     "name": "stderr",
     "output_type": "stream",
     "text": [
      "\u001b[32m[I 2021-03-30 16:36:08,365]\u001b[0m Trial 95 pruned. Trial was pruned at iteration 10.\u001b[0m\n"
     ]
    },
    {
     "name": "stdout",
     "output_type": "stream",
     "text": [
      "[7]\tvalid_0's rmse: 5.4346\n",
      "[8]\tvalid_0's rmse: 5.16644\n",
      "[9]\tvalid_0's rmse: 4.93566\n",
      "[10]\tvalid_0's rmse: 4.72738\n"
     ]
    },
    {
     "name": "stderr",
     "output_type": "stream",
     "text": [
      "\u001b[32m[I 2021-03-30 16:36:08,754]\u001b[0m Trial 96 pruned. Trial was pruned at iteration 10.\u001b[0m\n"
     ]
    },
    {
     "name": "stdout",
     "output_type": "stream",
     "text": [
      "[LightGBM] [Warning] Auto-choosing col-wise multi-threading, the overhead of testing was 0.017428 seconds.\n",
      "You can set `force_col_wise=true` to remove the overhead.\n",
      "[LightGBM] [Info] Total Bins 29743\n",
      "[LightGBM] [Info] Number of data points in the train set: 26064, number of used features: 122\n",
      "[LightGBM] [Info] Start training from score 13.130955\n",
      "[1]\tvalid_0's rmse: 8.23442\n",
      "[2]\tvalid_0's rmse: 7.59087\n",
      "[3]\tvalid_0's rmse: 7.04404\n",
      "[4]\tvalid_0's rmse: 6.54887\n",
      "[5]\tvalid_0's rmse: 6.06975\n",
      "[6]\tvalid_0's rmse: 5.70686\n",
      "[7]\tvalid_0's rmse: 5.39983\n",
      "[8]\tvalid_0's rmse: 5.13383\n",
      "[9]\tvalid_0's rmse: 4.89781\n",
      "[10]\tvalid_0's rmse: 4.71785\n",
      "[LightGBM] [Warning] Auto-choosing col-wise multi-threading, the overhead of testing was 0.022439 seconds.\n",
      "You can set `force_col_wise=true` to remove the overhead.\n",
      "[LightGBM] [Info] Total Bins 29743\n",
      "[LightGBM] [Info] Number of data points in the train set: 26064, number of used features: 122\n",
      "[LightGBM] [Info] Start training from score 13.130955\n",
      "[1]\tvalid_0's rmse: 8.24405\n",
      "[2]\tvalid_0's rmse: 7.58883\n",
      "[3]\tvalid_0's rmse: 7.03834\n",
      "[4]\tvalid_0's rmse: 6.5405\n",
      "[5]\tvalid_0's rmse: 6.12722\n"
     ]
    },
    {
     "name": "stderr",
     "output_type": "stream",
     "text": [
      "\u001b[32m[I 2021-03-30 16:36:09,377]\u001b[0m Trial 97 pruned. Trial was pruned at iteration 10.\u001b[0m\n"
     ]
    },
    {
     "name": "stdout",
     "output_type": "stream",
     "text": [
      "[6]\tvalid_0's rmse: 5.76689\n",
      "[7]\tvalid_0's rmse: 5.45814\n",
      "[8]\tvalid_0's rmse: 5.18737\n",
      "[9]\tvalid_0's rmse: 4.98029\n",
      "[10]\tvalid_0's rmse: 4.79511\n",
      "[LightGBM] [Warning] Auto-choosing col-wise multi-threading, the overhead of testing was 0.017906 seconds.\n",
      "You can set `force_col_wise=true` to remove the overhead.\n",
      "[LightGBM] [Info] Total Bins 29743\n",
      "[LightGBM] [Info] Number of data points in the train set: 26064, number of used features: 122\n",
      "[LightGBM] [Info] Start training from score 13.130955\n",
      "[1]\tvalid_0's rmse: 8.26205\n",
      "[2]\tvalid_0's rmse: 7.60376\n",
      "[3]\tvalid_0's rmse: 7.03817\n",
      "[4]\tvalid_0's rmse: 6.54417\n",
      "[5]\tvalid_0's rmse: 6.14235\n",
      "[6]\tvalid_0's rmse: 5.77117\n",
      "[7]\tvalid_0's rmse: 5.46308\n",
      "[8]\tvalid_0's rmse: 5.20324\n",
      "[9]\tvalid_0's rmse: 4.93668\n"
     ]
    },
    {
     "name": "stderr",
     "output_type": "stream",
     "text": [
      "\u001b[32m[I 2021-03-30 16:36:09,928]\u001b[0m Trial 98 pruned. Trial was pruned at iteration 10.\u001b[0m\n"
     ]
    },
    {
     "name": "stdout",
     "output_type": "stream",
     "text": [
      "[10]\tvalid_0's rmse: 4.74155\n",
      "[LightGBM] [Warning] Auto-choosing col-wise multi-threading, the overhead of testing was 0.017031 seconds.\n",
      "You can set `force_col_wise=true` to remove the overhead.\n",
      "[LightGBM] [Info] Total Bins 29743\n",
      "[LightGBM] [Info] Number of data points in the train set: 26064, number of used features: 122\n",
      "[LightGBM] [Info] Start training from score 13.130955\n",
      "[1]\tvalid_0's rmse: 8.26522\n",
      "[2]\tvalid_0's rmse: 7.61129\n",
      "[3]\tvalid_0's rmse: 7.02829\n",
      "[4]\tvalid_0's rmse: 6.54207\n",
      "[5]\tvalid_0's rmse: 6.13467\n"
     ]
    },
    {
     "name": "stderr",
     "output_type": "stream",
     "text": [
      "\u001b[32m[I 2021-03-30 16:36:10,540]\u001b[0m Trial 99 pruned. Trial was pruned at iteration 10.\u001b[0m\n"
     ]
    },
    {
     "name": "stdout",
     "output_type": "stream",
     "text": [
      "[6]\tvalid_0's rmse: 5.75539\n",
      "[7]\tvalid_0's rmse: 5.45013\n",
      "[8]\tvalid_0's rmse: 5.16446\n",
      "[9]\tvalid_0's rmse: 4.92205\n",
      "[10]\tvalid_0's rmse: 4.72517\n",
      "Number of finished trials:  100\n",
      "Best trial:\n",
      "  Value: 3.6873052290026758\n",
      "  Params: \n",
      "    lambda_l1: 0.007121708083912655\n",
      "    lambda_l2: 5.0594801411481675e-06\n",
      "    num_leaves: 109\n",
      "    feature_fraction: 0.542505381984469\n",
      "    bagging_fraction: 0.8236127792385131\n",
      "    bagging_freq: 4\n",
      "    min_child_samples: 19\n"
     ]
    }
   ],
   "source": [
    "study = optuna.create_study(pruner=optuna.pruners.MedianPruner(n_warmup_steps=10), direction=\"minimize\")  #优化方向RMSE最小\n",
    "study.optimize(objective, n_trials=100, timeout=600) #100个trial或者600秒停止\n",
    "\n",
    "print(\"Number of finished trials: \", len(study.trials))\n",
    "print(\"Best trial:\")\n",
    "trial = study.best_trial\n",
    "\n",
    "print(\"  Value: {}\".format(trial.value))\n",
    "print(\"  Params: \")\n",
    "for key, value in trial.params.items():\n",
    "    print(\"    {}: {}\".format(key, value))"
   ]
  },
  {
   "cell_type": "code",
   "execution_count": 55,
   "id": "answering-nudist",
   "metadata": {},
   "outputs": [],
   "source": [
    "param = study.best_trial.params\n",
    "param['objective'] = \"regression\"\n",
    "param['metric'] = \"rmse\"\n",
    "param['boosting_type'] = \"gbdt\""
   ]
  },
  {
   "cell_type": "code",
   "execution_count": 56,
   "id": "chinese-advisory",
   "metadata": {},
   "outputs": [],
   "source": [
    "dtrain = lgb.Dataset(X_train, label=y_train,categorical_feature=[22],free_raw_data=False)\n",
    "dvalid = lgb.Dataset(X_test, label=y_test,categorical_feature=[22],free_raw_data=False)"
   ]
  },
  {
   "cell_type": "code",
   "execution_count": 57,
   "id": "chubby-sweden",
   "metadata": {
    "scrolled": true
   },
   "outputs": [
    {
     "name": "stdout",
     "output_type": "stream",
     "text": [
      "[LightGBM] [Warning] Auto-choosing col-wise multi-threading, the overhead of testing was 0.017683 seconds.\n",
      "You can set `force_col_wise=true` to remove the overhead.\n",
      "[LightGBM] [Info] Total Bins 29743\n",
      "[LightGBM] [Info] Number of data points in the train set: 26064, number of used features: 122\n",
      "[LightGBM] [Info] Start training from score 13.130955\n",
      "[1]\tvalid_0's rmse: 8.25086\n",
      "Training until validation scores don't improve for 20 rounds\n",
      "[2]\tvalid_0's rmse: 7.61165\n",
      "[3]\tvalid_0's rmse: 7.07304\n",
      "[4]\tvalid_0's rmse: 6.58612\n",
      "[5]\tvalid_0's rmse: 6.15252\n",
      "[6]\tvalid_0's rmse: 5.77248\n",
      "[7]\tvalid_0's rmse: 5.44405\n",
      "[8]\tvalid_0's rmse: 5.17543\n",
      "[9]\tvalid_0's rmse: 4.91287\n",
      "[10]\tvalid_0's rmse: 4.70633\n",
      "[11]\tvalid_0's rmse: 4.53173\n",
      "[12]\tvalid_0's rmse: 4.38958\n",
      "[13]\tvalid_0's rmse: 4.26388\n",
      "[14]\tvalid_0's rmse: 4.1632\n",
      "[15]\tvalid_0's rmse: 4.08506\n",
      "[16]\tvalid_0's rmse: 4.02678\n",
      "[17]\tvalid_0's rmse: 3.95276\n",
      "[18]\tvalid_0's rmse: 3.90299\n",
      "[19]\tvalid_0's rmse: 3.85134\n",
      "[20]\tvalid_0's rmse: 3.81694\n",
      "[21]\tvalid_0's rmse: 3.80792\n",
      "[22]\tvalid_0's rmse: 3.79191\n",
      "[23]\tvalid_0's rmse: 3.78345\n",
      "[24]\tvalid_0's rmse: 3.77575\n",
      "[25]\tvalid_0's rmse: 3.78112\n",
      "[26]\tvalid_0's rmse: 3.77471\n",
      "[27]\tvalid_0's rmse: 3.77624\n",
      "[28]\tvalid_0's rmse: 3.74729\n",
      "[29]\tvalid_0's rmse: 3.74699\n",
      "[30]\tvalid_0's rmse: 3.70053\n",
      "[31]\tvalid_0's rmse: 3.69923\n",
      "[32]\tvalid_0's rmse: 3.6942\n",
      "[33]\tvalid_0's rmse: 3.6802\n",
      "[34]\tvalid_0's rmse: 3.67715\n",
      "[35]\tvalid_0's rmse: 3.68029\n",
      "[36]\tvalid_0's rmse: 3.68243\n",
      "[37]\tvalid_0's rmse: 3.68265\n",
      "[38]\tvalid_0's rmse: 3.68391\n",
      "[39]\tvalid_0's rmse: 3.68662\n",
      "[40]\tvalid_0's rmse: 3.68902\n",
      "[41]\tvalid_0's rmse: 3.68628\n",
      "[42]\tvalid_0's rmse: 3.68381\n",
      "[43]\tvalid_0's rmse: 3.67633\n",
      "[44]\tvalid_0's rmse: 3.67229\n",
      "[45]\tvalid_0's rmse: 3.66998\n",
      "[46]\tvalid_0's rmse: 3.67204\n",
      "[47]\tvalid_0's rmse: 3.66887\n",
      "[48]\tvalid_0's rmse: 3.66483\n",
      "[49]\tvalid_0's rmse: 3.67541\n",
      "[50]\tvalid_0's rmse: 3.67625\n",
      "[51]\tvalid_0's rmse: 3.67071\n",
      "[52]\tvalid_0's rmse: 3.66913\n",
      "[53]\tvalid_0's rmse: 3.66946\n",
      "[54]\tvalid_0's rmse: 3.67409\n",
      "[55]\tvalid_0's rmse: 3.67687\n",
      "[56]\tvalid_0's rmse: 3.67717\n",
      "[57]\tvalid_0's rmse: 3.67245\n",
      "[58]\tvalid_0's rmse: 3.67345\n",
      "[59]\tvalid_0's rmse: 3.66574\n",
      "[60]\tvalid_0's rmse: 3.6655\n",
      "[61]\tvalid_0's rmse: 3.66816\n",
      "[62]\tvalid_0's rmse: 3.66629\n",
      "[63]\tvalid_0's rmse: 3.66357\n",
      "[64]\tvalid_0's rmse: 3.66504\n",
      "[65]\tvalid_0's rmse: 3.66348\n",
      "[66]\tvalid_0's rmse: 3.6609\n",
      "[67]\tvalid_0's rmse: 3.65748\n",
      "[68]\tvalid_0's rmse: 3.66293\n",
      "[69]\tvalid_0's rmse: 3.66441\n",
      "[70]\tvalid_0's rmse: 3.66263\n",
      "[71]\tvalid_0's rmse: 3.65827\n",
      "[72]\tvalid_0's rmse: 3.66052\n",
      "[73]\tvalid_0's rmse: 3.66023\n",
      "[74]\tvalid_0's rmse: 3.66371\n",
      "[75]\tvalid_0's rmse: 3.66516\n",
      "[76]\tvalid_0's rmse: 3.6635\n",
      "[77]\tvalid_0's rmse: 3.6632\n",
      "[78]\tvalid_0's rmse: 3.66291\n",
      "[79]\tvalid_0's rmse: 3.66593\n",
      "[80]\tvalid_0's rmse: 3.66559\n",
      "[81]\tvalid_0's rmse: 3.67132\n",
      "[82]\tvalid_0's rmse: 3.67212\n",
      "[83]\tvalid_0's rmse: 3.67476\n",
      "[84]\tvalid_0's rmse: 3.6736\n",
      "[85]\tvalid_0's rmse: 3.66936\n",
      "[86]\tvalid_0's rmse: 3.67115\n",
      "[87]\tvalid_0's rmse: 3.6696\n",
      "Early stopping, best iteration is:\n",
      "[67]\tvalid_0's rmse: 3.65748\n"
     ]
    }
   ],
   "source": [
    "gbm = lgb.train(param, dtrain, num_boost_round=500, valid_sets=[dvalid], early_stopping_rounds=20)\n",
    "preds = gbm.predict(X_test)\n",
    "trainpre = gbm.predict(X_train)"
   ]
  },
  {
   "cell_type": "code",
   "execution_count": 58,
   "id": "signed-direction",
   "metadata": {},
   "outputs": [
    {
     "name": "stderr",
     "output_type": "stream",
     "text": [
      "C:\\Anaconda\\lib\\site-packages\\matplotlib\\cbook\\__init__.py:1402: FutureWarning: Support for multi-dimensional indexing (e.g. `obj[:, None]`) is deprecated and will be removed in a future version.  Convert to a numpy array before indexing instead.\n",
      "  x[:, None]\n",
      "C:\\Anaconda\\lib\\site-packages\\matplotlib\\axes\\_base.py:276: FutureWarning: Support for multi-dimensional indexing (e.g. `obj[:, None]`) is deprecated and will be removed in a future version.  Convert to a numpy array before indexing instead.\n",
      "  x = x[:, np.newaxis]\n"
     ]
    },
    {
     "data": {
      "image/png": "[encoded data removed]",
      "text/plain": [
       "<Figure size 1440x720 with 1 Axes>"
      ]
     },
     "metadata": {
      "needs_background": "light"
     },
     "output_type": "display_data"
    }
   ],
   "source": [
    "plt.figure(figsize=(20,10))\n",
    "plt.plot(series,linewidth=3,label='series')\n",
    "plt.vlines(X.index[-1440*6],-1,200,linestyles = \"dashed\",linewidth=5)\n",
    "plt.plot(X.index[:-1440*6],trainpre,color='red',label='train',linewidth=3)\n",
    "plt.plot(X.index[-1440*6:],preds,color='yellow',label='test', linewidth=2)\n",
    "plt.legend()\n",
    "plt.show()"
   ]
  },
  {
   "cell_type": "code",
   "execution_count": 60,
   "id": "consolidated-monitor",
   "metadata": {
    "scrolled": true
   },
   "outputs": [
    {
     "data": {
      "image/png": "[encoded data removed]",
      "text/plain": [
       "<Figure size 2160x1440 with 1 Axes>"
      ]
     },
     "metadata": {
      "needs_background": "light"
     },
     "output_type": "display_data"
    }
   ],
   "source": [
    "lgb.plot_importance(gbm,height=1,figsize=(30,20))\n",
    "plt.show()"
   ]
  },
  {
   "cell_type": "code",
   "execution_count": 63,
   "id": "informational-redhead",
   "metadata": {
    "scrolled": true
   },
   "outputs": [],
   "source": [
    "percent = np.percentile(gbm.feature_importance(),70)\n",
    "features = [gbm.feature_name()[i] for i in np.where(gbm.feature_importance()>=percent)[0]]"
   ]
  },
  {
   "cell_type": "code",
   "execution_count": 64,
   "id": "otherwise-convention",
   "metadata": {
    "scrolled": true
   },
   "outputs": [
    {
     "data": {
      "text/plain": [
       "['1',\n",
       " '2',\n",
       " 'max3',\n",
       " 'min3',\n",
       " 'var3',\n",
       " 'median3',\n",
       " 'max5',\n",
       " 'min5',\n",
       " 'var5',\n",
       " 'median5',\n",
       " 'var7',\n",
       " 'diff1',\n",
       " 'diff2',\n",
       " 'lastweek_X',\n",
       " 'week',\n",
       " 'DB_TIME__cwt_coefficients__coeff_1__w_2__widths_(2, 5, 10, 20)',\n",
       " 'DB_TIME__cwt_coefficients__coeff_0__w_5__widths_(2, 5, 10, 20)',\n",
       " 'DB_TIME__cwt_coefficients__coeff_4__w_2__widths_(2, 5, 10, 20)',\n",
       " 'DB_TIME__cwt_coefficients__coeff_0__w_2__widths_(2, 5, 10, 20)',\n",
       " 'DB_TIME__cwt_coefficients__coeff_6__w_2__widths_(2, 5, 10, 20)',\n",
       " 'DB_TIME__cwt_coefficients__coeff_5__w_2__widths_(2, 5, 10, 20)',\n",
       " 'DB_TIME__quantile__q_0.9',\n",
       " 'DB_TIME__fft_coefficient__attr_\"abs\"__coeff_17',\n",
       " 'DB_TIME__fft_coefficient__attr_\"abs\"__coeff_15',\n",
       " 'DB_TIME__last_location_of_maximum',\n",
       " 'DB_TIME__agg_linear_trend__attr_\"intercept\"__chunk_len_5__f_agg_\"var\"',\n",
       " 'DB_TIME__agg_linear_trend__attr_\"slope\"__chunk_len_5__f_agg_\"var\"',\n",
       " 'DB_TIME__agg_linear_trend__attr_\"rvalue\"__chunk_len_10__f_agg_\"min\"',\n",
       " 'DB_TIME__agg_linear_trend__attr_\"intercept\"__chunk_len_10__f_agg_\"max\"',\n",
       " 'DB_TIME__agg_linear_trend__attr_\"rvalue\"__chunk_len_10__f_agg_\"var\"',\n",
       " 'DB_TIME__time_reversal_asymmetry_statistic__lag_3',\n",
       " '12',\n",
       " '13',\n",
       " '14',\n",
       " '15',\n",
       " '16',\n",
       " '17']"
      ]
     },
     "execution_count": 64,
     "metadata": {},
     "output_type": "execute_result"
    }
   ],
   "source": [
    "[featurename[int(i)] for i in features]  #保留的特征，第14个是类别变量week"
   ]
  },
  {
   "cell_type": "code",
   "execution_count": 67,
   "id": "center-blackjack",
   "metadata": {},
   "outputs": [],
   "source": [
    "X1 = X_new.iloc[:,np.where(gbm.feature_importance()>=percent)[0]]\n",
    "#测试集6个月\n",
    "X_train1 = X1[:-1440*6]\n",
    "X_test1 = X1[-1440*6:]"
   ]
  },
  {
   "cell_type": "code",
   "execution_count": 76,
   "id": "optical-hands",
   "metadata": {},
   "outputs": [],
   "source": [
    "def objective1(trial):\n",
    "    dtrain1 = lgb.Dataset(X_train1, label=y_train,categorical_feature=[14])\n",
    "    dvalid1 = lgb.Dataset(X_test1, label=y_test,categorical_feature=[14])\n",
    "    \n",
    "    param1 = {\n",
    "        \"objective\": \"regression\",  #目标函数\n",
    "        \"metric\": \"rmse\",  #评估函数\n",
    "        \"boosting_type\": \"gbdt\",   #提升类型\n",
    "        \"lambda_l1\": trial.suggest_float(\"lambda_l1\", 1e-8, 10.0, log=True),\n",
    "        \"lambda_l2\": trial.suggest_float(\"lambda_l2\", 1e-8, 10.0, log=True),\n",
    "        \"num_leaves\": trial.suggest_int(\"num_leaves\", 2, 256),   #叶子节点数\n",
    "        \"feature_fraction\": trial.suggest_float(\"feature_fraction\", 0.4, 1.0),   #建树的特征选择比例\n",
    "        \"bagging_fraction\": trial.suggest_float(\"bagging_fraction\", 0.4, 1.0),  #建树的样本采样比例\n",
    "        \"bagging_freq\": trial.suggest_int(\"bagging_freq\", 1, 7),   # k意味着每k次迭代执行bagging\n",
    "        \"min_child_samples\": trial.suggest_int(\"min_child_samples\", 5, 100),\n",
    "    }\n",
    "    \n",
    "    pruning_callback = optuna.integration.LightGBMPruningCallback(trial, \"rmse\") #剪枝\n",
    "    gbm1 = lgb.train(param1, dtrain1, valid_sets=[dvalid1],callbacks=[pruning_callback])\n",
    "    preds1 = gbm1.predict(X_test1)\n",
    "    rmse = mean_squared_error(y_test, preds1)**0.5\n",
    "    return rmse"
   ]
  },
  {
   "cell_type": "code",
   "execution_count": 77,
   "id": "complicated-swaziland",
   "metadata": {},
   "outputs": [
    {
     "name": "stderr",
     "output_type": "stream",
     "text": [
      "\u001b[32m[I 2021-03-30 16:43:59,583]\u001b[0m A new study created in memory with name: no-name-9a3d107d-b970-4875-99bb-e0a997c2bf36\u001b[0m\n",
      "C:\\Anaconda\\lib\\site-packages\\lightgbm\\basic.py:1702: UserWarning: Using categorical_feature in Dataset.\n",
      "  _log_warning('Using categorical_feature in Dataset.')\n",
      "C:\\Anaconda\\lib\\site-packages\\lightgbm\\basic.py:1433: UserWarning: Overriding the parameters from Reference Dataset.\n",
      "  _log_warning('Overriding the parameters from Reference Dataset.')\n",
      "C:\\Anaconda\\lib\\site-packages\\lightgbm\\basic.py:1245: UserWarning: categorical_column in param dict is overridden.\n",
      "  _log_warning('{} in param dict is overridden.'.format(cat_alias))\n"
     ]
    },
    {
     "name": "stdout",
     "output_type": "stream",
     "text": [
      "[LightGBM] [Warning] Auto-choosing col-wise multi-threading, the overhead of testing was 0.004225 seconds.\n",
      "You can set `force_col_wise=true` to remove the overhead.\n",
      "[LightGBM] [Info] Total Bins 9027\n",
      "[LightGBM] [Info] Number of data points in the train set: 26064, number of used features: 37\n",
      "[LightGBM] [Info] Start training from score 13.130955\n",
      "[1]\tvalid_0's rmse: 8.25283\n",
      "[2]\tvalid_0's rmse: 7.62633\n",
      "[3]\tvalid_0's rmse: 7.06581\n",
      "[4]\tvalid_0's rmse: 6.57821\n",
      "[5]\tvalid_0's rmse: 6.14883\n",
      "[6]\tvalid_0's rmse: 5.79694\n",
      "[7]\tvalid_0's rmse: 5.48107\n",
      "[8]\tvalid_0's rmse: 5.19393\n",
      "[9]\tvalid_0's rmse: 4.9797\n",
      "[10]\tvalid_0's rmse: 4.79555\n",
      "[11]\tvalid_0's rmse: 4.63368\n",
      "[12]\tvalid_0's rmse: 4.48093\n",
      "[13]\tvalid_0's rmse: 4.35754\n",
      "[14]\tvalid_0's rmse: 4.25581\n",
      "[15]\tvalid_0's rmse: 4.17285\n",
      "[16]\tvalid_0's rmse: 4.1104\n",
      "[17]\tvalid_0's rmse: 4.05774\n",
      "[18]\tvalid_0's rmse: 4.0064\n",
      "[19]\tvalid_0's rmse: 3.96986\n",
      "[20]\tvalid_0's rmse: 3.93873\n",
      "[21]\tvalid_0's rmse: 3.9153\n",
      "[22]\tvalid_0's rmse: 3.89838\n",
      "[23]\tvalid_0's rmse: 3.88558\n",
      "[24]\tvalid_0's rmse: 3.87319\n",
      "[25]\tvalid_0's rmse: 3.86589\n",
      "[26]\tvalid_0's rmse: 3.85237\n",
      "[27]\tvalid_0's rmse: 3.81817\n",
      "[28]\tvalid_0's rmse: 3.8137\n",
      "[29]\tvalid_0's rmse: 3.80992\n",
      "[30]\tvalid_0's rmse: 3.8152\n",
      "[31]\tvalid_0's rmse: 3.82034\n",
      "[32]\tvalid_0's rmse: 3.82854\n",
      "[33]\tvalid_0's rmse: 3.82774\n",
      "[34]\tvalid_0's rmse: 3.82748\n",
      "[35]\tvalid_0's rmse: 3.82295\n",
      "[36]\tvalid_0's rmse: 3.82728\n",
      "[37]\tvalid_0's rmse: 3.8198\n",
      "[38]\tvalid_0's rmse: 3.82612\n",
      "[39]\tvalid_0's rmse: 3.82625\n",
      "[40]\tvalid_0's rmse: 3.82778\n",
      "[41]\tvalid_0's rmse: 3.83108\n",
      "[42]\tvalid_0's rmse: 3.83488\n",
      "[43]\tvalid_0's rmse: 3.82371\n",
      "[44]\tvalid_0's rmse: 3.81495\n",
      "[45]\tvalid_0's rmse: 3.8114\n",
      "[46]\tvalid_0's rmse: 3.81387\n",
      "[47]\tvalid_0's rmse: 3.8107\n",
      "[48]\tvalid_0's rmse: 3.81269\n",
      "[49]\tvalid_0's rmse: 3.81255\n",
      "[50]\tvalid_0's rmse: 3.81135\n",
      "[51]\tvalid_0's rmse: 3.81061\n",
      "[52]\tvalid_0's rmse: 3.80425\n",
      "[53]\tvalid_0's rmse: 3.7928\n",
      "[54]\tvalid_0's rmse: 3.79372\n",
      "[55]\tvalid_0's rmse: 3.78655\n",
      "[56]\tvalid_0's rmse: 3.78182\n",
      "[57]\tvalid_0's rmse: 3.77761\n",
      "[58]\tvalid_0's rmse: 3.77748\n",
      "[59]\tvalid_0's rmse: 3.78122\n",
      "[60]\tvalid_0's rmse: 3.77853\n",
      "[61]\tvalid_0's rmse: 3.77686\n",
      "[62]\tvalid_0's rmse: 3.77829\n",
      "[63]\tvalid_0's rmse: 3.78574\n",
      "[64]\tvalid_0's rmse: 3.77925\n",
      "[65]\tvalid_0's rmse: 3.7841\n",
      "[66]\tvalid_0's rmse: 3.78184\n",
      "[67]\tvalid_0's rmse: 3.77959\n",
      "[68]\tvalid_0's rmse: 3.78127\n",
      "[69]\tvalid_0's rmse: 3.77679\n",
      "[70]\tvalid_0's rmse: 3.77512\n",
      "[71]\tvalid_0's rmse: 3.77613\n",
      "[72]\tvalid_0's rmse: 3.77558\n",
      "[73]\tvalid_0's rmse: 3.77401\n",
      "[74]\tvalid_0's rmse: 3.78101\n",
      "[75]\tvalid_0's rmse: 3.78492\n",
      "[76]\tvalid_0's rmse: 3.79005\n",
      "[77]\tvalid_0's rmse: 3.78341\n",
      "[78]\tvalid_0's rmse: 3.78624\n",
      "[79]\tvalid_0's rmse: 3.78271\n",
      "[80]\tvalid_0's rmse: 3.7843\n",
      "[81]\tvalid_0's rmse: 3.78437\n",
      "[82]\tvalid_0's rmse: 3.78645\n",
      "[83]\tvalid_0's rmse: 3.78961\n",
      "[84]\tvalid_0's rmse: 3.78874\n",
      "[85]\tvalid_0's rmse: 3.7917\n",
      "[86]\tvalid_0's rmse: 3.79733\n",
      "[87]\tvalid_0's rmse: 3.80196\n",
      "[88]\tvalid_0's rmse: 3.80635\n",
      "[89]\tvalid_0's rmse: 3.80787\n",
      "[90]\tvalid_0's rmse: 3.80728\n",
      "[91]\tvalid_0's rmse: 3.81232\n",
      "[92]\tvalid_0's rmse: 3.81167\n",
      "[93]\tvalid_0's rmse: 3.8053\n",
      "[94]\tvalid_0's rmse: 3.80544\n",
      "[95]\tvalid_0's rmse: 3.8076\n"
     ]
    },
    {
     "name": "stderr",
     "output_type": "stream",
     "text": [
      "\u001b[32m[I 2021-03-30 16:44:00,672]\u001b[0m Trial 0 finished with value: 3.7980195553950398 and parameters: {'lambda_l1': 3.363607480209882e-08, 'lambda_l2': 0.0003243464732101667, 'num_leaves': 105, 'feature_fraction': 0.49092836631971337, 'bagging_fraction': 0.7536289255759738, 'bagging_freq': 6, 'min_child_samples': 53}. Best is trial 0 with value: 3.7980195553950398.\u001b[0m\n"
     ]
    },
    {
     "name": "stdout",
     "output_type": "stream",
     "text": [
      "[96]\tvalid_0's rmse: 3.79808\n",
      "[97]\tvalid_0's rmse: 3.79592\n",
      "[98]\tvalid_0's rmse: 3.79417\n",
      "[99]\tvalid_0's rmse: 3.79338\n",
      "[100]\tvalid_0's rmse: 3.79802\n"
     ]
    },
    {
     "name": "stderr",
     "output_type": "stream",
     "text": [
      "C:\\Anaconda\\lib\\site-packages\\lightgbm\\basic.py:1702: UserWarning: Using categorical_feature in Dataset.\n",
      "  _log_warning('Using categorical_feature in Dataset.')\n",
      "C:\\Anaconda\\lib\\site-packages\\lightgbm\\basic.py:1433: UserWarning: Overriding the parameters from Reference Dataset.\n",
      "  _log_warning('Overriding the parameters from Reference Dataset.')\n",
      "C:\\Anaconda\\lib\\site-packages\\lightgbm\\basic.py:1245: UserWarning: categorical_column in param dict is overridden.\n",
      "  _log_warning('{} in param dict is overridden.'.format(cat_alias))\n"
     ]
    },
    {
     "name": "stdout",
     "output_type": "stream",
     "text": [
      "[LightGBM] [Warning] Auto-choosing col-wise multi-threading, the overhead of testing was 0.003699 seconds.\n",
      "You can set `force_col_wise=true` to remove the overhead.\n",
      "[LightGBM] [Info] Total Bins 9027\n",
      "[LightGBM] [Info] Number of data points in the train set: 26064, number of used features: 37\n",
      "[LightGBM] [Info] Start training from score 13.130955\n",
      "[1]\tvalid_0's rmse: 8.29088\n",
      "[2]\tvalid_0's rmse: 7.65251\n",
      "[3]\tvalid_0's rmse: 7.11002\n",
      "[4]\tvalid_0's rmse: 6.62858\n",
      "[5]\tvalid_0's rmse: 6.19501\n",
      "[6]\tvalid_0's rmse: 5.84576\n",
      "[7]\tvalid_0's rmse: 5.54173\n",
      "[8]\tvalid_0's rmse: 5.2687\n",
      "[9]\tvalid_0's rmse: 5.07143\n",
      "[10]\tvalid_0's rmse: 4.84945\n",
      "[11]\tvalid_0's rmse: 4.6921\n",
      "[12]\tvalid_0's rmse: 4.55355\n",
      "[13]\tvalid_0's rmse: 4.4251\n",
      "[14]\tvalid_0's rmse: 4.34826\n",
      "[15]\tvalid_0's rmse: 4.26812\n",
      "[16]\tvalid_0's rmse: 4.19153\n",
      "[17]\tvalid_0's rmse: 4.09677\n",
      "[18]\tvalid_0's rmse: 4.0106\n",
      "[19]\tvalid_0's rmse: 3.9664\n",
      "[20]\tvalid_0's rmse: 3.93206\n",
      "[21]\tvalid_0's rmse: 3.89492\n",
      "[22]\tvalid_0's rmse: 3.88607\n",
      "[23]\tvalid_0's rmse: 3.85382\n",
      "[24]\tvalid_0's rmse: 3.83224\n",
      "[25]\tvalid_0's rmse: 3.8114\n",
      "[26]\tvalid_0's rmse: 3.80503\n",
      "[27]\tvalid_0's rmse: 3.79901\n",
      "[28]\tvalid_0's rmse: 3.7967\n",
      "[29]\tvalid_0's rmse: 3.80083\n",
      "[30]\tvalid_0's rmse: 3.80267\n",
      "[31]\tvalid_0's rmse: 3.81019\n",
      "[32]\tvalid_0's rmse: 3.83077\n",
      "[33]\tvalid_0's rmse: 3.83661\n",
      "[34]\tvalid_0's rmse: 3.81883\n",
      "[35]\tvalid_0's rmse: 3.82133\n",
      "[36]\tvalid_0's rmse: 3.81609\n",
      "[37]\tvalid_0's rmse: 3.81253\n",
      "[38]\tvalid_0's rmse: 3.8067\n",
      "[39]\tvalid_0's rmse: 3.80085\n",
      "[40]\tvalid_0's rmse: 3.80572\n",
      "[41]\tvalid_0's rmse: 3.79864\n",
      "[42]\tvalid_0's rmse: 3.81329\n",
      "[43]\tvalid_0's rmse: 3.81265\n",
      "[44]\tvalid_0's rmse: 3.81278\n",
      "[45]\tvalid_0's rmse: 3.81303\n",
      "[46]\tvalid_0's rmse: 3.81203\n",
      "[47]\tvalid_0's rmse: 3.80983\n",
      "[48]\tvalid_0's rmse: 3.81165\n",
      "[49]\tvalid_0's rmse: 3.80775\n",
      "[50]\tvalid_0's rmse: 3.80864\n",
      "[51]\tvalid_0's rmse: 3.80931\n",
      "[52]\tvalid_0's rmse: 3.80426\n",
      "[53]\tvalid_0's rmse: 3.79613\n",
      "[54]\tvalid_0's rmse: 3.80109\n",
      "[55]\tvalid_0's rmse: 3.79756\n",
      "[56]\tvalid_0's rmse: 3.79436\n",
      "[57]\tvalid_0's rmse: 3.79254\n",
      "[58]\tvalid_0's rmse: 3.79048\n",
      "[59]\tvalid_0's rmse: 3.78168\n",
      "[60]\tvalid_0's rmse: 3.77265\n",
      "[61]\tvalid_0's rmse: 3.78806\n",
      "[62]\tvalid_0's rmse: 3.77841\n",
      "[63]\tvalid_0's rmse: 3.79432\n",
      "[64]\tvalid_0's rmse: 3.80044\n",
      "[65]\tvalid_0's rmse: 3.79595\n",
      "[66]\tvalid_0's rmse: 3.80707\n",
      "[67]\tvalid_0's rmse: 3.80269\n",
      "[68]\tvalid_0's rmse: 3.80141\n",
      "[69]\tvalid_0's rmse: 3.79383\n",
      "[70]\tvalid_0's rmse: 3.78662\n",
      "[71]\tvalid_0's rmse: 3.79071\n",
      "[72]\tvalid_0's rmse: 3.79062\n",
      "[73]\tvalid_0's rmse: 3.78968\n",
      "[74]\tvalid_0's rmse: 3.79028\n",
      "[75]\tvalid_0's rmse: 3.78964\n",
      "[76]\tvalid_0's rmse: 3.80058\n",
      "[77]\tvalid_0's rmse: 3.7992\n",
      "[78]\tvalid_0's rmse: 3.79056\n",
      "[79]\tvalid_0's rmse: 3.79577\n",
      "[80]\tvalid_0's rmse: 3.78747\n",
      "[81]\tvalid_0's rmse: 3.78599\n",
      "[82]\tvalid_0's rmse: 3.77636\n"
     ]
    },
    {
     "name": "stderr",
     "output_type": "stream",
     "text": [
      "\u001b[32m[I 2021-03-30 16:44:01,274]\u001b[0m Trial 1 finished with value: 3.817143632041274 and parameters: {'lambda_l1': 1.1670954064310261e-08, 'lambda_l2': 0.20941398297853245, 'num_leaves': 51, 'feature_fraction': 0.5753842233063414, 'bagging_fraction': 0.4515713029677165, 'bagging_freq': 6, 'min_child_samples': 7}. Best is trial 0 with value: 3.7980195553950398.\u001b[0m\n"
     ]
    },
    {
     "name": "stdout",
     "output_type": "stream",
     "text": [
      "[83]\tvalid_0's rmse: 3.77341\n",
      "[84]\tvalid_0's rmse: 3.7733\n",
      "[85]\tvalid_0's rmse: 3.77458\n",
      "[86]\tvalid_0's rmse: 3.78333\n",
      "[87]\tvalid_0's rmse: 3.78571\n",
      "[88]\tvalid_0's rmse: 3.78456\n",
      "[89]\tvalid_0's rmse: 3.78545\n",
      "[90]\tvalid_0's rmse: 3.78812\n",
      "[91]\tvalid_0's rmse: 3.79439\n",
      "[92]\tvalid_0's rmse: 3.79214\n",
      "[93]\tvalid_0's rmse: 3.78968\n",
      "[94]\tvalid_0's rmse: 3.79013\n",
      "[95]\tvalid_0's rmse: 3.78842\n",
      "[96]\tvalid_0's rmse: 3.79327\n",
      "[97]\tvalid_0's rmse: 3.80094\n",
      "[98]\tvalid_0's rmse: 3.80353\n",
      "[99]\tvalid_0's rmse: 3.81378\n",
      "[100]\tvalid_0's rmse: 3.81714\n"
     ]
    },
    {
     "name": "stderr",
     "output_type": "stream",
     "text": [
      "C:\\Anaconda\\lib\\site-packages\\lightgbm\\basic.py:1702: UserWarning: Using categorical_feature in Dataset.\n",
      "  _log_warning('Using categorical_feature in Dataset.')\n",
      "C:\\Anaconda\\lib\\site-packages\\lightgbm\\basic.py:1433: UserWarning: Overriding the parameters from Reference Dataset.\n",
      "  _log_warning('Overriding the parameters from Reference Dataset.')\n",
      "C:\\Anaconda\\lib\\site-packages\\lightgbm\\basic.py:1245: UserWarning: categorical_column in param dict is overridden.\n",
      "  _log_warning('{} in param dict is overridden.'.format(cat_alias))\n"
     ]
    },
    {
     "name": "stdout",
     "output_type": "stream",
     "text": [
      "[LightGBM] [Warning] Auto-choosing col-wise multi-threading, the overhead of testing was 0.004178 seconds.\n",
      "You can set `force_col_wise=true` to remove the overhead.\n",
      "[LightGBM] [Info] Total Bins 9027\n",
      "[LightGBM] [Info] Number of data points in the train set: 26064, number of used features: 37\n",
      "[LightGBM] [Info] Start training from score 13.130955\n",
      "[1]\tvalid_0's rmse: 8.28657\n",
      "[2]\tvalid_0's rmse: 7.65171\n",
      "[3]\tvalid_0's rmse: 7.09074\n",
      "[4]\tvalid_0's rmse: 6.61962\n",
      "[5]\tvalid_0's rmse: 6.17925\n",
      "[6]\tvalid_0's rmse: 5.82283\n",
      "[7]\tvalid_0's rmse: 5.51853\n",
      "[8]\tvalid_0's rmse: 5.24636\n",
      "[9]\tvalid_0's rmse: 5.01759\n",
      "[10]\tvalid_0's rmse: 4.79888\n",
      "[11]\tvalid_0's rmse: 4.65205\n",
      "[12]\tvalid_0's rmse: 4.50692\n",
      "[13]\tvalid_0's rmse: 4.35787\n",
      "[14]\tvalid_0's rmse: 4.25733\n",
      "[15]\tvalid_0's rmse: 4.18451\n",
      "[16]\tvalid_0's rmse: 4.11746\n",
      "[17]\tvalid_0's rmse: 4.06312\n",
      "[18]\tvalid_0's rmse: 4.01324\n",
      "[19]\tvalid_0's rmse: 3.97886\n",
      "[20]\tvalid_0's rmse: 3.95208\n",
      "[21]\tvalid_0's rmse: 3.92689\n",
      "[22]\tvalid_0's rmse: 3.90142\n",
      "[23]\tvalid_0's rmse: 3.88703\n",
      "[24]\tvalid_0's rmse: 3.87271\n",
      "[25]\tvalid_0's rmse: 3.83624\n",
      "[26]\tvalid_0's rmse: 3.83435\n",
      "[27]\tvalid_0's rmse: 3.8359\n",
      "[28]\tvalid_0's rmse: 3.8345\n",
      "[29]\tvalid_0's rmse: 3.82794\n",
      "[30]\tvalid_0's rmse: 3.8246\n",
      "[31]\tvalid_0's rmse: 3.81725\n",
      "[32]\tvalid_0's rmse: 3.81465\n",
      "[33]\tvalid_0's rmse: 3.80922\n",
      "[34]\tvalid_0's rmse: 3.77974\n",
      "[35]\tvalid_0's rmse: 3.77725\n",
      "[36]\tvalid_0's rmse: 3.78017\n",
      "[37]\tvalid_0's rmse: 3.78813\n",
      "[38]\tvalid_0's rmse: 3.79201\n",
      "[39]\tvalid_0's rmse: 3.79055\n",
      "[40]\tvalid_0's rmse: 3.77982\n",
      "[41]\tvalid_0's rmse: 3.77577\n",
      "[42]\tvalid_0's rmse: 3.7804\n",
      "[43]\tvalid_0's rmse: 3.78225\n",
      "[44]\tvalid_0's rmse: 3.78657\n",
      "[45]\tvalid_0's rmse: 3.79066\n",
      "[46]\tvalid_0's rmse: 3.78444\n",
      "[47]\tvalid_0's rmse: 3.78214\n",
      "[48]\tvalid_0's rmse: 3.78429\n",
      "[49]\tvalid_0's rmse: 3.78603\n",
      "[50]\tvalid_0's rmse: 3.7903\n",
      "[51]\tvalid_0's rmse: 3.78671\n",
      "[52]\tvalid_0's rmse: 3.78726\n",
      "[53]\tvalid_0's rmse: 3.79074\n",
      "[54]\tvalid_0's rmse: 3.79051\n",
      "[55]\tvalid_0's rmse: 3.78518\n",
      "[56]\tvalid_0's rmse: 3.78609\n",
      "[57]\tvalid_0's rmse: 3.78948\n",
      "[58]\tvalid_0's rmse: 3.7879\n",
      "[59]\tvalid_0's rmse: 3.78471\n",
      "[60]\tvalid_0's rmse: 3.78096\n",
      "[61]\tvalid_0's rmse: 3.78166\n",
      "[62]\tvalid_0's rmse: 3.77944\n",
      "[63]\tvalid_0's rmse: 3.77452\n",
      "[64]\tvalid_0's rmse: 3.77446\n",
      "[65]\tvalid_0's rmse: 3.77697\n",
      "[66]\tvalid_0's rmse: 3.77486\n",
      "[67]\tvalid_0's rmse: 3.77655\n",
      "[68]\tvalid_0's rmse: 3.77475\n",
      "[69]\tvalid_0's rmse: 3.77897\n",
      "[70]\tvalid_0's rmse: 3.77748\n",
      "[71]\tvalid_0's rmse: 3.77824\n"
     ]
    },
    {
     "name": "stderr",
     "output_type": "stream",
     "text": [
      "\u001b[32m[I 2021-03-30 16:44:01,941]\u001b[0m Trial 2 finished with value: 3.7905393316218126 and parameters: {'lambda_l1': 0.01211516234316648, 'lambda_l2': 3.160715861695125, 'num_leaves': 48, 'feature_fraction': 0.5574265051748573, 'bagging_fraction': 0.819902236898832, 'bagging_freq': 7, 'min_child_samples': 64}. Best is trial 2 with value: 3.7905393316218126.\u001b[0m\n"
     ]
    },
    {
     "name": "stdout",
     "output_type": "stream",
     "text": [
      "[72]\tvalid_0's rmse: 3.77847\n",
      "[73]\tvalid_0's rmse: 3.78165\n",
      "[74]\tvalid_0's rmse: 3.7758\n",
      "[75]\tvalid_0's rmse: 3.77328\n",
      "[76]\tvalid_0's rmse: 3.77379\n",
      "[77]\tvalid_0's rmse: 3.7731\n",
      "[78]\tvalid_0's rmse: 3.77709\n",
      "[79]\tvalid_0's rmse: 3.78005\n",
      "[80]\tvalid_0's rmse: 3.779\n",
      "[81]\tvalid_0's rmse: 3.77734\n",
      "[82]\tvalid_0's rmse: 3.77924\n",
      "[83]\tvalid_0's rmse: 3.78213\n",
      "[84]\tvalid_0's rmse: 3.78019\n",
      "[85]\tvalid_0's rmse: 3.77968\n",
      "[86]\tvalid_0's rmse: 3.77771\n",
      "[87]\tvalid_0's rmse: 3.78127\n",
      "[88]\tvalid_0's rmse: 3.78162\n",
      "[89]\tvalid_0's rmse: 3.78133\n",
      "[90]\tvalid_0's rmse: 3.77955\n",
      "[91]\tvalid_0's rmse: 3.78209\n",
      "[92]\tvalid_0's rmse: 3.78149\n",
      "[93]\tvalid_0's rmse: 3.78265\n",
      "[94]\tvalid_0's rmse: 3.78788\n",
      "[95]\tvalid_0's rmse: 3.78309\n",
      "[96]\tvalid_0's rmse: 3.78359\n",
      "[97]\tvalid_0's rmse: 3.78656\n",
      "[98]\tvalid_0's rmse: 3.77917\n",
      "[99]\tvalid_0's rmse: 3.78521\n",
      "[100]\tvalid_0's rmse: 3.79054\n"
     ]
    },
    {
     "name": "stderr",
     "output_type": "stream",
     "text": [
      "C:\\Anaconda\\lib\\site-packages\\lightgbm\\basic.py:1702: UserWarning: Using categorical_feature in Dataset.\n",
      "  _log_warning('Using categorical_feature in Dataset.')\n",
      "C:\\Anaconda\\lib\\site-packages\\lightgbm\\basic.py:1433: UserWarning: Overriding the parameters from Reference Dataset.\n",
      "  _log_warning('Overriding the parameters from Reference Dataset.')\n",
      "C:\\Anaconda\\lib\\site-packages\\lightgbm\\basic.py:1245: UserWarning: categorical_column in param dict is overridden.\n",
      "  _log_warning('{} in param dict is overridden.'.format(cat_alias))\n"
     ]
    },
    {
     "name": "stdout",
     "output_type": "stream",
     "text": [
      "[LightGBM] [Warning] Auto-choosing col-wise multi-threading, the overhead of testing was 0.005266 seconds.\n",
      "You can set `force_col_wise=true` to remove the overhead.\n",
      "[LightGBM] [Info] Total Bins 9027\n",
      "[LightGBM] [Info] Number of data points in the train set: 26064, number of used features: 37\n",
      "[LightGBM] [Info] Start training from score 13.130955\n",
      "[1]\tvalid_0's rmse: 8.25368\n",
      "[2]\tvalid_0's rmse: 7.60748\n",
      "[3]\tvalid_0's rmse: 7.06139\n",
      "[4]\tvalid_0's rmse: 6.5695\n",
      "[5]\tvalid_0's rmse: 6.13706\n",
      "[6]\tvalid_0's rmse: 5.78292\n",
      "[7]\tvalid_0's rmse: 5.45407\n",
      "[8]\tvalid_0's rmse: 5.18199\n",
      "[9]\tvalid_0's rmse: 4.94823\n",
      "[10]\tvalid_0's rmse: 4.74789\n",
      "[11]\tvalid_0's rmse: 4.56834\n",
      "[12]\tvalid_0's rmse: 4.42284\n",
      "[13]\tvalid_0's rmse: 4.30518\n",
      "[14]\tvalid_0's rmse: 4.21562\n",
      "[15]\tvalid_0's rmse: 4.13249\n",
      "[16]\tvalid_0's rmse: 4.07752\n",
      "[17]\tvalid_0's rmse: 4.0362\n",
      "[18]\tvalid_0's rmse: 4.00071\n",
      "[19]\tvalid_0's rmse: 3.96773\n",
      "[20]\tvalid_0's rmse: 3.94281\n",
      "[21]\tvalid_0's rmse: 3.91854\n",
      "[22]\tvalid_0's rmse: 3.91\n",
      "[23]\tvalid_0's rmse: 3.88501\n",
      "[24]\tvalid_0's rmse: 3.87203\n",
      "[25]\tvalid_0's rmse: 3.86066\n",
      "[26]\tvalid_0's rmse: 3.84626\n",
      "[27]\tvalid_0's rmse: 3.82011\n",
      "[28]\tvalid_0's rmse: 3.82541\n",
      "[29]\tvalid_0's rmse: 3.82669\n",
      "[30]\tvalid_0's rmse: 3.83498\n",
      "[31]\tvalid_0's rmse: 3.82501\n",
      "[32]\tvalid_0's rmse: 3.82382\n",
      "[33]\tvalid_0's rmse: 3.80665\n",
      "[34]\tvalid_0's rmse: 3.80539\n",
      "[35]\tvalid_0's rmse: 3.8035\n",
      "[36]\tvalid_0's rmse: 3.81265\n",
      "[37]\tvalid_0's rmse: 3.81266\n",
      "[38]\tvalid_0's rmse: 3.80585\n",
      "[39]\tvalid_0's rmse: 3.80586\n",
      "[40]\tvalid_0's rmse: 3.80361\n",
      "[41]\tvalid_0's rmse: 3.80663\n",
      "[42]\tvalid_0's rmse: 3.80836\n",
      "[43]\tvalid_0's rmse: 3.80776\n",
      "[44]\tvalid_0's rmse: 3.80808\n",
      "[45]\tvalid_0's rmse: 3.80342\n",
      "[46]\tvalid_0's rmse: 3.81312\n",
      "[47]\tvalid_0's rmse: 3.82025\n",
      "[48]\tvalid_0's rmse: 3.82176\n",
      "[49]\tvalid_0's rmse: 3.81988\n",
      "[50]\tvalid_0's rmse: 3.80827\n",
      "[51]\tvalid_0's rmse: 3.81558\n",
      "[52]\tvalid_0's rmse: 3.82018\n",
      "[53]\tvalid_0's rmse: 3.81714\n",
      "[54]\tvalid_0's rmse: 3.81665\n",
      "[55]\tvalid_0's rmse: 3.81224\n",
      "[56]\tvalid_0's rmse: 3.81153\n",
      "[57]\tvalid_0's rmse: 3.81342\n",
      "[58]\tvalid_0's rmse: 3.81132\n",
      "[59]\tvalid_0's rmse: 3.80973\n",
      "[60]\tvalid_0's rmse: 3.80673\n",
      "[61]\tvalid_0's rmse: 3.80224\n",
      "[62]\tvalid_0's rmse: 3.79352\n",
      "[63]\tvalid_0's rmse: 3.79032\n",
      "[64]\tvalid_0's rmse: 3.78476\n",
      "[65]\tvalid_0's rmse: 3.78586\n",
      "[66]\tvalid_0's rmse: 3.78978\n",
      "[67]\tvalid_0's rmse: 3.7899\n",
      "[68]\tvalid_0's rmse: 3.78819\n",
      "[69]\tvalid_0's rmse: 3.78975\n",
      "[70]\tvalid_0's rmse: 3.78803\n",
      "[71]\tvalid_0's rmse: 3.78946\n",
      "[72]\tvalid_0's rmse: 3.79021\n",
      "[73]\tvalid_0's rmse: 3.78959\n",
      "[74]\tvalid_0's rmse: 3.78174\n",
      "[75]\tvalid_0's rmse: 3.78519\n",
      "[76]\tvalid_0's rmse: 3.78998\n",
      "[77]\tvalid_0's rmse: 3.78606\n",
      "[78]\tvalid_0's rmse: 3.7879\n",
      "[79]\tvalid_0's rmse: 3.7832\n",
      "[80]\tvalid_0's rmse: 3.78652\n",
      "[81]\tvalid_0's rmse: 3.78446\n",
      "[82]\tvalid_0's rmse: 3.79224\n",
      "[83]\tvalid_0's rmse: 3.80298\n",
      "[84]\tvalid_0's rmse: 3.79831\n",
      "[85]\tvalid_0's rmse: 3.79793\n",
      "[86]\tvalid_0's rmse: 3.80189\n",
      "[87]\tvalid_0's rmse: 3.81576\n",
      "[88]\tvalid_0's rmse: 3.82464\n",
      "[89]\tvalid_0's rmse: 3.82978\n",
      "[90]\tvalid_0's rmse: 3.83092\n",
      "[91]\tvalid_0's rmse: 3.84147\n",
      "[92]\tvalid_0's rmse: 3.85791\n",
      "[93]\tvalid_0's rmse: 3.86093\n",
      "[94]\tvalid_0's rmse: 3.86756\n",
      "[95]\tvalid_0's rmse: 3.86326\n",
      "[96]\tvalid_0's rmse: 3.87134\n",
      "[97]\tvalid_0's rmse: 3.86593\n",
      "[98]\tvalid_0's rmse: 3.86717\n",
      "[99]\tvalid_0's rmse: 3.86126\n",
      "[100]\tvalid_0's rmse: 3.862\n"
     ]
    },
    {
     "name": "stderr",
     "output_type": "stream",
     "text": [
      "\u001b[32m[I 2021-03-30 16:44:03,468]\u001b[0m Trial 3 finished with value: 3.8619976505596445 and parameters: {'lambda_l1': 6.151364984767786e-07, 'lambda_l2': 7.575306359192882e-05, 'num_leaves': 165, 'feature_fraction': 0.5833180314512575, 'bagging_fraction': 0.5069939238457981, 'bagging_freq': 1, 'min_child_samples': 24}. Best is trial 2 with value: 3.7905393316218126.\u001b[0m\n",
      "C:\\Anaconda\\lib\\site-packages\\lightgbm\\basic.py:1702: UserWarning: Using categorical_feature in Dataset.\n",
      "  _log_warning('Using categorical_feature in Dataset.')\n",
      "C:\\Anaconda\\lib\\site-packages\\lightgbm\\basic.py:1433: UserWarning: Overriding the parameters from Reference Dataset.\n",
      "  _log_warning('Overriding the parameters from Reference Dataset.')\n",
      "C:\\Anaconda\\lib\\site-packages\\lightgbm\\basic.py:1245: UserWarning: categorical_column in param dict is overridden.\n",
      "  _log_warning('{} in param dict is overridden.'.format(cat_alias))\n"
     ]
    },
    {
     "name": "stdout",
     "output_type": "stream",
     "text": [
      "[LightGBM] [Warning] Auto-choosing col-wise multi-threading, the overhead of testing was 0.004118 seconds.\n",
      "You can set `force_col_wise=true` to remove the overhead.\n",
      "[LightGBM] [Info] Total Bins 9027\n",
      "[LightGBM] [Info] Number of data points in the train set: 26064, number of used features: 37\n",
      "[LightGBM] [Info] Start training from score 13.130955\n",
      "[1]\tvalid_0's rmse: 8.28745\n",
      "[2]\tvalid_0's rmse: 7.66668\n",
      "[3]\tvalid_0's rmse: 7.12535\n",
      "[4]\tvalid_0's rmse: 6.67228\n",
      "[5]\tvalid_0's rmse: 6.25458\n",
      "[6]\tvalid_0's rmse: 5.87471\n",
      "[7]\tvalid_0's rmse: 5.57179\n",
      "[8]\tvalid_0's rmse: 5.31254\n",
      "[9]\tvalid_0's rmse: 5.10124\n",
      "[10]\tvalid_0's rmse: 4.90098\n",
      "[11]\tvalid_0's rmse: 4.74591\n",
      "[12]\tvalid_0's rmse: 4.62308\n",
      "[13]\tvalid_0's rmse: 4.49788\n",
      "[14]\tvalid_0's rmse: 4.40012\n",
      "[15]\tvalid_0's rmse: 4.30417\n",
      "[16]\tvalid_0's rmse: 4.23511\n",
      "[17]\tvalid_0's rmse: 4.16737\n",
      "[18]\tvalid_0's rmse: 4.12105\n",
      "[19]\tvalid_0's rmse: 4.07081\n",
      "[20]\tvalid_0's rmse: 4.02732\n",
      "[21]\tvalid_0's rmse: 3.99648\n",
      "[22]\tvalid_0's rmse: 3.95458\n",
      "[23]\tvalid_0's rmse: 3.93059\n",
      "[24]\tvalid_0's rmse: 3.87917\n",
      "[25]\tvalid_0's rmse: 3.83881\n",
      "[26]\tvalid_0's rmse: 3.82366\n",
      "[27]\tvalid_0's rmse: 3.8164\n",
      "[28]\tvalid_0's rmse: 3.8019\n",
      "[29]\tvalid_0's rmse: 3.79732\n",
      "[30]\tvalid_0's rmse: 3.79853\n",
      "[31]\tvalid_0's rmse: 3.78578\n",
      "[32]\tvalid_0's rmse: 3.77838\n",
      "[33]\tvalid_0's rmse: 3.76698\n",
      "[34]\tvalid_0's rmse: 3.76273\n",
      "[35]\tvalid_0's rmse: 3.7696\n",
      "[36]\tvalid_0's rmse: 3.75677\n",
      "[37]\tvalid_0's rmse: 3.75282\n",
      "[38]\tvalid_0's rmse: 3.748\n",
      "[39]\tvalid_0's rmse: 3.75506\n",
      "[40]\tvalid_0's rmse: 3.76413\n",
      "[41]\tvalid_0's rmse: 3.76361\n",
      "[42]\tvalid_0's rmse: 3.76441\n",
      "[43]\tvalid_0's rmse: 3.75641\n",
      "[44]\tvalid_0's rmse: 3.76146\n",
      "[45]\tvalid_0's rmse: 3.75886\n",
      "[46]\tvalid_0's rmse: 3.76034\n",
      "[47]\tvalid_0's rmse: 3.75291\n",
      "[48]\tvalid_0's rmse: 3.76046\n",
      "[49]\tvalid_0's rmse: 3.76552\n",
      "[50]\tvalid_0's rmse: 3.76515\n",
      "[51]\tvalid_0's rmse: 3.75992\n",
      "[52]\tvalid_0's rmse: 3.75165\n",
      "[53]\tvalid_0's rmse: 3.76224\n",
      "[54]\tvalid_0's rmse: 3.75931\n",
      "[55]\tvalid_0's rmse: 3.75611\n",
      "[56]\tvalid_0's rmse: 3.76045\n",
      "[57]\tvalid_0's rmse: 3.76081\n",
      "[58]\tvalid_0's rmse: 3.76119\n",
      "[59]\tvalid_0's rmse: 3.76454\n",
      "[60]\tvalid_0's rmse: 3.76404\n",
      "[61]\tvalid_0's rmse: 3.7583\n",
      "[62]\tvalid_0's rmse: 3.75609\n",
      "[63]\tvalid_0's rmse: 3.7538\n",
      "[64]\tvalid_0's rmse: 3.74622\n",
      "[65]\tvalid_0's rmse: 3.74758\n",
      "[66]\tvalid_0's rmse: 3.74993\n",
      "[67]\tvalid_0's rmse: 3.75735\n",
      "[68]\tvalid_0's rmse: 3.75421\n",
      "[69]\tvalid_0's rmse: 3.75164\n",
      "[70]\tvalid_0's rmse: 3.75496\n",
      "[71]\tvalid_0's rmse: 3.75297\n",
      "[72]\tvalid_0's rmse: 3.75666\n",
      "[73]\tvalid_0's rmse: 3.74711\n",
      "[74]\tvalid_0's rmse: 3.74555\n",
      "[75]\tvalid_0's rmse: 3.74826\n",
      "[76]\tvalid_0's rmse: 3.74348\n"
     ]
    },
    {
     "name": "stderr",
     "output_type": "stream",
     "text": [
      "\u001b[32m[I 2021-03-30 16:44:03,842]\u001b[0m Trial 4 finished with value: 3.7568512943903225 and parameters: {'lambda_l1': 6.967102401212089e-08, 'lambda_l2': 6.745718073239708e-05, 'num_leaves': 19, 'feature_fraction': 0.5334899938672562, 'bagging_fraction': 0.6056556533304713, 'bagging_freq': 2, 'min_child_samples': 37}. Best is trial 4 with value: 3.7568512943903225.\u001b[0m\n"
     ]
    },
    {
     "name": "stdout",
     "output_type": "stream",
     "text": [
      "[77]\tvalid_0's rmse: 3.7442\n",
      "[78]\tvalid_0's rmse: 3.74482\n",
      "[79]\tvalid_0's rmse: 3.74059\n",
      "[80]\tvalid_0's rmse: 3.74251\n",
      "[81]\tvalid_0's rmse: 3.74747\n",
      "[82]\tvalid_0's rmse: 3.75111\n",
      "[83]\tvalid_0's rmse: 3.75423\n",
      "[84]\tvalid_0's rmse: 3.75227\n",
      "[85]\tvalid_0's rmse: 3.7508\n",
      "[86]\tvalid_0's rmse: 3.74974\n",
      "[87]\tvalid_0's rmse: 3.74536\n",
      "[88]\tvalid_0's rmse: 3.74406\n",
      "[89]\tvalid_0's rmse: 3.74701\n",
      "[90]\tvalid_0's rmse: 3.75196\n",
      "[91]\tvalid_0's rmse: 3.75321\n",
      "[92]\tvalid_0's rmse: 3.75361\n",
      "[93]\tvalid_0's rmse: 3.75463\n",
      "[94]\tvalid_0's rmse: 3.75312\n",
      "[95]\tvalid_0's rmse: 3.75285\n",
      "[96]\tvalid_0's rmse: 3.75754\n",
      "[97]\tvalid_0's rmse: 3.75542\n",
      "[98]\tvalid_0's rmse: 3.75933\n",
      "[99]\tvalid_0's rmse: 3.75239\n",
      "[100]\tvalid_0's rmse: 3.75685\n",
      "[LightGBM] [Warning] Auto-choosing col-wise multi-threading, the overhead of testing was 0.003347 seconds.\n",
      "You can set `force_col_wise=true` to remove the overhead.\n",
      "[LightGBM] [Info] Total Bins 9027\n",
      "[LightGBM] [Info] Number of data points in the train set: 26064, number of used features: 37\n"
     ]
    },
    {
     "name": "stderr",
     "output_type": "stream",
     "text": [
      "C:\\Anaconda\\lib\\site-packages\\lightgbm\\basic.py:1702: UserWarning: Using categorical_feature in Dataset.\n",
      "  _log_warning('Using categorical_feature in Dataset.')\n",
      "C:\\Anaconda\\lib\\site-packages\\lightgbm\\basic.py:1433: UserWarning: Overriding the parameters from Reference Dataset.\n",
      "  _log_warning('Overriding the parameters from Reference Dataset.')\n",
      "C:\\Anaconda\\lib\\site-packages\\lightgbm\\basic.py:1245: UserWarning: categorical_column in param dict is overridden.\n",
      "  _log_warning('{} in param dict is overridden.'.format(cat_alias))\n",
      "\u001b[32m[I 2021-03-30 16:44:04,085]\u001b[0m Trial 5 pruned. Trial was pruned at iteration 12.\u001b[0m\n"
     ]
    },
    {
     "name": "stdout",
     "output_type": "stream",
     "text": [
      "[LightGBM] [Info] Start training from score 13.130955\n",
      "[1]\tvalid_0's rmse: 8.25608\n",
      "[2]\tvalid_0's rmse: 7.63032\n",
      "[3]\tvalid_0's rmse: 7.06818\n",
      "[4]\tvalid_0's rmse: 6.56723\n",
      "[5]\tvalid_0's rmse: 6.1339\n",
      "[6]\tvalid_0's rmse: 5.78368\n",
      "[7]\tvalid_0's rmse: 5.48016\n",
      "[8]\tvalid_0's rmse: 5.19378\n",
      "[9]\tvalid_0's rmse: 4.9732\n",
      "[10]\tvalid_0's rmse: 4.77222\n",
      "[11]\tvalid_0's rmse: 4.61676\n",
      "[12]\tvalid_0's rmse: 4.48062\n"
     ]
    },
    {
     "name": "stderr",
     "output_type": "stream",
     "text": [
      "\u001b[32m[I 2021-03-30 16:44:04,407]\u001b[0m Trial 6 pruned. Trial was pruned at iteration 11.\u001b[0m\n"
     ]
    },
    {
     "name": "stdout",
     "output_type": "stream",
     "text": [
      "[LightGBM] [Warning] Auto-choosing col-wise multi-threading, the overhead of testing was 0.005110 seconds.\n",
      "You can set `force_col_wise=true` to remove the overhead.\n",
      "[LightGBM] [Info] Total Bins 9027\n",
      "[LightGBM] [Info] Number of data points in the train set: 26064, number of used features: 37\n",
      "[LightGBM] [Info] Start training from score 13.130955\n",
      "[LightGBM] [Warning] No further splits with positive gain, best gain: -inf\n",
      "[1]\tvalid_0's rmse: 8.23104\n",
      "[LightGBM] [Warning] No further splits with positive gain, best gain: -inf\n",
      "[2]\tvalid_0's rmse: 7.57864\n",
      "[LightGBM] [Warning] No further splits with positive gain, best gain: -inf\n",
      "[3]\tvalid_0's rmse: 7.01499\n",
      "[LightGBM] [Warning] No further splits with positive gain, best gain: -inf\n",
      "[4]\tvalid_0's rmse: 6.54024\n",
      "[LightGBM] [Warning] No further splits with positive gain, best gain: -inf\n",
      "[5]\tvalid_0's rmse: 6.12717\n",
      "[LightGBM] [Warning] No further splits with positive gain, best gain: -inf\n",
      "[6]\tvalid_0's rmse: 5.76083\n",
      "[LightGBM] [Warning] No further splits with positive gain, best gain: -inf\n",
      "[7]\tvalid_0's rmse: 5.45997\n",
      "[LightGBM] [Warning] No further splits with positive gain, best gain: -inf\n",
      "[8]\tvalid_0's rmse: 5.19718\n",
      "[LightGBM] [Warning] No further splits with positive gain, best gain: -inf\n",
      "[9]\tvalid_0's rmse: 4.97304\n",
      "[LightGBM] [Warning] No further splits with positive gain, best gain: -inf\n",
      "[10]\tvalid_0's rmse: 4.79962\n",
      "[LightGBM] [Warning] No further splits with positive gain, best gain: -inf\n",
      "[11]\tvalid_0's rmse: 4.64695\n",
      "[LightGBM] [Warning] No further splits with positive gain, best gain: -inf\n"
     ]
    },
    {
     "name": "stderr",
     "output_type": "stream",
     "text": [
      "\u001b[32m[I 2021-03-30 16:44:04,687]\u001b[0m Trial 7 pruned. Trial was pruned at iteration 11.\u001b[0m\n"
     ]
    },
    {
     "name": "stdout",
     "output_type": "stream",
     "text": [
      "[LightGBM] [Warning] Auto-choosing col-wise multi-threading, the overhead of testing was 0.005333 seconds.\n",
      "You can set `force_col_wise=true` to remove the overhead.\n",
      "[LightGBM] [Info] Total Bins 9027\n",
      "[LightGBM] [Info] Number of data points in the train set: 26064, number of used features: 37\n",
      "[LightGBM] [Info] Start training from score 13.130955\n",
      "[1]\tvalid_0's rmse: 8.24342\n",
      "[2]\tvalid_0's rmse: 7.62972\n",
      "[3]\tvalid_0's rmse: 7.06396\n",
      "[4]\tvalid_0's rmse: 6.54398\n",
      "[5]\tvalid_0's rmse: 6.13174\n",
      "[6]\tvalid_0's rmse: 5.78626\n",
      "[7]\tvalid_0's rmse: 5.48786\n",
      "[8]\tvalid_0's rmse: 5.22192\n",
      "[9]\tvalid_0's rmse: 5.00051\n",
      "[10]\tvalid_0's rmse: 4.80449\n",
      "[11]\tvalid_0's rmse: 4.65027\n",
      "[LightGBM] [Warning] Auto-choosing col-wise multi-threading, the overhead of testing was 0.004263 seconds.\n",
      "You can set `force_col_wise=true` to remove the overhead.\n",
      "[LightGBM] [Info] Total Bins 9027\n",
      "[LightGBM] [Info] Number of data points in the train set: 26064, number of used features: 37\n",
      "[LightGBM] [Info] Start training from score 13.130955\n",
      "[1]\tvalid_0's rmse: 8.27108\n",
      "[2]\tvalid_0's rmse: 7.62446\n",
      "[3]\tvalid_0's rmse: 7.05992\n",
      "[4]\tvalid_0's rmse: 6.57478\n",
      "[5]\tvalid_0's rmse: 6.15006\n"
     ]
    },
    {
     "name": "stderr",
     "output_type": "stream",
     "text": [
      "\u001b[32m[I 2021-03-30 16:44:05,187]\u001b[0m Trial 8 pruned. Trial was pruned at iteration 13.\u001b[0m\n"
     ]
    },
    {
     "name": "stdout",
     "output_type": "stream",
     "text": [
      "[6]\tvalid_0's rmse: 5.7861\n",
      "[7]\tvalid_0's rmse: 5.46505\n",
      "[8]\tvalid_0's rmse: 5.1854\n",
      "[9]\tvalid_0's rmse: 4.93961\n",
      "[10]\tvalid_0's rmse: 4.76747\n",
      "[11]\tvalid_0's rmse: 4.59316\n",
      "[12]\tvalid_0's rmse: 4.46353\n",
      "[13]\tvalid_0's rmse: 4.35528\n"
     ]
    },
    {
     "name": "stderr",
     "output_type": "stream",
     "text": [
      "\u001b[32m[I 2021-03-30 16:44:05,421]\u001b[0m Trial 9 pruned. Trial was pruned at iteration 11.\u001b[0m\n"
     ]
    },
    {
     "name": "stdout",
     "output_type": "stream",
     "text": [
      "[LightGBM] [Warning] Auto-choosing col-wise multi-threading, the overhead of testing was 0.003677 seconds.\n",
      "You can set `force_col_wise=true` to remove the overhead.\n",
      "[LightGBM] [Info] Total Bins 9027\n",
      "[LightGBM] [Info] Number of data points in the train set: 26064, number of used features: 37\n",
      "[LightGBM] [Info] Start training from score 13.130955\n",
      "[LightGBM] [Warning] No further splits with positive gain, best gain: -inf\n",
      "[1]\tvalid_0's rmse: 8.27536\n",
      "[LightGBM] [Warning] No further splits with positive gain, best gain: -inf\n",
      "[2]\tvalid_0's rmse: 7.6483\n",
      "[LightGBM] [Warning] No further splits with positive gain, best gain: -inf\n",
      "[3]\tvalid_0's rmse: 7.05934\n",
      "[LightGBM] [Warning] No further splits with positive gain, best gain: -inf\n",
      "[4]\tvalid_0's rmse: 6.55586\n",
      "[LightGBM] [Warning] No further splits with positive gain, best gain: -inf\n",
      "[5]\tvalid_0's rmse: 6.14834\n",
      "[LightGBM] [Warning] No further splits with positive gain, best gain: -inf\n",
      "[6]\tvalid_0's rmse: 5.78508\n",
      "[LightGBM] [Warning] No further splits with positive gain, best gain: -inf\n",
      "[7]\tvalid_0's rmse: 5.45084\n",
      "[LightGBM] [Warning] No further splits with positive gain, best gain: -inf\n",
      "[8]\tvalid_0's rmse: 5.17837\n",
      "[LightGBM] [Warning] No further splits with positive gain, best gain: -inf\n",
      "[9]\tvalid_0's rmse: 4.96722\n",
      "[LightGBM] [Warning] No further splits with positive gain, best gain: -inf\n",
      "[10]\tvalid_0's rmse: 4.78278\n",
      "[LightGBM] [Warning] No further splits with positive gain, best gain: -inf\n",
      "[11]\tvalid_0's rmse: 4.63481\n",
      "[LightGBM] [Warning] No further splits with positive gain, best gain: -inf\n"
     ]
    },
    {
     "name": "stderr",
     "output_type": "stream",
     "text": [
      "\u001b[32m[I 2021-03-30 16:44:05,596]\u001b[0m Trial 10 pruned. Trial was pruned at iteration 10.\u001b[0m\n"
     ]
    },
    {
     "name": "stdout",
     "output_type": "stream",
     "text": [
      "[LightGBM] [Warning] Auto-choosing col-wise multi-threading, the overhead of testing was 0.005130 seconds.\n",
      "You can set `force_col_wise=true` to remove the overhead.\n",
      "[LightGBM] [Info] Total Bins 9027\n",
      "[LightGBM] [Info] Number of data points in the train set: 26064, number of used features: 37\n",
      "[LightGBM] [Info] Start training from score 13.130955\n",
      "[1]\tvalid_0's rmse: 8.39139\n",
      "[2]\tvalid_0's rmse: 7.83188\n",
      "[3]\tvalid_0's rmse: 7.32354\n",
      "[4]\tvalid_0's rmse: 6.88317\n",
      "[5]\tvalid_0's rmse: 6.52668\n",
      "[6]\tvalid_0's rmse: 6.20393\n",
      "[7]\tvalid_0's rmse: 5.90841\n",
      "[8]\tvalid_0's rmse: 5.63985\n",
      "[9]\tvalid_0's rmse: 5.42515\n",
      "[10]\tvalid_0's rmse: 5.21632\n",
      "[LightGBM] [Warning] Auto-choosing col-wise multi-threading, the overhead of testing was 0.002738 seconds.\n",
      "You can set `force_col_wise=true` to remove the overhead.\n",
      "[LightGBM] [Info] Total Bins 9027\n",
      "[LightGBM] [Info] Number of data points in the train set: 26064, number of used features: 37\n",
      "[LightGBM] [Info] Start training from score 13.130955\n",
      "[1]\tvalid_0's rmse: 8.29941\n",
      "[2]\tvalid_0's rmse: 7.67966\n",
      "[3]\tvalid_0's rmse: 7.22676\n",
      "[4]\tvalid_0's rmse: 6.81462\n",
      "[5]\tvalid_0's rmse: 6.4217\n",
      "[6]\tvalid_0's rmse: 6.0814\n",
      "[7]\tvalid_0's rmse: 5.83427\n",
      "[8]\tvalid_0's rmse: 5.5809\n",
      "[9]\tvalid_0's rmse: 5.39446\n"
     ]
    },
    {
     "name": "stderr",
     "output_type": "stream",
     "text": [
      "\u001b[32m[I 2021-03-30 16:44:05,745]\u001b[0m Trial 11 pruned. Trial was pruned at iteration 10.\u001b[0m\n",
      "\u001b[32m[I 2021-03-30 16:44:05,925]\u001b[0m Trial 12 pruned. Trial was pruned at iteration 12.\u001b[0m\n"
     ]
    },
    {
     "name": "stdout",
     "output_type": "stream",
     "text": [
      "[10]\tvalid_0's rmse: 5.19055\n",
      "[LightGBM] [Warning] Auto-choosing col-wise multi-threading, the overhead of testing was 0.005230 seconds.\n",
      "You can set `force_col_wise=true` to remove the overhead.\n",
      "[LightGBM] [Info] Total Bins 9027\n",
      "[LightGBM] [Info] Number of data points in the train set: 26064, number of used features: 37\n",
      "[LightGBM] [Info] Start training from score 13.130955\n",
      "[1]\tvalid_0's rmse: 8.26606\n",
      "[2]\tvalid_0's rmse: 7.62556\n",
      "[3]\tvalid_0's rmse: 7.08134\n",
      "[4]\tvalid_0's rmse: 6.60347\n",
      "[5]\tvalid_0's rmse: 6.1841\n",
      "[6]\tvalid_0's rmse: 5.81895\n",
      "[7]\tvalid_0's rmse: 5.50607\n",
      "[8]\tvalid_0's rmse: 5.2331\n",
      "[9]\tvalid_0's rmse: 5.00148\n",
      "[10]\tvalid_0's rmse: 4.7847\n",
      "[11]\tvalid_0's rmse: 4.63185\n",
      "[12]\tvalid_0's rmse: 4.48654\n"
     ]
    },
    {
     "name": "stderr",
     "output_type": "stream",
     "text": [
      "\u001b[32m[I 2021-03-30 16:44:06,133]\u001b[0m Trial 13 pruned. Trial was pruned at iteration 11.\u001b[0m\n"
     ]
    },
    {
     "name": "stdout",
     "output_type": "stream",
     "text": [
      "[LightGBM] [Warning] Auto-choosing col-wise multi-threading, the overhead of testing was 0.002786 seconds.\n",
      "You can set `force_col_wise=true` to remove the overhead.\n",
      "[LightGBM] [Info] Total Bins 9027\n",
      "[LightGBM] [Info] Number of data points in the train set: 26064, number of used features: 37\n",
      "[LightGBM] [Info] Start training from score 13.130955\n",
      "[1]\tvalid_0's rmse: 8.25306\n",
      "[2]\tvalid_0's rmse: 7.60906\n",
      "[3]\tvalid_0's rmse: 7.07244\n",
      "[4]\tvalid_0's rmse: 6.60573\n",
      "[5]\tvalid_0's rmse: 6.20469\n",
      "[6]\tvalid_0's rmse: 5.8539\n",
      "[7]\tvalid_0's rmse: 5.4872\n",
      "[8]\tvalid_0's rmse: 5.19495\n",
      "[9]\tvalid_0's rmse: 4.96955\n",
      "[10]\tvalid_0's rmse: 4.79752\n",
      "[11]\tvalid_0's rmse: 4.6443\n",
      "[LightGBM] [Warning] Auto-choosing col-wise multi-threading, the overhead of testing was 0.003838 seconds.\n",
      "You can set `force_col_wise=true` to remove the overhead.\n"
     ]
    },
    {
     "name": "stderr",
     "output_type": "stream",
     "text": [
      "\u001b[32m[I 2021-03-30 16:44:06,300]\u001b[0m Trial 14 pruned. Trial was pruned at iteration 10.\u001b[0m\n"
     ]
    },
    {
     "name": "stdout",
     "output_type": "stream",
     "text": [
      "[LightGBM] [Info] Total Bins 9027\n",
      "[LightGBM] [Info] Number of data points in the train set: 26064, number of used features: 37\n",
      "[LightGBM] [Info] Start training from score 13.130955\n",
      "[1]\tvalid_0's rmse: 8.26744\n",
      "[2]\tvalid_0's rmse: 7.65541\n",
      "[3]\tvalid_0's rmse: 7.1253\n",
      "[4]\tvalid_0's rmse: 6.66394\n",
      "[5]\tvalid_0's rmse: 6.25463\n",
      "[6]\tvalid_0's rmse: 5.90501\n",
      "[7]\tvalid_0's rmse: 5.58277\n",
      "[8]\tvalid_0's rmse: 5.30821\n",
      "[9]\tvalid_0's rmse: 5.08807\n",
      "[10]\tvalid_0's rmse: 4.88542\n",
      "[LightGBM] [Warning] Auto-choosing col-wise multi-threading, the overhead of testing was 0.004869 seconds.\n",
      "You can set `force_col_wise=true` to remove the overhead.\n",
      "[LightGBM] [Info] Total Bins 9027\n",
      "[LightGBM] [Info] Number of data points in the train set: 26064, number of used features: 37\n",
      "[LightGBM] [Info] Start training from score 13.130955\n",
      "[1]\tvalid_0's rmse: 8.27347\n",
      "[2]\tvalid_0's rmse: 7.62733\n",
      "[3]\tvalid_0's rmse: 7.08206\n",
      "[4]\tvalid_0's rmse: 6.59405\n",
      "[5]\tvalid_0's rmse: 6.16434\n",
      "[6]\tvalid_0's rmse: 5.80304\n",
      "[7]\tvalid_0's rmse: 5.46377\n",
      "[8]\tvalid_0's rmse: 5.19283\n",
      "[9]\tvalid_0's rmse: 4.97423\n",
      "[10]\tvalid_0's rmse: 4.75898\n",
      "[11]\tvalid_0's rmse: 4.58581\n",
      "[12]\tvalid_0's rmse: 4.43679\n",
      "[13]\tvalid_0's rmse: 4.31847\n",
      "[14]\tvalid_0's rmse: 4.2154\n",
      "[15]\tvalid_0's rmse: 4.12933\n",
      "[16]\tvalid_0's rmse: 4.06988\n",
      "[17]\tvalid_0's rmse: 4.00865\n",
      "[18]\tvalid_0's rmse: 3.95807\n",
      "[19]\tvalid_0's rmse: 3.92185\n",
      "[20]\tvalid_0's rmse: 3.8841\n",
      "[21]\tvalid_0's rmse: 3.8668\n",
      "[22]\tvalid_0's rmse: 3.83791\n",
      "[23]\tvalid_0's rmse: 3.83033\n",
      "[24]\tvalid_0's rmse: 3.82349\n",
      "[25]\tvalid_0's rmse: 3.80371\n",
      "[26]\tvalid_0's rmse: 3.78962\n",
      "[27]\tvalid_0's rmse: 3.77859\n",
      "[28]\tvalid_0's rmse: 3.7669\n",
      "[29]\tvalid_0's rmse: 3.76514\n",
      "[30]\tvalid_0's rmse: 3.73216\n",
      "[31]\tvalid_0's rmse: 3.73231\n",
      "[32]\tvalid_0's rmse: 3.73086\n",
      "[33]\tvalid_0's rmse: 3.73132\n",
      "[34]\tvalid_0's rmse: 3.72923\n",
      "[35]\tvalid_0's rmse: 3.71199\n",
      "[36]\tvalid_0's rmse: 3.71248\n",
      "[37]\tvalid_0's rmse: 3.71984\n",
      "[38]\tvalid_0's rmse: 3.72975\n",
      "[39]\tvalid_0's rmse: 3.73738\n",
      "[40]\tvalid_0's rmse: 3.74152\n",
      "[41]\tvalid_0's rmse: 3.73745\n",
      "[42]\tvalid_0's rmse: 3.74761\n",
      "[43]\tvalid_0's rmse: 3.74698\n",
      "[44]\tvalid_0's rmse: 3.75037\n",
      "[45]\tvalid_0's rmse: 3.7548\n",
      "[46]\tvalid_0's rmse: 3.75712\n",
      "[47]\tvalid_0's rmse: 3.75645\n",
      "[48]\tvalid_0's rmse: 3.76419\n",
      "[49]\tvalid_0's rmse: 3.77159\n",
      "[50]\tvalid_0's rmse: 3.76836\n",
      "[51]\tvalid_0's rmse: 3.7621\n",
      "[52]\tvalid_0's rmse: 3.76691\n",
      "[53]\tvalid_0's rmse: 3.75995\n",
      "[54]\tvalid_0's rmse: 3.75449\n",
      "[55]\tvalid_0's rmse: 3.75922\n",
      "[56]\tvalid_0's rmse: 3.7511\n",
      "[57]\tvalid_0's rmse: 3.75059\n",
      "[58]\tvalid_0's rmse: 3.74924\n",
      "[59]\tvalid_0's rmse: 3.74619\n",
      "[60]\tvalid_0's rmse: 3.74588\n",
      "[61]\tvalid_0's rmse: 3.74895\n",
      "[62]\tvalid_0's rmse: 3.75071\n",
      "[63]\tvalid_0's rmse: 3.75023\n",
      "[64]\tvalid_0's rmse: 3.75755\n",
      "[65]\tvalid_0's rmse: 3.75988\n",
      "[66]\tvalid_0's rmse: 3.76292\n",
      "[67]\tvalid_0's rmse: 3.76908\n",
      "[68]\tvalid_0's rmse: 3.76865\n",
      "[69]\tvalid_0's rmse: 3.75968\n",
      "[70]\tvalid_0's rmse: 3.75675\n",
      "[71]\tvalid_0's rmse: 3.75512\n",
      "[72]\tvalid_0's rmse: 3.75552\n",
      "[73]\tvalid_0's rmse: 3.75027\n",
      "[74]\tvalid_0's rmse: 3.75229\n",
      "[75]\tvalid_0's rmse: 3.74562\n",
      "[76]\tvalid_0's rmse: 3.7488\n",
      "[77]\tvalid_0's rmse: 3.74358\n",
      "[78]\tvalid_0's rmse: 3.74522\n",
      "[79]\tvalid_0's rmse: 3.74469\n",
      "[80]\tvalid_0's rmse: 3.74848\n",
      "[81]\tvalid_0's rmse: 3.74488\n",
      "[82]\tvalid_0's rmse: 3.74618\n",
      "[83]\tvalid_0's rmse: 3.74766\n",
      "[84]\tvalid_0's rmse: 3.74765\n",
      "[85]\tvalid_0's rmse: 3.7457\n",
      "[86]\tvalid_0's rmse: 3.74802\n",
      "[87]\tvalid_0's rmse: 3.7498\n",
      "[88]\tvalid_0's rmse: 3.74859\n",
      "[89]\tvalid_0's rmse: 3.74766\n",
      "[90]\tvalid_0's rmse: 3.74572\n",
      "[91]\tvalid_0's rmse: 3.74849\n",
      "[92]\tvalid_0's rmse: 3.74975\n",
      "[93]\tvalid_0's rmse: 3.74887\n",
      "[94]\tvalid_0's rmse: 3.74894\n",
      "[95]\tvalid_0's rmse: 3.74875\n",
      "[96]\tvalid_0's rmse: 3.74713\n",
      "[97]\tvalid_0's rmse: 3.74867\n",
      "[98]\tvalid_0's rmse: 3.75449\n",
      "[99]\tvalid_0's rmse: 3.76408\n",
      "[100]\tvalid_0's rmse: 3.76818\n"
     ]
    },
    {
     "name": "stderr",
     "output_type": "stream",
     "text": [
      "\u001b[32m[I 2021-03-30 16:44:07,636]\u001b[0m Trial 15 finished with value: 3.768183418918583 and parameters: {'lambda_l1': 0.23182531619932256, 'lambda_l2': 2.050335541888139e-08, 'num_leaves': 79, 'feature_fraction': 0.8856187438165142, 'bagging_fraction': 0.8036829929494392, 'bagging_freq': 7, 'min_child_samples': 64}. Best is trial 4 with value: 3.7568512943903225.\u001b[0m\n",
      "C:\\Anaconda\\lib\\site-packages\\lightgbm\\basic.py:1702: UserWarning: Using categorical_feature in Dataset.\n",
      "  _log_warning('Using categorical_feature in Dataset.')\n",
      "C:\\Anaconda\\lib\\site-packages\\lightgbm\\basic.py:1433: UserWarning: Overriding the parameters from Reference Dataset.\n",
      "  _log_warning('Overriding the parameters from Reference Dataset.')\n",
      "C:\\Anaconda\\lib\\site-packages\\lightgbm\\basic.py:1245: UserWarning: categorical_column in param dict is overridden.\n",
      "  _log_warning('{} in param dict is overridden.'.format(cat_alias))\n"
     ]
    },
    {
     "name": "stdout",
     "output_type": "stream",
     "text": [
      "[LightGBM] [Warning] Auto-choosing col-wise multi-threading, the overhead of testing was 0.006101 seconds.\n",
      "You can set `force_col_wise=true` to remove the overhead.\n",
      "[LightGBM] [Info] Total Bins 9027\n",
      "[LightGBM] [Info] Number of data points in the train set: 26064, number of used features: 37\n",
      "[LightGBM] [Info] Start training from score 13.130955\n",
      "[1]\tvalid_0's rmse: 8.25054\n",
      "[2]\tvalid_0's rmse: 7.60867\n",
      "[3]\tvalid_0's rmse: 7.06285\n",
      "[4]\tvalid_0's rmse: 6.60018\n",
      "[5]\tvalid_0's rmse: 6.15995\n",
      "[6]\tvalid_0's rmse: 5.81372\n",
      "[7]\tvalid_0's rmse: 5.5138\n",
      "[8]\tvalid_0's rmse: 5.25261\n",
      "[9]\tvalid_0's rmse: 5.02031\n"
     ]
    },
    {
     "name": "stderr",
     "output_type": "stream",
     "text": [
      "\u001b[32m[I 2021-03-30 16:44:07,991]\u001b[0m Trial 16 pruned. Trial was pruned at iteration 10.\u001b[0m\n"
     ]
    },
    {
     "name": "stdout",
     "output_type": "stream",
     "text": [
      "[10]\tvalid_0's rmse: 4.82171\n",
      "[LightGBM] [Warning] Auto-choosing col-wise multi-threading, the overhead of testing was 0.006553 seconds.\n",
      "You can set `force_col_wise=true` to remove the overhead.\n",
      "[LightGBM] [Info] Total Bins 9027\n",
      "[LightGBM] [Info] Number of data points in the train set: 26064, number of used features: 37\n",
      "[LightGBM] [Info] Start training from score 13.130955\n",
      "[1]\tvalid_0's rmse: 8.2428\n",
      "[2]\tvalid_0's rmse: 7.57631\n",
      "[3]\tvalid_0's rmse: 7.03406\n"
     ]
    },
    {
     "name": "stderr",
     "output_type": "stream",
     "text": [
      "\u001b[32m[I 2021-03-30 16:44:08,291]\u001b[0m Trial 17 pruned. Trial was pruned at iteration 13.\u001b[0m\n"
     ]
    },
    {
     "name": "stdout",
     "output_type": "stream",
     "text": [
      "[4]\tvalid_0's rmse: 6.57058\n",
      "[5]\tvalid_0's rmse: 6.1524\n",
      "[6]\tvalid_0's rmse: 5.78526\n",
      "[7]\tvalid_0's rmse: 5.46738\n",
      "[8]\tvalid_0's rmse: 5.19876\n",
      "[9]\tvalid_0's rmse: 4.96538\n",
      "[10]\tvalid_0's rmse: 4.76868\n",
      "[11]\tvalid_0's rmse: 4.59965\n",
      "[12]\tvalid_0's rmse: 4.4603\n",
      "[13]\tvalid_0's rmse: 4.35289\n",
      "[LightGBM] [Warning] Auto-choosing col-wise multi-threading, the overhead of testing was 0.007557 seconds.\n",
      "You can set `force_col_wise=true` to remove the overhead.\n",
      "[LightGBM] [Info] Total Bins 9027\n",
      "[LightGBM] [Info] Number of data points in the train set: 26064, number of used features: 37\n",
      "[LightGBM] [Info] Start training from score 13.130955\n",
      "[1]\tvalid_0's rmse: 8.26269\n",
      "[2]\tvalid_0's rmse: 7.64067\n",
      "[3]\tvalid_0's rmse: 7.06693\n",
      "[4]\tvalid_0's rmse: 6.57517\n",
      "[5]\tvalid_0's rmse: 6.1629\n",
      "[6]\tvalid_0's rmse: 5.79955\n",
      "[7]\tvalid_0's rmse: 5.4976\n",
      "[8]\tvalid_0's rmse: 5.20915\n",
      "[9]\tvalid_0's rmse: 4.985\n",
      "[10]\tvalid_0's rmse: 4.78483\n",
      "[11]\tvalid_0's rmse: 4.62933\n",
      "[12]\tvalid_0's rmse: 4.49163\n",
      "[13]\tvalid_0's rmse: 4.34979\n",
      "[14]\tvalid_0's rmse: 4.25054\n"
     ]
    },
    {
     "name": "stderr",
     "output_type": "stream",
     "text": [
      "\u001b[32m[I 2021-03-30 16:44:08,630]\u001b[0m Trial 18 pruned. Trial was pruned at iteration 17.\u001b[0m\n"
     ]
    },
    {
     "name": "stdout",
     "output_type": "stream",
     "text": [
      "[15]\tvalid_0's rmse: 4.1704\n",
      "[16]\tvalid_0's rmse: 4.10535\n",
      "[17]\tvalid_0's rmse: 4.05033\n",
      "[LightGBM] [Warning] Auto-choosing col-wise multi-threading, the overhead of testing was 0.004462 seconds.\n",
      "You can set `force_col_wise=true` to remove the overhead.\n",
      "[LightGBM] [Info] Total Bins 9027\n",
      "[LightGBM] [Info] Number of data points in the train set: 26064, number of used features: 37\n",
      "[LightGBM] [Info] Start training from score 13.130955\n",
      "[1]\tvalid_0's rmse: 8.25514\n",
      "[2]\tvalid_0's rmse: 7.60256\n",
      "[3]\tvalid_0's rmse: 7.05319\n",
      "[4]\tvalid_0's rmse: 6.54891\n",
      "[5]\tvalid_0's rmse: 6.14277\n",
      "[6]\tvalid_0's rmse: 5.79187\n",
      "[7]\tvalid_0's rmse: 5.49283\n",
      "[8]\tvalid_0's rmse: 5.2113\n",
      "[9]\tvalid_0's rmse: 4.98985\n",
      "[10]\tvalid_0's rmse: 4.787\n",
      "[11]\tvalid_0's rmse: 4.60623\n",
      "[12]\tvalid_0's rmse: 4.46242\n",
      "[13]\tvalid_0's rmse: 4.33328\n",
      "[14]\tvalid_0's rmse: 4.23318\n",
      "[15]\tvalid_0's rmse: 4.1581\n",
      "[16]\tvalid_0's rmse: 4.0868\n",
      "[17]\tvalid_0's rmse: 4.03303\n",
      "[18]\tvalid_0's rmse: 3.96778\n",
      "[19]\tvalid_0's rmse: 3.8848\n",
      "[20]\tvalid_0's rmse: 3.84781\n",
      "[21]\tvalid_0's rmse: 3.82051\n",
      "[22]\tvalid_0's rmse: 3.79156\n",
      "[23]\tvalid_0's rmse: 3.78395\n",
      "[24]\tvalid_0's rmse: 3.7727\n",
      "[25]\tvalid_0's rmse: 3.75752\n",
      "[26]\tvalid_0's rmse: 3.74543\n",
      "[27]\tvalid_0's rmse: 3.74306\n",
      "[28]\tvalid_0's rmse: 3.74826\n",
      "[29]\tvalid_0's rmse: 3.7459\n",
      "[30]\tvalid_0's rmse: 3.73729\n",
      "[31]\tvalid_0's rmse: 3.7257\n",
      "[32]\tvalid_0's rmse: 3.7149\n",
      "[33]\tvalid_0's rmse: 3.70389\n",
      "[34]\tvalid_0's rmse: 3.7053\n",
      "[35]\tvalid_0's rmse: 3.71763\n",
      "[36]\tvalid_0's rmse: 3.70253\n",
      "[37]\tvalid_0's rmse: 3.68749\n",
      "[38]\tvalid_0's rmse: 3.68627\n",
      "[39]\tvalid_0's rmse: 3.68479\n",
      "[40]\tvalid_0's rmse: 3.68425\n",
      "[41]\tvalid_0's rmse: 3.68072\n",
      "[42]\tvalid_0's rmse: 3.68272\n",
      "[43]\tvalid_0's rmse: 3.6806\n",
      "[44]\tvalid_0's rmse: 3.68084\n",
      "[45]\tvalid_0's rmse: 3.68755\n",
      "[46]\tvalid_0's rmse: 3.68367\n",
      "[47]\tvalid_0's rmse: 3.68563\n",
      "[48]\tvalid_0's rmse: 3.68265\n",
      "[49]\tvalid_0's rmse: 3.68308\n",
      "[50]\tvalid_0's rmse: 3.67813\n",
      "[51]\tvalid_0's rmse: 3.67815\n",
      "[52]\tvalid_0's rmse: 3.68563\n",
      "[53]\tvalid_0's rmse: 3.6853\n",
      "[54]\tvalid_0's rmse: 3.69492\n",
      "[55]\tvalid_0's rmse: 3.69022\n",
      "[56]\tvalid_0's rmse: 3.69096\n",
      "[57]\tvalid_0's rmse: 3.69808\n",
      "[58]\tvalid_0's rmse: 3.699\n",
      "[59]\tvalid_0's rmse: 3.69567\n",
      "[60]\tvalid_0's rmse: 3.69532\n",
      "[61]\tvalid_0's rmse: 3.69047\n",
      "[62]\tvalid_0's rmse: 3.69061\n",
      "[63]\tvalid_0's rmse: 3.6863\n",
      "[64]\tvalid_0's rmse: 3.68461\n",
      "[65]\tvalid_0's rmse: 3.68309\n",
      "[66]\tvalid_0's rmse: 3.68751\n",
      "[67]\tvalid_0's rmse: 3.69168\n",
      "[68]\tvalid_0's rmse: 3.70265\n",
      "[69]\tvalid_0's rmse: 3.70356\n",
      "[70]\tvalid_0's rmse: 3.7019\n",
      "[71]\tvalid_0's rmse: 3.70159\n",
      "[72]\tvalid_0's rmse: 3.71359\n",
      "[73]\tvalid_0's rmse: 3.70669\n",
      "[74]\tvalid_0's rmse: 3.70406\n",
      "[75]\tvalid_0's rmse: 3.70306\n",
      "[76]\tvalid_0's rmse: 3.7112\n",
      "[77]\tvalid_0's rmse: 3.71126\n",
      "[78]\tvalid_0's rmse: 3.70479\n",
      "[79]\tvalid_0's rmse: 3.69858\n",
      "[80]\tvalid_0's rmse: 3.70173\n",
      "[81]\tvalid_0's rmse: 3.70178\n",
      "[82]\tvalid_0's rmse: 3.70517\n",
      "[83]\tvalid_0's rmse: 3.70877\n",
      "[84]\tvalid_0's rmse: 3.71324\n",
      "[85]\tvalid_0's rmse: 3.71749\n",
      "[86]\tvalid_0's rmse: 3.71579\n",
      "[87]\tvalid_0's rmse: 3.7204\n",
      "[88]\tvalid_0's rmse: 3.72703\n",
      "[89]\tvalid_0's rmse: 3.72655\n",
      "[90]\tvalid_0's rmse: 3.72406\n",
      "[91]\tvalid_0's rmse: 3.72226\n",
      "[92]\tvalid_0's rmse: 3.72642\n",
      "[93]\tvalid_0's rmse: 3.72485\n",
      "[94]\tvalid_0's rmse: 3.72874\n",
      "[95]\tvalid_0's rmse: 3.72712\n",
      "[96]\tvalid_0's rmse: 3.72559\n",
      "[97]\tvalid_0's rmse: 3.72934\n",
      "[98]\tvalid_0's rmse: 3.73304\n",
      "[99]\tvalid_0's rmse: 3.72942\n",
      "[100]\tvalid_0's rmse: 3.73322\n"
     ]
    },
    {
     "name": "stderr",
     "output_type": "stream",
     "text": [
      "\u001b[32m[I 2021-03-30 16:44:09,587]\u001b[0m Trial 19 finished with value: 3.7332178749111247 and parameters: {'lambda_l1': 5.747791582749586e-06, 'lambda_l2': 1.0344915264969313e-05, 'num_leaves': 76, 'feature_fraction': 0.8197513076683636, 'bagging_fraction': 0.6759532682102479, 'bagging_freq': 1, 'min_child_samples': 37}. Best is trial 19 with value: 3.7332178749111247.\u001b[0m\n",
      "C:\\Anaconda\\lib\\site-packages\\lightgbm\\basic.py:1702: UserWarning: Using categorical_feature in Dataset.\n",
      "  _log_warning('Using categorical_feature in Dataset.')\n",
      "C:\\Anaconda\\lib\\site-packages\\lightgbm\\basic.py:1433: UserWarning: Overriding the parameters from Reference Dataset.\n",
      "  _log_warning('Overriding the parameters from Reference Dataset.')\n",
      "C:\\Anaconda\\lib\\site-packages\\lightgbm\\basic.py:1245: UserWarning: categorical_column in param dict is overridden.\n",
      "  _log_warning('{} in param dict is overridden.'.format(cat_alias))\n",
      "\u001b[32m[I 2021-03-30 16:44:09,757]\u001b[0m Trial 20 pruned. Trial was pruned at iteration 10.\u001b[0m\n"
     ]
    },
    {
     "name": "stdout",
     "output_type": "stream",
     "text": [
      "[LightGBM] [Warning] Auto-choosing col-wise multi-threading, the overhead of testing was 0.003591 seconds.\n",
      "You can set `force_col_wise=true` to remove the overhead.\n",
      "[LightGBM] [Info] Total Bins 9027\n",
      "[LightGBM] [Info] Number of data points in the train set: 26064, number of used features: 37\n",
      "[LightGBM] [Info] Start training from score 13.130955\n",
      "[1]\tvalid_0's rmse: 8.29176\n",
      "[2]\tvalid_0's rmse: 7.63101\n",
      "[3]\tvalid_0's rmse: 7.0672\n",
      "[4]\tvalid_0's rmse: 6.59261\n",
      "[5]\tvalid_0's rmse: 6.18654\n",
      "[6]\tvalid_0's rmse: 5.84371\n",
      "[7]\tvalid_0's rmse: 5.54937\n",
      "[8]\tvalid_0's rmse: 5.26215\n",
      "[9]\tvalid_0's rmse: 5.03372\n",
      "[10]\tvalid_0's rmse: 4.83854\n",
      "[LightGBM] [Warning] Auto-choosing col-wise multi-threading, the overhead of testing was 0.008439 seconds.\n",
      "You can set `force_col_wise=true` to remove the overhead.\n",
      "[LightGBM] [Info] Total Bins 9027\n",
      "[LightGBM] [Info] Number of data points in the train set: 26064, number of used features: 37\n",
      "[LightGBM] [Info] Start training from score 13.130955\n",
      "[1]\tvalid_0's rmse: 8.25573\n",
      "[2]\tvalid_0's rmse: 7.59141\n",
      "[3]\tvalid_0's rmse: 7.03688\n",
      "[4]\tvalid_0's rmse: 6.55573\n",
      "[5]\tvalid_0's rmse: 6.11949\n",
      "[6]\tvalid_0's rmse: 5.74975\n",
      "[7]\tvalid_0's rmse: 5.41872\n",
      "[8]\tvalid_0's rmse: 5.1623\n",
      "[9]\tvalid_0's rmse: 4.93011\n",
      "[10]\tvalid_0's rmse: 4.73168\n",
      "[11]\tvalid_0's rmse: 4.58335\n",
      "[12]\tvalid_0's rmse: 4.43977\n",
      "[13]\tvalid_0's rmse: 4.3223\n",
      "[14]\tvalid_0's rmse: 4.2288\n",
      "[15]\tvalid_0's rmse: 4.15435\n",
      "[16]\tvalid_0's rmse: 4.09457\n",
      "[17]\tvalid_0's rmse: 4.03404\n",
      "[18]\tvalid_0's rmse: 3.96478\n",
      "[19]\tvalid_0's rmse: 3.92622\n",
      "[20]\tvalid_0's rmse: 3.899\n",
      "[21]\tvalid_0's rmse: 3.8731\n",
      "[22]\tvalid_0's rmse: 3.83962\n",
      "[23]\tvalid_0's rmse: 3.81753\n",
      "[24]\tvalid_0's rmse: 3.7987\n",
      "[25]\tvalid_0's rmse: 3.77257\n",
      "[26]\tvalid_0's rmse: 3.7616\n",
      "[27]\tvalid_0's rmse: 3.74276\n",
      "[28]\tvalid_0's rmse: 3.7281\n",
      "[29]\tvalid_0's rmse: 3.72661\n",
      "[30]\tvalid_0's rmse: 3.72683\n",
      "[31]\tvalid_0's rmse: 3.71445\n",
      "[32]\tvalid_0's rmse: 3.70209\n",
      "[33]\tvalid_0's rmse: 3.69716\n",
      "[34]\tvalid_0's rmse: 3.6954\n",
      "[35]\tvalid_0's rmse: 3.68522\n",
      "[36]\tvalid_0's rmse: 3.6709\n",
      "[37]\tvalid_0's rmse: 3.66692\n",
      "[38]\tvalid_0's rmse: 3.66424\n",
      "[39]\tvalid_0's rmse: 3.67248\n",
      "[40]\tvalid_0's rmse: 3.68141\n",
      "[41]\tvalid_0's rmse: 3.67819\n",
      "[42]\tvalid_0's rmse: 3.67727\n",
      "[43]\tvalid_0's rmse: 3.68294\n",
      "[44]\tvalid_0's rmse: 3.68689\n",
      "[45]\tvalid_0's rmse: 3.68496\n",
      "[46]\tvalid_0's rmse: 3.68875\n",
      "[47]\tvalid_0's rmse: 3.68763\n",
      "[48]\tvalid_0's rmse: 3.68636\n",
      "[49]\tvalid_0's rmse: 3.67916\n",
      "[50]\tvalid_0's rmse: 3.68756\n",
      "[51]\tvalid_0's rmse: 3.6858\n",
      "[52]\tvalid_0's rmse: 3.68275\n",
      "[53]\tvalid_0's rmse: 3.68898\n",
      "[54]\tvalid_0's rmse: 3.69429\n",
      "[55]\tvalid_0's rmse: 3.70122\n",
      "[56]\tvalid_0's rmse: 3.70511\n",
      "[57]\tvalid_0's rmse: 3.7012\n",
      "[58]\tvalid_0's rmse: 3.69383\n",
      "[59]\tvalid_0's rmse: 3.69522\n",
      "[60]\tvalid_0's rmse: 3.69544\n",
      "[61]\tvalid_0's rmse: 3.69375\n",
      "[62]\tvalid_0's rmse: 3.69259\n",
      "[63]\tvalid_0's rmse: 3.6928\n",
      "[64]\tvalid_0's rmse: 3.69354\n",
      "[65]\tvalid_0's rmse: 3.69603\n",
      "[66]\tvalid_0's rmse: 3.70288\n",
      "[67]\tvalid_0's rmse: 3.71074\n",
      "[68]\tvalid_0's rmse: 3.70542\n",
      "[69]\tvalid_0's rmse: 3.72099\n",
      "[70]\tvalid_0's rmse: 3.71581\n",
      "[71]\tvalid_0's rmse: 3.71415\n",
      "[72]\tvalid_0's rmse: 3.71125\n",
      "[73]\tvalid_0's rmse: 3.70144\n",
      "[74]\tvalid_0's rmse: 3.69258\n",
      "[75]\tvalid_0's rmse: 3.68937\n",
      "[76]\tvalid_0's rmse: 3.6872\n",
      "[77]\tvalid_0's rmse: 3.68928\n",
      "[78]\tvalid_0's rmse: 3.68168\n",
      "[79]\tvalid_0's rmse: 3.67802\n",
      "[80]\tvalid_0's rmse: 3.68298\n",
      "[81]\tvalid_0's rmse: 3.68877\n",
      "[82]\tvalid_0's rmse: 3.69165\n",
      "[83]\tvalid_0's rmse: 3.69444\n",
      "[84]\tvalid_0's rmse: 3.68707\n",
      "[85]\tvalid_0's rmse: 3.68899\n",
      "[86]\tvalid_0's rmse: 3.68972\n",
      "[87]\tvalid_0's rmse: 3.69399\n",
      "[88]\tvalid_0's rmse: 3.69941\n",
      "[89]\tvalid_0's rmse: 3.69758\n",
      "[90]\tvalid_0's rmse: 3.70257\n",
      "[91]\tvalid_0's rmse: 3.70704\n",
      "[92]\tvalid_0's rmse: 3.71227\n",
      "[93]\tvalid_0's rmse: 3.70724\n",
      "[94]\tvalid_0's rmse: 3.70547\n",
      "[95]\tvalid_0's rmse: 3.71053\n",
      "[96]\tvalid_0's rmse: 3.71063\n",
      "[97]\tvalid_0's rmse: 3.70483\n",
      "[98]\tvalid_0's rmse: 3.69977\n",
      "[99]\tvalid_0's rmse: 3.70529\n"
     ]
    },
    {
     "name": "stderr",
     "output_type": "stream",
     "text": [
      "\u001b[32m[I 2021-03-30 16:44:10,943]\u001b[0m Trial 21 finished with value: 3.7054419102194136 and parameters: {'lambda_l1': 5.5116611210124836e-06, 'lambda_l2': 1.6272548634096205e-05, 'num_leaves': 73, 'feature_fraction': 0.8888294542720833, 'bagging_fraction': 0.6789562838859231, 'bagging_freq': 2, 'min_child_samples': 41}. Best is trial 21 with value: 3.7054419102194136.\u001b[0m\n"
     ]
    },
    {
     "name": "stdout",
     "output_type": "stream",
     "text": [
      "[100]\tvalid_0's rmse: 3.70544\n",
      "[LightGBM] [Warning] Auto-choosing col-wise multi-threading, the overhead of testing was 0.004700 seconds.\n",
      "You can set `force_col_wise=true` to remove the overhead.\n"
     ]
    },
    {
     "name": "stderr",
     "output_type": "stream",
     "text": [
      "C:\\Anaconda\\lib\\site-packages\\lightgbm\\basic.py:1702: UserWarning: Using categorical_feature in Dataset.\n",
      "  _log_warning('Using categorical_feature in Dataset.')\n",
      "C:\\Anaconda\\lib\\site-packages\\lightgbm\\basic.py:1433: UserWarning: Overriding the parameters from Reference Dataset.\n",
      "  _log_warning('Overriding the parameters from Reference Dataset.')\n",
      "C:\\Anaconda\\lib\\site-packages\\lightgbm\\basic.py:1245: UserWarning: categorical_column in param dict is overridden.\n",
      "  _log_warning('{} in param dict is overridden.'.format(cat_alias))\n"
     ]
    },
    {
     "name": "stdout",
     "output_type": "stream",
     "text": [
      "[LightGBM] [Info] Total Bins 9027\n",
      "[LightGBM] [Info] Number of data points in the train set: 26064, number of used features: 37\n",
      "[LightGBM] [Info] Start training from score 13.130955\n",
      "[1]\tvalid_0's rmse: 8.25126\n",
      "[2]\tvalid_0's rmse: 7.58886\n",
      "[3]\tvalid_0's rmse: 7.03635\n",
      "[4]\tvalid_0's rmse: 6.55553\n",
      "[5]\tvalid_0's rmse: 6.13237\n",
      "[6]\tvalid_0's rmse: 5.75979\n",
      "[7]\tvalid_0's rmse: 5.45236\n",
      "[8]\tvalid_0's rmse: 5.18319\n",
      "[9]\tvalid_0's rmse: 4.95267\n",
      "[10]\tvalid_0's rmse: 4.74526\n",
      "[11]\tvalid_0's rmse: 4.57435\n",
      "[12]\tvalid_0's rmse: 4.43654\n",
      "[13]\tvalid_0's rmse: 4.32615\n",
      "[14]\tvalid_0's rmse: 4.23669\n",
      "[15]\tvalid_0's rmse: 4.1477\n",
      "[16]\tvalid_0's rmse: 4.08859\n",
      "[17]\tvalid_0's rmse: 4.00364\n",
      "[18]\tvalid_0's rmse: 3.93328\n",
      "[19]\tvalid_0's rmse: 3.90043\n",
      "[20]\tvalid_0's rmse: 3.87458\n",
      "[21]\tvalid_0's rmse: 3.84553\n",
      "[22]\tvalid_0's rmse: 3.82188\n",
      "[23]\tvalid_0's rmse: 3.79809\n",
      "[24]\tvalid_0's rmse: 3.78382\n",
      "[25]\tvalid_0's rmse: 3.77088\n",
      "[26]\tvalid_0's rmse: 3.75626\n",
      "[27]\tvalid_0's rmse: 3.75039\n",
      "[28]\tvalid_0's rmse: 3.7342\n",
      "[29]\tvalid_0's rmse: 3.73619\n",
      "[30]\tvalid_0's rmse: 3.73824\n",
      "[31]\tvalid_0's rmse: 3.72819\n",
      "[32]\tvalid_0's rmse: 3.72563\n",
      "[33]\tvalid_0's rmse: 3.71425\n",
      "[34]\tvalid_0's rmse: 3.70182\n",
      "[35]\tvalid_0's rmse: 3.69695\n",
      "[36]\tvalid_0's rmse: 3.69853\n",
      "[37]\tvalid_0's rmse: 3.6939\n",
      "[38]\tvalid_0's rmse: 3.69317\n",
      "[39]\tvalid_0's rmse: 3.70358\n",
      "[40]\tvalid_0's rmse: 3.71671\n",
      "[41]\tvalid_0's rmse: 3.71148\n",
      "[42]\tvalid_0's rmse: 3.71122\n",
      "[43]\tvalid_0's rmse: 3.71397\n",
      "[44]\tvalid_0's rmse: 3.72096\n",
      "[45]\tvalid_0's rmse: 3.71805\n",
      "[46]\tvalid_0's rmse: 3.72481\n",
      "[47]\tvalid_0's rmse: 3.71918\n",
      "[48]\tvalid_0's rmse: 3.71609\n",
      "[49]\tvalid_0's rmse: 3.72222\n",
      "[50]\tvalid_0's rmse: 3.72846\n",
      "[51]\tvalid_0's rmse: 3.72615\n",
      "[52]\tvalid_0's rmse: 3.72001\n",
      "[53]\tvalid_0's rmse: 3.71982\n",
      "[54]\tvalid_0's rmse: 3.71771\n",
      "[55]\tvalid_0's rmse: 3.71101\n",
      "[56]\tvalid_0's rmse: 3.71897\n",
      "[57]\tvalid_0's rmse: 3.71962\n",
      "[58]\tvalid_0's rmse: 3.71864\n",
      "[59]\tvalid_0's rmse: 3.72222\n",
      "[60]\tvalid_0's rmse: 3.72577\n",
      "[61]\tvalid_0's rmse: 3.72562\n",
      "[62]\tvalid_0's rmse: 3.73112\n",
      "[63]\tvalid_0's rmse: 3.73201\n",
      "[64]\tvalid_0's rmse: 3.73106\n",
      "[65]\tvalid_0's rmse: 3.73321\n",
      "[66]\tvalid_0's rmse: 3.73935\n",
      "[67]\tvalid_0's rmse: 3.7447\n",
      "[68]\tvalid_0's rmse: 3.75144\n",
      "[69]\tvalid_0's rmse: 3.76147\n",
      "[70]\tvalid_0's rmse: 3.77732\n",
      "[71]\tvalid_0's rmse: 3.77497\n",
      "[72]\tvalid_0's rmse: 3.77565\n",
      "[73]\tvalid_0's rmse: 3.76136\n",
      "[74]\tvalid_0's rmse: 3.75657\n",
      "[75]\tvalid_0's rmse: 3.75661\n",
      "[76]\tvalid_0's rmse: 3.75763\n",
      "[77]\tvalid_0's rmse: 3.7661\n",
      "[78]\tvalid_0's rmse: 3.77134\n",
      "[79]\tvalid_0's rmse: 3.77204\n",
      "[80]\tvalid_0's rmse: 3.77626\n",
      "[81]\tvalid_0's rmse: 3.77814\n",
      "[82]\tvalid_0's rmse: 3.77257\n",
      "[83]\tvalid_0's rmse: 3.76891\n",
      "[84]\tvalid_0's rmse: 3.76224\n",
      "[85]\tvalid_0's rmse: 3.76812\n",
      "[86]\tvalid_0's rmse: 3.76859\n",
      "[87]\tvalid_0's rmse: 3.76633\n",
      "[88]\tvalid_0's rmse: 3.76843\n",
      "[89]\tvalid_0's rmse: 3.76576\n",
      "[90]\tvalid_0's rmse: 3.76613\n",
      "[91]\tvalid_0's rmse: 3.76905\n",
      "[92]\tvalid_0's rmse: 3.77613\n"
     ]
    },
    {
     "name": "stderr",
     "output_type": "stream",
     "text": [
      "\u001b[32m[I 2021-03-30 16:44:11,964]\u001b[0m Trial 22 finished with value: 3.762173804113032 and parameters: {'lambda_l1': 1.0749816199430669e-05, 'lambda_l2': 2.8066582178294957e-05, 'num_leaves': 66, 'feature_fraction': 0.9705120982385478, 'bagging_fraction': 0.6725805312771876, 'bagging_freq': 2, 'min_child_samples': 38}. Best is trial 21 with value: 3.7054419102194136.\u001b[0m\n"
     ]
    },
    {
     "name": "stdout",
     "output_type": "stream",
     "text": [
      "[93]\tvalid_0's rmse: 3.77667\n",
      "[94]\tvalid_0's rmse: 3.77319\n",
      "[95]\tvalid_0's rmse: 3.77235\n",
      "[96]\tvalid_0's rmse: 3.77189\n",
      "[97]\tvalid_0's rmse: 3.76685\n",
      "[98]\tvalid_0's rmse: 3.76265\n",
      "[99]\tvalid_0's rmse: 3.75817\n",
      "[100]\tvalid_0's rmse: 3.76217\n"
     ]
    },
    {
     "name": "stderr",
     "output_type": "stream",
     "text": [
      "C:\\Anaconda\\lib\\site-packages\\lightgbm\\basic.py:1702: UserWarning: Using categorical_feature in Dataset.\n",
      "  _log_warning('Using categorical_feature in Dataset.')\n",
      "C:\\Anaconda\\lib\\site-packages\\lightgbm\\basic.py:1433: UserWarning: Overriding the parameters from Reference Dataset.\n",
      "  _log_warning('Overriding the parameters from Reference Dataset.')\n",
      "C:\\Anaconda\\lib\\site-packages\\lightgbm\\basic.py:1245: UserWarning: categorical_column in param dict is overridden.\n",
      "  _log_warning('{} in param dict is overridden.'.format(cat_alias))\n"
     ]
    },
    {
     "name": "stdout",
     "output_type": "stream",
     "text": [
      "[LightGBM] [Warning] Auto-choosing col-wise multi-threading, the overhead of testing was 0.004820 seconds.\n",
      "You can set `force_col_wise=true` to remove the overhead.\n",
      "[LightGBM] [Info] Total Bins 9027\n",
      "[LightGBM] [Info] Number of data points in the train set: 26064, number of used features: 37\n",
      "[LightGBM] [Info] Start training from score 13.130955\n",
      "[1]\tvalid_0's rmse: 8.26184\n",
      "[2]\tvalid_0's rmse: 7.63764\n",
      "[3]\tvalid_0's rmse: 7.03635\n",
      "[4]\tvalid_0's rmse: 6.55043\n",
      "[5]\tvalid_0's rmse: 6.13383\n",
      "[6]\tvalid_0's rmse: 5.77897\n",
      "[7]\tvalid_0's rmse: 5.46047\n",
      "[8]\tvalid_0's rmse: 5.16568\n",
      "[9]\tvalid_0's rmse: 4.93284\n",
      "[10]\tvalid_0's rmse: 4.74988\n",
      "[11]\tvalid_0's rmse: 4.56096\n",
      "[12]\tvalid_0's rmse: 4.4166\n",
      "[13]\tvalid_0's rmse: 4.29659\n",
      "[14]\tvalid_0's rmse: 4.20321\n",
      "[15]\tvalid_0's rmse: 4.13306\n",
      "[16]\tvalid_0's rmse: 4.07063\n",
      "[17]\tvalid_0's rmse: 4.02882\n"
     ]
    },
    {
     "name": "stderr",
     "output_type": "stream",
     "text": [
      "\u001b[32m[I 2021-03-30 16:44:12,450]\u001b[0m Trial 23 pruned. Trial was pruned at iteration 35.\u001b[0m\n"
     ]
    },
    {
     "name": "stdout",
     "output_type": "stream",
     "text": [
      "[18]\tvalid_0's rmse: 3.9558\n",
      "[19]\tvalid_0's rmse: 3.92269\n",
      "[20]\tvalid_0's rmse: 3.90916\n",
      "[21]\tvalid_0's rmse: 3.87631\n",
      "[22]\tvalid_0's rmse: 3.8491\n",
      "[23]\tvalid_0's rmse: 3.83145\n",
      "[24]\tvalid_0's rmse: 3.80955\n",
      "[25]\tvalid_0's rmse: 3.79972\n",
      "[26]\tvalid_0's rmse: 3.78278\n",
      "[27]\tvalid_0's rmse: 3.77516\n",
      "[28]\tvalid_0's rmse: 3.7759\n",
      "[29]\tvalid_0's rmse: 3.76451\n",
      "[30]\tvalid_0's rmse: 3.76175\n",
      "[31]\tvalid_0's rmse: 3.76077\n",
      "[32]\tvalid_0's rmse: 3.7682\n",
      "[33]\tvalid_0's rmse: 3.75779\n",
      "[34]\tvalid_0's rmse: 3.75885\n",
      "[35]\tvalid_0's rmse: 3.76385\n"
     ]
    },
    {
     "name": "stderr",
     "output_type": "stream",
     "text": [
      "\u001b[32m[I 2021-03-30 16:44:12,699]\u001b[0m Trial 24 pruned. Trial was pruned at iteration 10.\u001b[0m\n"
     ]
    },
    {
     "name": "stdout",
     "output_type": "stream",
     "text": [
      "[LightGBM] [Warning] Auto-choosing col-wise multi-threading, the overhead of testing was 0.003629 seconds.\n",
      "You can set `force_col_wise=true` to remove the overhead.\n",
      "[LightGBM] [Info] Total Bins 9027\n",
      "[LightGBM] [Info] Number of data points in the train set: 26064, number of used features: 37\n",
      "[LightGBM] [Info] Start training from score 13.130955\n",
      "[1]\tvalid_0's rmse: 8.27207\n",
      "[2]\tvalid_0's rmse: 7.65459\n",
      "[3]\tvalid_0's rmse: 7.1236\n",
      "[4]\tvalid_0's rmse: 6.65712\n",
      "[5]\tvalid_0's rmse: 6.24145\n",
      "[6]\tvalid_0's rmse: 5.88937\n",
      "[7]\tvalid_0's rmse: 5.56467\n",
      "[8]\tvalid_0's rmse: 5.29833\n",
      "[9]\tvalid_0's rmse: 5.08932\n",
      "[10]\tvalid_0's rmse: 4.8718\n",
      "[LightGBM] [Warning] Auto-choosing col-wise multi-threading, the overhead of testing was 0.003642 seconds.\n",
      "You can set `force_col_wise=true` to remove the overhead.\n",
      "[LightGBM] [Info] Total Bins 9027\n",
      "[LightGBM] [Info] Number of data points in the train set: 26064, number of used features: 37\n",
      "[LightGBM] [Info] Start training from score 13.130955\n",
      "[1]\tvalid_0's rmse: 8.27263\n"
     ]
    },
    {
     "name": "stderr",
     "output_type": "stream",
     "text": [
      "\u001b[32m[I 2021-03-30 16:44:12,912]\u001b[0m Trial 25 pruned. Trial was pruned at iteration 12.\u001b[0m\n"
     ]
    },
    {
     "name": "stdout",
     "output_type": "stream",
     "text": [
      "[2]\tvalid_0's rmse: 7.61234\n",
      "[3]\tvalid_0's rmse: 7.05634\n",
      "[4]\tvalid_0's rmse: 6.56769\n",
      "[5]\tvalid_0's rmse: 6.14017\n",
      "[6]\tvalid_0's rmse: 5.7715\n",
      "[7]\tvalid_0's rmse: 5.4669\n",
      "[8]\tvalid_0's rmse: 5.18237\n",
      "[9]\tvalid_0's rmse: 4.92873\n",
      "[10]\tvalid_0's rmse: 4.72003\n",
      "[11]\tvalid_0's rmse: 4.58005\n",
      "[12]\tvalid_0's rmse: 4.45267\n",
      "[LightGBM] [Warning] Auto-choosing col-wise multi-threading, the overhead of testing was 0.004777 seconds.\n",
      "You can set `force_col_wise=true` to remove the overhead.\n",
      "[LightGBM] [Info] Total Bins 9027\n",
      "[LightGBM] [Info] Number of data points in the train set: 26064, number of used features: 37\n",
      "[LightGBM] [Info] Start training from score 13.130955\n",
      "[1]\tvalid_0's rmse: 8.23167\n",
      "[2]\tvalid_0's rmse: 7.59588\n",
      "[3]\tvalid_0's rmse: 7.02109\n",
      "[4]\tvalid_0's rmse: 6.53203\n",
      "[5]\tvalid_0's rmse: 6.10268\n",
      "[6]\tvalid_0's rmse: 5.71425\n",
      "[7]\tvalid_0's rmse: 5.40731\n",
      "[8]\tvalid_0's rmse: 5.13489\n",
      "[9]\tvalid_0's rmse: 4.89813\n",
      "[10]\tvalid_0's rmse: 4.70442\n",
      "[11]\tvalid_0's rmse: 4.53051\n",
      "[12]\tvalid_0's rmse: 4.3963\n",
      "[13]\tvalid_0's rmse: 4.2774\n",
      "[14]\tvalid_0's rmse: 4.18057\n",
      "[15]\tvalid_0's rmse: 4.10486\n",
      "[16]\tvalid_0's rmse: 4.04331\n",
      "[17]\tvalid_0's rmse: 3.99268\n",
      "[18]\tvalid_0's rmse: 3.95724\n",
      "[19]\tvalid_0's rmse: 3.9225\n",
      "[20]\tvalid_0's rmse: 3.90221\n",
      "[21]\tvalid_0's rmse: 3.879\n",
      "[22]\tvalid_0's rmse: 3.84235\n",
      "[23]\tvalid_0's rmse: 3.81959\n",
      "[24]\tvalid_0's rmse: 3.81689\n",
      "[25]\tvalid_0's rmse: 3.80816\n",
      "[26]\tvalid_0's rmse: 3.78993\n",
      "[27]\tvalid_0's rmse: 3.77189\n",
      "[28]\tvalid_0's rmse: 3.75725\n",
      "[29]\tvalid_0's rmse: 3.75913\n",
      "[30]\tvalid_0's rmse: 3.76138\n",
      "[31]\tvalid_0's rmse: 3.7534\n",
      "[32]\tvalid_0's rmse: 3.754\n",
      "[33]\tvalid_0's rmse: 3.75991\n",
      "[34]\tvalid_0's rmse: 3.7678\n",
      "[35]\tvalid_0's rmse: 3.77994\n"
     ]
    },
    {
     "name": "stderr",
     "output_type": "stream",
     "text": [
      "\u001b[32m[I 2021-03-30 16:44:13,462]\u001b[0m Trial 26 pruned. Trial was pruned at iteration 36.\u001b[0m\n"
     ]
    },
    {
     "name": "stdout",
     "output_type": "stream",
     "text": [
      "[36]\tvalid_0's rmse: 3.76479\n",
      "[LightGBM] [Warning] Auto-choosing col-wise multi-threading, the overhead of testing was 0.005021 seconds.\n",
      "You can set `force_col_wise=true` to remove the overhead.\n",
      "[LightGBM] [Info] Total Bins 9027\n",
      "[LightGBM] [Info] Number of data points in the train set: 26064, number of used features: 37\n",
      "[LightGBM] [Info] Start training from score 13.130955\n",
      "[1]\tvalid_0's rmse: 8.2596\n",
      "[2]\tvalid_0's rmse: 7.59754\n",
      "[3]\tvalid_0's rmse: 7.04143\n",
      "[4]\tvalid_0's rmse: 6.55522\n"
     ]
    },
    {
     "name": "stderr",
     "output_type": "stream",
     "text": [
      "\u001b[32m[I 2021-03-30 16:44:13,703]\u001b[0m Trial 27 pruned. Trial was pruned at iteration 12.\u001b[0m\n"
     ]
    },
    {
     "name": "stdout",
     "output_type": "stream",
     "text": [
      "[5]\tvalid_0's rmse: 6.11671\n",
      "[6]\tvalid_0's rmse: 5.73827\n",
      "[7]\tvalid_0's rmse: 5.42494\n",
      "[8]\tvalid_0's rmse: 5.14906\n",
      "[9]\tvalid_0's rmse: 4.93328\n",
      "[10]\tvalid_0's rmse: 4.742\n",
      "[11]\tvalid_0's rmse: 4.58016\n",
      "[12]\tvalid_0's rmse: 4.43788\n",
      "[LightGBM] [Warning] Auto-choosing col-wise multi-threading, the overhead of testing was 0.004605 seconds.\n",
      "You can set `force_col_wise=true` to remove the overhead.\n",
      "[LightGBM] [Info] Total Bins 9027\n",
      "[LightGBM] [Info] Number of data points in the train set: 26064, number of used features: 37\n",
      "[LightGBM] [Info] Start training from score 13.130955\n"
     ]
    },
    {
     "name": "stderr",
     "output_type": "stream",
     "text": [
      "\u001b[32m[I 2021-03-30 16:44:13,897]\u001b[0m Trial 28 pruned. Trial was pruned at iteration 12.\u001b[0m\n"
     ]
    },
    {
     "name": "stdout",
     "output_type": "stream",
     "text": [
      "[1]\tvalid_0's rmse: 8.23973\n",
      "[2]\tvalid_0's rmse: 7.59393\n",
      "[3]\tvalid_0's rmse: 7.00127\n",
      "[4]\tvalid_0's rmse: 6.49539\n",
      "[5]\tvalid_0's rmse: 6.09803\n",
      "[6]\tvalid_0's rmse: 5.74905\n",
      "[7]\tvalid_0's rmse: 5.41891\n",
      "[8]\tvalid_0's rmse: 5.15034\n",
      "[9]\tvalid_0's rmse: 4.92287\n",
      "[10]\tvalid_0's rmse: 4.74037\n",
      "[11]\tvalid_0's rmse: 4.59016\n",
      "[12]\tvalid_0's rmse: 4.45716\n",
      "[LightGBM] [Warning] Auto-choosing col-wise multi-threading, the overhead of testing was 0.003747 seconds.\n",
      "You can set `force_col_wise=true` to remove the overhead.\n",
      "[LightGBM] [Info] Total Bins 9027\n",
      "[LightGBM] [Info] Number of data points in the train set: 26064, number of used features: 37\n",
      "[LightGBM] [Info] Start training from score 13.130955\n"
     ]
    },
    {
     "name": "stderr",
     "output_type": "stream",
     "text": [
      "\u001b[32m[I 2021-03-30 16:44:14,128]\u001b[0m Trial 29 pruned. Trial was pruned at iteration 10.\u001b[0m\n"
     ]
    },
    {
     "name": "stdout",
     "output_type": "stream",
     "text": [
      "[1]\tvalid_0's rmse: 8.26714\n",
      "[2]\tvalid_0's rmse: 7.61111\n",
      "[3]\tvalid_0's rmse: 7.04754\n",
      "[4]\tvalid_0's rmse: 6.54245\n",
      "[5]\tvalid_0's rmse: 6.12516\n",
      "[6]\tvalid_0's rmse: 5.7667\n",
      "[7]\tvalid_0's rmse: 5.4612\n",
      "[8]\tvalid_0's rmse: 5.18625\n",
      "[9]\tvalid_0's rmse: 4.9623\n",
      "[10]\tvalid_0's rmse: 4.76709\n"
     ]
    },
    {
     "name": "stderr",
     "output_type": "stream",
     "text": [
      "\u001b[32m[I 2021-03-30 16:44:14,377]\u001b[0m Trial 30 pruned. Trial was pruned at iteration 14.\u001b[0m\n"
     ]
    },
    {
     "name": "stdout",
     "output_type": "stream",
     "text": [
      "[LightGBM] [Warning] Auto-choosing col-wise multi-threading, the overhead of testing was 0.005077 seconds.\n",
      "You can set `force_col_wise=true` to remove the overhead.\n",
      "[LightGBM] [Info] Total Bins 9027\n",
      "[LightGBM] [Info] Number of data points in the train set: 26064, number of used features: 37\n",
      "[LightGBM] [Info] Start training from score 13.130955\n",
      "[1]\tvalid_0's rmse: 8.28252\n",
      "[2]\tvalid_0's rmse: 7.62625\n",
      "[3]\tvalid_0's rmse: 7.0685\n",
      "[4]\tvalid_0's rmse: 6.59047\n",
      "[5]\tvalid_0's rmse: 6.15007\n",
      "[6]\tvalid_0's rmse: 5.78089\n",
      "[7]\tvalid_0's rmse: 5.46239\n",
      "[8]\tvalid_0's rmse: 5.19309\n",
      "[9]\tvalid_0's rmse: 4.94653\n",
      "[10]\tvalid_0's rmse: 4.74942\n",
      "[11]\tvalid_0's rmse: 4.58549\n",
      "[12]\tvalid_0's rmse: 4.43516\n",
      "[13]\tvalid_0's rmse: 4.33204\n",
      "[14]\tvalid_0's rmse: 4.23305\n"
     ]
    },
    {
     "name": "stderr",
     "output_type": "stream",
     "text": [
      "\u001b[32m[I 2021-03-30 16:44:14,584]\u001b[0m Trial 31 pruned. Trial was pruned at iteration 10.\u001b[0m\n"
     ]
    },
    {
     "name": "stdout",
     "output_type": "stream",
     "text": [
      "[LightGBM] [Warning] Auto-choosing col-wise multi-threading, the overhead of testing was 0.004894 seconds.\n",
      "You can set `force_col_wise=true` to remove the overhead.\n",
      "[LightGBM] [Info] Total Bins 9027\n",
      "[LightGBM] [Info] Number of data points in the train set: 26064, number of used features: 37\n",
      "[LightGBM] [Info] Start training from score 13.130955\n",
      "[1]\tvalid_0's rmse: 8.25724\n",
      "[2]\tvalid_0's rmse: 7.59285\n",
      "[3]\tvalid_0's rmse: 7.04727\n",
      "[4]\tvalid_0's rmse: 6.57313\n",
      "[5]\tvalid_0's rmse: 6.1373\n",
      "[6]\tvalid_0's rmse: 5.76873\n",
      "[7]\tvalid_0's rmse: 5.46679\n",
      "[8]\tvalid_0's rmse: 5.1945\n",
      "[9]\tvalid_0's rmse: 4.95211\n",
      "[10]\tvalid_0's rmse: 4.76879\n"
     ]
    },
    {
     "name": "stderr",
     "output_type": "stream",
     "text": [
      "\u001b[32m[I 2021-03-30 16:44:14,784]\u001b[0m Trial 32 pruned. Trial was pruned at iteration 10.\u001b[0m\n"
     ]
    },
    {
     "name": "stdout",
     "output_type": "stream",
     "text": [
      "[LightGBM] [Warning] Auto-choosing col-wise multi-threading, the overhead of testing was 0.004450 seconds.\n",
      "You can set `force_col_wise=true` to remove the overhead.\n",
      "[LightGBM] [Info] Total Bins 9027\n",
      "[LightGBM] [Info] Number of data points in the train set: 26064, number of used features: 37\n",
      "[LightGBM] [Info] Start training from score 13.130955\n",
      "[1]\tvalid_0's rmse: 8.25823\n",
      "[2]\tvalid_0's rmse: 7.58806\n",
      "[3]\tvalid_0's rmse: 7.03652\n",
      "[4]\tvalid_0's rmse: 6.55431\n",
      "[5]\tvalid_0's rmse: 6.12074\n",
      "[6]\tvalid_0's rmse: 5.74625\n",
      "[7]\tvalid_0's rmse: 5.42489\n",
      "[8]\tvalid_0's rmse: 5.17115\n",
      "[9]\tvalid_0's rmse: 4.941\n",
      "[10]\tvalid_0's rmse: 4.75561\n"
     ]
    },
    {
     "name": "stderr",
     "output_type": "stream",
     "text": [
      "\u001b[32m[I 2021-03-30 16:44:15,005]\u001b[0m Trial 33 pruned. Trial was pruned at iteration 12.\u001b[0m\n"
     ]
    },
    {
     "name": "stdout",
     "output_type": "stream",
     "text": [
      "[LightGBM] [Warning] Auto-choosing col-wise multi-threading, the overhead of testing was 0.003799 seconds.\n",
      "You can set `force_col_wise=true` to remove the overhead.\n",
      "[LightGBM] [Info] Total Bins 9027\n",
      "[LightGBM] [Info] Number of data points in the train set: 26064, number of used features: 37\n",
      "[LightGBM] [Info] Start training from score 13.130955\n",
      "[1]\tvalid_0's rmse: 8.26976\n",
      "[2]\tvalid_0's rmse: 7.63797\n",
      "[3]\tvalid_0's rmse: 7.07118\n",
      "[4]\tvalid_0's rmse: 6.58801\n",
      "[5]\tvalid_0's rmse: 6.14969\n",
      "[6]\tvalid_0's rmse: 5.78292\n",
      "[7]\tvalid_0's rmse: 5.45757\n",
      "[8]\tvalid_0's rmse: 5.18245\n",
      "[9]\tvalid_0's rmse: 4.95065\n",
      "[10]\tvalid_0's rmse: 4.75252\n",
      "[11]\tvalid_0's rmse: 4.5909\n",
      "[12]\tvalid_0's rmse: 4.45227\n"
     ]
    },
    {
     "name": "stderr",
     "output_type": "stream",
     "text": [
      "\u001b[32m[I 2021-03-30 16:44:15,149]\u001b[0m Trial 34 pruned. Trial was pruned at iteration 10.\u001b[0m\n"
     ]
    },
    {
     "name": "stdout",
     "output_type": "stream",
     "text": [
      "[LightGBM] [Warning] Auto-choosing col-wise multi-threading, the overhead of testing was 0.005698 seconds.\n",
      "You can set `force_col_wise=true` to remove the overhead.\n",
      "[LightGBM] [Info] Total Bins 9027\n",
      "[LightGBM] [Info] Number of data points in the train set: 26064, number of used features: 37\n",
      "[LightGBM] [Info] Start training from score 13.130955\n",
      "[1]\tvalid_0's rmse: 8.64173\n",
      "[2]\tvalid_0's rmse: 8.28387\n",
      "[3]\tvalid_0's rmse: 7.88901\n",
      "[4]\tvalid_0's rmse: 7.66703\n",
      "[5]\tvalid_0's rmse: 7.30863\n",
      "[6]\tvalid_0's rmse: 7.14764\n",
      "[7]\tvalid_0's rmse: 6.80051\n",
      "[8]\tvalid_0's rmse: 6.65841\n",
      "[9]\tvalid_0's rmse: 6.35096\n",
      "[10]\tvalid_0's rmse: 6.25787\n",
      "[LightGBM] [Warning] Auto-choosing col-wise multi-threading, the overhead of testing was 0.004407 seconds.\n",
      "You can set `force_col_wise=true` to remove the overhead.\n",
      "[LightGBM] [Info] Total Bins 9027\n",
      "[LightGBM] [Info] Number of data points in the train set: 26064, number of used features: 37\n",
      "[LightGBM] [Info] Start training from score 13.130955\n",
      "[1]\tvalid_0's rmse: 8.25111\n",
      "[2]\tvalid_0's rmse: 7.58151\n",
      "[3]\tvalid_0's rmse: 7.04871\n",
      "[4]\tvalid_0's rmse: 6.5797\n",
      "[5]\tvalid_0's rmse: 6.13366\n",
      "[6]\tvalid_0's rmse: 5.76895\n"
     ]
    },
    {
     "name": "stderr",
     "output_type": "stream",
     "text": [
      "\u001b[32m[I 2021-03-30 16:44:15,344]\u001b[0m Trial 35 pruned. Trial was pruned at iteration 12.\u001b[0m\n"
     ]
    },
    {
     "name": "stdout",
     "output_type": "stream",
     "text": [
      "[7]\tvalid_0's rmse: 5.47167\n",
      "[8]\tvalid_0's rmse: 5.20268\n",
      "[9]\tvalid_0's rmse: 4.95901\n",
      "[10]\tvalid_0's rmse: 4.76251\n",
      "[11]\tvalid_0's rmse: 4.59084\n",
      "[12]\tvalid_0's rmse: 4.44986\n",
      "[LightGBM] [Warning] Auto-choosing col-wise multi-threading, the overhead of testing was 0.003509 seconds.\n",
      "You can set `force_col_wise=true` to remove the overhead.\n",
      "[LightGBM] [Info] Total Bins 9027\n",
      "[LightGBM] [Info] Number of data points in the train set: 26064, number of used features: 37\n",
      "[LightGBM] [Info] Start training from score 13.130955\n",
      "[1]\tvalid_0's rmse: 8.28298\n",
      "[2]\tvalid_0's rmse: 7.64822\n",
      "[3]\tvalid_0's rmse: 7.09028\n",
      "[4]\tvalid_0's rmse: 6.60236\n",
      "[5]\tvalid_0's rmse: 6.18447\n"
     ]
    },
    {
     "name": "stderr",
     "output_type": "stream",
     "text": [
      "\u001b[32m[I 2021-03-30 16:44:15,513]\u001b[0m Trial 36 pruned. Trial was pruned at iteration 10.\u001b[0m\n"
     ]
    },
    {
     "name": "stdout",
     "output_type": "stream",
     "text": [
      "[6]\tvalid_0's rmse: 5.79137\n",
      "[7]\tvalid_0's rmse: 5.48007\n",
      "[8]\tvalid_0's rmse: 5.2073\n",
      "[9]\tvalid_0's rmse: 4.97799\n",
      "[10]\tvalid_0's rmse: 4.77585\n",
      "[LightGBM] [Warning] Auto-choosing col-wise multi-threading, the overhead of testing was 0.004659 seconds.\n",
      "You can set `force_col_wise=true` to remove the overhead.\n",
      "[LightGBM] [Info] Total Bins 9027\n",
      "[LightGBM] [Info] Number of data points in the train set: 26064, number of used features: 37\n",
      "[LightGBM] [Info] Start training from score 13.130955\n",
      "[1]\tvalid_0's rmse: 8.24077\n",
      "[2]\tvalid_0's rmse: 7.57928\n",
      "[3]\tvalid_0's rmse: 6.99638\n",
      "[4]\tvalid_0's rmse: 6.49779\n"
     ]
    },
    {
     "name": "stderr",
     "output_type": "stream",
     "text": [
      "\u001b[32m[I 2021-03-30 16:44:15,764]\u001b[0m Trial 37 pruned. Trial was pruned at iteration 14.\u001b[0m\n"
     ]
    },
    {
     "name": "stdout",
     "output_type": "stream",
     "text": [
      "[5]\tvalid_0's rmse: 6.09874\n",
      "[6]\tvalid_0's rmse: 5.74517\n",
      "[7]\tvalid_0's rmse: 5.43681\n",
      "[8]\tvalid_0's rmse: 5.16445\n",
      "[9]\tvalid_0's rmse: 4.92495\n",
      "[10]\tvalid_0's rmse: 4.74402\n",
      "[11]\tvalid_0's rmse: 4.57529\n",
      "[12]\tvalid_0's rmse: 4.43589\n",
      "[13]\tvalid_0's rmse: 4.31423\n",
      "[14]\tvalid_0's rmse: 4.22678\n"
     ]
    },
    {
     "name": "stderr",
     "output_type": "stream",
     "text": [
      "\u001b[32m[I 2021-03-30 16:44:16,040]\u001b[0m Trial 38 pruned. Trial was pruned at iteration 10.\u001b[0m\n"
     ]
    },
    {
     "name": "stdout",
     "output_type": "stream",
     "text": [
      "[LightGBM] [Warning] Auto-choosing col-wise multi-threading, the overhead of testing was 0.003771 seconds.\n",
      "You can set `force_col_wise=true` to remove the overhead.\n",
      "[LightGBM] [Info] Total Bins 9027\n",
      "[LightGBM] [Info] Number of data points in the train set: 26064, number of used features: 37\n",
      "[LightGBM] [Info] Start training from score 13.130955\n",
      "[1]\tvalid_0's rmse: 8.26324\n",
      "[2]\tvalid_0's rmse: 7.60833\n",
      "[3]\tvalid_0's rmse: 7.05611\n",
      "[4]\tvalid_0's rmse: 6.58192\n",
      "[5]\tvalid_0's rmse: 6.16742\n",
      "[6]\tvalid_0's rmse: 5.78928\n",
      "[7]\tvalid_0's rmse: 5.46332\n",
      "[8]\tvalid_0's rmse: 5.15829\n",
      "[9]\tvalid_0's rmse: 4.94941\n",
      "[10]\tvalid_0's rmse: 4.76312\n",
      "[LightGBM] [Warning] Auto-choosing col-wise multi-threading, the overhead of testing was 0.004881 seconds.\n",
      "You can set `force_col_wise=true` to remove the overhead.\n"
     ]
    },
    {
     "name": "stderr",
     "output_type": "stream",
     "text": [
      "\u001b[32m[I 2021-03-30 16:44:16,273]\u001b[0m Trial 39 pruned. Trial was pruned at iteration 13.\u001b[0m\n"
     ]
    },
    {
     "name": "stdout",
     "output_type": "stream",
     "text": [
      "[LightGBM] [Info] Total Bins 9027\n",
      "[LightGBM] [Info] Number of data points in the train set: 26064, number of used features: 37\n",
      "[LightGBM] [Info] Start training from score 13.130955\n",
      "[1]\tvalid_0's rmse: 8.21212\n",
      "[2]\tvalid_0's rmse: 7.57307\n",
      "[3]\tvalid_0's rmse: 6.99507\n",
      "[4]\tvalid_0's rmse: 6.50246\n",
      "[5]\tvalid_0's rmse: 6.09651\n",
      "[6]\tvalid_0's rmse: 5.70338\n",
      "[7]\tvalid_0's rmse: 5.39092\n",
      "[8]\tvalid_0's rmse: 5.13392\n",
      "[9]\tvalid_0's rmse: 4.91515\n",
      "[10]\tvalid_0's rmse: 4.74065\n",
      "[11]\tvalid_0's rmse: 4.57819\n",
      "[12]\tvalid_0's rmse: 4.44518\n",
      "[13]\tvalid_0's rmse: 4.32881\n"
     ]
    },
    {
     "name": "stderr",
     "output_type": "stream",
     "text": [
      "\u001b[32m[I 2021-03-30 16:44:16,422]\u001b[0m Trial 40 pruned. Trial was pruned at iteration 10.\u001b[0m\n"
     ]
    },
    {
     "name": "stdout",
     "output_type": "stream",
     "text": [
      "[LightGBM] [Warning] Auto-choosing col-wise multi-threading, the overhead of testing was 0.003724 seconds.\n",
      "You can set `force_col_wise=true` to remove the overhead.\n",
      "[LightGBM] [Info] Total Bins 9027\n",
      "[LightGBM] [Info] Number of data points in the train set: 26064, number of used features: 37\n",
      "[LightGBM] [Info] Start training from score 13.130955\n",
      "[1]\tvalid_0's rmse: 8.29867\n",
      "[2]\tvalid_0's rmse: 7.64088\n",
      "[3]\tvalid_0's rmse: 7.09705\n",
      "[4]\tvalid_0's rmse: 6.62538\n",
      "[5]\tvalid_0's rmse: 6.24565\n",
      "[6]\tvalid_0's rmse: 5.91496\n",
      "[7]\tvalid_0's rmse: 5.6155\n",
      "[8]\tvalid_0's rmse: 5.35211\n",
      "[9]\tvalid_0's rmse: 5.12133\n",
      "[10]\tvalid_0's rmse: 4.9036\n",
      "[LightGBM] [Warning] Auto-choosing col-wise multi-threading, the overhead of testing was 0.003698 seconds.\n",
      "You can set `force_col_wise=true` to remove the overhead.\n",
      "[LightGBM] [Info] Total Bins 9027\n",
      "[LightGBM] [Info] Number of data points in the train set: 26064, number of used features: 37\n",
      "[LightGBM] [Info] Start training from score 13.130955\n"
     ]
    },
    {
     "name": "stderr",
     "output_type": "stream",
     "text": [
      "\u001b[32m[I 2021-03-30 16:44:16,647]\u001b[0m Trial 41 pruned. Trial was pruned at iteration 10.\u001b[0m\n"
     ]
    },
    {
     "name": "stdout",
     "output_type": "stream",
     "text": [
      "[1]\tvalid_0's rmse: 8.27218\n",
      "[2]\tvalid_0's rmse: 7.63467\n",
      "[3]\tvalid_0's rmse: 7.07183\n",
      "[4]\tvalid_0's rmse: 6.56052\n",
      "[5]\tvalid_0's rmse: 6.13239\n",
      "[6]\tvalid_0's rmse: 5.76003\n",
      "[7]\tvalid_0's rmse: 5.45069\n",
      "[8]\tvalid_0's rmse: 5.19105\n",
      "[9]\tvalid_0's rmse: 4.97573\n",
      "[10]\tvalid_0's rmse: 4.77918\n",
      "[LightGBM] [Warning] Auto-choosing col-wise multi-threading, the overhead of testing was 0.006047 seconds.\n",
      "You can set `force_col_wise=true` to remove the overhead.\n"
     ]
    },
    {
     "name": "stderr",
     "output_type": "stream",
     "text": [
      "\u001b[32m[I 2021-03-30 16:44:16,890]\u001b[0m Trial 42 pruned. Trial was pruned at iteration 15.\u001b[0m\n"
     ]
    },
    {
     "name": "stdout",
     "output_type": "stream",
     "text": [
      "[LightGBM] [Info] Total Bins 9027\n",
      "[LightGBM] [Info] Number of data points in the train set: 26064, number of used features: 37\n",
      "[LightGBM] [Info] Start training from score 13.130955\n",
      "[1]\tvalid_0's rmse: 8.25874\n",
      "[2]\tvalid_0's rmse: 7.60061\n",
      "[3]\tvalid_0's rmse: 7.01524\n",
      "[4]\tvalid_0's rmse: 6.51816\n",
      "[5]\tvalid_0's rmse: 6.09003\n",
      "[6]\tvalid_0's rmse: 5.74805\n",
      "[7]\tvalid_0's rmse: 5.44437\n",
      "[8]\tvalid_0's rmse: 5.14649\n",
      "[9]\tvalid_0's rmse: 4.92637\n",
      "[10]\tvalid_0's rmse: 4.73407\n",
      "[11]\tvalid_0's rmse: 4.56355\n",
      "[12]\tvalid_0's rmse: 4.43093\n",
      "[13]\tvalid_0's rmse: 4.32114\n",
      "[14]\tvalid_0's rmse: 4.23251\n",
      "[15]\tvalid_0's rmse: 4.15582\n",
      "[LightGBM] [Warning] Auto-choosing col-wise multi-threading, the overhead of testing was 0.004629 seconds.\n",
      "You can set `force_col_wise=true` to remove the overhead.\n",
      "[LightGBM] [Info] Total Bins 9027\n",
      "[LightGBM] [Info] Number of data points in the train set: 26064, number of used features: 37\n",
      "[LightGBM] [Info] Start training from score 13.130955\n",
      "[1]\tvalid_0's rmse: 8.2514\n",
      "[2]\tvalid_0's rmse: 7.62952\n",
      "[3]\tvalid_0's rmse: 7.05455\n",
      "[4]\tvalid_0's rmse: 6.57022\n",
      "[5]\tvalid_0's rmse: 6.13446\n",
      "[6]\tvalid_0's rmse: 5.73901\n",
      "[7]\tvalid_0's rmse: 5.43731\n",
      "[8]\tvalid_0's rmse: 5.15752\n",
      "[9]\tvalid_0's rmse: 4.92567\n",
      "[10]\tvalid_0's rmse: 4.73989\n",
      "[11]\tvalid_0's rmse: 4.58454\n",
      "[12]\tvalid_0's rmse: 4.43691\n",
      "[13]\tvalid_0's rmse: 4.30548\n",
      "[14]\tvalid_0's rmse: 4.20674\n",
      "[15]\tvalid_0's rmse: 4.13691\n",
      "[16]\tvalid_0's rmse: 4.07566\n",
      "[17]\tvalid_0's rmse: 4.03563\n",
      "[18]\tvalid_0's rmse: 3.96286\n",
      "[19]\tvalid_0's rmse: 3.93585\n",
      "[20]\tvalid_0's rmse: 3.91026\n"
     ]
    },
    {
     "name": "stderr",
     "output_type": "stream",
     "text": [
      "\u001b[32m[I 2021-03-30 16:44:17,209]\u001b[0m Trial 43 pruned. Trial was pruned at iteration 20.\u001b[0m\n",
      "\u001b[32m[I 2021-03-30 16:44:17,414]\u001b[0m Trial 44 pruned. Trial was pruned at iteration 10.\u001b[0m\n"
     ]
    },
    {
     "name": "stdout",
     "output_type": "stream",
     "text": [
      "[LightGBM] [Warning] Auto-choosing col-wise multi-threading, the overhead of testing was 0.004307 seconds.\n",
      "You can set `force_col_wise=true` to remove the overhead.\n",
      "[LightGBM] [Info] Total Bins 9027\n",
      "[LightGBM] [Info] Number of data points in the train set: 26064, number of used features: 37\n",
      "[LightGBM] [Info] Start training from score 13.130955\n",
      "[1]\tvalid_0's rmse: 8.27348\n",
      "[2]\tvalid_0's rmse: 7.61815\n",
      "[3]\tvalid_0's rmse: 7.08486\n",
      "[4]\tvalid_0's rmse: 6.59072\n",
      "[5]\tvalid_0's rmse: 6.13015\n",
      "[6]\tvalid_0's rmse: 5.75301\n",
      "[7]\tvalid_0's rmse: 5.43002\n",
      "[8]\tvalid_0's rmse: 5.17652\n",
      "[9]\tvalid_0's rmse: 4.95461\n",
      "[10]\tvalid_0's rmse: 4.77902\n",
      "[LightGBM] [Warning] Auto-choosing col-wise multi-threading, the overhead of testing was 0.005325 seconds.\n",
      "You can set `force_col_wise=true` to remove the overhead.\n"
     ]
    },
    {
     "name": "stderr",
     "output_type": "stream",
     "text": [
      "\u001b[32m[I 2021-03-30 16:44:17,712]\u001b[0m Trial 45 pruned. Trial was pruned at iteration 16.\u001b[0m\n"
     ]
    },
    {
     "name": "stdout",
     "output_type": "stream",
     "text": [
      "[LightGBM] [Info] Total Bins 9027\n",
      "[LightGBM] [Info] Number of data points in the train set: 26064, number of used features: 37\n",
      "[LightGBM] [Info] Start training from score 13.130955\n",
      "[1]\tvalid_0's rmse: 8.24761\n",
      "[2]\tvalid_0's rmse: 7.61114\n",
      "[3]\tvalid_0's rmse: 7.04534\n",
      "[4]\tvalid_0's rmse: 6.56821\n",
      "[5]\tvalid_0's rmse: 6.13169\n",
      "[6]\tvalid_0's rmse: 5.77957\n",
      "[7]\tvalid_0's rmse: 5.47682\n",
      "[8]\tvalid_0's rmse: 5.18835\n",
      "[9]\tvalid_0's rmse: 4.9682\n",
      "[10]\tvalid_0's rmse: 4.76494\n",
      "[11]\tvalid_0's rmse: 4.5863\n",
      "[12]\tvalid_0's rmse: 4.44357\n",
      "[13]\tvalid_0's rmse: 4.32527\n",
      "[14]\tvalid_0's rmse: 4.23515\n",
      "[15]\tvalid_0's rmse: 4.15325\n",
      "[16]\tvalid_0's rmse: 4.08931\n"
     ]
    },
    {
     "name": "stderr",
     "output_type": "stream",
     "text": [
      "\u001b[32m[I 2021-03-30 16:44:17,939]\u001b[0m Trial 46 pruned. Trial was pruned at iteration 10.\u001b[0m\n"
     ]
    },
    {
     "name": "stdout",
     "output_type": "stream",
     "text": [
      "[LightGBM] [Warning] Auto-choosing col-wise multi-threading, the overhead of testing was 0.005077 seconds.\n",
      "You can set `force_col_wise=true` to remove the overhead.\n",
      "[LightGBM] [Info] Total Bins 9027\n",
      "[LightGBM] [Info] Number of data points in the train set: 26064, number of used features: 37\n",
      "[LightGBM] [Info] Start training from score 13.130955\n",
      "[1]\tvalid_0's rmse: 8.23741\n",
      "[2]\tvalid_0's rmse: 7.58022\n",
      "[3]\tvalid_0's rmse: 7.02522\n",
      "[4]\tvalid_0's rmse: 6.54671\n",
      "[5]\tvalid_0's rmse: 6.11635\n",
      "[6]\tvalid_0's rmse: 5.75117\n",
      "[7]\tvalid_0's rmse: 5.45453\n",
      "[8]\tvalid_0's rmse: 5.20719\n",
      "[9]\tvalid_0's rmse: 4.99755\n",
      "[10]\tvalid_0's rmse: 4.81281\n",
      "[LightGBM] [Warning] Auto-choosing col-wise multi-threading, the overhead of testing was 0.005026 seconds.\n",
      "You can set `force_col_wise=true` to remove the overhead.\n",
      "[LightGBM] [Info] Total Bins 9027\n",
      "[LightGBM] [Info] Number of data points in the train set: 26064, number of used features: 37\n",
      "[LightGBM] [Info] Start training from score 13.130955\n",
      "[1]\tvalid_0's rmse: 8.25493\n",
      "[2]\tvalid_0's rmse: 7.59738\n",
      "[3]\tvalid_0's rmse: 7.00837\n",
      "[4]\tvalid_0's rmse: 6.51322\n",
      "[5]\tvalid_0's rmse: 6.10193\n",
      "[6]\tvalid_0's rmse: 5.74705\n",
      "[7]\tvalid_0's rmse: 5.43644\n",
      "[8]\tvalid_0's rmse: 5.14598\n",
      "[9]\tvalid_0's rmse: 4.92237\n",
      "[10]\tvalid_0's rmse: 4.73422\n",
      "[11]\tvalid_0's rmse: 4.56679\n",
      "[12]\tvalid_0's rmse: 4.43514\n",
      "[13]\tvalid_0's rmse: 4.31035\n",
      "[14]\tvalid_0's rmse: 4.2112\n",
      "[15]\tvalid_0's rmse: 4.14088\n",
      "[16]\tvalid_0's rmse: 4.06966\n",
      "[17]\tvalid_0's rmse: 4.01857\n",
      "[18]\tvalid_0's rmse: 3.9537\n",
      "[19]\tvalid_0's rmse: 3.89015\n",
      "[20]\tvalid_0's rmse: 3.86528\n",
      "[21]\tvalid_0's rmse: 3.84288\n",
      "[22]\tvalid_0's rmse: 3.82084\n",
      "[23]\tvalid_0's rmse: 3.81561\n",
      "[24]\tvalid_0's rmse: 3.77983\n",
      "[25]\tvalid_0's rmse: 3.7725\n",
      "[26]\tvalid_0's rmse: 3.76276\n",
      "[27]\tvalid_0's rmse: 3.76147\n",
      "[28]\tvalid_0's rmse: 3.75371\n",
      "[29]\tvalid_0's rmse: 3.75559\n",
      "[30]\tvalid_0's rmse: 3.74821\n",
      "[31]\tvalid_0's rmse: 3.74798\n",
      "[32]\tvalid_0's rmse: 3.73799\n",
      "[33]\tvalid_0's rmse: 3.72555\n",
      "[34]\tvalid_0's rmse: 3.72514\n",
      "[35]\tvalid_0's rmse: 3.72935\n",
      "[36]\tvalid_0's rmse: 3.72309\n",
      "[37]\tvalid_0's rmse: 3.71275\n",
      "[38]\tvalid_0's rmse: 3.71272\n",
      "[39]\tvalid_0's rmse: 3.71379\n",
      "[40]\tvalid_0's rmse: 3.70115\n",
      "[41]\tvalid_0's rmse: 3.6993\n",
      "[42]\tvalid_0's rmse: 3.69982\n",
      "[43]\tvalid_0's rmse: 3.70115\n",
      "[44]\tvalid_0's rmse: 3.70074\n",
      "[45]\tvalid_0's rmse: 3.70486\n",
      "[46]\tvalid_0's rmse: 3.70807\n",
      "[47]\tvalid_0's rmse: 3.70824\n",
      "[48]\tvalid_0's rmse: 3.70437\n",
      "[49]\tvalid_0's rmse: 3.70911\n",
      "[50]\tvalid_0's rmse: 3.70837\n",
      "[51]\tvalid_0's rmse: 3.70786\n",
      "[52]\tvalid_0's rmse: 3.70755\n",
      "[53]\tvalid_0's rmse: 3.70542\n",
      "[54]\tvalid_0's rmse: 3.70455\n",
      "[55]\tvalid_0's rmse: 3.70352\n",
      "[56]\tvalid_0's rmse: 3.70965\n",
      "[57]\tvalid_0's rmse: 3.71596\n",
      "[58]\tvalid_0's rmse: 3.71582\n",
      "[59]\tvalid_0's rmse: 3.71663\n",
      "[60]\tvalid_0's rmse: 3.71782\n",
      "[61]\tvalid_0's rmse: 3.71582\n",
      "[62]\tvalid_0's rmse: 3.70411\n",
      "[63]\tvalid_0's rmse: 3.70159\n",
      "[64]\tvalid_0's rmse: 3.70387\n",
      "[65]\tvalid_0's rmse: 3.70311\n",
      "[66]\tvalid_0's rmse: 3.70442\n",
      "[67]\tvalid_0's rmse: 3.70522\n",
      "[68]\tvalid_0's rmse: 3.71665\n",
      "[69]\tvalid_0's rmse: 3.70937\n",
      "[70]\tvalid_0's rmse: 3.70605\n",
      "[71]\tvalid_0's rmse: 3.70897\n",
      "[72]\tvalid_0's rmse: 3.71756\n",
      "[73]\tvalid_0's rmse: 3.72169\n",
      "[74]\tvalid_0's rmse: 3.71368\n",
      "[75]\tvalid_0's rmse: 3.71418\n",
      "[76]\tvalid_0's rmse: 3.72325\n",
      "[77]\tvalid_0's rmse: 3.71991\n",
      "[78]\tvalid_0's rmse: 3.72381\n",
      "[79]\tvalid_0's rmse: 3.71689\n",
      "[80]\tvalid_0's rmse: 3.72225\n",
      "[81]\tvalid_0's rmse: 3.72487\n",
      "[82]\tvalid_0's rmse: 3.71952\n",
      "[83]\tvalid_0's rmse: 3.71711\n",
      "[84]\tvalid_0's rmse: 3.71857\n",
      "[85]\tvalid_0's rmse: 3.71691\n",
      "[86]\tvalid_0's rmse: 3.71369\n",
      "[87]\tvalid_0's rmse: 3.71665\n",
      "[88]\tvalid_0's rmse: 3.72391\n",
      "[89]\tvalid_0's rmse: 3.72338\n",
      "[90]\tvalid_0's rmse: 3.71398\n",
      "[91]\tvalid_0's rmse: 3.7201\n",
      "[92]\tvalid_0's rmse: 3.7205\n",
      "[93]\tvalid_0's rmse: 3.72041\n",
      "[94]\tvalid_0's rmse: 3.72064\n",
      "[95]\tvalid_0's rmse: 3.72194\n",
      "[96]\tvalid_0's rmse: 3.72317\n",
      "[97]\tvalid_0's rmse: 3.71709\n"
     ]
    },
    {
     "name": "stderr",
     "output_type": "stream",
     "text": [
      "\u001b[32m[I 2021-03-30 16:44:19,607]\u001b[0m Trial 47 finished with value: 3.727467148346146 and parameters: {'lambda_l1': 0.10923654905166062, 'lambda_l2': 3.8088777720796385e-05, 'num_leaves': 160, 'feature_fraction': 0.7997476046210139, 'bagging_fraction': 0.6640838090981793, 'bagging_freq': 1, 'min_child_samples': 38}. Best is trial 21 with value: 3.7054419102194136.\u001b[0m\n"
     ]
    },
    {
     "name": "stdout",
     "output_type": "stream",
     "text": [
      "[98]\tvalid_0's rmse: 3.72377\n",
      "[99]\tvalid_0's rmse: 3.72452\n",
      "[100]\tvalid_0's rmse: 3.72747\n"
     ]
    },
    {
     "name": "stderr",
     "output_type": "stream",
     "text": [
      "C:\\Anaconda\\lib\\site-packages\\lightgbm\\basic.py:1702: UserWarning: Using categorical_feature in Dataset.\n",
      "  _log_warning('Using categorical_feature in Dataset.')\n",
      "C:\\Anaconda\\lib\\site-packages\\lightgbm\\basic.py:1433: UserWarning: Overriding the parameters from Reference Dataset.\n",
      "  _log_warning('Overriding the parameters from Reference Dataset.')\n",
      "C:\\Anaconda\\lib\\site-packages\\lightgbm\\basic.py:1245: UserWarning: categorical_column in param dict is overridden.\n",
      "  _log_warning('{} in param dict is overridden.'.format(cat_alias))\n"
     ]
    },
    {
     "name": "stdout",
     "output_type": "stream",
     "text": [
      "[LightGBM] [Warning] Auto-choosing col-wise multi-threading, the overhead of testing was 0.005575 seconds.\n",
      "You can set `force_col_wise=true` to remove the overhead.\n",
      "[LightGBM] [Info] Total Bins 9027\n",
      "[LightGBM] [Info] Number of data points in the train set: 26064, number of used features: 37\n",
      "[LightGBM] [Info] Start training from score 13.130955\n",
      "[1]\tvalid_0's rmse: 8.28229\n",
      "[2]\tvalid_0's rmse: 7.61957\n",
      "[3]\tvalid_0's rmse: 7.04424\n",
      "[4]\tvalid_0's rmse: 6.54639\n",
      "[5]\tvalid_0's rmse: 6.12575\n",
      "[6]\tvalid_0's rmse: 5.76499\n",
      "[7]\tvalid_0's rmse: 5.46592\n",
      "[8]\tvalid_0's rmse: 5.17942\n",
      "[9]\tvalid_0's rmse: 4.95393\n",
      "[10]\tvalid_0's rmse: 4.75041\n",
      "[11]\tvalid_0's rmse: 4.56667\n",
      "[12]\tvalid_0's rmse: 4.42859\n",
      "[13]\tvalid_0's rmse: 4.31138\n",
      "[14]\tvalid_0's rmse: 4.20322\n",
      "[15]\tvalid_0's rmse: 4.1266\n",
      "[16]\tvalid_0's rmse: 4.06277\n"
     ]
    },
    {
     "name": "stderr",
     "output_type": "stream",
     "text": [
      "\u001b[32m[I 2021-03-30 16:44:19,961]\u001b[0m Trial 48 pruned. Trial was pruned at iteration 19.\u001b[0m\n"
     ]
    },
    {
     "name": "stdout",
     "output_type": "stream",
     "text": [
      "[17]\tvalid_0's rmse: 4.01649\n",
      "[18]\tvalid_0's rmse: 3.98279\n",
      "[19]\tvalid_0's rmse: 3.94401\n",
      "[LightGBM] [Warning] Auto-choosing col-wise multi-threading, the overhead of testing was 0.004907 seconds.\n",
      "You can set `force_col_wise=true` to remove the overhead.\n",
      "[LightGBM] [Info] Total Bins 9027\n",
      "[LightGBM] [Info] Number of data points in the train set: 26064, number of used features: 37\n",
      "[LightGBM] [Info] Start training from score 13.130955\n",
      "[1]\tvalid_0's rmse: 8.24083\n",
      "[2]\tvalid_0's rmse: 7.58353\n",
      "[3]\tvalid_0's rmse: 6.9974\n",
      "[4]\tvalid_0's rmse: 6.50238\n",
      "[5]\tvalid_0's rmse: 6.08956\n",
      "[6]\tvalid_0's rmse: 5.73753\n",
      "[7]\tvalid_0's rmse: 5.44471\n",
      "[8]\tvalid_0's rmse: 5.16857\n",
      "[9]\tvalid_0's rmse: 4.93915\n",
      "[10]\tvalid_0's rmse: 4.73604\n",
      "[11]\tvalid_0's rmse: 4.56426\n",
      "[12]\tvalid_0's rmse: 4.42416\n",
      "[13]\tvalid_0's rmse: 4.30227\n",
      "[14]\tvalid_0's rmse: 4.20561\n",
      "[15]\tvalid_0's rmse: 4.13754\n",
      "[16]\tvalid_0's rmse: 4.06927\n",
      "[17]\tvalid_0's rmse: 4.01105\n",
      "[18]\tvalid_0's rmse: 3.94353\n",
      "[19]\tvalid_0's rmse: 3.89839\n",
      "[20]\tvalid_0's rmse: 3.87259\n",
      "[21]\tvalid_0's rmse: 3.84473\n",
      "[22]\tvalid_0's rmse: 3.82152\n",
      "[23]\tvalid_0's rmse: 3.79231\n",
      "[24]\tvalid_0's rmse: 3.75129\n",
      "[25]\tvalid_0's rmse: 3.74099\n",
      "[26]\tvalid_0's rmse: 3.7284\n",
      "[27]\tvalid_0's rmse: 3.70087\n",
      "[28]\tvalid_0's rmse: 3.69691\n",
      "[29]\tvalid_0's rmse: 3.69923\n",
      "[30]\tvalid_0's rmse: 3.69622\n",
      "[31]\tvalid_0's rmse: 3.68108\n",
      "[32]\tvalid_0's rmse: 3.67295\n",
      "[33]\tvalid_0's rmse: 3.67732\n",
      "[34]\tvalid_0's rmse: 3.67798\n",
      "[35]\tvalid_0's rmse: 3.68077\n",
      "[36]\tvalid_0's rmse: 3.67403\n",
      "[37]\tvalid_0's rmse: 3.66087\n",
      "[38]\tvalid_0's rmse: 3.66102\n",
      "[39]\tvalid_0's rmse: 3.66168\n",
      "[40]\tvalid_0's rmse: 3.65734\n",
      "[41]\tvalid_0's rmse: 3.66688\n",
      "[42]\tvalid_0's rmse: 3.65859\n",
      "[43]\tvalid_0's rmse: 3.65938\n",
      "[44]\tvalid_0's rmse: 3.66075\n",
      "[45]\tvalid_0's rmse: 3.66184\n",
      "[46]\tvalid_0's rmse: 3.66285\n",
      "[47]\tvalid_0's rmse: 3.65775\n",
      "[48]\tvalid_0's rmse: 3.65796\n",
      "[49]\tvalid_0's rmse: 3.66241\n",
      "[50]\tvalid_0's rmse: 3.66354\n",
      "[51]\tvalid_0's rmse: 3.65743\n",
      "[52]\tvalid_0's rmse: 3.66385\n",
      "[53]\tvalid_0's rmse: 3.66675\n",
      "[54]\tvalid_0's rmse: 3.67282\n",
      "[55]\tvalid_0's rmse: 3.66156\n",
      "[56]\tvalid_0's rmse: 3.66316\n",
      "[57]\tvalid_0's rmse: 3.67002\n",
      "[58]\tvalid_0's rmse: 3.66307\n",
      "[59]\tvalid_0's rmse: 3.66077\n",
      "[60]\tvalid_0's rmse: 3.66229\n",
      "[61]\tvalid_0's rmse: 3.67058\n",
      "[62]\tvalid_0's rmse: 3.66499\n",
      "[63]\tvalid_0's rmse: 3.65783\n",
      "[64]\tvalid_0's rmse: 3.65637\n",
      "[65]\tvalid_0's rmse: 3.65857\n",
      "[66]\tvalid_0's rmse: 3.65982\n",
      "[67]\tvalid_0's rmse: 3.65762\n",
      "[68]\tvalid_0's rmse: 3.65684\n",
      "[69]\tvalid_0's rmse: 3.65186\n",
      "[70]\tvalid_0's rmse: 3.65154\n",
      "[71]\tvalid_0's rmse: 3.65258\n",
      "[72]\tvalid_0's rmse: 3.65677\n",
      "[73]\tvalid_0's rmse: 3.66265\n",
      "[74]\tvalid_0's rmse: 3.65423\n",
      "[75]\tvalid_0's rmse: 3.65286\n",
      "[76]\tvalid_0's rmse: 3.6585\n",
      "[77]\tvalid_0's rmse: 3.65694\n",
      "[78]\tvalid_0's rmse: 3.66065\n",
      "[79]\tvalid_0's rmse: 3.65315\n",
      "[80]\tvalid_0's rmse: 3.65611\n",
      "[81]\tvalid_0's rmse: 3.65883\n",
      "[82]\tvalid_0's rmse: 3.65534\n",
      "[83]\tvalid_0's rmse: 3.65448\n",
      "[84]\tvalid_0's rmse: 3.65361\n",
      "[85]\tvalid_0's rmse: 3.6496\n",
      "[86]\tvalid_0's rmse: 3.64048\n",
      "[87]\tvalid_0's rmse: 3.64331\n",
      "[88]\tvalid_0's rmse: 3.64461\n",
      "[89]\tvalid_0's rmse: 3.64399\n",
      "[90]\tvalid_0's rmse: 3.64097\n",
      "[91]\tvalid_0's rmse: 3.64181\n",
      "[92]\tvalid_0's rmse: 3.64501\n",
      "[93]\tvalid_0's rmse: 3.64717\n",
      "[94]\tvalid_0's rmse: 3.65294\n",
      "[95]\tvalid_0's rmse: 3.6516\n",
      "[96]\tvalid_0's rmse: 3.65001\n",
      "[97]\tvalid_0's rmse: 3.65062\n",
      "[98]\tvalid_0's rmse: 3.6552"
     ]
    },
    {
     "name": "stderr",
     "output_type": "stream",
     "text": [
      "\u001b[32m[I 2021-03-30 16:44:21,474]\u001b[0m Trial 49 finished with value: 3.6583771474345785 and parameters: {'lambda_l1': 0.03723787920152494, 'lambda_l2': 7.37084698329998e-06, 'num_leaves': 147, 'feature_fraction': 0.7232885892351055, 'bagging_fraction': 0.653615223411343, 'bagging_freq': 1, 'min_child_samples': 37}. Best is trial 49 with value: 3.6583771474345785.\u001b[0m\n"
     ]
    },
    {
     "name": "stdout",
     "output_type": "stream",
     "text": [
      "\n",
      "[99]\tvalid_0's rmse: 3.65658\n",
      "[100]\tvalid_0's rmse: 3.65838\n"
     ]
    },
    {
     "name": "stderr",
     "output_type": "stream",
     "text": [
      "C:\\Anaconda\\lib\\site-packages\\lightgbm\\basic.py:1702: UserWarning: Using categorical_feature in Dataset.\n",
      "  _log_warning('Using categorical_feature in Dataset.')\n",
      "C:\\Anaconda\\lib\\site-packages\\lightgbm\\basic.py:1433: UserWarning: Overriding the parameters from Reference Dataset.\n",
      "  _log_warning('Overriding the parameters from Reference Dataset.')\n",
      "C:\\Anaconda\\lib\\site-packages\\lightgbm\\basic.py:1245: UserWarning: categorical_column in param dict is overridden.\n",
      "  _log_warning('{} in param dict is overridden.'.format(cat_alias))\n",
      "\u001b[32m[I 2021-03-30 16:44:21,728]\u001b[0m Trial 50 pruned. Trial was pruned at iteration 10.\u001b[0m\n"
     ]
    },
    {
     "name": "stdout",
     "output_type": "stream",
     "text": [
      "[LightGBM] [Warning] Auto-choosing col-wise multi-threading, the overhead of testing was 0.005176 seconds.\n",
      "You can set `force_col_wise=true` to remove the overhead.\n",
      "[LightGBM] [Info] Total Bins 9027\n",
      "[LightGBM] [Info] Number of data points in the train set: 26064, number of used features: 37\n",
      "[LightGBM] [Info] Start training from score 13.130955\n",
      "[1]\tvalid_0's rmse: 8.23457\n",
      "[2]\tvalid_0's rmse: 7.57903\n",
      "[3]\tvalid_0's rmse: 7.02213\n",
      "[4]\tvalid_0's rmse: 6.54768\n",
      "[5]\tvalid_0's rmse: 6.14198\n",
      "[6]\tvalid_0's rmse: 5.79399\n",
      "[7]\tvalid_0's rmse: 5.49055\n",
      "[8]\tvalid_0's rmse: 5.21171\n",
      "[9]\tvalid_0's rmse: 4.9866\n",
      "[10]\tvalid_0's rmse: 4.78334\n"
     ]
    },
    {
     "name": "stderr",
     "output_type": "stream",
     "text": [
      "\u001b[32m[I 2021-03-30 16:44:22,011]\u001b[0m Trial 51 pruned. Trial was pruned at iteration 11.\u001b[0m\n"
     ]
    },
    {
     "name": "stdout",
     "output_type": "stream",
     "text": [
      "[LightGBM] [Warning] Auto-choosing col-wise multi-threading, the overhead of testing was 0.003697 seconds.\n",
      "You can set `force_col_wise=true` to remove the overhead.\n",
      "[LightGBM] [Info] Total Bins 9027\n",
      "[LightGBM] [Info] Number of data points in the train set: 26064, number of used features: 37\n",
      "[LightGBM] [Info] Start training from score 13.130955\n",
      "[1]\tvalid_0's rmse: 8.24458\n",
      "[2]\tvalid_0's rmse: 7.62057\n",
      "[3]\tvalid_0's rmse: 7.01833\n",
      "[4]\tvalid_0's rmse: 6.5254\n",
      "[5]\tvalid_0's rmse: 6.11956\n",
      "[6]\tvalid_0's rmse: 5.76354\n",
      "[7]\tvalid_0's rmse: 5.46974\n",
      "[8]\tvalid_0's rmse: 5.18106\n",
      "[9]\tvalid_0's rmse: 4.95915\n",
      "[10]\tvalid_0's rmse: 4.76435\n",
      "[11]\tvalid_0's rmse: 4.58499\n"
     ]
    },
    {
     "name": "stderr",
     "output_type": "stream",
     "text": [
      "\u001b[32m[I 2021-03-30 16:44:22,299]\u001b[0m Trial 52 pruned. Trial was pruned at iteration 11.\u001b[0m\n"
     ]
    },
    {
     "name": "stdout",
     "output_type": "stream",
     "text": [
      "[LightGBM] [Warning] Auto-choosing col-wise multi-threading, the overhead of testing was 0.004147 seconds.\n",
      "You can set `force_col_wise=true` to remove the overhead.\n",
      "[LightGBM] [Info] Total Bins 9027\n",
      "[LightGBM] [Info] Number of data points in the train set: 26064, number of used features: 37\n",
      "[LightGBM] [Info] Start training from score 13.130955\n",
      "[1]\tvalid_0's rmse: 8.25697\n",
      "[2]\tvalid_0's rmse: 7.58805\n",
      "[3]\tvalid_0's rmse: 7.01203\n",
      "[4]\tvalid_0's rmse: 6.55237\n",
      "[5]\tvalid_0's rmse: 6.11985\n",
      "[6]\tvalid_0's rmse: 5.73839\n",
      "[7]\tvalid_0's rmse: 5.42048\n",
      "[8]\tvalid_0's rmse: 5.1453\n",
      "[9]\tvalid_0's rmse: 4.93172\n",
      "[10]\tvalid_0's rmse: 4.72164\n",
      "[11]\tvalid_0's rmse: 4.56853\n"
     ]
    },
    {
     "name": "stderr",
     "output_type": "stream",
     "text": [
      "\u001b[32m[I 2021-03-30 16:44:22,547]\u001b[0m Trial 53 pruned. Trial was pruned at iteration 10.\u001b[0m\n"
     ]
    },
    {
     "name": "stdout",
     "output_type": "stream",
     "text": [
      "[LightGBM] [Warning] Auto-choosing col-wise multi-threading, the overhead of testing was 0.005673 seconds.\n",
      "You can set `force_col_wise=true` to remove the overhead.\n",
      "[LightGBM] [Info] Total Bins 9027\n",
      "[LightGBM] [Info] Number of data points in the train set: 26064, number of used features: 37\n",
      "[LightGBM] [Info] Start training from score 13.130955\n",
      "[LightGBM] [Warning] No further splits with positive gain, best gain: -inf\n",
      "[1]\tvalid_0's rmse: 8.26785\n",
      "[LightGBM] [Warning] No further splits with positive gain, best gain: -inf\n",
      "[2]\tvalid_0's rmse: 7.61254\n",
      "[LightGBM] [Warning] No further splits with positive gain, best gain: -inf\n",
      "[3]\tvalid_0's rmse: 7.0611\n",
      "[LightGBM] [Warning] No further splits with positive gain, best gain: -inf\n",
      "[4]\tvalid_0's rmse: 6.56253\n",
      "[LightGBM] [Warning] No further splits with positive gain, best gain: -inf\n",
      "[5]\tvalid_0's rmse: 6.14629\n",
      "[LightGBM] [Warning] No further splits with positive gain, best gain: -inf\n",
      "[6]\tvalid_0's rmse: 5.79157\n",
      "[LightGBM] [Warning] No further splits with positive gain, best gain: -inf\n",
      "[7]\tvalid_0's rmse: 5.48427\n",
      "[LightGBM] [Warning] No further splits with positive gain, best gain: -inf\n",
      "[8]\tvalid_0's rmse: 5.20766\n",
      "[LightGBM] [Warning] No further splits with positive gain, best gain: -inf\n",
      "[9]\tvalid_0's rmse: 4.97957\n",
      "[LightGBM] [Warning] No further splits with positive gain, best gain: -inf\n",
      "[10]\tvalid_0's rmse: 4.76463\n",
      "[LightGBM] [Warning] No further splits with positive gain, best gain: -inf\n",
      "[LightGBM] [Warning] Auto-choosing col-wise multi-threading, the overhead of testing was 0.005530 seconds.\n",
      "You can set `force_col_wise=true` to remove the overhead.\n",
      "[LightGBM] [Info] Total Bins 9027\n",
      "[LightGBM] [Info] Number of data points in the train set: 26064, number of used features: 37\n",
      "[LightGBM] [Info] Start training from score 13.130955\n",
      "[1]\tvalid_0's rmse: 8.25767\n",
      "[2]\tvalid_0's rmse: 7.57905\n",
      "[3]\tvalid_0's rmse: 7.02088\n",
      "[4]\tvalid_0's rmse: 6.51097\n",
      "[5]\tvalid_0's rmse: 6.09619\n",
      "[6]\tvalid_0's rmse: 5.72066\n",
      "[7]\tvalid_0's rmse: 5.38816\n",
      "[8]\tvalid_0's rmse: 5.11214\n",
      "[9]\tvalid_0's rmse: 4.8876\n",
      "[10]\tvalid_0's rmse: 4.68972\n",
      "[11]\tvalid_0's rmse: 4.53131\n",
      "[12]\tvalid_0's rmse: 4.3857\n",
      "[13]\tvalid_0's rmse: 4.27517\n",
      "[14]\tvalid_0's rmse: 4.16498\n",
      "[15]\tvalid_0's rmse: 4.08355\n",
      "[16]\tvalid_0's rmse: 4.0146\n",
      "[17]\tvalid_0's rmse: 3.96999\n",
      "[18]\tvalid_0's rmse: 3.92423\n",
      "[19]\tvalid_0's rmse: 3.84868\n",
      "[20]\tvalid_0's rmse: 3.81446\n",
      "[21]\tvalid_0's rmse: 3.79537\n",
      "[22]\tvalid_0's rmse: 3.77517\n",
      "[23]\tvalid_0's rmse: 3.76221\n",
      "[24]\tvalid_0's rmse: 3.76685\n",
      "[25]\tvalid_0's rmse: 3.76657\n",
      "[26]\tvalid_0's rmse: 3.75385\n",
      "[27]\tvalid_0's rmse: 3.74704\n",
      "[28]\tvalid_0's rmse: 3.74744\n"
     ]
    },
    {
     "name": "stderr",
     "output_type": "stream",
     "text": [
      "\u001b[32m[I 2021-03-30 16:44:23,119]\u001b[0m Trial 54 pruned. Trial was pruned at iteration 31.\u001b[0m\n"
     ]
    },
    {
     "name": "stdout",
     "output_type": "stream",
     "text": [
      "[29]\tvalid_0's rmse: 3.74146\n",
      "[30]\tvalid_0's rmse: 3.7388\n",
      "[31]\tvalid_0's rmse: 3.74098\n",
      "[LightGBM] [Warning] Auto-choosing col-wise multi-threading, the overhead of testing was 0.005113 seconds.\n",
      "You can set `force_col_wise=true` to remove the overhead.\n",
      "[LightGBM] [Info] Total Bins 9027\n",
      "[LightGBM] [Info] Number of data points in the train set: 26064, number of used features: 37\n",
      "[LightGBM] [Info] Start training from score 13.130955\n"
     ]
    },
    {
     "name": "stderr",
     "output_type": "stream",
     "text": [
      "\u001b[32m[I 2021-03-30 16:44:23,453]\u001b[0m Trial 55 pruned. Trial was pruned at iteration 10.\u001b[0m\n"
     ]
    },
    {
     "name": "stdout",
     "output_type": "stream",
     "text": [
      "[1]\tvalid_0's rmse: 8.24585\n",
      "[LightGBM] [Warning] No further splits with positive gain, best gain: -inf\n",
      "[2]\tvalid_0's rmse: 7.60539\n",
      "[LightGBM] [Warning] No further splits with positive gain, best gain: -inf\n",
      "[3]\tvalid_0's rmse: 7.06231\n",
      "[LightGBM] [Warning] No further splits with positive gain, best gain: -inf\n",
      "[4]\tvalid_0's rmse: 6.59031\n",
      "[5]\tvalid_0's rmse: 6.15261\n",
      "[LightGBM] [Warning] No further splits with positive gain, best gain: -inf\n",
      "[6]\tvalid_0's rmse: 5.76756\n",
      "[7]\tvalid_0's rmse: 5.47387\n",
      "[8]\tvalid_0's rmse: 5.19565\n",
      "[LightGBM] [Warning] No further splits with positive gain, best gain: -inf\n",
      "[9]\tvalid_0's rmse: 4.97503\n",
      "[LightGBM] [Warning] No further splits with positive gain, best gain: -inf\n",
      "[10]\tvalid_0's rmse: 4.7715\n"
     ]
    },
    {
     "name": "stderr",
     "output_type": "stream",
     "text": [
      "\u001b[32m[I 2021-03-30 16:44:23,669]\u001b[0m Trial 56 pruned. Trial was pruned at iteration 10.\u001b[0m\n"
     ]
    },
    {
     "name": "stdout",
     "output_type": "stream",
     "text": [
      "[LightGBM] [Warning] Auto-choosing col-wise multi-threading, the overhead of testing was 0.003653 seconds.\n",
      "You can set `force_col_wise=true` to remove the overhead.\n",
      "[LightGBM] [Info] Total Bins 9027\n",
      "[LightGBM] [Info] Number of data points in the train set: 26064, number of used features: 37\n",
      "[LightGBM] [Info] Start training from score 13.130955\n",
      "[LightGBM] [Warning] No further splits with positive gain, best gain: -inf\n",
      "[1]\tvalid_0's rmse: 8.28942\n",
      "[LightGBM] [Warning] No further splits with positive gain, best gain: -inf\n",
      "[2]\tvalid_0's rmse: 7.66676\n",
      "[LightGBM] [Warning] No further splits with positive gain, best gain: -inf\n",
      "[3]\tvalid_0's rmse: 7.12561\n",
      "[LightGBM] [Warning] No further splits with positive gain, best gain: -inf\n",
      "[4]\tvalid_0's rmse: 6.60346\n",
      "[LightGBM] [Warning] No further splits with positive gain, best gain: -inf\n",
      "[5]\tvalid_0's rmse: 6.17266\n",
      "[LightGBM] [Warning] No further splits with positive gain, best gain: -inf\n",
      "[6]\tvalid_0's rmse: 5.78492\n",
      "[LightGBM] [Warning] No further splits with positive gain, best gain: -inf\n",
      "[7]\tvalid_0's rmse: 5.47356\n",
      "[LightGBM] [Warning] No further splits with positive gain, best gain: -inf\n",
      "[8]\tvalid_0's rmse: 5.19219\n",
      "[LightGBM] [Warning] No further splits with positive gain, best gain: -inf\n",
      "[9]\tvalid_0's rmse: 4.97879\n",
      "[LightGBM] [Warning] No further splits with positive gain, best gain: -inf\n",
      "[10]\tvalid_0's rmse: 4.7669\n",
      "[LightGBM] [Warning] No further splits with positive gain, best gain: -inf\n"
     ]
    },
    {
     "name": "stderr",
     "output_type": "stream",
     "text": [
      "\u001b[32m[I 2021-03-30 16:44:23,916]\u001b[0m Trial 57 pruned. Trial was pruned at iteration 11.\u001b[0m\n"
     ]
    },
    {
     "name": "stdout",
     "output_type": "stream",
     "text": [
      "[LightGBM] [Warning] Auto-choosing col-wise multi-threading, the overhead of testing was 0.005030 seconds.\n",
      "You can set `force_col_wise=true` to remove the overhead.\n",
      "[LightGBM] [Info] Total Bins 9027\n",
      "[LightGBM] [Info] Number of data points in the train set: 26064, number of used features: 37\n",
      "[LightGBM] [Info] Start training from score 13.130955\n",
      "[1]\tvalid_0's rmse: 8.25984\n",
      "[2]\tvalid_0's rmse: 7.59986\n",
      "[3]\tvalid_0's rmse: 7.03061\n",
      "[4]\tvalid_0's rmse: 6.55373\n",
      "[5]\tvalid_0's rmse: 6.13915\n",
      "[6]\tvalid_0's rmse: 5.79273\n",
      "[7]\tvalid_0's rmse: 5.46586\n",
      "[8]\tvalid_0's rmse: 5.18771\n",
      "[9]\tvalid_0's rmse: 4.95611\n",
      "[10]\tvalid_0's rmse: 4.75488\n",
      "[11]\tvalid_0's rmse: 4.58348\n",
      "[LightGBM] [Warning] Auto-choosing col-wise multi-threading, the overhead of testing was 0.003654 seconds.\n",
      "You can set `force_col_wise=true` to remove the overhead.\n",
      "[LightGBM] [Info] Total Bins 9027\n",
      "[LightGBM] [Info] Number of data points in the train set: 26064, number of used features: 37\n",
      "[LightGBM] [Info] Start training from score 13.130955\n",
      "[1]\tvalid_0's rmse: 8.24778\n",
      "[2]\tvalid_0's rmse: 7.60078\n",
      "[3]\tvalid_0's rmse: 7.04301\n",
      "[4]\tvalid_0's rmse: 6.52373\n",
      "[5]\tvalid_0's rmse: 6.10161\n",
      "[6]\tvalid_0's rmse: 5.71942\n",
      "[7]\tvalid_0's rmse: 5.41547\n",
      "[8]\tvalid_0's rmse: 5.14135\n",
      "[9]\tvalid_0's rmse: 4.91123\n",
      "[10]\tvalid_0's rmse: 4.70649\n",
      "[11]\tvalid_0's rmse: 4.53227\n",
      "[12]\tvalid_0's rmse: 4.38978\n",
      "[13]\tvalid_0's rmse: 4.27116\n",
      "[14]\tvalid_0's rmse: 4.18124\n",
      "[15]\tvalid_0's rmse: 4.12168\n",
      "[16]\tvalid_0's rmse: 4.05776\n",
      "[17]\tvalid_0's rmse: 4.00728\n",
      "[18]\tvalid_0's rmse: 3.94424\n",
      "[19]\tvalid_0's rmse: 3.90369\n",
      "[20]\tvalid_0's rmse: 3.86697\n",
      "[21]\tvalid_0's rmse: 3.84321\n",
      "[22]\tvalid_0's rmse: 3.81818\n",
      "[23]\tvalid_0's rmse: 3.8014\n",
      "[24]\tvalid_0's rmse: 3.76251\n",
      "[25]\tvalid_0's rmse: 3.74574\n",
      "[26]\tvalid_0's rmse: 3.73124\n",
      "[27]\tvalid_0's rmse: 3.70659\n",
      "[28]\tvalid_0's rmse: 3.70265\n",
      "[29]\tvalid_0's rmse: 3.70079\n",
      "[30]\tvalid_0's rmse: 3.70504\n",
      "[31]\tvalid_0's rmse: 3.69189\n",
      "[32]\tvalid_0's rmse: 3.69564\n",
      "[33]\tvalid_0's rmse: 3.68601\n",
      "[34]\tvalid_0's rmse: 3.68572\n",
      "[35]\tvalid_0's rmse: 3.67845\n",
      "[36]\tvalid_0's rmse: 3.67104\n",
      "[37]\tvalid_0's rmse: 3.66166\n",
      "[38]\tvalid_0's rmse: 3.66163\n",
      "[39]\tvalid_0's rmse: 3.6592\n",
      "[40]\tvalid_0's rmse: 3.65863\n",
      "[41]\tvalid_0's rmse: 3.65473\n",
      "[42]\tvalid_0's rmse: 3.65751\n",
      "[43]\tvalid_0's rmse: 3.65027\n",
      "[44]\tvalid_0's rmse: 3.65867\n",
      "[45]\tvalid_0's rmse: 3.661\n",
      "[46]\tvalid_0's rmse: 3.65915\n",
      "[47]\tvalid_0's rmse: 3.6616\n",
      "[48]\tvalid_0's rmse: 3.6643\n",
      "[49]\tvalid_0's rmse: 3.66512\n",
      "[50]\tvalid_0's rmse: 3.65906\n",
      "[51]\tvalid_0's rmse: 3.65436\n",
      "[52]\tvalid_0's rmse: 3.65805\n",
      "[53]\tvalid_0's rmse: 3.6517\n",
      "[54]\tvalid_0's rmse: 3.64864\n",
      "[55]\tvalid_0's rmse: 3.64054\n",
      "[56]\tvalid_0's rmse: 3.64473\n",
      "[57]\tvalid_0's rmse: 3.64144\n",
      "[58]\tvalid_0's rmse: 3.63893\n",
      "[59]\tvalid_0's rmse: 3.64141\n",
      "[60]\tvalid_0's rmse: 3.64029\n",
      "[61]\tvalid_0's rmse: 3.63516\n",
      "[62]\tvalid_0's rmse: 3.63165\n",
      "[63]\tvalid_0's rmse: 3.62503\n",
      "[64]\tvalid_0's rmse: 3.62297\n",
      "[65]\tvalid_0's rmse: 3.61984\n",
      "[66]\tvalid_0's rmse: 3.62071\n",
      "[67]\tvalid_0's rmse: 3.62932\n",
      "[68]\tvalid_0's rmse: 3.63399\n",
      "[69]\tvalid_0's rmse: 3.63242\n",
      "[70]\tvalid_0's rmse: 3.63297\n",
      "[71]\tvalid_0's rmse: 3.63493\n",
      "[72]\tvalid_0's rmse: 3.63696\n",
      "[73]\tvalid_0's rmse: 3.63558\n",
      "[74]\tvalid_0's rmse: 3.62658\n",
      "[75]\tvalid_0's rmse: 3.63222\n",
      "[76]\tvalid_0's rmse: 3.6393\n",
      "[77]\tvalid_0's rmse: 3.63776\n",
      "[78]\tvalid_0's rmse: 3.63964\n",
      "[79]\tvalid_0's rmse: 3.64311\n",
      "[80]\tvalid_0's rmse: 3.64795\n",
      "[81]\tvalid_0's rmse: 3.64683\n",
      "[82]\tvalid_0's rmse: 3.64637\n",
      "[83]\tvalid_0's rmse: 3.6474\n",
      "[84]\tvalid_0's rmse: 3.64741\n",
      "[85]\tvalid_0's rmse: 3.64867\n",
      "[86]\tvalid_0's rmse: 3.64016\n",
      "[87]\tvalid_0's rmse: 3.64396\n",
      "[88]\tvalid_0's rmse: 3.64582\n",
      "[89]\tvalid_0's rmse: 3.64852\n",
      "[90]\tvalid_0's rmse: 3.65063\n",
      "[91]\tvalid_0's rmse: 3.65414\n",
      "[92]\tvalid_0's rmse: 3.65762\n",
      "[93]\tvalid_0's rmse: 3.65454\n",
      "[94]\tvalid_0's rmse: 3.65595\n",
      "[95]\tvalid_0's rmse: 3.65469\n"
     ]
    },
    {
     "name": "stderr",
     "output_type": "stream",
     "text": [
      "\u001b[32m[I 2021-03-30 16:44:25,361]\u001b[0m Trial 58 finished with value: 3.660946068843947 and parameters: {'lambda_l1': 0.00023759364042375502, 'lambda_l2': 5.640643152730009e-05, 'num_leaves': 166, 'feature_fraction': 0.6241412479836946, 'bagging_fraction': 0.6496769318839282, 'bagging_freq': 1, 'min_child_samples': 43}. Best is trial 49 with value: 3.6583771474345785.\u001b[0m\n"
     ]
    },
    {
     "name": "stdout",
     "output_type": "stream",
     "text": [
      "[96]\tvalid_0's rmse: 3.65616\n",
      "[97]\tvalid_0's rmse: 3.65233\n",
      "[98]\tvalid_0's rmse: 3.65752\n",
      "[99]\tvalid_0's rmse: 3.65805\n",
      "[100]\tvalid_0's rmse: 3.66095\n"
     ]
    },
    {
     "name": "stderr",
     "output_type": "stream",
     "text": [
      "C:\\Anaconda\\lib\\site-packages\\lightgbm\\basic.py:1702: UserWarning: Using categorical_feature in Dataset.\n",
      "  _log_warning('Using categorical_feature in Dataset.')\n",
      "C:\\Anaconda\\lib\\site-packages\\lightgbm\\basic.py:1433: UserWarning: Overriding the parameters from Reference Dataset.\n",
      "  _log_warning('Overriding the parameters from Reference Dataset.')\n",
      "C:\\Anaconda\\lib\\site-packages\\lightgbm\\basic.py:1245: UserWarning: categorical_column in param dict is overridden.\n",
      "  _log_warning('{} in param dict is overridden.'.format(cat_alias))\n"
     ]
    },
    {
     "name": "stdout",
     "output_type": "stream",
     "text": [
      "[LightGBM] [Warning] Auto-choosing col-wise multi-threading, the overhead of testing was 0.004631 seconds.\n",
      "You can set `force_col_wise=true` to remove the overhead.\n",
      "[LightGBM] [Info] Total Bins 9027\n",
      "[LightGBM] [Info] Number of data points in the train set: 26064, number of used features: 37\n",
      "[LightGBM] [Info] Start training from score 13.130955\n",
      "[1]\tvalid_0's rmse: 8.24645\n",
      "[2]\tvalid_0's rmse: 7.60152\n",
      "[3]\tvalid_0's rmse: 7.02419\n",
      "[4]\tvalid_0's rmse: 6.5221\n",
      "[5]\tvalid_0's rmse: 6.11303\n",
      "[6]\tvalid_0's rmse: 5.76138\n",
      "[7]\tvalid_0's rmse: 5.44283\n",
      "[8]\tvalid_0's rmse: 5.16825\n",
      "[9]\tvalid_0's rmse: 4.93974\n",
      "[10]\tvalid_0's rmse: 4.73879\n",
      "[11]\tvalid_0's rmse: 4.56551\n",
      "[12]\tvalid_0's rmse: 4.42534\n",
      "[13]\tvalid_0's rmse: 4.28802\n",
      "[14]\tvalid_0's rmse: 4.19314\n",
      "[15]\tvalid_0's rmse: 4.12285\n"
     ]
    },
    {
     "name": "stderr",
     "output_type": "stream",
     "text": [
      "\u001b[32m[I 2021-03-30 16:44:25,867]\u001b[0m Trial 59 pruned. Trial was pruned at iteration 29.\u001b[0m\n"
     ]
    },
    {
     "name": "stdout",
     "output_type": "stream",
     "text": [
      "[16]\tvalid_0's rmse: 4.05468\n",
      "[17]\tvalid_0's rmse: 4.00977\n",
      "[18]\tvalid_0's rmse: 3.94783\n",
      "[19]\tvalid_0's rmse: 3.9079\n",
      "[20]\tvalid_0's rmse: 3.87121\n",
      "[21]\tvalid_0's rmse: 3.84523\n",
      "[22]\tvalid_0's rmse: 3.82103\n",
      "[23]\tvalid_0's rmse: 3.8062\n",
      "[24]\tvalid_0's rmse: 3.76579\n",
      "[25]\tvalid_0's rmse: 3.76359\n",
      "[26]\tvalid_0's rmse: 3.75599\n",
      "[27]\tvalid_0's rmse: 3.75998\n",
      "[28]\tvalid_0's rmse: 3.7587\n",
      "[29]\tvalid_0's rmse: 3.75126\n",
      "[LightGBM] [Warning] Auto-choosing col-wise multi-threading, the overhead of testing was 0.002888 seconds.\n",
      "You can set `force_col_wise=true` to remove the overhead.\n",
      "[LightGBM] [Info] Total Bins 9027\n",
      "[LightGBM] [Info] Number of data points in the train set: 26064, number of used features: 37\n",
      "[LightGBM] [Info] Start training from score 13.130955\n",
      "[1]\tvalid_0's rmse: 8.25284\n",
      "[2]\tvalid_0's rmse: 7.60066\n",
      "[3]\tvalid_0's rmse: 7.01906\n",
      "[4]\tvalid_0's rmse: 6.50257\n",
      "[5]\tvalid_0's rmse: 6.08138\n",
      "[6]\tvalid_0's rmse: 5.73752\n",
      "[7]\tvalid_0's rmse: 5.41963\n",
      "[8]\tvalid_0's rmse: 5.14436\n",
      "[9]\tvalid_0's rmse: 4.92353\n"
     ]
    },
    {
     "name": "stderr",
     "output_type": "stream",
     "text": [
      "\u001b[32m[I 2021-03-30 16:44:26,329]\u001b[0m Trial 60 pruned. Trial was pruned at iteration 17.\u001b[0m\n"
     ]
    },
    {
     "name": "stdout",
     "output_type": "stream",
     "text": [
      "[10]\tvalid_0's rmse: 4.71838\n",
      "[11]\tvalid_0's rmse: 4.57237\n",
      "[12]\tvalid_0's rmse: 4.43282\n",
      "[13]\tvalid_0's rmse: 4.29976\n",
      "[14]\tvalid_0's rmse: 4.19637\n",
      "[15]\tvalid_0's rmse: 4.1262\n",
      "[16]\tvalid_0's rmse: 4.06764\n",
      "[17]\tvalid_0's rmse: 4.0242\n",
      "[LightGBM] [Warning] Auto-choosing col-wise multi-threading, the overhead of testing was 0.005121 seconds.\n",
      "You can set `force_col_wise=true` to remove the overhead.\n",
      "[LightGBM] [Info] Total Bins 9027\n",
      "[LightGBM] [Info] Number of data points in the train set: 26064, number of used features: 37\n",
      "[LightGBM] [Info] Start training from score 13.130955\n",
      "[1]\tvalid_0's rmse: 8.23452\n",
      "[2]\tvalid_0's rmse: 7.58676\n",
      "[3]\tvalid_0's rmse: 7.02838\n",
      "[4]\tvalid_0's rmse: 6.53261\n",
      "[5]\tvalid_0's rmse: 6.11663\n",
      "[6]\tvalid_0's rmse: 5.75927\n",
      "[7]\tvalid_0's rmse: 5.45176\n",
      "[8]\tvalid_0's rmse: 5.16552\n",
      "[9]\tvalid_0's rmse: 4.93645\n",
      "[10]\tvalid_0's rmse: 4.73552\n",
      "[11]\tvalid_0's rmse: 4.55749\n",
      "[12]\tvalid_0's rmse: 4.41886\n",
      "[13]\tvalid_0's rmse: 4.2953\n",
      "[14]\tvalid_0's rmse: 4.19074\n",
      "[15]\tvalid_0's rmse: 4.10858\n",
      "[16]\tvalid_0's rmse: 4.04469\n",
      "[17]\tvalid_0's rmse: 3.99233\n",
      "[18]\tvalid_0's rmse: 3.90107\n",
      "[19]\tvalid_0's rmse: 3.85477\n",
      "[20]\tvalid_0's rmse: 3.82477\n",
      "[21]\tvalid_0's rmse: 3.79435\n",
      "[22]\tvalid_0's rmse: 3.77619\n",
      "[23]\tvalid_0's rmse: 3.76204\n",
      "[24]\tvalid_0's rmse: 3.74987\n",
      "[25]\tvalid_0's rmse: 3.73944\n",
      "[26]\tvalid_0's rmse: 3.73357\n",
      "[27]\tvalid_0's rmse: 3.72891\n",
      "[28]\tvalid_0's rmse: 3.74269\n",
      "[29]\tvalid_0's rmse: 3.7186\n",
      "[30]\tvalid_0's rmse: 3.7127\n",
      "[31]\tvalid_0's rmse: 3.71514\n",
      "[32]\tvalid_0's rmse: 3.70625\n",
      "[33]\tvalid_0's rmse: 3.69294\n",
      "[34]\tvalid_0's rmse: 3.69102\n",
      "[35]\tvalid_0's rmse: 3.69057\n",
      "[36]\tvalid_0's rmse: 3.68274\n",
      "[37]\tvalid_0's rmse: 3.68171\n",
      "[38]\tvalid_0's rmse: 3.68253\n",
      "[39]\tvalid_0's rmse: 3.67661\n",
      "[40]\tvalid_0's rmse: 3.67907\n",
      "[41]\tvalid_0's rmse: 3.68352\n",
      "[42]\tvalid_0's rmse: 3.67752\n",
      "[43]\tvalid_0's rmse: 3.67673\n",
      "[44]\tvalid_0's rmse: 3.68093\n",
      "[45]\tvalid_0's rmse: 3.68321\n",
      "[46]\tvalid_0's rmse: 3.68399\n",
      "[47]\tvalid_0's rmse: 3.67835\n",
      "[48]\tvalid_0's rmse: 3.67651\n",
      "[49]\tvalid_0's rmse: 3.67868\n",
      "[50]\tvalid_0's rmse: 3.67343\n",
      "[51]\tvalid_0's rmse: 3.66734\n",
      "[52]\tvalid_0's rmse: 3.66161\n",
      "[53]\tvalid_0's rmse: 3.66448\n",
      "[54]\tvalid_0's rmse: 3.66884\n",
      "[55]\tvalid_0's rmse: 3.66236\n",
      "[56]\tvalid_0's rmse: 3.66144\n",
      "[57]\tvalid_0's rmse: 3.65639\n",
      "[58]\tvalid_0's rmse: 3.65655\n",
      "[59]\tvalid_0's rmse: 3.6628\n",
      "[60]\tvalid_0's rmse: 3.66343\n",
      "[61]\tvalid_0's rmse: 3.66968\n",
      "[62]\tvalid_0's rmse: 3.66874\n",
      "[63]\tvalid_0's rmse: 3.66806\n",
      "[64]\tvalid_0's rmse: 3.66853\n",
      "[65]\tvalid_0's rmse: 3.66832\n",
      "[66]\tvalid_0's rmse: 3.67134\n",
      "[67]\tvalid_0's rmse: 3.67785\n",
      "[68]\tvalid_0's rmse: 3.68387\n",
      "[69]\tvalid_0's rmse: 3.6827\n",
      "[70]\tvalid_0's rmse: 3.68226\n",
      "[71]\tvalid_0's rmse: 3.68111\n",
      "[72]\tvalid_0's rmse: 3.68622\n",
      "[73]\tvalid_0's rmse: 3.69988\n",
      "[74]\tvalid_0's rmse: 3.69193\n",
      "[75]\tvalid_0's rmse: 3.68445\n",
      "[76]\tvalid_0's rmse: 3.69273\n",
      "[77]\tvalid_0's rmse: 3.69785\n",
      "[78]\tvalid_0's rmse: 3.69939\n",
      "[79]\tvalid_0's rmse: 3.6922\n",
      "[80]\tvalid_0's rmse: 3.69312\n",
      "[81]\tvalid_0's rmse: 3.70033\n",
      "[82]\tvalid_0's rmse: 3.69794\n",
      "[83]\tvalid_0's rmse: 3.69824\n",
      "[84]\tvalid_0's rmse: 3.70397\n",
      "[85]\tvalid_0's rmse: 3.70502\n",
      "[86]\tvalid_0's rmse: 3.70535\n",
      "[87]\tvalid_0's rmse: 3.70679\n",
      "[88]\tvalid_0's rmse: 3.71281\n",
      "[89]\tvalid_0's rmse: 3.71307\n",
      "[90]\tvalid_0's rmse: 3.71208\n",
      "[91]\tvalid_0's rmse: 3.71041\n",
      "[92]\tvalid_0's rmse: 3.71701\n",
      "[93]\tvalid_0's rmse: 3.7137\n",
      "[94]\tvalid_0's rmse: 3.72687\n",
      "[95]\tvalid_0's rmse: 3.72249\n",
      "[96]\tvalid_0's rmse: 3.72344\n",
      "[97]\tvalid_0's rmse: 3.71835\n"
     ]
    },
    {
     "name": "stderr",
     "output_type": "stream",
     "text": [
      "\u001b[32m[I 2021-03-30 16:44:27,799]\u001b[0m Trial 61 finished with value: 3.7137604751345314 and parameters: {'lambda_l1': 0.0001433386760262838, 'lambda_l2': 3.933944163182976e-05, 'num_leaves': 152, 'feature_fraction': 0.6694305164734976, 'bagging_fraction': 0.6885959797811116, 'bagging_freq': 1, 'min_child_samples': 36}. Best is trial 49 with value: 3.6583771474345785.\u001b[0m\n"
     ]
    },
    {
     "name": "stdout",
     "output_type": "stream",
     "text": [
      "[98]\tvalid_0's rmse: 3.71815\n",
      "[99]\tvalid_0's rmse: 3.71402\n",
      "[100]\tvalid_0's rmse: 3.71376\n"
     ]
    },
    {
     "name": "stderr",
     "output_type": "stream",
     "text": [
      "C:\\Anaconda\\lib\\site-packages\\lightgbm\\basic.py:1702: UserWarning: Using categorical_feature in Dataset.\n",
      "  _log_warning('Using categorical_feature in Dataset.')\n",
      "C:\\Anaconda\\lib\\site-packages\\lightgbm\\basic.py:1433: UserWarning: Overriding the parameters from Reference Dataset.\n",
      "  _log_warning('Overriding the parameters from Reference Dataset.')\n",
      "C:\\Anaconda\\lib\\site-packages\\lightgbm\\basic.py:1245: UserWarning: categorical_column in param dict is overridden.\n",
      "  _log_warning('{} in param dict is overridden.'.format(cat_alias))\n"
     ]
    },
    {
     "name": "stdout",
     "output_type": "stream",
     "text": [
      "[LightGBM] [Warning] Auto-choosing col-wise multi-threading, the overhead of testing was 0.005089 seconds.\n",
      "You can set `force_col_wise=true` to remove the overhead.\n",
      "[LightGBM] [Info] Total Bins 9027\n",
      "[LightGBM] [Info] Number of data points in the train set: 26064, number of used features: 37\n",
      "[LightGBM] [Info] Start training from score 13.130955\n",
      "[1]\tvalid_0's rmse: 8.24389\n",
      "[2]\tvalid_0's rmse: 7.59741\n",
      "[3]\tvalid_0's rmse: 7.03439\n",
      "[4]\tvalid_0's rmse: 6.53025\n",
      "[5]\tvalid_0's rmse: 6.11265\n",
      "[6]\tvalid_0's rmse: 5.75345\n",
      "[7]\tvalid_0's rmse: 5.44575\n",
      "[8]\tvalid_0's rmse: 5.16713\n",
      "[9]\tvalid_0's rmse: 4.94681\n",
      "[10]\tvalid_0's rmse: 4.73851\n",
      "[11]\tvalid_0's rmse: 4.56339\n",
      "[12]\tvalid_0's rmse: 4.4176\n",
      "[13]\tvalid_0's rmse: 4.30334\n",
      "[14]\tvalid_0's rmse: 4.20543\n",
      "[15]\tvalid_0's rmse: 4.13002\n"
     ]
    },
    {
     "name": "stderr",
     "output_type": "stream",
     "text": [
      "\u001b[32m[I 2021-03-30 16:44:28,299]\u001b[0m Trial 62 pruned. Trial was pruned at iteration 27.\u001b[0m\n"
     ]
    },
    {
     "name": "stdout",
     "output_type": "stream",
     "text": [
      "[16]\tvalid_0's rmse: 4.06592\n",
      "[17]\tvalid_0's rmse: 4.01771\n",
      "[18]\tvalid_0's rmse: 3.93276\n",
      "[19]\tvalid_0's rmse: 3.88544\n",
      "[20]\tvalid_0's rmse: 3.84506\n",
      "[21]\tvalid_0's rmse: 3.81825\n",
      "[22]\tvalid_0's rmse: 3.79539\n",
      "[23]\tvalid_0's rmse: 3.77846\n",
      "[24]\tvalid_0's rmse: 3.77137\n",
      "[25]\tvalid_0's rmse: 3.75882\n",
      "[26]\tvalid_0's rmse: 3.75432\n",
      "[27]\tvalid_0's rmse: 3.76008\n"
     ]
    },
    {
     "name": "stderr",
     "output_type": "stream",
     "text": [
      "\u001b[32m[I 2021-03-30 16:44:28,588]\u001b[0m Trial 63 pruned. Trial was pruned at iteration 17.\u001b[0m\n"
     ]
    },
    {
     "name": "stdout",
     "output_type": "stream",
     "text": [
      "[LightGBM] [Warning] Auto-choosing col-wise multi-threading, the overhead of testing was 0.004166 seconds.\n",
      "You can set `force_col_wise=true` to remove the overhead.\n",
      "[LightGBM] [Info] Total Bins 9027\n",
      "[LightGBM] [Info] Number of data points in the train set: 26064, number of used features: 37\n",
      "[LightGBM] [Info] Start training from score 13.130955\n",
      "[1]\tvalid_0's rmse: 8.25999\n",
      "[2]\tvalid_0's rmse: 7.59957\n",
      "[3]\tvalid_0's rmse: 7.02717\n",
      "[4]\tvalid_0's rmse: 6.50759\n",
      "[5]\tvalid_0's rmse: 6.0883\n",
      "[6]\tvalid_0's rmse: 5.7069\n",
      "[7]\tvalid_0's rmse: 5.39805\n",
      "[8]\tvalid_0's rmse: 5.1203\n",
      "[9]\tvalid_0's rmse: 4.90129\n",
      "[10]\tvalid_0's rmse: 4.7042\n",
      "[11]\tvalid_0's rmse: 4.53991\n",
      "[12]\tvalid_0's rmse: 4.40173\n",
      "[13]\tvalid_0's rmse: 4.2923\n",
      "[14]\tvalid_0's rmse: 4.20948\n",
      "[15]\tvalid_0's rmse: 4.13336\n",
      "[16]\tvalid_0's rmse: 4.07322\n",
      "[17]\tvalid_0's rmse: 4.02533\n"
     ]
    },
    {
     "name": "stderr",
     "output_type": "stream",
     "text": [
      "\u001b[32m[I 2021-03-30 16:44:28,826]\u001b[0m Trial 64 pruned. Trial was pruned at iteration 10.\u001b[0m\n"
     ]
    },
    {
     "name": "stdout",
     "output_type": "stream",
     "text": [
      "[LightGBM] [Warning] Auto-choosing col-wise multi-threading, the overhead of testing was 0.002756 seconds.\n",
      "You can set `force_col_wise=true` to remove the overhead.\n",
      "[LightGBM] [Info] Total Bins 9027\n",
      "[LightGBM] [Info] Number of data points in the train set: 26064, number of used features: 37\n",
      "[LightGBM] [Info] Start training from score 13.130955\n",
      "[1]\tvalid_0's rmse: 8.26039\n",
      "[2]\tvalid_0's rmse: 7.5924\n",
      "[3]\tvalid_0's rmse: 7.03845\n",
      "[4]\tvalid_0's rmse: 6.5288\n",
      "[5]\tvalid_0's rmse: 6.12625\n",
      "[6]\tvalid_0's rmse: 5.77392\n",
      "[7]\tvalid_0's rmse: 5.45323\n",
      "[8]\tvalid_0's rmse: 5.1805\n",
      "[9]\tvalid_0's rmse: 4.95916\n",
      "[10]\tvalid_0's rmse: 4.75343\n",
      "[LightGBM] [Warning] Auto-choosing col-wise multi-threading, the overhead of testing was 0.004245 seconds.\n",
      "You can set `force_col_wise=true` to remove the overhead.\n",
      "[LightGBM] [Info] Total Bins 9027\n",
      "[LightGBM] [Info] Number of data points in the train set: 26064, number of used features: 37\n",
      "[LightGBM] [Info] Start training from score 13.130955\n",
      "[1]\tvalid_0's rmse: 8.24439\n",
      "[2]\tvalid_0's rmse: 7.58559\n",
      "[3]\tvalid_0's rmse: 7.01389\n",
      "[4]\tvalid_0's rmse: 6.52643\n",
      "[5]\tvalid_0's rmse: 6.09097\n",
      "[6]\tvalid_0's rmse: 5.72739\n",
      "[7]\tvalid_0's rmse: 5.39964\n",
      "[8]\tvalid_0's rmse: 5.14393\n",
      "[9]\tvalid_0's rmse: 4.92303\n",
      "[10]\tvalid_0's rmse: 4.7271\n",
      "[11]\tvalid_0's rmse: 4.5606\n",
      "[12]\tvalid_0's rmse: 4.40982\n"
     ]
    },
    {
     "name": "stderr",
     "output_type": "stream",
     "text": [
      "\u001b[32m[I 2021-03-30 16:44:29,216]\u001b[0m Trial 65 pruned. Trial was pruned at iteration 17.\u001b[0m\n"
     ]
    },
    {
     "name": "stdout",
     "output_type": "stream",
     "text": [
      "[13]\tvalid_0's rmse: 4.29064\n",
      "[14]\tvalid_0's rmse: 4.211\n",
      "[15]\tvalid_0's rmse: 4.13698\n",
      "[16]\tvalid_0's rmse: 4.07078\n",
      "[17]\tvalid_0's rmse: 4.02919\n",
      "[LightGBM] [Warning] Auto-choosing col-wise multi-threading, the overhead of testing was 0.005166 seconds.\n",
      "You can set `force_col_wise=true` to remove the overhead.\n",
      "[LightGBM] [Info] Total Bins 9027\n",
      "[LightGBM] [Info] Number of data points in the train set: 26064, number of used features: 37\n",
      "[LightGBM] [Info] Start training from score 13.130955\n",
      "[1]\tvalid_0's rmse: 8.24219\n",
      "[2]\tvalid_0's rmse: 7.57845\n",
      "[3]\tvalid_0's rmse: 7.0193\n",
      "[4]\tvalid_0's rmse: 6.54408\n",
      "[5]\tvalid_0's rmse: 6.10827\n",
      "[6]\tvalid_0's rmse: 5.72662\n",
      "[7]\tvalid_0's rmse: 5.40812\n",
      "[8]\tvalid_0's rmse: 5.13163\n",
      "[9]\tvalid_0's rmse: 4.90284\n",
      "[10]\tvalid_0's rmse: 4.70119\n",
      "[11]\tvalid_0's rmse: 4.52665\n",
      "[12]\tvalid_0's rmse: 4.39331\n",
      "[13]\tvalid_0's rmse: 4.27825\n"
     ]
    },
    {
     "name": "stderr",
     "output_type": "stream",
     "text": [
      "\u001b[32m[I 2021-03-30 16:44:29,704]\u001b[0m Trial 66 pruned. Trial was pruned at iteration 24.\u001b[0m\n"
     ]
    },
    {
     "name": "stdout",
     "output_type": "stream",
     "text": [
      "[14]\tvalid_0's rmse: 4.17722\n",
      "[15]\tvalid_0's rmse: 4.09622\n",
      "[16]\tvalid_0's rmse: 4.04045\n",
      "[17]\tvalid_0's rmse: 3.99342\n",
      "[18]\tvalid_0's rmse: 3.96169\n",
      "[19]\tvalid_0's rmse: 3.91864\n",
      "[20]\tvalid_0's rmse: 3.88369\n",
      "[21]\tvalid_0's rmse: 3.849\n",
      "[22]\tvalid_0's rmse: 3.8298\n",
      "[23]\tvalid_0's rmse: 3.8025\n",
      "[24]\tvalid_0's rmse: 3.79669\n"
     ]
    },
    {
     "name": "stderr",
     "output_type": "stream",
     "text": [
      "\u001b[32m[I 2021-03-30 16:44:29,968]\u001b[0m Trial 67 pruned. Trial was pruned at iteration 12.\u001b[0m\n"
     ]
    },
    {
     "name": "stdout",
     "output_type": "stream",
     "text": [
      "[LightGBM] [Warning] Auto-choosing col-wise multi-threading, the overhead of testing was 0.005113 seconds.\n",
      "You can set `force_col_wise=true` to remove the overhead.\n",
      "[LightGBM] [Info] Total Bins 9027\n",
      "[LightGBM] [Info] Number of data points in the train set: 26064, number of used features: 37\n",
      "[LightGBM] [Info] Start training from score 13.130955\n",
      "[1]\tvalid_0's rmse: 8.25023\n",
      "[2]\tvalid_0's rmse: 7.61052\n",
      "[3]\tvalid_0's rmse: 7.01187\n",
      "[4]\tvalid_0's rmse: 6.5305\n",
      "[5]\tvalid_0's rmse: 6.09639\n",
      "[6]\tvalid_0's rmse: 5.7307\n",
      "[7]\tvalid_0's rmse: 5.41574\n",
      "[8]\tvalid_0's rmse: 5.15327\n",
      "[9]\tvalid_0's rmse: 4.93252\n",
      "[10]\tvalid_0's rmse: 4.72676\n",
      "[11]\tvalid_0's rmse: 4.56704\n",
      "[12]\tvalid_0's rmse: 4.43178\n"
     ]
    },
    {
     "name": "stderr",
     "output_type": "stream",
     "text": [
      "\u001b[32m[I 2021-03-30 16:44:30,180]\u001b[0m Trial 68 pruned. Trial was pruned at iteration 10.\u001b[0m\n"
     ]
    },
    {
     "name": "stdout",
     "output_type": "stream",
     "text": [
      "[LightGBM] [Warning] Auto-choosing col-wise multi-threading, the overhead of testing was 0.003883 seconds.\n",
      "You can set `force_col_wise=true` to remove the overhead.\n",
      "[LightGBM] [Info] Total Bins 9027\n",
      "[LightGBM] [Info] Number of data points in the train set: 26064, number of used features: 37\n",
      "[LightGBM] [Info] Start training from score 13.130955\n",
      "[1]\tvalid_0's rmse: 8.25938\n",
      "[2]\tvalid_0's rmse: 7.62598\n",
      "[3]\tvalid_0's rmse: 7.07004\n",
      "[4]\tvalid_0's rmse: 6.5745\n",
      "[5]\tvalid_0's rmse: 6.16159\n",
      "[6]\tvalid_0's rmse: 5.8098\n",
      "[7]\tvalid_0's rmse: 5.48871\n",
      "[8]\tvalid_0's rmse: 5.20547\n",
      "[9]\tvalid_0's rmse: 4.969\n",
      "[10]\tvalid_0's rmse: 4.79096\n"
     ]
    },
    {
     "name": "stderr",
     "output_type": "stream",
     "text": [
      "\u001b[32m[I 2021-03-30 16:44:30,413]\u001b[0m Trial 69 pruned. Trial was pruned at iteration 10.\u001b[0m\n"
     ]
    },
    {
     "name": "stdout",
     "output_type": "stream",
     "text": [
      "[LightGBM] [Warning] Auto-choosing col-wise multi-threading, the overhead of testing was 0.003721 seconds.\n",
      "You can set `force_col_wise=true` to remove the overhead.\n",
      "[LightGBM] [Info] Total Bins 9027\n",
      "[LightGBM] [Info] Number of data points in the train set: 26064, number of used features: 37\n",
      "[LightGBM] [Info] Start training from score 13.130955\n",
      "[1]\tvalid_0's rmse: 8.25226\n",
      "[2]\tvalid_0's rmse: 7.61273\n",
      "[3]\tvalid_0's rmse: 7.05402\n",
      "[4]\tvalid_0's rmse: 6.57486\n",
      "[5]\tvalid_0's rmse: 6.15254\n",
      "[6]\tvalid_0's rmse: 5.79584\n",
      "[7]\tvalid_0's rmse: 5.49437\n",
      "[8]\tvalid_0's rmse: 5.23017\n",
      "[9]\tvalid_0's rmse: 5.01827\n",
      "[10]\tvalid_0's rmse: 4.81101\n",
      "[LightGBM] [Warning] Auto-choosing col-wise multi-threading, the overhead of testing was 0.004978 seconds.\n",
      "You can set `force_col_wise=true` to remove the overhead.\n",
      "[LightGBM] [Info] Total Bins 9027\n",
      "[LightGBM] [Info] Number of data points in the train set: 26064, number of used features: 37\n",
      "[LightGBM] [Info] Start training from score 13.130955\n",
      "[1]\tvalid_0's rmse: 8.25842\n",
      "[2]\tvalid_0's rmse: 7.60406\n",
      "[3]\tvalid_0's rmse: 7.03217\n",
      "[4]\tvalid_0's rmse: 6.5329\n",
      "[5]\tvalid_0's rmse: 6.1195\n",
      "[6]\tvalid_0's rmse: 5.73364\n",
      "[7]\tvalid_0's rmse: 5.42243\n",
      "[8]\tvalid_0's rmse: 5.13725\n",
      "[9]\tvalid_0's rmse: 4.91925\n",
      "[10]\tvalid_0's rmse: 4.7136\n",
      "[11]\tvalid_0's rmse: 4.54287\n",
      "[12]\tvalid_0's rmse: 4.39945\n",
      "[13]\tvalid_0's rmse: 4.28867\n",
      "[14]\tvalid_0's rmse: 4.19681\n",
      "[15]\tvalid_0's rmse: 4.11744\n",
      "[16]\tvalid_0's rmse: 4.05426\n"
     ]
    },
    {
     "name": "stderr",
     "output_type": "stream",
     "text": [
      "\u001b[32m[I 2021-03-30 16:44:30,735]\u001b[0m Trial 70 pruned. Trial was pruned at iteration 17.\u001b[0m\n"
     ]
    },
    {
     "name": "stdout",
     "output_type": "stream",
     "text": [
      "[17]\tvalid_0's rmse: 4.00113\n",
      "[LightGBM] [Warning] Auto-choosing col-wise multi-threading, the overhead of testing was 0.003754 seconds.\n",
      "You can set `force_col_wise=true` to remove the overhead.\n",
      "[LightGBM] [Info] Total Bins 9027\n",
      "[LightGBM] [Info] Number of data points in the train set: 26064, number of used features: 37\n",
      "[LightGBM] [Info] Start training from score 13.130955\n",
      "[1]\tvalid_0's rmse: 8.26592\n",
      "[2]\tvalid_0's rmse: 7.63018\n"
     ]
    },
    {
     "name": "stderr",
     "output_type": "stream",
     "text": [
      "\u001b[32m[I 2021-03-30 16:44:31,112]\u001b[0m Trial 71 pruned. Trial was pruned at iteration 18.\u001b[0m\n"
     ]
    },
    {
     "name": "stdout",
     "output_type": "stream",
     "text": [
      "[3]\tvalid_0's rmse: 7.06717\n",
      "[4]\tvalid_0's rmse: 6.58157\n",
      "[5]\tvalid_0's rmse: 6.1472\n",
      "[6]\tvalid_0's rmse: 5.7664\n",
      "[7]\tvalid_0's rmse: 5.45327\n",
      "[8]\tvalid_0's rmse: 5.17914\n",
      "[9]\tvalid_0's rmse: 4.94769\n",
      "[10]\tvalid_0's rmse: 4.74398\n",
      "[11]\tvalid_0's rmse: 4.57491\n",
      "[12]\tvalid_0's rmse: 4.4317\n",
      "[13]\tvalid_0's rmse: 4.3066\n",
      "[14]\tvalid_0's rmse: 4.20488\n",
      "[15]\tvalid_0's rmse: 4.11233\n",
      "[16]\tvalid_0's rmse: 4.05367\n",
      "[17]\tvalid_0's rmse: 4.00316\n",
      "[18]\tvalid_0's rmse: 3.96122\n"
     ]
    },
    {
     "name": "stderr",
     "output_type": "stream",
     "text": [
      "\u001b[32m[I 2021-03-30 16:44:31,335]\u001b[0m Trial 72 pruned. Trial was pruned at iteration 10.\u001b[0m\n"
     ]
    },
    {
     "name": "stdout",
     "output_type": "stream",
     "text": [
      "[LightGBM] [Warning] Auto-choosing col-wise multi-threading, the overhead of testing was 0.004038 seconds.\n",
      "You can set `force_col_wise=true` to remove the overhead.\n",
      "[LightGBM] [Info] Total Bins 9027\n",
      "[LightGBM] [Info] Number of data points in the train set: 26064, number of used features: 37\n",
      "[LightGBM] [Info] Start training from score 13.130955\n",
      "[1]\tvalid_0's rmse: 8.26904\n",
      "[2]\tvalid_0's rmse: 7.64585\n",
      "[3]\tvalid_0's rmse: 7.09451\n",
      "[4]\tvalid_0's rmse: 6.60664\n",
      "[5]\tvalid_0's rmse: 6.17082\n",
      "[6]\tvalid_0's rmse: 5.79565\n",
      "[7]\tvalid_0's rmse: 5.47627\n",
      "[8]\tvalid_0's rmse: 5.17741\n",
      "[9]\tvalid_0's rmse: 4.96222\n",
      "[10]\tvalid_0's rmse: 4.76516\n"
     ]
    },
    {
     "name": "stderr",
     "output_type": "stream",
     "text": [
      "\u001b[32m[I 2021-03-30 16:44:31,600]\u001b[0m Trial 73 pruned. Trial was pruned at iteration 14.\u001b[0m\n"
     ]
    },
    {
     "name": "stdout",
     "output_type": "stream",
     "text": [
      "[LightGBM] [Warning] Auto-choosing col-wise multi-threading, the overhead of testing was 0.004894 seconds.\n",
      "You can set `force_col_wise=true` to remove the overhead.\n",
      "[LightGBM] [Info] Total Bins 9027\n",
      "[LightGBM] [Info] Number of data points in the train set: 26064, number of used features: 37\n",
      "[LightGBM] [Info] Start training from score 13.130955\n",
      "[1]\tvalid_0's rmse: 8.25783\n",
      "[2]\tvalid_0's rmse: 7.58512\n",
      "[3]\tvalid_0's rmse: 7.0056\n",
      "[4]\tvalid_0's rmse: 6.52715\n",
      "[5]\tvalid_0's rmse: 6.10678\n",
      "[6]\tvalid_0's rmse: 5.74826\n",
      "[7]\tvalid_0's rmse: 5.41938\n",
      "[8]\tvalid_0's rmse: 5.13852\n",
      "[9]\tvalid_0's rmse: 4.90112\n",
      "[10]\tvalid_0's rmse: 4.71117\n",
      "[11]\tvalid_0's rmse: 4.56188\n",
      "[12]\tvalid_0's rmse: 4.42732\n",
      "[13]\tvalid_0's rmse: 4.31883\n",
      "[14]\tvalid_0's rmse: 4.2225\n"
     ]
    },
    {
     "name": "stderr",
     "output_type": "stream",
     "text": [
      "\u001b[32m[I 2021-03-30 16:44:31,756]\u001b[0m Trial 74 pruned. Trial was pruned at iteration 10.\u001b[0m\n"
     ]
    },
    {
     "name": "stdout",
     "output_type": "stream",
     "text": [
      "[LightGBM] [Warning] Auto-choosing col-wise multi-threading, the overhead of testing was 0.005501 seconds.\n",
      "You can set `force_col_wise=true` to remove the overhead.\n",
      "[LightGBM] [Info] Total Bins 9027\n",
      "[LightGBM] [Info] Number of data points in the train set: 26064, number of used features: 37\n",
      "[LightGBM] [Info] Start training from score 13.130955\n",
      "[1]\tvalid_0's rmse: 8.29921\n",
      "[2]\tvalid_0's rmse: 7.68445\n",
      "[3]\tvalid_0's rmse: 7.18466\n",
      "[4]\tvalid_0's rmse: 6.75803\n",
      "[5]\tvalid_0's rmse: 6.35605\n",
      "[6]\tvalid_0's rmse: 5.98193\n",
      "[7]\tvalid_0's rmse: 5.65952\n",
      "[8]\tvalid_0's rmse: 5.37659\n",
      "[9]\tvalid_0's rmse: 5.15813\n",
      "[10]\tvalid_0's rmse: 4.96172\n",
      "[LightGBM] [Warning] Auto-choosing col-wise multi-threading, the overhead of testing was 0.002512 seconds.\n",
      "You can set `force_col_wise=true` to remove the overhead.\n",
      "[LightGBM] [Info] Total Bins 9027\n",
      "[LightGBM] [Info] Number of data points in the train set: 26064, number of used features: 37\n",
      "[LightGBM] [Info] Start training from score 13.130955\n",
      "[1]\tvalid_0's rmse: 8.2469\n",
      "[2]\tvalid_0's rmse: 7.62503\n"
     ]
    },
    {
     "name": "stderr",
     "output_type": "stream",
     "text": [
      "\u001b[32m[I 2021-03-30 16:44:31,971]\u001b[0m Trial 75 pruned. Trial was pruned at iteration 10.\u001b[0m\n"
     ]
    },
    {
     "name": "stdout",
     "output_type": "stream",
     "text": [
      "[3]\tvalid_0's rmse: 7.0748\n",
      "[4]\tvalid_0's rmse: 6.58804\n",
      "[5]\tvalid_0's rmse: 6.15806\n",
      "[6]\tvalid_0's rmse: 5.78745\n",
      "[7]\tvalid_0's rmse: 5.45941\n",
      "[8]\tvalid_0's rmse: 5.1784\n",
      "[9]\tvalid_0's rmse: 4.95441\n",
      "[10]\tvalid_0's rmse: 4.76227\n",
      "[LightGBM] [Warning] Auto-choosing col-wise multi-threading, the overhead of testing was 0.004540 seconds.\n",
      "You can set `force_col_wise=true` to remove the overhead.\n",
      "[LightGBM] [Info] Total Bins 9027\n",
      "[LightGBM] [Info] Number of data points in the train set: 26064, number of used features: 37\n",
      "[LightGBM] [Info] Start training from score 13.130955\n",
      "[1]\tvalid_0's rmse: 8.24254\n",
      "[2]\tvalid_0's rmse: 7.57463\n",
      "[3]\tvalid_0's rmse: 7.01203\n",
      "[4]\tvalid_0's rmse: 6.52871\n",
      "[5]\tvalid_0's rmse: 6.11127\n",
      "[6]\tvalid_0's rmse: 5.72563\n",
      "[7]\tvalid_0's rmse: 5.42472\n",
      "[8]\tvalid_0's rmse: 5.15178\n",
      "[9]\tvalid_0's rmse: 4.92526\n",
      "[10]\tvalid_0's rmse: 4.7269\n",
      "[11]\tvalid_0's rmse: 4.54767\n",
      "[12]\tvalid_0's rmse: 4.39765\n",
      "[13]\tvalid_0's rmse: 4.28242\n",
      "[14]\tvalid_0's rmse: 4.18498\n",
      "[15]\tvalid_0's rmse: 4.11901\n",
      "[16]\tvalid_0's rmse: 4.0495\n",
      "[17]\tvalid_0's rmse: 3.99979\n"
     ]
    },
    {
     "name": "stderr",
     "output_type": "stream",
     "text": [
      "\u001b[32m[I 2021-03-30 16:44:32,384]\u001b[0m Trial 76 pruned. Trial was pruned at iteration 27.\u001b[0m\n"
     ]
    },
    {
     "name": "stdout",
     "output_type": "stream",
     "text": [
      "[18]\tvalid_0's rmse: 3.95831\n",
      "[19]\tvalid_0's rmse: 3.87075\n",
      "[20]\tvalid_0's rmse: 3.84493\n",
      "[21]\tvalid_0's rmse: 3.81209\n",
      "[22]\tvalid_0's rmse: 3.79438\n",
      "[23]\tvalid_0's rmse: 3.7803\n",
      "[24]\tvalid_0's rmse: 3.77384\n",
      "[25]\tvalid_0's rmse: 3.76368\n",
      "[26]\tvalid_0's rmse: 3.75886\n",
      "[27]\tvalid_0's rmse: 3.76374\n"
     ]
    },
    {
     "name": "stderr",
     "output_type": "stream",
     "text": [
      "\u001b[32m[I 2021-03-30 16:44:32,624]\u001b[0m Trial 77 pruned. Trial was pruned at iteration 11.\u001b[0m\n"
     ]
    },
    {
     "name": "stdout",
     "output_type": "stream",
     "text": [
      "[LightGBM] [Warning] Auto-choosing col-wise multi-threading, the overhead of testing was 0.005235 seconds.\n",
      "You can set `force_col_wise=true` to remove the overhead.\n",
      "[LightGBM] [Info] Total Bins 9027\n",
      "[LightGBM] [Info] Number of data points in the train set: 26064, number of used features: 37\n",
      "[LightGBM] [Info] Start training from score 13.130955\n",
      "[1]\tvalid_0's rmse: 8.26964\n",
      "[2]\tvalid_0's rmse: 7.6104\n",
      "[3]\tvalid_0's rmse: 7.04133\n",
      "[4]\tvalid_0's rmse: 6.56188\n",
      "[5]\tvalid_0's rmse: 6.11934\n",
      "[6]\tvalid_0's rmse: 5.74697\n",
      "[7]\tvalid_0's rmse: 5.45156\n",
      "[8]\tvalid_0's rmse: 5.167\n",
      "[9]\tvalid_0's rmse: 4.92914\n",
      "[10]\tvalid_0's rmse: 4.73084\n",
      "[11]\tvalid_0's rmse: 4.58225\n"
     ]
    },
    {
     "name": "stderr",
     "output_type": "stream",
     "text": [
      "\u001b[32m[I 2021-03-30 16:44:32,828]\u001b[0m Trial 78 pruned. Trial was pruned at iteration 10.\u001b[0m\n"
     ]
    },
    {
     "name": "stdout",
     "output_type": "stream",
     "text": [
      "[LightGBM] [Warning] Auto-choosing col-wise multi-threading, the overhead of testing was 0.004900 seconds.\n",
      "You can set `force_col_wise=true` to remove the overhead.\n",
      "[LightGBM] [Info] Total Bins 9027\n",
      "[LightGBM] [Info] Number of data points in the train set: 26064, number of used features: 37\n",
      "[LightGBM] [Info] Start training from score 13.130955\n",
      "[1]\tvalid_0's rmse: 8.26695\n",
      "[2]\tvalid_0's rmse: 7.59796\n",
      "[3]\tvalid_0's rmse: 7.05984\n",
      "[4]\tvalid_0's rmse: 6.58731\n",
      "[5]\tvalid_0's rmse: 6.14141\n",
      "[6]\tvalid_0's rmse: 5.77087\n",
      "[7]\tvalid_0's rmse: 5.43776\n",
      "[8]\tvalid_0's rmse: 5.17793\n",
      "[9]\tvalid_0's rmse: 4.96129\n",
      "[10]\tvalid_0's rmse: 4.75402\n",
      "[LightGBM] [Warning] Auto-choosing col-wise multi-threading, the overhead of testing was 0.005160 seconds.\n",
      "You can set `force_col_wise=true` to remove the overhead.\n",
      "[LightGBM] [Info] Total Bins 9027\n",
      "[LightGBM] [Info] Number of data points in the train set: 26064, number of used features: 37\n",
      "[LightGBM] [Info] Start training from score 13.130955\n",
      "[1]\tvalid_0's rmse: 8.23738\n",
      "[2]\tvalid_0's rmse: 7.58805\n",
      "[3]\tvalid_0's rmse: 7.02001\n",
      "[4]\tvalid_0's rmse: 6.51418\n",
      "[5]\tvalid_0's rmse: 6.10163\n",
      "[6]\tvalid_0's rmse: 5.74979\n",
      "[7]\tvalid_0's rmse: 5.44783\n",
      "[8]\tvalid_0's rmse: 5.16588\n",
      "[9]\tvalid_0's rmse: 4.93426\n",
      "[10]\tvalid_0's rmse: 4.74235\n",
      "[11]\tvalid_0's rmse: 4.56278\n",
      "[12]\tvalid_0's rmse: 4.42763\n",
      "[13]\tvalid_0's rmse: 4.29703\n",
      "[14]\tvalid_0's rmse: 4.19974\n",
      "[15]\tvalid_0's rmse: 4.13427\n",
      "[16]\tvalid_0's rmse: 4.06909\n",
      "[17]\tvalid_0's rmse: 4.01667\n",
      "[18]\tvalid_0's rmse: 3.95703\n",
      "[19]\tvalid_0's rmse: 3.9187\n"
     ]
    },
    {
     "name": "stderr",
     "output_type": "stream",
     "text": [
      "\u001b[32m[I 2021-03-30 16:44:33,136]\u001b[0m Trial 79 pruned. Trial was pruned at iteration 19.\u001b[0m\n"
     ]
    },
    {
     "name": "stdout",
     "output_type": "stream",
     "text": [
      "[LightGBM] [Warning] Auto-choosing col-wise multi-threading, the overhead of testing was 0.005156 seconds.\n",
      "You can set `force_col_wise=true` to remove the overhead.\n",
      "[LightGBM] [Info] Total Bins 9027\n",
      "[LightGBM] [Info] Number of data points in the train set: 26064, number of used features: 37\n",
      "[LightGBM] [Info] Start training from score 13.130955\n",
      "[1]\tvalid_0's rmse: 8.26662\n",
      "[2]\tvalid_0's rmse: 7.60356\n",
      "[3]\tvalid_0's rmse: 7.04403\n",
      "[4]\tvalid_0's rmse: 6.55818\n",
      "[5]\tvalid_0's rmse: 6.13336\n",
      "[6]\tvalid_0's rmse: 5.75405\n",
      "[7]\tvalid_0's rmse: 5.427\n",
      "[8]\tvalid_0's rmse: 5.14595\n",
      "[9]\tvalid_0's rmse: 4.92214\n",
      "[10]\tvalid_0's rmse: 4.72849\n",
      "[11]\tvalid_0's rmse: 4.56271\n",
      "[12]\tvalid_0's rmse: 4.43398\n",
      "[13]\tvalid_0's rmse: 4.32079\n"
     ]
    },
    {
     "name": "stderr",
     "output_type": "stream",
     "text": [
      "\u001b[32m[I 2021-03-30 16:44:33,460]\u001b[0m Trial 80 pruned. Trial was pruned at iteration 14.\u001b[0m\n"
     ]
    },
    {
     "name": "stdout",
     "output_type": "stream",
     "text": [
      "[14]\tvalid_0's rmse: 4.22342\n",
      "[LightGBM] [Warning] Auto-choosing col-wise multi-threading, the overhead of testing was 0.004547 seconds.\n",
      "You can set `force_col_wise=true` to remove the overhead.\n",
      "[LightGBM] [Info] Total Bins 9027\n",
      "[LightGBM] [Info] Number of data points in the train set: 26064, number of used features: 37\n",
      "[LightGBM] [Info] Start training from score 13.130955\n",
      "[1]\tvalid_0's rmse: 8.25753\n",
      "[2]\tvalid_0's rmse: 7.60553\n",
      "[3]\tvalid_0's rmse: 7.01335\n",
      "[4]\tvalid_0's rmse: 6.51828\n",
      "[5]\tvalid_0's rmse: 6.11118\n",
      "[6]\tvalid_0's rmse: 5.74525\n",
      "[7]\tvalid_0's rmse: 5.44782\n",
      "[8]\tvalid_0's rmse: 5.1593\n",
      "[9]\tvalid_0's rmse: 4.93046\n",
      "[10]\tvalid_0's rmse: 4.72849\n",
      "[11]\tvalid_0's rmse: 4.54758\n",
      "[12]\tvalid_0's rmse: 4.40852\n",
      "[13]\tvalid_0's rmse: 4.28878\n",
      "[14]\tvalid_0's rmse: 4.19653\n",
      "[15]\tvalid_0's rmse: 4.12423\n",
      "[16]\tvalid_0's rmse: 4.05405\n",
      "[17]\tvalid_0's rmse: 3.99846\n",
      "[18]\tvalid_0's rmse: 3.93424\n",
      "[19]\tvalid_0's rmse: 3.87375\n",
      "[20]\tvalid_0's rmse: 3.8493\n",
      "[21]\tvalid_0's rmse: 3.82271\n",
      "[22]\tvalid_0's rmse: 3.80217\n",
      "[23]\tvalid_0's rmse: 3.7958\n",
      "[24]\tvalid_0's rmse: 3.76274\n",
      "[25]\tvalid_0's rmse: 3.74622\n",
      "[26]\tvalid_0's rmse: 3.73885\n",
      "[27]\tvalid_0's rmse: 3.73534\n",
      "[28]\tvalid_0's rmse: 3.73169\n",
      "[29]\tvalid_0's rmse: 3.72527\n",
      "[30]\tvalid_0's rmse: 3.71409\n",
      "[31]\tvalid_0's rmse: 3.71295\n",
      "[32]\tvalid_0's rmse: 3.71544\n",
      "[33]\tvalid_0's rmse: 3.71971\n",
      "[34]\tvalid_0's rmse: 3.71964\n",
      "[35]\tvalid_0's rmse: 3.71525\n",
      "[36]\tvalid_0's rmse: 3.70573\n",
      "[37]\tvalid_0's rmse: 3.69914\n",
      "[38]\tvalid_0's rmse: 3.70103\n",
      "[39]\tvalid_0's rmse: 3.69728\n",
      "[40]\tvalid_0's rmse: 3.70331\n",
      "[41]\tvalid_0's rmse: 3.69718\n",
      "[42]\tvalid_0's rmse: 3.69641\n",
      "[43]\tvalid_0's rmse: 3.69749\n",
      "[44]\tvalid_0's rmse: 3.69737\n",
      "[45]\tvalid_0's rmse: 3.70503\n",
      "[46]\tvalid_0's rmse: 3.70405\n",
      "[47]\tvalid_0's rmse: 3.69768\n",
      "[48]\tvalid_0's rmse: 3.69892\n",
      "[49]\tvalid_0's rmse: 3.69769\n",
      "[50]\tvalid_0's rmse: 3.69069\n",
      "[51]\tvalid_0's rmse: 3.68926\n",
      "[52]\tvalid_0's rmse: 3.69069\n",
      "[53]\tvalid_0's rmse: 3.69351\n",
      "[54]\tvalid_0's rmse: 3.7006\n",
      "[55]\tvalid_0's rmse: 3.69105\n",
      "[56]\tvalid_0's rmse: 3.69459\n",
      "[57]\tvalid_0's rmse: 3.69297\n",
      "[58]\tvalid_0's rmse: 3.69471\n",
      "[59]\tvalid_0's rmse: 3.69865\n",
      "[60]\tvalid_0's rmse: 3.70006\n",
      "[61]\tvalid_0's rmse: 3.696\n",
      "[62]\tvalid_0's rmse: 3.6905\n",
      "[63]\tvalid_0's rmse: 3.6878\n",
      "[64]\tvalid_0's rmse: 3.68987\n",
      "[65]\tvalid_0's rmse: 3.69065\n",
      "[66]\tvalid_0's rmse: 3.69238\n",
      "[67]\tvalid_0's rmse: 3.6932\n",
      "[68]\tvalid_0's rmse: 3.69537\n",
      "[69]\tvalid_0's rmse: 3.69259\n",
      "[70]\tvalid_0's rmse: 3.69101\n",
      "[71]\tvalid_0's rmse: 3.69374\n",
      "[72]\tvalid_0's rmse: 3.69439\n",
      "[73]\tvalid_0's rmse: 3.69359\n",
      "[74]\tvalid_0's rmse: 3.68957\n",
      "[75]\tvalid_0's rmse: 3.68905\n",
      "[76]\tvalid_0's rmse: 3.69512\n",
      "[77]\tvalid_0's rmse: 3.69331\n",
      "[78]\tvalid_0's rmse: 3.69596\n",
      "[79]\tvalid_0's rmse: 3.69142\n",
      "[80]\tvalid_0's rmse: 3.69407\n",
      "[81]\tvalid_0's rmse: 3.69334\n",
      "[82]\tvalid_0's rmse: 3.69151\n",
      "[83]\tvalid_0's rmse: 3.68859\n",
      "[84]\tvalid_0's rmse: 3.69525\n",
      "[85]\tvalid_0's rmse: 3.69442\n",
      "[86]\tvalid_0's rmse: 3.6938\n"
     ]
    },
    {
     "name": "stderr",
     "output_type": "stream",
     "text": [
      "\u001b[32m[I 2021-03-30 16:44:34,567]\u001b[0m Trial 81 finished with value: 3.722693856783337 and parameters: {'lambda_l1': 0.1378948931874184, 'lambda_l2': 6.45036108692052e-05, 'num_leaves': 84, 'feature_fraction': 0.7888034605420318, 'bagging_fraction': 0.6613382881645739, 'bagging_freq': 1, 'min_child_samples': 39}. Best is trial 49 with value: 3.6583771474345785.\u001b[0m\n"
     ]
    },
    {
     "name": "stdout",
     "output_type": "stream",
     "text": [
      "[87]\tvalid_0's rmse: 3.6937\n",
      "[88]\tvalid_0's rmse: 3.69908\n",
      "[89]\tvalid_0's rmse: 3.69769\n",
      "[90]\tvalid_0's rmse: 3.69657\n",
      "[91]\tvalid_0's rmse: 3.69703\n",
      "[92]\tvalid_0's rmse: 3.70061\n",
      "[93]\tvalid_0's rmse: 3.70068\n",
      "[94]\tvalid_0's rmse: 3.70122\n",
      "[95]\tvalid_0's rmse: 3.70178\n",
      "[96]\tvalid_0's rmse: 3.70023\n",
      "[97]\tvalid_0's rmse: 3.70302\n",
      "[98]\tvalid_0's rmse: 3.70829\n",
      "[99]\tvalid_0's rmse: 3.71447\n",
      "[100]\tvalid_0's rmse: 3.72269\n"
     ]
    },
    {
     "name": "stderr",
     "output_type": "stream",
     "text": [
      "C:\\Anaconda\\lib\\site-packages\\lightgbm\\basic.py:1702: UserWarning: Using categorical_feature in Dataset.\n",
      "  _log_warning('Using categorical_feature in Dataset.')\n",
      "C:\\Anaconda\\lib\\site-packages\\lightgbm\\basic.py:1433: UserWarning: Overriding the parameters from Reference Dataset.\n",
      "  _log_warning('Overriding the parameters from Reference Dataset.')\n",
      "C:\\Anaconda\\lib\\site-packages\\lightgbm\\basic.py:1245: UserWarning: categorical_column in param dict is overridden.\n",
      "  _log_warning('{} in param dict is overridden.'.format(cat_alias))\n",
      "\u001b[32m[I 2021-03-30 16:44:34,772]\u001b[0m Trial 82 pruned. Trial was pruned at iteration 10.\u001b[0m\n"
     ]
    },
    {
     "name": "stdout",
     "output_type": "stream",
     "text": [
      "[LightGBM] [Warning] Auto-choosing col-wise multi-threading, the overhead of testing was 0.003766 seconds.\n",
      "You can set `force_col_wise=true` to remove the overhead.\n",
      "[LightGBM] [Info] Total Bins 9027\n",
      "[LightGBM] [Info] Number of data points in the train set: 26064, number of used features: 37\n",
      "[LightGBM] [Info] Start training from score 13.130955\n",
      "[1]\tvalid_0's rmse: 8.25389\n",
      "[2]\tvalid_0's rmse: 7.59958\n",
      "[3]\tvalid_0's rmse: 7.01046\n",
      "[4]\tvalid_0's rmse: 6.5182\n",
      "[5]\tvalid_0's rmse: 6.11234\n",
      "[6]\tvalid_0's rmse: 5.76042\n",
      "[7]\tvalid_0's rmse: 5.46357\n",
      "[8]\tvalid_0's rmse: 5.17529\n",
      "[9]\tvalid_0's rmse: 4.95308\n",
      "[10]\tvalid_0's rmse: 4.76612\n",
      "[LightGBM] [Warning] Auto-choosing col-wise multi-threading, the overhead of testing was 0.005762 seconds.\n",
      "You can set `force_col_wise=true` to remove the overhead.\n",
      "[LightGBM] [Info] Total Bins 9027\n",
      "[LightGBM] [Info] Number of data points in the train set: 26064, number of used features: 37\n",
      "[LightGBM] [Info] Start training from score 13.130955\n",
      "[1]\tvalid_0's rmse: 8.23596\n",
      "[2]\tvalid_0's rmse: 7.58258\n",
      "[3]\tvalid_0's rmse: 7.0088\n",
      "[4]\tvalid_0's rmse: 6.51421\n",
      "[5]\tvalid_0's rmse: 6.10339\n",
      "[6]\tvalid_0's rmse: 5.74944\n",
      "[7]\tvalid_0's rmse: 5.44894\n",
      "[8]\tvalid_0's rmse: 5.17167\n",
      "[9]\tvalid_0's rmse: 4.94703\n",
      "[10]\tvalid_0's rmse: 4.74586\n",
      "[11]\tvalid_0's rmse: 4.56684\n",
      "[12]\tvalid_0's rmse: 4.41934\n"
     ]
    },
    {
     "name": "stderr",
     "output_type": "stream",
     "text": [
      "\u001b[32m[I 2021-03-30 16:44:35,265]\u001b[0m Trial 83 pruned. Trial was pruned at iteration 26.\u001b[0m\n"
     ]
    },
    {
     "name": "stdout",
     "output_type": "stream",
     "text": [
      "[13]\tvalid_0's rmse: 4.29872\n",
      "[14]\tvalid_0's rmse: 4.20454\n",
      "[15]\tvalid_0's rmse: 4.13579\n",
      "[16]\tvalid_0's rmse: 4.07529\n",
      "[17]\tvalid_0's rmse: 4.01672\n",
      "[18]\tvalid_0's rmse: 3.93402\n",
      "[19]\tvalid_0's rmse: 3.89195\n",
      "[20]\tvalid_0's rmse: 3.86289\n",
      "[21]\tvalid_0's rmse: 3.8426\n",
      "[22]\tvalid_0's rmse: 3.81694\n",
      "[23]\tvalid_0's rmse: 3.78625\n",
      "[24]\tvalid_0's rmse: 3.77845\n",
      "[25]\tvalid_0's rmse: 3.77207\n",
      "[26]\tvalid_0's rmse: 3.76208\n"
     ]
    },
    {
     "name": "stderr",
     "output_type": "stream",
     "text": [
      "\u001b[32m[I 2021-03-30 16:44:35,457]\u001b[0m Trial 84 pruned. Trial was pruned at iteration 10.\u001b[0m\n"
     ]
    },
    {
     "name": "stdout",
     "output_type": "stream",
     "text": [
      "[LightGBM] [Warning] Auto-choosing col-wise multi-threading, the overhead of testing was 0.004747 seconds.\n",
      "You can set `force_col_wise=true` to remove the overhead.\n",
      "[LightGBM] [Info] Total Bins 9027\n",
      "[LightGBM] [Info] Number of data points in the train set: 26064, number of used features: 37\n",
      "[LightGBM] [Info] Start training from score 13.130955\n",
      "[1]\tvalid_0's rmse: 8.25959\n",
      "[2]\tvalid_0's rmse: 7.60316\n",
      "[3]\tvalid_0's rmse: 7.02114\n",
      "[4]\tvalid_0's rmse: 6.53875\n",
      "[5]\tvalid_0's rmse: 6.11955\n",
      "[6]\tvalid_0's rmse: 5.76818\n",
      "[7]\tvalid_0's rmse: 5.47291\n",
      "[8]\tvalid_0's rmse: 5.18847\n",
      "[9]\tvalid_0's rmse: 4.97746\n",
      "[10]\tvalid_0's rmse: 4.7842\n",
      "[LightGBM] [Warning] Auto-choosing col-wise multi-threading, the overhead of testing was 0.005726 seconds.\n",
      "You can set `force_col_wise=true` to remove the overhead.\n",
      "[LightGBM] [Info] Total Bins 9027\n",
      "[LightGBM] [Info] Number of data points in the train set: 26064, number of used features: 37\n",
      "[LightGBM] [Info] Start training from score 13.130955\n",
      "[1]\tvalid_0's rmse: 8.2697\n",
      "[2]\tvalid_0's rmse: 7.60394\n",
      "[3]\tvalid_0's rmse: 7.03576\n",
      "[4]\tvalid_0's rmse: 6.52988\n",
      "[5]\tvalid_0's rmse: 6.11671\n",
      "[6]\tvalid_0's rmse: 5.73205\n",
      "[7]\tvalid_0's rmse: 5.41769\n",
      "[8]\tvalid_0's rmse: 5.14473\n",
      "[9]\tvalid_0's rmse: 4.9212\n",
      "[10]\tvalid_0's rmse: 4.71542\n",
      "[11]\tvalid_0's rmse: 4.53965\n",
      "[12]\tvalid_0's rmse: 4.3948\n",
      "[13]\tvalid_0's rmse: 4.28139\n",
      "[14]\tvalid_0's rmse: 4.17358\n",
      "[15]\tvalid_0's rmse: 4.09291\n",
      "[16]\tvalid_0's rmse: 4.02525\n",
      "[17]\tvalid_0's rmse: 3.96784\n",
      "[18]\tvalid_0's rmse: 3.93084\n",
      "[19]\tvalid_0's rmse: 3.89225\n",
      "[20]\tvalid_0's rmse: 3.87382\n",
      "[21]\tvalid_0's rmse: 3.84279\n"
     ]
    },
    {
     "name": "stderr",
     "output_type": "stream",
     "text": [
      "\u001b[32m[I 2021-03-30 16:44:35,813]\u001b[0m Trial 85 pruned. Trial was pruned at iteration 27.\u001b[0m\n"
     ]
    },
    {
     "name": "stdout",
     "output_type": "stream",
     "text": [
      "[22]\tvalid_0's rmse: 3.82436\n",
      "[23]\tvalid_0's rmse: 3.79488\n",
      "[24]\tvalid_0's rmse: 3.78742\n",
      "[25]\tvalid_0's rmse: 3.77008\n",
      "[26]\tvalid_0's rmse: 3.75234\n",
      "[27]\tvalid_0's rmse: 3.76087\n",
      "[LightGBM] [Warning] Auto-choosing col-wise multi-threading, the overhead of testing was 0.005257 seconds.\n",
      "You can set `force_col_wise=true` to remove the overhead.\n"
     ]
    },
    {
     "name": "stderr",
     "output_type": "stream",
     "text": [
      "\u001b[32m[I 2021-03-30 16:44:36,113]\u001b[0m Trial 86 pruned. Trial was pruned at iteration 18.\u001b[0m\n"
     ]
    },
    {
     "name": "stdout",
     "output_type": "stream",
     "text": [
      "[LightGBM] [Info] Total Bins 9027\n",
      "[LightGBM] [Info] Number of data points in the train set: 26064, number of used features: 37\n",
      "[LightGBM] [Info] Start training from score 13.130955\n",
      "[1]\tvalid_0's rmse: 8.26381\n",
      "[2]\tvalid_0's rmse: 7.60761\n",
      "[3]\tvalid_0's rmse: 7.0574\n",
      "[4]\tvalid_0's rmse: 6.57395\n",
      "[5]\tvalid_0's rmse: 6.13949\n",
      "[6]\tvalid_0's rmse: 5.76418\n",
      "[7]\tvalid_0's rmse: 5.44452\n",
      "[8]\tvalid_0's rmse: 5.16983\n",
      "[9]\tvalid_0's rmse: 4.92784\n",
      "[10]\tvalid_0's rmse: 4.72505\n",
      "[11]\tvalid_0's rmse: 4.55724\n",
      "[12]\tvalid_0's rmse: 4.41189\n",
      "[13]\tvalid_0's rmse: 4.28853\n",
      "[14]\tvalid_0's rmse: 4.194\n",
      "[15]\tvalid_0's rmse: 4.1048\n",
      "[16]\tvalid_0's rmse: 4.04665\n",
      "[17]\tvalid_0's rmse: 3.98781\n",
      "[18]\tvalid_0's rmse: 3.94873\n"
     ]
    },
    {
     "name": "stderr",
     "output_type": "stream",
     "text": [
      "\u001b[32m[I 2021-03-30 16:44:36,304]\u001b[0m Trial 87 pruned. Trial was pruned at iteration 10.\u001b[0m\n"
     ]
    },
    {
     "name": "stdout",
     "output_type": "stream",
     "text": [
      "[LightGBM] [Warning] Auto-choosing col-wise multi-threading, the overhead of testing was 0.003966 seconds.\n",
      "You can set `force_col_wise=true` to remove the overhead.\n",
      "[LightGBM] [Info] Total Bins 9027\n",
      "[LightGBM] [Info] Number of data points in the train set: 26064, number of used features: 37\n",
      "[LightGBM] [Info] Start training from score 13.130955\n",
      "[1]\tvalid_0's rmse: 8.28188\n",
      "[2]\tvalid_0's rmse: 7.62271\n",
      "[3]\tvalid_0's rmse: 7.05364\n",
      "[4]\tvalid_0's rmse: 6.57911\n",
      "[5]\tvalid_0's rmse: 6.16641\n",
      "[6]\tvalid_0's rmse: 5.79649\n",
      "[7]\tvalid_0's rmse: 5.47271\n",
      "[8]\tvalid_0's rmse: 5.16597\n",
      "[9]\tvalid_0's rmse: 4.94425\n",
      "[10]\tvalid_0's rmse: 4.74503\n",
      "[LightGBM] [Warning] Auto-choosing col-wise multi-threading, the overhead of testing was 0.005083 seconds.\n",
      "You can set `force_col_wise=true` to remove the overhead.\n",
      "[LightGBM] [Info] Total Bins 9027\n",
      "[LightGBM] [Info] Number of data points in the train set: 26064, number of used features: 37\n",
      "[LightGBM] [Info] Start training from score 13.130955\n",
      "[1]\tvalid_0's rmse: 8.2481\n",
      "[2]\tvalid_0's rmse: 7.57651\n",
      "[3]\tvalid_0's rmse: 7.00283\n",
      "[4]\tvalid_0's rmse: 6.53986\n",
      "[5]\tvalid_0's rmse: 6.1114\n",
      "[6]\tvalid_0's rmse: 5.71681\n",
      "[7]\tvalid_0's rmse: 5.40417\n",
      "[8]\tvalid_0's rmse: 5.12618\n",
      "[9]\tvalid_0's rmse: 4.91452\n",
      "[10]\tvalid_0's rmse: 4.71912\n",
      "[11]\tvalid_0's rmse: 4.55855\n",
      "[12]\tvalid_0's rmse: 4.42344\n"
     ]
    },
    {
     "name": "stderr",
     "output_type": "stream",
     "text": [
      "\u001b[32m[I 2021-03-30 16:44:36,628]\u001b[0m Trial 88 pruned. Trial was pruned at iteration 12.\u001b[0m\n",
      "\u001b[32m[I 2021-03-30 16:44:36,854]\u001b[0m Trial 89 pruned. Trial was pruned at iteration 10.\u001b[0m\n"
     ]
    },
    {
     "name": "stdout",
     "output_type": "stream",
     "text": [
      "[LightGBM] [Warning] Auto-choosing col-wise multi-threading, the overhead of testing was 0.005461 seconds.\n",
      "You can set `force_col_wise=true` to remove the overhead.\n",
      "[LightGBM] [Info] Total Bins 9027\n",
      "[LightGBM] [Info] Number of data points in the train set: 26064, number of used features: 37\n",
      "[LightGBM] [Info] Start training from score 13.130955\n",
      "[1]\tvalid_0's rmse: 8.23969\n",
      "[2]\tvalid_0's rmse: 7.61044\n",
      "[3]\tvalid_0's rmse: 7.06379\n",
      "[4]\tvalid_0's rmse: 6.56899\n",
      "[5]\tvalid_0's rmse: 6.14913\n",
      "[6]\tvalid_0's rmse: 5.80198\n",
      "[7]\tvalid_0's rmse: 5.49088\n",
      "[8]\tvalid_0's rmse: 5.2073\n",
      "[9]\tvalid_0's rmse: 4.96912\n",
      "[10]\tvalid_0's rmse: 4.77166\n"
     ]
    },
    {
     "name": "stderr",
     "output_type": "stream",
     "text": [
      "\u001b[32m[I 2021-03-30 16:44:37,075]\u001b[0m Trial 90 pruned. Trial was pruned at iteration 10.\u001b[0m\n"
     ]
    },
    {
     "name": "stdout",
     "output_type": "stream",
     "text": [
      "[LightGBM] [Warning] Auto-choosing col-wise multi-threading, the overhead of testing was 0.003617 seconds.\n",
      "You can set `force_col_wise=true` to remove the overhead.\n",
      "[LightGBM] [Info] Total Bins 9027\n",
      "[LightGBM] [Info] Number of data points in the train set: 26064, number of used features: 37\n",
      "[LightGBM] [Info] Start training from score 13.130955\n",
      "[1]\tvalid_0's rmse: 8.22206\n",
      "[2]\tvalid_0's rmse: 7.59611\n",
      "[3]\tvalid_0's rmse: 7.04752\n",
      "[4]\tvalid_0's rmse: 6.57233\n",
      "[5]\tvalid_0's rmse: 6.13401\n",
      "[6]\tvalid_0's rmse: 5.76735\n",
      "[7]\tvalid_0's rmse: 5.45911\n",
      "[8]\tvalid_0's rmse: 5.15026\n",
      "[9]\tvalid_0's rmse: 4.93592\n",
      "[10]\tvalid_0's rmse: 4.75583\n"
     ]
    },
    {
     "name": "stderr",
     "output_type": "stream",
     "text": [
      "\u001b[32m[I 2021-03-30 16:44:37,305]\u001b[0m Trial 91 pruned. Trial was pruned at iteration 10.\u001b[0m\n"
     ]
    },
    {
     "name": "stdout",
     "output_type": "stream",
     "text": [
      "[LightGBM] [Warning] Auto-choosing col-wise multi-threading, the overhead of testing was 0.005097 seconds.\n",
      "You can set `force_col_wise=true` to remove the overhead.\n",
      "[LightGBM] [Info] Total Bins 9027\n",
      "[LightGBM] [Info] Number of data points in the train set: 26064, number of used features: 37\n",
      "[LightGBM] [Info] Start training from score 13.130955\n",
      "[1]\tvalid_0's rmse: 8.26326\n",
      "[2]\tvalid_0's rmse: 7.62471\n",
      "[3]\tvalid_0's rmse: 7.08182\n",
      "[4]\tvalid_0's rmse: 6.58953\n",
      "[5]\tvalid_0's rmse: 6.14181\n",
      "[6]\tvalid_0's rmse: 5.77624\n",
      "[7]\tvalid_0's rmse: 5.47299\n",
      "[8]\tvalid_0's rmse: 5.20658\n",
      "[9]\tvalid_0's rmse: 4.97521\n",
      "[10]\tvalid_0's rmse: 4.79529\n"
     ]
    },
    {
     "name": "stderr",
     "output_type": "stream",
     "text": [
      "\u001b[32m[I 2021-03-30 16:44:37,537]\u001b[0m Trial 92 pruned. Trial was pruned at iteration 10.\u001b[0m\n"
     ]
    },
    {
     "name": "stdout",
     "output_type": "stream",
     "text": [
      "[LightGBM] [Warning] Auto-choosing col-wise multi-threading, the overhead of testing was 0.005308 seconds.\n",
      "You can set `force_col_wise=true` to remove the overhead.\n",
      "[LightGBM] [Info] Total Bins 9027\n",
      "[LightGBM] [Info] Number of data points in the train set: 26064, number of used features: 37\n",
      "[LightGBM] [Info] Start training from score 13.130955\n",
      "[1]\tvalid_0's rmse: 8.27552\n",
      "[2]\tvalid_0's rmse: 7.63598\n",
      "[3]\tvalid_0's rmse: 7.09278\n",
      "[4]\tvalid_0's rmse: 6.60163\n",
      "[5]\tvalid_0's rmse: 6.17691\n",
      "[6]\tvalid_0's rmse: 5.82435\n",
      "[7]\tvalid_0's rmse: 5.51302\n",
      "[8]\tvalid_0's rmse: 5.23368\n",
      "[9]\tvalid_0's rmse: 5.01318\n",
      "[10]\tvalid_0's rmse: 4.81483\n"
     ]
    },
    {
     "name": "stderr",
     "output_type": "stream",
     "text": [
      "\u001b[32m[I 2021-03-30 16:44:37,786]\u001b[0m Trial 93 pruned. Trial was pruned at iteration 10.\u001b[0m\n"
     ]
    },
    {
     "name": "stdout",
     "output_type": "stream",
     "text": [
      "[LightGBM] [Warning] Auto-choosing col-wise multi-threading, the overhead of testing was 0.005096 seconds.\n",
      "You can set `force_col_wise=true` to remove the overhead.\n",
      "[LightGBM] [Info] Total Bins 9027\n",
      "[LightGBM] [Info] Number of data points in the train set: 26064, number of used features: 37\n",
      "[LightGBM] [Info] Start training from score 13.130955\n",
      "[1]\tvalid_0's rmse: 8.29831\n",
      "[2]\tvalid_0's rmse: 7.67489\n",
      "[3]\tvalid_0's rmse: 7.12281\n",
      "[4]\tvalid_0's rmse: 6.60919\n",
      "[5]\tvalid_0's rmse: 6.1627\n",
      "[6]\tvalid_0's rmse: 5.7674\n",
      "[7]\tvalid_0's rmse: 5.47148\n",
      "[8]\tvalid_0's rmse: 5.19814\n",
      "[9]\tvalid_0's rmse: 4.95777\n",
      "[10]\tvalid_0's rmse: 4.76352\n"
     ]
    },
    {
     "name": "stderr",
     "output_type": "stream",
     "text": [
      "\u001b[32m[I 2021-03-30 16:44:38,083]\u001b[0m Trial 94 pruned. Trial was pruned at iteration 10.\u001b[0m\n"
     ]
    },
    {
     "name": "stdout",
     "output_type": "stream",
     "text": [
      "[LightGBM] [Warning] Auto-choosing col-wise multi-threading, the overhead of testing was 0.005036 seconds.\n",
      "You can set `force_col_wise=true` to remove the overhead.\n",
      "[LightGBM] [Info] Total Bins 9027\n",
      "[LightGBM] [Info] Number of data points in the train set: 26064, number of used features: 37\n",
      "[LightGBM] [Info] Start training from score 13.130955\n",
      "[1]\tvalid_0's rmse: 8.26474\n",
      "[2]\tvalid_0's rmse: 7.60809\n",
      "[3]\tvalid_0's rmse: 7.03155\n",
      "[4]\tvalid_0's rmse: 6.5343\n",
      "[5]\tvalid_0's rmse: 6.11906\n",
      "[6]\tvalid_0's rmse: 5.74957\n",
      "[7]\tvalid_0's rmse: 5.44438\n",
      "[8]\tvalid_0's rmse: 5.18634\n",
      "[9]\tvalid_0's rmse: 4.97147\n",
      "[10]\tvalid_0's rmse: 4.78124\n"
     ]
    },
    {
     "name": "stderr",
     "output_type": "stream",
     "text": [
      "\u001b[32m[I 2021-03-30 16:44:38,270]\u001b[0m Trial 95 pruned. Trial was pruned at iteration 10.\u001b[0m\n"
     ]
    },
    {
     "name": "stdout",
     "output_type": "stream",
     "text": [
      "[LightGBM] [Warning] Auto-choosing col-wise multi-threading, the overhead of testing was 0.004651 seconds.\n",
      "You can set `force_col_wise=true` to remove the overhead.\n",
      "[LightGBM] [Info] Total Bins 9027\n",
      "[LightGBM] [Info] Number of data points in the train set: 26064, number of used features: 37\n",
      "[LightGBM] [Info] Start training from score 13.130955\n",
      "[1]\tvalid_0's rmse: 8.28719\n",
      "[2]\tvalid_0's rmse: 7.65513\n",
      "[3]\tvalid_0's rmse: 7.10635\n",
      "[4]\tvalid_0's rmse: 6.62241\n",
      "[5]\tvalid_0's rmse: 6.21754\n",
      "[6]\tvalid_0's rmse: 5.83168\n",
      "[7]\tvalid_0's rmse: 5.53286\n",
      "[8]\tvalid_0's rmse: 5.23086\n",
      "[9]\tvalid_0's rmse: 5.00922\n",
      "[10]\tvalid_0's rmse: 4.80118\n"
     ]
    },
    {
     "name": "stderr",
     "output_type": "stream",
     "text": [
      "\u001b[32m[I 2021-03-30 16:44:38,484]\u001b[0m Trial 96 pruned. Trial was pruned at iteration 10.\u001b[0m\n"
     ]
    },
    {
     "name": "stdout",
     "output_type": "stream",
     "text": [
      "[LightGBM] [Warning] Auto-choosing col-wise multi-threading, the overhead of testing was 0.005079 seconds.\n",
      "You can set `force_col_wise=true` to remove the overhead.\n",
      "[LightGBM] [Info] Total Bins 9027\n",
      "[LightGBM] [Info] Number of data points in the train set: 26064, number of used features: 37\n",
      "[LightGBM] [Info] Start training from score 13.130955\n",
      "[1]\tvalid_0's rmse: 8.25207\n",
      "[2]\tvalid_0's rmse: 7.61403\n",
      "[3]\tvalid_0's rmse: 7.05573\n",
      "[4]\tvalid_0's rmse: 6.57506\n",
      "[5]\tvalid_0's rmse: 6.15145\n",
      "[6]\tvalid_0's rmse: 5.77888\n",
      "[7]\tvalid_0's rmse: 5.45203\n",
      "[8]\tvalid_0's rmse: 5.17645\n",
      "[9]\tvalid_0's rmse: 4.93295\n",
      "[10]\tvalid_0's rmse: 4.73921\n"
     ]
    },
    {
     "name": "stderr",
     "output_type": "stream",
     "text": [
      "\u001b[32m[I 2021-03-30 16:44:38,785]\u001b[0m Trial 97 pruned. Trial was pruned at iteration 17.\u001b[0m\n"
     ]
    },
    {
     "name": "stdout",
     "output_type": "stream",
     "text": [
      "[LightGBM] [Warning] Auto-choosing col-wise multi-threading, the overhead of testing was 0.005226 seconds.\n",
      "You can set `force_col_wise=true` to remove the overhead.\n",
      "[LightGBM] [Info] Total Bins 9027\n",
      "[LightGBM] [Info] Number of data points in the train set: 26064, number of used features: 37\n",
      "[LightGBM] [Info] Start training from score 13.130955\n",
      "[1]\tvalid_0's rmse: 8.24295\n",
      "[2]\tvalid_0's rmse: 7.58158\n",
      "[3]\tvalid_0's rmse: 7.02224\n",
      "[4]\tvalid_0's rmse: 6.53975\n",
      "[5]\tvalid_0's rmse: 6.12585\n",
      "[6]\tvalid_0's rmse: 5.7456\n",
      "[7]\tvalid_0's rmse: 5.42932\n",
      "[8]\tvalid_0's rmse: 5.14958\n",
      "[9]\tvalid_0's rmse: 4.92682\n",
      "[10]\tvalid_0's rmse: 4.72542\n",
      "[11]\tvalid_0's rmse: 4.55631\n",
      "[12]\tvalid_0's rmse: 4.42444\n",
      "[13]\tvalid_0's rmse: 4.30143\n",
      "[14]\tvalid_0's rmse: 4.1969\n",
      "[15]\tvalid_0's rmse: 4.12054\n",
      "[16]\tvalid_0's rmse: 4.04572\n",
      "[17]\tvalid_0's rmse: 4.00784\n",
      "[LightGBM] [Warning] Auto-choosing col-wise multi-threading, the overhead of testing was 0.003647 seconds.\n",
      "You can set `force_col_wise=true` to remove the overhead.\n",
      "[LightGBM] [Info] Total Bins 9027\n",
      "[LightGBM] [Info] Number of data points in the train set: 26064, number of used features: 37\n",
      "[LightGBM] [Info] Start training from score 13.130955\n",
      "[1]\tvalid_0's rmse: 8.26577\n",
      "[2]\tvalid_0's rmse: 7.60026\n",
      "[3]\tvalid_0's rmse: 7.02309\n",
      "[4]\tvalid_0's rmse: 6.53489\n",
      "[5]\tvalid_0's rmse: 6.12101\n",
      "[6]\tvalid_0's rmse: 5.76552\n",
      "[7]\tvalid_0's rmse: 5.43583\n",
      "[8]\tvalid_0's rmse: 5.15229\n",
      "[9]\tvalid_0's rmse: 4.92675\n",
      "[10]\tvalid_0's rmse: 4.72141\n",
      "[11]\tvalid_0's rmse: 4.56496\n",
      "[12]\tvalid_0's rmse: 4.42453\n",
      "[13]\tvalid_0's rmse: 4.30116\n",
      "[14]\tvalid_0's rmse: 4.17505\n",
      "[15]\tvalid_0's rmse: 4.09198\n",
      "[16]\tvalid_0's rmse: 4.02148\n",
      "[17]\tvalid_0's rmse: 3.97037\n"
     ]
    },
    {
     "name": "stderr",
     "output_type": "stream",
     "text": [
      "\u001b[32m[I 2021-03-30 16:44:39,266]\u001b[0m Trial 98 pruned. Trial was pruned at iteration 34.\u001b[0m\n"
     ]
    },
    {
     "name": "stdout",
     "output_type": "stream",
     "text": [
      "[18]\tvalid_0's rmse: 3.9074\n",
      "[19]\tvalid_0's rmse: 3.8723\n",
      "[20]\tvalid_0's rmse: 3.84289\n",
      "[21]\tvalid_0's rmse: 3.81642\n",
      "[22]\tvalid_0's rmse: 3.79485\n",
      "[23]\tvalid_0's rmse: 3.78587\n",
      "[24]\tvalid_0's rmse: 3.75931\n",
      "[25]\tvalid_0's rmse: 3.75243\n",
      "[26]\tvalid_0's rmse: 3.74433\n",
      "[27]\tvalid_0's rmse: 3.73854\n",
      "[28]\tvalid_0's rmse: 3.73606\n",
      "[29]\tvalid_0's rmse: 3.73199\n",
      "[30]\tvalid_0's rmse: 3.71836\n",
      "[31]\tvalid_0's rmse: 3.72933\n",
      "[32]\tvalid_0's rmse: 3.72671\n",
      "[33]\tvalid_0's rmse: 3.72404\n",
      "[34]\tvalid_0's rmse: 3.71937\n"
     ]
    },
    {
     "name": "stderr",
     "output_type": "stream",
     "text": [
      "\u001b[32m[I 2021-03-30 16:44:39,433]\u001b[0m Trial 99 pruned. Trial was pruned at iteration 10.\u001b[0m\n"
     ]
    },
    {
     "name": "stdout",
     "output_type": "stream",
     "text": [
      "[LightGBM] [Warning] Auto-choosing col-wise multi-threading, the overhead of testing was 0.004281 seconds.\n",
      "You can set `force_col_wise=true` to remove the overhead.\n",
      "[LightGBM] [Info] Total Bins 9027\n",
      "[LightGBM] [Info] Number of data points in the train set: 26064, number of used features: 37\n",
      "[LightGBM] [Info] Start training from score 13.130955\n",
      "[1]\tvalid_0's rmse: 8.24418\n",
      "[2]\tvalid_0's rmse: 7.63095\n",
      "[3]\tvalid_0's rmse: 7.08676\n",
      "[4]\tvalid_0's rmse: 6.61841\n",
      "[5]\tvalid_0's rmse: 6.20662\n",
      "[6]\tvalid_0's rmse: 5.82315\n",
      "[7]\tvalid_0's rmse: 5.51197\n",
      "[8]\tvalid_0's rmse: 5.24215\n",
      "[9]\tvalid_0's rmse: 5.02479\n",
      "[10]\tvalid_0's rmse: 4.82296\n",
      "Number of finished trials:  100\n",
      "Best trial:\n",
      "  Value: 3.6583771474345785\n",
      "  Params: \n",
      "    lambda_l1: 0.03723787920152494\n",
      "    lambda_l2: 7.37084698329998e-06\n",
      "    num_leaves: 147\n",
      "    feature_fraction: 0.7232885892351055\n",
      "    bagging_fraction: 0.653615223411343\n",
      "    bagging_freq: 1\n",
      "    min_child_samples: 37\n"
     ]
    }
   ],
   "source": [
    "study1 = optuna.create_study(pruner=optuna.pruners.MedianPruner(n_warmup_steps=10), direction=\"minimize\")  #优化方向RMSE最小\n",
    "study1.optimize(objective1, n_trials=100, timeout=600) #100个trial或者600秒停止\n",
    "\n",
    "print(\"Number of finished trials: \", len(study1.trials))\n",
    "print(\"Best trial:\")\n",
    "trial1 = study1.best_trial\n",
    "\n",
    "print(\"  Value: {}\".format(trial1.value))\n",
    "print(\"  Params: \")\n",
    "for key, value in trial1.params.items():\n",
    "    print(\"    {}: {}\".format(key, value))"
   ]
  },
  {
   "cell_type": "code",
   "execution_count": 78,
   "id": "agreed-taiwan",
   "metadata": {},
   "outputs": [
    {
     "data": {
      "text/plain": [
       "{'lambda_l1': 0.03723787920152494,\n",
       " 'lambda_l2': 7.37084698329998e-06,\n",
       " 'num_leaves': 147,\n",
       " 'feature_fraction': 0.7232885892351055,\n",
       " 'bagging_fraction': 0.653615223411343,\n",
       " 'bagging_freq': 1,\n",
       " 'min_child_samples': 37,\n",
       " 'objective': 'regression',\n",
       " 'metric': 'rmse',\n",
       " 'boosting_type': 'gbdt'}"
      ]
     },
     "execution_count": 78,
     "metadata": {},
     "output_type": "execute_result"
    }
   ],
   "source": [
    "param1 = study1.best_trial.params\n",
    "param1['objective'] = \"regression\"\n",
    "param1['metric'] = \"rmse\"\n",
    "param1['boosting_type'] = \"gbdt\"\n",
    "param1"
   ]
  },
  {
   "cell_type": "code",
   "execution_count": 79,
   "id": "meaningful-batman",
   "metadata": {},
   "outputs": [],
   "source": [
    "dtrain1 = lgb.Dataset(X_train1, label=y_train, categorical_feature=[14], free_raw_data=False)\n",
    "dvalid1 = lgb.Dataset(X_test1, label=y_test, categorical_feature=[14], free_raw_data=False)"
   ]
  },
  {
   "cell_type": "code",
   "execution_count": 80,
   "id": "acknowledged-africa",
   "metadata": {
    "scrolled": true
   },
   "outputs": [
    {
     "name": "stdout",
     "output_type": "stream",
     "text": [
      "[LightGBM] [Warning] Auto-choosing col-wise multi-threading, the overhead of testing was 0.006359 seconds.\n",
      "You can set `force_col_wise=true` to remove the overhead.\n",
      "[LightGBM] [Info] Total Bins 9027\n",
      "[LightGBM] [Info] Number of data points in the train set: 26064, number of used features: 37\n",
      "[LightGBM] [Info] Start training from score 13.130955\n",
      "[1]\tvalid_0's rmse: 8.24083\n",
      "Training until validation scores don't improve for 20 rounds\n",
      "[2]\tvalid_0's rmse: 7.58353\n",
      "[3]\tvalid_0's rmse: 6.9974\n",
      "[4]\tvalid_0's rmse: 6.50238\n",
      "[5]\tvalid_0's rmse: 6.08956\n",
      "[6]\tvalid_0's rmse: 5.73753\n",
      "[7]\tvalid_0's rmse: 5.44471\n",
      "[8]\tvalid_0's rmse: 5.16857\n",
      "[9]\tvalid_0's rmse: 4.93915\n",
      "[10]\tvalid_0's rmse: 4.73604\n",
      "[11]\tvalid_0's rmse: 4.56426\n",
      "[12]\tvalid_0's rmse: 4.42416\n",
      "[13]\tvalid_0's rmse: 4.30227\n",
      "[14]\tvalid_0's rmse: 4.20561\n",
      "[15]\tvalid_0's rmse: 4.13754\n",
      "[16]\tvalid_0's rmse: 4.06927\n",
      "[17]\tvalid_0's rmse: 4.01105\n",
      "[18]\tvalid_0's rmse: 3.94353\n",
      "[19]\tvalid_0's rmse: 3.89839\n",
      "[20]\tvalid_0's rmse: 3.87259\n",
      "[21]\tvalid_0's rmse: 3.84473\n",
      "[22]\tvalid_0's rmse: 3.82152\n",
      "[23]\tvalid_0's rmse: 3.79231\n",
      "[24]\tvalid_0's rmse: 3.75129\n",
      "[25]\tvalid_0's rmse: 3.74099\n",
      "[26]\tvalid_0's rmse: 3.7284\n",
      "[27]\tvalid_0's rmse: 3.70087\n",
      "[28]\tvalid_0's rmse: 3.69691\n",
      "[29]\tvalid_0's rmse: 3.69923\n",
      "[30]\tvalid_0's rmse: 3.69622\n",
      "[31]\tvalid_0's rmse: 3.68108\n",
      "[32]\tvalid_0's rmse: 3.67295\n",
      "[33]\tvalid_0's rmse: 3.67732\n",
      "[34]\tvalid_0's rmse: 3.67798\n",
      "[35]\tvalid_0's rmse: 3.68077\n",
      "[36]\tvalid_0's rmse: 3.67403\n",
      "[37]\tvalid_0's rmse: 3.66087\n",
      "[38]\tvalid_0's rmse: 3.66102\n",
      "[39]\tvalid_0's rmse: 3.66168\n",
      "[40]\tvalid_0's rmse: 3.65734\n",
      "[41]\tvalid_0's rmse: 3.66688\n",
      "[42]\tvalid_0's rmse: 3.65859\n",
      "[43]\tvalid_0's rmse: 3.65938\n",
      "[44]\tvalid_0's rmse: 3.66075\n",
      "[45]\tvalid_0's rmse: 3.66184\n",
      "[46]\tvalid_0's rmse: 3.66285\n",
      "[47]\tvalid_0's rmse: 3.65775\n",
      "[48]\tvalid_0's rmse: 3.65796\n",
      "[49]\tvalid_0's rmse: 3.66241\n",
      "[50]\tvalid_0's rmse: 3.66354\n",
      "[51]\tvalid_0's rmse: 3.65743\n",
      "[52]\tvalid_0's rmse: 3.66385\n",
      "[53]\tvalid_0's rmse: 3.66675\n",
      "[54]\tvalid_0's rmse: 3.67282\n",
      "[55]\tvalid_0's rmse: 3.66156\n",
      "[56]\tvalid_0's rmse: 3.66316\n",
      "[57]\tvalid_0's rmse: 3.67002\n",
      "[58]\tvalid_0's rmse: 3.66307\n",
      "[59]\tvalid_0's rmse: 3.66077\n",
      "[60]\tvalid_0's rmse: 3.66229\n",
      "Early stopping, best iteration is:\n",
      "[40]\tvalid_0's rmse: 3.65734\n"
     ]
    }
   ],
   "source": [
    "gbm1 = lgb.train(param1, dtrain1, num_boost_round=500, valid_sets=[dvalid1], early_stopping_rounds=20)\n",
    "preds1 = gbm1.predict(X_test1)\n",
    "trainpre1 = gbm1.predict(X_train1)"
   ]
  },
  {
   "cell_type": "code",
   "execution_count": 81,
   "id": "underlying-entity",
   "metadata": {},
   "outputs": [
    {
     "name": "stderr",
     "output_type": "stream",
     "text": [
      "C:\\Anaconda\\lib\\site-packages\\matplotlib\\cbook\\__init__.py:1402: FutureWarning: Support for multi-dimensional indexing (e.g. `obj[:, None]`) is deprecated and will be removed in a future version.  Convert to a numpy array before indexing instead.\n",
      "  x[:, None]\n",
      "C:\\Anaconda\\lib\\site-packages\\matplotlib\\axes\\_base.py:276: FutureWarning: Support for multi-dimensional indexing (e.g. `obj[:, None]`) is deprecated and will be removed in a future version.  Convert to a numpy array before indexing instead.\n",
      "  x = x[:, np.newaxis]\n"
     ]
    },
    {
     "data": {
      "image/png": "[encoded data removed]",
      "text/plain": [
       "<Figure size 1440x720 with 1 Axes>"
      ]
     },
     "metadata": {
      "needs_background": "light"
     },
     "output_type": "display_data"
    }
   ],
   "source": [
    "plt.figure(figsize=(20,10))\n",
    "plt.plot(series,linewidth=3,label='series')\n",
    "plt.vlines(X.index[-1440*6],-1,200,linestyles = \"dashed\",linewidth=5)\n",
    "plt.plot(X.index[:-1440*6],trainpre1,color='red',label='train',linewidth=3)\n",
    "plt.plot(X.index[-1440*6:],preds1,color='yellow',label='test', linewidth=2)\n",
    "plt.legend()\n",
    "plt.show()"
   ]
  },
  {
   "cell_type": "code",
   "execution_count": null,
   "id": "banned-lambda",
   "metadata": {},
   "outputs": [],
   "source": []
  }
 ],
 "metadata": {
  "kernelspec": {
   "display_name": "Python 3",
   "language": "python",
   "name": "python3"
  },
  "language_info": {
   "codemirror_mode": {
    "name": "ipython",
    "version": 3
   },
   "file_extension": ".py",
   "mimetype": "text/x-python",
   "name": "python",
   "nbconvert_exporter": "python",
   "pygments_lexer": "ipython3",
   "version": "3.7.3"
  }
 },
 "nbformat": 4,
 "nbformat_minor": 5
}
